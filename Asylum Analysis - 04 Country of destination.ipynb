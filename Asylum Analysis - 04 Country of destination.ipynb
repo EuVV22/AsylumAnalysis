{
 "cells": [
  {
   "cell_type": "markdown",
   "metadata": {},
   "source": [
    "# What countries received the most imigrants"
   ]
  },
  {
   "cell_type": "code",
   "execution_count": 1,
   "metadata": {},
   "outputs": [
    {
     "data": {
      "text/html": [
       "<div>\n",
       "<style scoped>\n",
       "    .dataframe tbody tr th:only-of-type {\n",
       "        vertical-align: middle;\n",
       "    }\n",
       "\n",
       "    .dataframe tbody tr th {\n",
       "        vertical-align: top;\n",
       "    }\n",
       "\n",
       "    .dataframe thead th {\n",
       "        text-align: right;\n",
       "    }\n",
       "</style>\n",
       "<table border=\"1\" class=\"dataframe\">\n",
       "  <thead>\n",
       "    <tr style=\"text-align: right;\">\n",
       "      <th></th>\n",
       "      <th>country_of_origin_abbr</th>\n",
       "      <th>country_of_origin_name</th>\n",
       "      <th>country_of_asylum_abbr</th>\n",
       "      <th>country_of_asylum_name</th>\n",
       "      <th>region_of_asylum</th>\n",
       "      <th>category</th>\n",
       "      <th>year</th>\n",
       "      <th>count</th>\n",
       "    </tr>\n",
       "  </thead>\n",
       "  <tbody>\n",
       "    <tr>\n",
       "      <th>0</th>\n",
       "      <td>DZA</td>\n",
       "      <td>Algeria</td>\n",
       "      <td>MLT</td>\n",
       "      <td>Malta</td>\n",
       "      <td>Europe</td>\n",
       "      <td>Refugee</td>\n",
       "      <td>1962</td>\n",
       "      <td>5</td>\n",
       "    </tr>\n",
       "    <tr>\n",
       "      <th>1</th>\n",
       "      <td>AGO</td>\n",
       "      <td>Angola</td>\n",
       "      <td>COD</td>\n",
       "      <td>Dem. Rep. of the Congo</td>\n",
       "      <td>Southern Africa</td>\n",
       "      <td>Refugee</td>\n",
       "      <td>1962</td>\n",
       "      <td>20000</td>\n",
       "    </tr>\n",
       "    <tr>\n",
       "      <th>2</th>\n",
       "      <td>AGO</td>\n",
       "      <td>Angola</td>\n",
       "      <td>NAM</td>\n",
       "      <td>Namibia</td>\n",
       "      <td>Southern Africa</td>\n",
       "      <td>Refugee</td>\n",
       "      <td>1962</td>\n",
       "      <td>277</td>\n",
       "    </tr>\n",
       "    <tr>\n",
       "      <th>3</th>\n",
       "      <td>BDI</td>\n",
       "      <td>Burundi</td>\n",
       "      <td>NAM</td>\n",
       "      <td>Namibia</td>\n",
       "      <td>Southern Africa</td>\n",
       "      <td>Refugee</td>\n",
       "      <td>1962</td>\n",
       "      <td>13</td>\n",
       "    </tr>\n",
       "    <tr>\n",
       "      <th>4</th>\n",
       "      <td>CHN</td>\n",
       "      <td>China</td>\n",
       "      <td>NPL</td>\n",
       "      <td>Nepal</td>\n",
       "      <td>Asia and the Pacific</td>\n",
       "      <td>Refugee</td>\n",
       "      <td>1962</td>\n",
       "      <td>5</td>\n",
       "    </tr>\n",
       "    <tr>\n",
       "      <th>...</th>\n",
       "      <td>...</td>\n",
       "      <td>...</td>\n",
       "      <td>...</td>\n",
       "      <td>...</td>\n",
       "      <td>...</td>\n",
       "      <td>...</td>\n",
       "      <td>...</td>\n",
       "      <td>...</td>\n",
       "    </tr>\n",
       "    <tr>\n",
       "      <th>103338</th>\n",
       "      <td>ZWE</td>\n",
       "      <td>Zimbabwe</td>\n",
       "      <td>POL</td>\n",
       "      <td>Poland</td>\n",
       "      <td>Europe</td>\n",
       "      <td>Asylum-seekers</td>\n",
       "      <td>2024</td>\n",
       "      <td>9</td>\n",
       "    </tr>\n",
       "    <tr>\n",
       "      <th>103339</th>\n",
       "      <td>ZWE</td>\n",
       "      <td>Zimbabwe</td>\n",
       "      <td>ZAF</td>\n",
       "      <td>South Africa</td>\n",
       "      <td>Southern Africa</td>\n",
       "      <td>Asylum-seekers</td>\n",
       "      <td>2024</td>\n",
       "      <td>89</td>\n",
       "    </tr>\n",
       "    <tr>\n",
       "      <th>103340</th>\n",
       "      <td>ZWE</td>\n",
       "      <td>Zimbabwe</td>\n",
       "      <td>SWE</td>\n",
       "      <td>Sweden</td>\n",
       "      <td>Europe</td>\n",
       "      <td>Asylum-seekers</td>\n",
       "      <td>2024</td>\n",
       "      <td>5</td>\n",
       "    </tr>\n",
       "    <tr>\n",
       "      <th>103341</th>\n",
       "      <td>ZWE</td>\n",
       "      <td>Zimbabwe</td>\n",
       "      <td>USA</td>\n",
       "      <td>United States of America</td>\n",
       "      <td>Americas</td>\n",
       "      <td>Asylum-seekers</td>\n",
       "      <td>2024</td>\n",
       "      <td>641</td>\n",
       "    </tr>\n",
       "    <tr>\n",
       "      <th>103342</th>\n",
       "      <td>ZWE</td>\n",
       "      <td>Zimbabwe</td>\n",
       "      <td>ZMB</td>\n",
       "      <td>Zambia</td>\n",
       "      <td>Southern Africa</td>\n",
       "      <td>Asylum-seekers</td>\n",
       "      <td>2024</td>\n",
       "      <td>9</td>\n",
       "    </tr>\n",
       "  </tbody>\n",
       "</table>\n",
       "<p>103343 rows × 8 columns</p>\n",
       "</div>"
      ],
      "text/plain": [
       "       country_of_origin_abbr country_of_origin_name country_of_asylum_abbr  \\\n",
       "0                         DZA                Algeria                    MLT   \n",
       "1                         AGO                 Angola                    COD   \n",
       "2                         AGO                 Angola                    NAM   \n",
       "3                         BDI                Burundi                    NAM   \n",
       "4                         CHN                  China                    NPL   \n",
       "...                       ...                    ...                    ...   \n",
       "103338                    ZWE               Zimbabwe                    POL   \n",
       "103339                    ZWE               Zimbabwe                    ZAF   \n",
       "103340                    ZWE               Zimbabwe                    SWE   \n",
       "103341                    ZWE               Zimbabwe                    USA   \n",
       "103342                    ZWE               Zimbabwe                    ZMB   \n",
       "\n",
       "          country_of_asylum_name      region_of_asylum        category  year  \\\n",
       "0                          Malta                Europe         Refugee  1962   \n",
       "1         Dem. Rep. of the Congo       Southern Africa         Refugee  1962   \n",
       "2                        Namibia       Southern Africa         Refugee  1962   \n",
       "3                        Namibia       Southern Africa         Refugee  1962   \n",
       "4                          Nepal  Asia and the Pacific         Refugee  1962   \n",
       "...                          ...                   ...             ...   ...   \n",
       "103338                    Poland                Europe  Asylum-seekers  2024   \n",
       "103339              South Africa       Southern Africa  Asylum-seekers  2024   \n",
       "103340                    Sweden                Europe  Asylum-seekers  2024   \n",
       "103341  United States of America              Americas  Asylum-seekers  2024   \n",
       "103342                    Zambia       Southern Africa  Asylum-seekers  2024   \n",
       "\n",
       "        count  \n",
       "0           5  \n",
       "1       20000  \n",
       "2         277  \n",
       "3          13  \n",
       "4           5  \n",
       "...       ...  \n",
       "103338      9  \n",
       "103339     89  \n",
       "103340      5  \n",
       "103341    641  \n",
       "103342      9  \n",
       "\n",
       "[103343 rows x 8 columns]"
      ]
     },
     "execution_count": 1,
     "metadata": {},
     "output_type": "execute_result"
    }
   ],
   "source": [
    "import pandas as pd\n",
    "from plotly.subplots import make_subplots\n",
    "import plotly.graph_objects as go\n",
    "import plotly.express as px\n",
    "\n",
    "asylum = pd.read_csv('.\\\\Data\\\\Clean\\\\Asylum_data.csv')\n",
    "asylum"
   ]
  },
  {
   "cell_type": "markdown",
   "metadata": {},
   "source": [
    "# Which countries received the most asylum seekers?"
   ]
  },
  {
   "cell_type": "code",
   "execution_count": 2,
   "metadata": {},
   "outputs": [
    {
     "data": {
      "text/html": [
       "<div>\n",
       "<style scoped>\n",
       "    .dataframe tbody tr th:only-of-type {\n",
       "        vertical-align: middle;\n",
       "    }\n",
       "\n",
       "    .dataframe tbody tr th {\n",
       "        vertical-align: top;\n",
       "    }\n",
       "\n",
       "    .dataframe thead th {\n",
       "        text-align: right;\n",
       "    }\n",
       "</style>\n",
       "<table border=\"1\" class=\"dataframe\">\n",
       "  <thead>\n",
       "    <tr style=\"text-align: right;\">\n",
       "      <th></th>\n",
       "      <th>country_of_asylum_name</th>\n",
       "      <th>year</th>\n",
       "      <th>count</th>\n",
       "    </tr>\n",
       "  </thead>\n",
       "  <tbody>\n",
       "    <tr>\n",
       "      <th>0</th>\n",
       "      <td>Afghanistan</td>\n",
       "      <td>1994</td>\n",
       "      <td>297</td>\n",
       "    </tr>\n",
       "    <tr>\n",
       "      <th>1</th>\n",
       "      <td>Afghanistan</td>\n",
       "      <td>1995</td>\n",
       "      <td>1000</td>\n",
       "    </tr>\n",
       "    <tr>\n",
       "      <th>2</th>\n",
       "      <td>Afghanistan</td>\n",
       "      <td>1996</td>\n",
       "      <td>366</td>\n",
       "    </tr>\n",
       "    <tr>\n",
       "      <th>3</th>\n",
       "      <td>Afghanistan</td>\n",
       "      <td>1999</td>\n",
       "      <td>63</td>\n",
       "    </tr>\n",
       "    <tr>\n",
       "      <th>4</th>\n",
       "      <td>Afghanistan</td>\n",
       "      <td>2000</td>\n",
       "      <td>14</td>\n",
       "    </tr>\n",
       "    <tr>\n",
       "      <th>...</th>\n",
       "      <td>...</td>\n",
       "      <td>...</td>\n",
       "      <td>...</td>\n",
       "    </tr>\n",
       "    <tr>\n",
       "      <th>5502</th>\n",
       "      <td>Zimbabwe</td>\n",
       "      <td>2020</td>\n",
       "      <td>832</td>\n",
       "    </tr>\n",
       "    <tr>\n",
       "      <th>5503</th>\n",
       "      <td>Zimbabwe</td>\n",
       "      <td>2021</td>\n",
       "      <td>113</td>\n",
       "    </tr>\n",
       "    <tr>\n",
       "      <th>5504</th>\n",
       "      <td>Zimbabwe</td>\n",
       "      <td>2022</td>\n",
       "      <td>250</td>\n",
       "    </tr>\n",
       "    <tr>\n",
       "      <th>5505</th>\n",
       "      <td>Zimbabwe</td>\n",
       "      <td>2023</td>\n",
       "      <td>1027</td>\n",
       "    </tr>\n",
       "    <tr>\n",
       "      <th>5506</th>\n",
       "      <td>Zimbabwe</td>\n",
       "      <td>2024</td>\n",
       "      <td>512</td>\n",
       "    </tr>\n",
       "  </tbody>\n",
       "</table>\n",
       "<p>5507 rows × 3 columns</p>\n",
       "</div>"
      ],
      "text/plain": [
       "     country_of_asylum_name  year  count\n",
       "0               Afghanistan  1994    297\n",
       "1               Afghanistan  1995   1000\n",
       "2               Afghanistan  1996    366\n",
       "3               Afghanistan  1999     63\n",
       "4               Afghanistan  2000     14\n",
       "...                     ...   ...    ...\n",
       "5502               Zimbabwe  2020    832\n",
       "5503               Zimbabwe  2021    113\n",
       "5504               Zimbabwe  2022    250\n",
       "5505               Zimbabwe  2023   1027\n",
       "5506               Zimbabwe  2024    512\n",
       "\n",
       "[5507 rows x 3 columns]"
      ]
     },
     "execution_count": 2,
     "metadata": {},
     "output_type": "execute_result"
    }
   ],
   "source": [
    "destination_df = asylum.groupby(['country_of_asylum_name', 'year']).agg({'count': 'sum'}).reset_index()\n",
    "destination_df"
   ]
  },
  {
   "cell_type": "code",
   "execution_count": 7,
   "metadata": {},
   "outputs": [
    {
     "data": {
      "application/vnd.plotly.v1+json": {
       "config": {
        "plotlyServerURL": "https://plot.ly"
       },
       "data": [
        {
         "hovertemplate": "country_of_asylum_name=Angola<br>year=%{x}<br>count=%{y}<extra></extra>",
         "legendgroup": "Angola",
         "marker": {
          "color": "#636efa",
          "pattern": {
           "shape": ""
          }
         },
         "name": "Angola",
         "orientation": "v",
         "showlegend": true,
         "textposition": "auto",
         "type": "bar",
         "x": {
          "bdata": "uQe6B7sHvAe9B74HwAfBBw==",
          "dtype": "i2"
         },
         "xaxis": "x",
         "y": {
          "bdata": "0HIDAAg4AQCIEwAAAHMAAOxPAADoEgAAXgsAACwBAAA=",
          "dtype": "i4"
         },
         "yaxis": "y"
        },
        {
         "hovertemplate": "country_of_asylum_name=Argentina<br>year=%{x}<br>count=%{y}<extra></extra>",
         "legendgroup": "Argentina",
         "marker": {
          "color": "#EF553B",
          "pattern": {
           "shape": ""
          }
         },
         "name": "Argentina",
         "orientation": "v",
         "showlegend": true,
         "textposition": "auto",
         "type": "bar",
         "x": {
          "bdata": "uge7B7wHvQe+B78HwQc=",
          "dtype": "i2"
         },
         "xaxis": "x",
         "y": {
          "bdata": "1gFWBP4BoAAEAeABCAc=",
          "dtype": "i2"
         },
         "yaxis": "y"
        },
        {
         "hovertemplate": "country_of_asylum_name=Austria<br>year=%{x}<br>count=%{y}<extra></extra>",
         "legendgroup": "Austria",
         "marker": {
          "color": "#00cc96",
          "pattern": {
           "shape": ""
          }
         },
         "name": "Austria",
         "orientation": "v",
         "showlegend": true,
         "textposition": "auto",
         "type": "bar",
         "x": {
          "bdata": "uQe6B7sHvAe9B74HvwfAB8EH",
          "dtype": "i2"
         },
         "xaxis": "x",
         "y": {
          "bdata": "BgoAAFQNAAD4FQAAKyQAAP2GAACrGAAADhcAACkcAABDGgAA",
          "dtype": "i4"
         },
         "yaxis": "y"
        },
        {
         "hovertemplate": "country_of_asylum_name=Bahrain<br>year=%{x}<br>count=%{y}<extra></extra>",
         "legendgroup": "Bahrain",
         "marker": {
          "color": "#ab63fa",
          "pattern": {
           "shape": ""
          }
         },
         "name": "Bahrain",
         "orientation": "v",
         "showlegend": true,
         "textposition": "auto",
         "type": "bar",
         "x": {
          "bdata": "wAc=",
          "dtype": "i2"
         },
         "xaxis": "x",
         "y": {
          "bdata": "yAA=",
          "dtype": "i2"
         },
         "yaxis": "y"
        },
        {
         "hovertemplate": "country_of_asylum_name=Bangladesh<br>year=%{x}<br>count=%{y}<extra></extra>",
         "legendgroup": "Bangladesh",
         "marker": {
          "color": "#FFA15A",
          "pattern": {
           "shape": ""
          }
         },
         "name": "Bangladesh",
         "orientation": "v",
         "showlegend": true,
         "textposition": "auto",
         "type": "bar",
         "x": {
          "bdata": "ugc=",
          "dtype": "i2"
         },
         "xaxis": "x",
         "y": {
          "bdata": "QA0DAA==",
          "dtype": "i4"
         },
         "yaxis": "y"
        },
        {
         "hovertemplate": "country_of_asylum_name=Belgium<br>year=%{x}<br>count=%{y}<extra></extra>",
         "legendgroup": "Belgium",
         "marker": {
          "color": "#19d3f3",
          "pattern": {
           "shape": ""
          }
         },
         "name": "Belgium",
         "orientation": "v",
         "showlegend": true,
         "textposition": "auto",
         "type": "bar",
         "x": {
          "bdata": "uQe6B7sHvAe9B74HvwfAB8EH",
          "dtype": "i2"
         },
         "xaxis": "x",
         "y": {
          "bdata": "sgM6BHoJqgrpCFkLUws7DrAU",
          "dtype": "i2"
         },
         "yaxis": "y"
        },
        {
         "hovertemplate": "country_of_asylum_name=Belize<br>year=%{x}<br>count=%{y}<extra></extra>",
         "legendgroup": "Belize",
         "marker": {
          "color": "#FF6692",
          "pattern": {
           "shape": ""
          }
         },
         "name": "Belize",
         "orientation": "v",
         "showlegend": true,
         "textposition": "auto",
         "type": "bar",
         "x": {
          "bdata": "vAc=",
          "dtype": "i2"
         },
         "xaxis": "x",
         "y": {
          "bdata": "oA8=",
          "dtype": "i2"
         },
         "yaxis": "y"
        },
        {
         "hovertemplate": "country_of_asylum_name=Benin<br>year=%{x}<br>count=%{y}<extra></extra>",
         "legendgroup": "Benin",
         "marker": {
          "color": "#B6E880",
          "pattern": {
           "shape": ""
          }
         },
         "name": "Benin",
         "orientation": "v",
         "showlegend": true,
         "textposition": "auto",
         "type": "bar",
         "x": {
          "bdata": "wAfBBw==",
          "dtype": "i2"
         },
         "xaxis": "x",
         "y": {
          "bdata": "5AIiCw==",
          "dtype": "i2"
         },
         "yaxis": "y"
        },
        {
         "hovertemplate": "country_of_asylum_name=Botswana<br>year=%{x}<br>count=%{y}<extra></extra>",
         "legendgroup": "Botswana",
         "marker": {
          "color": "#FF97FF",
          "pattern": {
           "shape": ""
          }
         },
         "name": "Botswana",
         "orientation": "v",
         "showlegend": true,
         "textposition": "auto",
         "type": "bar",
         "x": {
          "bdata": "uQe6B7sHvAe9B78HwAfBBw==",
          "dtype": "i2"
         },
         "xaxis": "x",
         "y": {
          "bdata": "4FYYZa4fJgKuAcASdgISAg==",
          "dtype": "i2"
         },
         "yaxis": "y"
        },
        {
         "hovertemplate": "country_of_asylum_name=Brazil<br>year=%{x}<br>count=%{y}<extra></extra>",
         "legendgroup": "Brazil",
         "marker": {
          "color": "#FECB52",
          "pattern": {
           "shape": ""
          }
         },
         "name": "Brazil",
         "orientation": "v",
         "showlegend": true,
         "textposition": "auto",
         "type": "bar",
         "x": {
          "bdata": "vge/B8AH",
          "dtype": "i2"
         },
         "xaxis": "x",
         "y": {
          "bdata": "bgC0AIwA",
          "dtype": "i2"
         },
         "yaxis": "y"
        },
        {
         "hovertemplate": "country_of_asylum_name=Burundi<br>year=%{x}<br>count=%{y}<extra></extra>",
         "legendgroup": "Burundi",
         "marker": {
          "color": "#636efa",
          "pattern": {
           "shape": ""
          }
         },
         "name": "Burundi",
         "orientation": "v",
         "showlegend": true,
         "textposition": "auto",
         "type": "bar",
         "x": {
          "bdata": "uge8B70Hvge/B8AHwQc=",
          "dtype": "i2"
         },
         "xaxis": "x",
         "y": {
          "bdata": "jgMAAC7PAgAWCAAAfAEAADguAwBkQwMAbg4BAA==",
          "dtype": "i4"
         },
         "yaxis": "y"
        },
        {
         "hovertemplate": "country_of_asylum_name=Cameroon<br>year=%{x}<br>count=%{y}<extra></extra>",
         "legendgroup": "Cameroon",
         "marker": {
          "color": "#EF553B",
          "pattern": {
           "shape": ""
          }
         },
         "name": "Cameroon",
         "orientation": "v",
         "showlegend": true,
         "textposition": "auto",
         "type": "bar",
         "x": {
          "bdata": "vwfAB8EH",
          "dtype": "i2"
         },
         "xaxis": "x",
         "y": {
          "bdata": "8ADWOBYI",
          "dtype": "i2"
         },
         "yaxis": "y"
        },
        {
         "hovertemplate": "country_of_asylum_name=Canada<br>year=%{x}<br>count=%{y}<extra></extra>",
         "legendgroup": "Canada",
         "marker": {
          "color": "#00cc96",
          "pattern": {
           "shape": ""
          }
         },
         "name": "Canada",
         "orientation": "v",
         "showlegend": true,
         "textposition": "auto",
         "type": "bar",
         "x": {
          "bdata": "vAe9B74HvwfAB8EH",
          "dtype": "i2"
         },
         "xaxis": "x",
         "y": {
          "bdata": "6AO4C4gTuCT4Ksgy",
          "dtype": "i2"
         },
         "yaxis": "y"
        },
        {
         "hovertemplate": "country_of_asylum_name=Central African Rep.<br>year=%{x}<br>count=%{y}<extra></extra>",
         "legendgroup": "Central African Rep.",
         "marker": {
          "color": "#ab63fa",
          "pattern": {
           "shape": ""
          }
         },
         "name": "Central African Rep.",
         "orientation": "v",
         "showlegend": true,
         "textposition": "auto",
         "type": "bar",
         "x": {
          "bdata": "vgfAB8EH",
          "dtype": "i2"
         },
         "xaxis": "x",
         "y": {
          "bdata": "sgwAACaOAAB0gQAA",
          "dtype": "i4"
         },
         "yaxis": "y"
        },
        {
         "hovertemplate": "country_of_asylum_name=Chile<br>year=%{x}<br>count=%{y}<extra></extra>",
         "legendgroup": "Chile",
         "marker": {
          "color": "#FFA15A",
          "pattern": {
           "shape": ""
          }
         },
         "name": "Chile",
         "orientation": "v",
         "showlegend": true,
         "textposition": "auto",
         "type": "bar",
         "x": {
          "bdata": "wQc=",
          "dtype": "i2"
         },
         "xaxis": "x",
         "y": {
          "bdata": "lgA=",
          "dtype": "i2"
         },
         "yaxis": "y"
        },
        {
         "hovertemplate": "country_of_asylum_name=China<br>year=%{x}<br>count=%{y}<extra></extra>",
         "legendgroup": "China",
         "marker": {
          "color": "#19d3f3",
          "pattern": {
           "shape": ""
          }
         },
         "name": "China",
         "orientation": "v",
         "showlegend": true,
         "textposition": "auto",
         "type": "bar",
         "x": {
          "bdata": "vQe+B78HwAfBBw==",
          "dtype": "i2"
         },
         "xaxis": "x",
         "y": {
          "bdata": "0AciC6ISSA1gCQ==",
          "dtype": "i2"
         },
         "yaxis": "y"
        },
        {
         "hovertemplate": "country_of_asylum_name=China, Hong Kong SAR<br>year=%{x}<br>count=%{y}<extra></extra>",
         "legendgroup": "China, Hong Kong SAR",
         "marker": {
          "color": "#FF6692",
          "pattern": {
           "shape": ""
          }
         },
         "name": "China, Hong Kong SAR",
         "orientation": "v",
         "showlegend": true,
         "textposition": "auto",
         "type": "bar",
         "x": {
          "bdata": "uwe8B70Hvge/B8AH",
          "dtype": "i2"
         },
         "xaxis": "x",
         "y": {
          "bdata": "2h8BAMArAAAWIQAAQB8AANgOAACqCgAA",
          "dtype": "i4"
         },
         "yaxis": "y"
        },
        {
         "hovertemplate": "country_of_asylum_name=China, Macao SAR<br>year=%{x}<br>count=%{y}<extra></extra>",
         "legendgroup": "China, Macao SAR",
         "marker": {
          "color": "#B6E880",
          "pattern": {
           "shape": ""
          }
         },
         "name": "China, Macao SAR",
         "orientation": "v",
         "showlegend": true,
         "textposition": "auto",
         "type": "bar",
         "x": {
          "bdata": "uge7B7wHvQe+Bw==",
          "dtype": "i2"
         },
         "xaxis": "x",
         "y": {
          "bdata": "tgNsDN4IwgE8AA==",
          "dtype": "i2"
         },
         "yaxis": "y"
        },
        {
         "hovertemplate": "country_of_asylum_name=Colombia<br>year=%{x}<br>count=%{y}<extra></extra>",
         "legendgroup": "Colombia",
         "marker": {
          "color": "#FF97FF",
          "pattern": {
           "shape": ""
          }
         },
         "name": "Colombia",
         "orientation": "v",
         "showlegend": true,
         "textposition": "auto",
         "type": "bar",
         "x": {
          "bdata": "vwfABw==",
          "dtype": "i2"
         },
         "xaxis": "x",
         "y": {
          "bdata": "Mlo=",
          "dtype": "i1"
         },
         "yaxis": "y"
        },
        {
         "hovertemplate": "country_of_asylum_name=Costa Rica<br>year=%{x}<br>count=%{y}<extra></extra>",
         "legendgroup": "Costa Rica",
         "marker": {
          "color": "#FECB52",
          "pattern": {
           "shape": ""
          }
         },
         "name": "Costa Rica",
         "orientation": "v",
         "showlegend": true,
         "textposition": "auto",
         "type": "bar",
         "x": {
          "bdata": "uge7B7wHvgc=",
          "dtype": "i2"
         },
         "xaxis": "x",
         "y": {
          "bdata": "MHV4UKAjGgQ=",
          "dtype": "i2"
         },
         "yaxis": "y"
        },
        {
         "hovertemplate": "country_of_asylum_name=Cuba<br>year=%{x}<br>count=%{y}<extra></extra>",
         "legendgroup": "Cuba",
         "marker": {
          "color": "#636efa",
          "pattern": {
           "shape": ""
          }
         },
         "name": "Cuba",
         "orientation": "v",
         "showlegend": true,
         "textposition": "auto",
         "type": "bar",
         "x": {
          "bdata": "uwe8Bw==",
          "dtype": "i2"
         },
         "xaxis": "x",
         "y": {
          "bdata": "RjI=",
          "dtype": "i1"
         },
         "yaxis": "y"
        },
        {
         "hovertemplate": "country_of_asylum_name=Cyprus<br>year=%{x}<br>count=%{y}<extra></extra>",
         "legendgroup": "Cyprus",
         "marker": {
          "color": "#EF553B",
          "pattern": {
           "shape": ""
          }
         },
         "name": "Cyprus",
         "orientation": "v",
         "showlegend": true,
         "textposition": "auto",
         "type": "bar",
         "x": {
          "bdata": "vgc=",
          "dtype": "i2"
         },
         "xaxis": "x",
         "y": {
          "bdata": "XBw=",
          "dtype": "i2"
         },
         "yaxis": "y"
        },
        {
         "hovertemplate": "country_of_asylum_name=Côte d'Ivoire<br>year=%{x}<br>count=%{y}<extra></extra>",
         "legendgroup": "Côte d'Ivoire",
         "marker": {
          "color": "#00cc96",
          "pattern": {
           "shape": ""
          }
         },
         "name": "Côte d'Ivoire",
         "orientation": "v",
         "showlegend": true,
         "textposition": "auto",
         "type": "bar",
         "x": {
          "bdata": "wAfBBw==",
          "dtype": "i2"
         },
         "xaxis": "x",
         "y": {
          "bdata": "oABuAA==",
          "dtype": "i2"
         },
         "yaxis": "y"
        },
        {
         "hovertemplate": "country_of_asylum_name=Dem. Rep. of the Congo<br>year=%{x}<br>count=%{y}<extra></extra>",
         "legendgroup": "Dem. Rep. of the Congo",
         "marker": {
          "color": "#ab63fa",
          "pattern": {
           "shape": ""
          }
         },
         "name": "Dem. Rep. of the Congo",
         "orientation": "v",
         "showlegend": true,
         "textposition": "auto",
         "type": "bar",
         "x": {
          "bdata": "uge7B7wHvgfAB8EH",
          "dtype": "i2"
         },
         "xaxis": "x",
         "y": {
          "bdata": "wNQBAFzGAADyFQIAWAIAADjqAAAIzwAA",
          "dtype": "i4"
         },
         "yaxis": "y"
        },
        {
         "hovertemplate": "country_of_asylum_name=Denmark<br>year=%{x}<br>count=%{y}<extra></extra>",
         "legendgroup": "Denmark",
         "marker": {
          "color": "#FFA15A",
          "pattern": {
           "shape": ""
          }
         },
         "name": "Denmark",
         "orientation": "v",
         "showlegend": true,
         "textposition": "auto",
         "type": "bar",
         "x": {
          "bdata": "uQe6B7sHvAe9B74HvwfAB8EH",
          "dtype": "i2"
         },
         "xaxis": "x",
         "y": {
          "bdata": "3gCqAKYBQQB7ACoBIAPYEPoh",
          "dtype": "i2"
         },
         "yaxis": "y"
        },
        {
         "hovertemplate": "country_of_asylum_name=Djibouti<br>year=%{x}<br>count=%{y}<extra></extra>",
         "legendgroup": "Djibouti",
         "marker": {
          "color": "#19d3f3",
          "pattern": {
           "shape": ""
          }
         },
         "name": "Djibouti",
         "orientation": "v",
         "showlegend": true,
         "textposition": "auto",
         "type": "bar",
         "x": {
          "bdata": "uge7B7wHvQe+B78HwAfBBw==",
          "dtype": "i2"
         },
         "xaxis": "x",
         "y": {
          "bdata": "hiQWDX5AGif8DfAAZgOuBg==",
          "dtype": "i2"
         },
         "yaxis": "y"
        },
        {
         "hovertemplate": "country_of_asylum_name=Dominican Rep.<br>year=%{x}<br>count=%{y}<extra></extra>",
         "legendgroup": "Dominican Rep.",
         "marker": {
          "color": "#FF6692",
          "pattern": {
           "shape": ""
          }
         },
         "name": "Dominican Rep.",
         "orientation": "v",
         "showlegend": true,
         "textposition": "auto",
         "type": "bar",
         "x": {
          "bdata": "uwe8B74HwAc=",
          "dtype": "i2"
         },
         "xaxis": "x",
         "y": {
          "bdata": "6gv0AXwGggA=",
          "dtype": "i2"
         },
         "yaxis": "y"
        },
        {
         "hovertemplate": "country_of_asylum_name=Ecuador<br>year=%{x}<br>count=%{y}<extra></extra>",
         "legendgroup": "Ecuador",
         "marker": {
          "color": "#B6E880",
          "pattern": {
           "shape": ""
          }
         },
         "name": "Ecuador",
         "orientation": "v",
         "showlegend": true,
         "textposition": "auto",
         "type": "bar",
         "x": {
          "bdata": "uQe7B70Hvge/B8AHwQc=",
          "dtype": "i2"
         },
         "xaxis": "x",
         "y": {
          "bdata": "UDxkPFBabg==",
          "dtype": "i1"
         },
         "yaxis": "y"
        },
        {
         "hovertemplate": "country_of_asylum_name=Egypt<br>year=%{x}<br>count=%{y}<extra></extra>",
         "legendgroup": "Egypt",
         "marker": {
          "color": "#FF97FF",
          "pattern": {
           "shape": ""
          }
         },
         "name": "Egypt",
         "orientation": "v",
         "showlegend": true,
         "textposition": "auto",
         "type": "bar",
         "x": {
          "bdata": "uQe6B7sHvAe9B74HvwfAB8EH",
          "dtype": "i2"
         },
         "xaxis": "x",
         "y": {
          "bdata": "8ABAAQ4B+gCQAdYQqgDSAPAA",
          "dtype": "i2"
         },
         "yaxis": "y"
        },
        {
         "hovertemplate": "country_of_asylum_name=El Salvador<br>year=%{x}<br>count=%{y}<extra></extra>",
         "legendgroup": "El Salvador",
         "marker": {
          "color": "#FECB52",
          "pattern": {
           "shape": ""
          }
         },
         "name": "El Salvador",
         "orientation": "v",
         "showlegend": true,
         "textposition": "auto",
         "type": "bar",
         "x": {
          "bdata": "uwc=",
          "dtype": "i2"
         },
         "xaxis": "x",
         "y": {
          "bdata": "+gA=",
          "dtype": "i2"
         },
         "yaxis": "y"
        },
        {
         "hovertemplate": "country_of_asylum_name=Eswatini<br>year=%{x}<br>count=%{y}<extra></extra>",
         "legendgroup": "Eswatini",
         "marker": {
          "color": "#636efa",
          "pattern": {
           "shape": ""
          }
         },
         "name": "Eswatini",
         "orientation": "v",
         "showlegend": true,
         "textposition": "auto",
         "type": "bar",
         "x": {
          "bdata": "uQe6B7wHvQe+B78HwAfBBw==",
          "dtype": "i2"
         },
         "xaxis": "x",
         "y": {
          "bdata": "DgHkAjQDhgE8AJoBNAj8CA==",
          "dtype": "i2"
         },
         "yaxis": "y"
        },
        {
         "hovertemplate": "country_of_asylum_name=Ethiopia<br>year=%{x}<br>count=%{y}<extra></extra>",
         "legendgroup": "Ethiopia",
         "marker": {
          "color": "#EF553B",
          "pattern": {
           "shape": ""
          }
         },
         "name": "Ethiopia",
         "orientation": "v",
         "showlegend": true,
         "textposition": "auto",
         "type": "bar",
         "x": {
          "bdata": "vwfAB8EH",
          "dtype": "i2"
         },
         "xaxis": "x",
         "y": {
          "bdata": "ak8obpZG",
          "dtype": "i2"
         },
         "yaxis": "y"
        },
        {
         "hovertemplate": "country_of_asylum_name=Finland<br>year=%{x}<br>count=%{y}<extra></extra>",
         "legendgroup": "Finland",
         "marker": {
          "color": "#00cc96",
          "pattern": {
           "shape": ""
          }
         },
         "name": "Finland",
         "orientation": "v",
         "showlegend": true,
         "textposition": "auto",
         "type": "bar",
         "x": {
          "bdata": "vQe+B78HwAfBBw==",
          "dtype": "i2"
         },
         "xaxis": "x",
         "y": {
          "bdata": "DAYQEhI=",
          "dtype": "i1"
         },
         "yaxis": "y"
        },
        {
         "hovertemplate": "country_of_asylum_name=France<br>year=%{x}<br>count=%{y}<extra></extra>",
         "legendgroup": "France",
         "marker": {
          "color": "#ab63fa",
          "pattern": {
           "shape": ""
          }
         },
         "name": "France",
         "orientation": "v",
         "showlegend": true,
         "textposition": "auto",
         "type": "bar",
         "x": {
          "bdata": "vAe9B74HvwfAB8EH",
          "dtype": "i2"
         },
         "xaxis": "x",
         "y": {
          "bdata": "yE2GTedXTVfIVOpw",
          "dtype": "i2"
         },
         "yaxis": "y"
        },
        {
         "hovertemplate": "country_of_asylum_name=Germany<br>year=%{x}<br>count=%{y}<extra></extra>",
         "legendgroup": "Germany",
         "marker": {
          "color": "#FFA15A",
          "pattern": {
           "shape": ""
          }
         },
         "name": "Germany",
         "orientation": "v",
         "showlegend": true,
         "textposition": "auto",
         "type": "bar",
         "x": {
          "bdata": "uQe6B7sHvAe9B74HvwfAB8EH",
          "dtype": "i2"
         },
         "xaxis": "x",
         "y": {
          "bdata": "GkAAAHCBAABkyAAAKqUBAPHAAAAxkgAABE0AALaJAABZIAEA",
          "dtype": "i4"
         },
         "yaxis": "y"
        },
        {
         "hovertemplate": "country_of_asylum_name=Greece<br>year=%{x}<br>count=%{y}<extra></extra>",
         "legendgroup": "Greece",
         "marker": {
          "color": "#19d3f3",
          "pattern": {
           "shape": ""
          }
         },
         "name": "Greece",
         "orientation": "v",
         "showlegend": true,
         "textposition": "auto",
         "type": "bar",
         "x": {
          "bdata": "uwe8B70Hvge/B8AHwQc=",
          "dtype": "i2"
         },
         "xaxis": "x",
         "y": {
          "bdata": "rw4BB8EIqgTBBagGhQ4=",
          "dtype": "i2"
         },
         "yaxis": "y"
        },
        {
         "hovertemplate": "country_of_asylum_name=Guatemala<br>year=%{x}<br>count=%{y}<extra></extra>",
         "legendgroup": "Guatemala",
         "marker": {
          "color": "#FF6692",
          "pattern": {
           "shape": ""
          }
         },
         "name": "Guatemala",
         "orientation": "v",
         "showlegend": true,
         "textposition": "auto",
         "type": "bar",
         "x": {
          "bdata": "vAfABw==",
          "dtype": "i2"
         },
         "xaxis": "x",
         "y": {
          "bdata": "HAw8AA==",
          "dtype": "i2"
         },
         "yaxis": "y"
        },
        {
         "hovertemplate": "country_of_asylum_name=Honduras<br>year=%{x}<br>count=%{y}<extra></extra>",
         "legendgroup": "Honduras",
         "marker": {
          "color": "#B6E880",
          "pattern": {
           "shape": ""
          }
         },
         "name": "Honduras",
         "orientation": "v",
         "showlegend": true,
         "textposition": "auto",
         "type": "bar",
         "x": {
          "bdata": "uge7B7wHvge/Bw==",
          "dtype": "i2"
         },
         "xaxis": "x",
         "y": {
          "bdata": "mDoAAOCmAACoYQAAzDgAAFAjAAA=",
          "dtype": "i4"
         },
         "yaxis": "y"
        },
        {
         "hovertemplate": "country_of_asylum_name=India<br>year=%{x}<br>count=%{y}<extra></extra>",
         "legendgroup": "India",
         "marker": {
          "color": "#FF97FF",
          "pattern": {
           "shape": ""
          }
         },
         "name": "India",
         "orientation": "v",
         "showlegend": true,
         "textposition": "auto",
         "type": "bar",
         "x": {
          "bdata": "vQe+B78HwAfBBw==",
          "dtype": "i2"
         },
         "xaxis": "x",
         "y": {
          "bdata": "jA9uCjoMqgqUBw==",
          "dtype": "i2"
         },
         "yaxis": "y"
        },
        {
         "hovertemplate": "country_of_asylum_name=Indonesia<br>year=%{x}<br>count=%{y}<extra></extra>",
         "legendgroup": "Indonesia",
         "marker": {
          "color": "#FECB52",
          "pattern": {
           "shape": ""
          }
         },
         "name": "Indonesia",
         "orientation": "v",
         "showlegend": true,
         "textposition": "auto",
         "type": "bar",
         "x": {
          "bdata": "uge7B7wHvge/B8EH",
          "dtype": "i2"
         },
         "xaxis": "x",
         "y": {
          "bdata": "cgsAADi9AACqMgAAfkUAAC4xAACsKwAA",
          "dtype": "i4"
         },
         "yaxis": "y"
        },
        {
         "hovertemplate": "country_of_asylum_name=Iran (Islamic Rep. of)<br>year=%{x}<br>count=%{y}<extra></extra>",
         "legendgroup": "Iran (Islamic Rep. of)",
         "marker": {
          "color": "#636efa",
          "pattern": {
           "shape": ""
          }
         },
         "name": "Iran (Islamic Rep. of)",
         "orientation": "v",
         "showlegend": true,
         "textposition": "auto",
         "type": "bar",
         "x": {
          "bdata": "vAe9B78HwAc=",
          "dtype": "i2"
         },
         "xaxis": "x",
         "y": {
          "bdata": "sB4EAMBcFQBADQMAoIYBAA==",
          "dtype": "i4"
         },
         "yaxis": "y"
        },
        {
         "hovertemplate": "country_of_asylum_name=Italy<br>year=%{x}<br>count=%{y}<extra></extra>",
         "legendgroup": "Italy",
         "marker": {
          "color": "#EF553B",
          "pattern": {
           "shape": ""
          }
         },
         "name": "Italy",
         "orientation": "v",
         "showlegend": true,
         "textposition": "auto",
         "type": "bar",
         "x": {
          "bdata": "uQe6B7sHvAe9B74HvwfAB8EH",
          "dtype": "i2"
         },
         "xaxis": "x",
         "y": {
          "bdata": "zQMiA2EFTggrDjcM0AvEESIV",
          "dtype": "i2"
         },
         "yaxis": "y"
        },
        {
         "hovertemplate": "country_of_asylum_name=Japan<br>year=%{x}<br>count=%{y}<extra></extra>",
         "legendgroup": "Japan",
         "marker": {
          "color": "#00cc96",
          "pattern": {
           "shape": ""
          }
         },
         "name": "Japan",
         "orientation": "v",
         "showlegend": true,
         "textposition": "auto",
         "type": "bar",
         "x": {
          "bdata": "uge7B7wHvQe+B78HwAc=",
          "dtype": "i2"
         },
         "xaxis": "x",
         "y": {
          "bdata": "xgKSBJAGsARYB5YF9AE=",
          "dtype": "i2"
         },
         "yaxis": "y"
        },
        {
         "hovertemplate": "country_of_asylum_name=Jordan<br>year=%{x}<br>count=%{y}<extra></extra>",
         "legendgroup": "Jordan",
         "marker": {
          "color": "#ab63fa",
          "pattern": {
           "shape": ""
          }
         },
         "name": "Jordan",
         "orientation": "v",
         "showlegend": true,
         "textposition": "auto",
         "type": "bar",
         "x": {
          "bdata": "uge7B7wHvwfABw==",
          "dtype": "i2"
         },
         "xaxis": "x",
         "y": {
          "bdata": "UABQAFAAZAD6AA==",
          "dtype": "i2"
         },
         "yaxis": "y"
        },
        {
         "hovertemplate": "country_of_asylum_name=Kenya<br>year=%{x}<br>count=%{y}<extra></extra>",
         "legendgroup": "Kenya",
         "marker": {
          "color": "#FFA15A",
          "pattern": {
           "shape": ""
          }
         },
         "name": "Kenya",
         "orientation": "v",
         "showlegend": true,
         "textposition": "auto",
         "type": "bar",
         "x": {
          "bdata": "uQe6B7sHvAe9B74HvwfAB8EH",
          "dtype": "i2"
         },
         "xaxis": "x",
         "y": {
          "bdata": "yA/0AdACpAGYA6oFNAgUBY4D",
          "dtype": "i2"
         },
         "yaxis": "y"
        },
        {
         "hovertemplate": "country_of_asylum_name=Kuwait<br>year=%{x}<br>count=%{y}<extra></extra>",
         "legendgroup": "Kuwait",
         "marker": {
          "color": "#19d3f3",
          "pattern": {
           "shape": ""
          }
         },
         "name": "Kuwait",
         "orientation": "v",
         "showlegend": true,
         "textposition": "auto",
         "type": "bar",
         "x": {
          "bdata": "wQc=",
          "dtype": "i2"
         },
         "xaxis": "x",
         "y": {
          "bdata": "Mg==",
          "dtype": "i1"
         },
         "yaxis": "y"
        },
        {
         "hovertemplate": "country_of_asylum_name=Lebanon<br>year=%{x}<br>count=%{y}<extra></extra>",
         "legendgroup": "Lebanon",
         "marker": {
          "color": "#FF6692",
          "pattern": {
           "shape": ""
          }
         },
         "name": "Lebanon",
         "orientation": "v",
         "showlegend": true,
         "textposition": "auto",
         "type": "bar",
         "x": {
          "bdata": "uwe8B78HwAfBBw==",
          "dtype": "i2"
         },
         "xaxis": "x",
         "y": {
          "bdata": "ZAAsAVoAWgBGAA==",
          "dtype": "i2"
         },
         "yaxis": "y"
        },
        {
         "hovertemplate": "country_of_asylum_name=Lesotho<br>year=%{x}<br>count=%{y}<extra></extra>",
         "legendgroup": "Lesotho",
         "marker": {
          "color": "#B6E880",
          "pattern": {
           "shape": ""
          }
         },
         "name": "Lesotho",
         "orientation": "v",
         "showlegend": true,
         "textposition": "auto",
         "type": "bar",
         "x": {
          "bdata": "uQe6B7sHvge/B8AHwQc=",
          "dtype": "i2"
         },
         "xaxis": "x",
         "y": {
          "bdata": "MgBkAHIByADIAIIAEgI=",
          "dtype": "i2"
         },
         "yaxis": "y"
        },
        {
         "hovertemplate": "country_of_asylum_name=Liberia<br>year=%{x}<br>count=%{y}<extra></extra>",
         "legendgroup": "Liberia",
         "marker": {
          "color": "#FF97FF",
          "pattern": {
           "shape": ""
          }
         },
         "name": "Liberia",
         "orientation": "v",
         "showlegend": true,
         "textposition": "auto",
         "type": "bar",
         "x": {
          "bdata": "wAc=",
          "dtype": "i2"
         },
         "xaxis": "x",
         "y": {
          "bdata": "PA==",
          "dtype": "i1"
         },
         "yaxis": "y"
        },
        {
         "hovertemplate": "country_of_asylum_name=Malaysia<br>year=%{x}<br>count=%{y}<extra></extra>",
         "legendgroup": "Malaysia",
         "marker": {
          "color": "#FECB52",
          "pattern": {
           "shape": ""
          }
         },
         "name": "Malaysia",
         "orientation": "v",
         "showlegend": true,
         "textposition": "auto",
         "type": "bar",
         "x": {
          "bdata": "uQe6B7sHvAe9B74HvwfAB8EH",
          "dtype": "i2"
         },
         "xaxis": "x",
         "y": {
          "bdata": "cBcAAJD2AACq0gAAek4AAKhcAADyOgAAlFIAALgkAADOIgAA",
          "dtype": "i4"
         },
         "yaxis": "y"
        },
        {
         "hovertemplate": "country_of_asylum_name=Mexico<br>year=%{x}<br>count=%{y}<extra></extra>",
         "legendgroup": "Mexico",
         "marker": {
          "color": "#636efa",
          "pattern": {
           "shape": ""
          }
         },
         "name": "Mexico",
         "orientation": "v",
         "showlegend": true,
         "textposition": "auto",
         "type": "bar",
         "x": {
          "bdata": "uwe8B74H",
          "dtype": "i2"
         },
         "xaxis": "x",
         "y": {
          "bdata": "4gkAAHCUAAAEjQAA",
          "dtype": "i4"
         },
         "yaxis": "y"
        },
        {
         "hovertemplate": "country_of_asylum_name=Mozambique<br>year=%{x}<br>count=%{y}<extra></extra>",
         "legendgroup": "Mozambique",
         "marker": {
          "color": "#EF553B",
          "pattern": {
           "shape": ""
          }
         },
         "name": "Mozambique",
         "orientation": "v",
         "showlegend": true,
         "textposition": "auto",
         "type": "bar",
         "x": {
          "bdata": "uQe6B7sHvge/B8AHwQc=",
          "dtype": "i2"
         },
         "xaxis": "x",
         "y": {
          "bdata": "jDwAAJzgAABQwwAAUAAAAFAAAABGAAAAjAAAAA==",
          "dtype": "i4"
         },
         "yaxis": "y"
        },
        {
         "hovertemplate": "country_of_asylum_name=Netherlands (Kingdom of the)<br>year=%{x}<br>count=%{y}<extra></extra>",
         "legendgroup": "Netherlands (Kingdom of the)",
         "marker": {
          "color": "#00cc96",
          "pattern": {
           "shape": ""
          }
         },
         "name": "Netherlands (Kingdom of the)",
         "orientation": "v",
         "showlegend": true,
         "textposition": "auto",
         "type": "bar",
         "x": {
          "bdata": "vAe9B74HvwfAB8EH",
          "dtype": "i2"
         },
         "xaxis": "x",
         "y": {
          "bdata": "RgU6Br4E3wcTCgwW",
          "dtype": "i2"
         },
         "yaxis": "y"
        },
        {
         "hovertemplate": "country_of_asylum_name=Nicaragua<br>year=%{x}<br>count=%{y}<extra></extra>",
         "legendgroup": "Nicaragua",
         "marker": {
          "color": "#ab63fa",
          "pattern": {
           "shape": ""
          }
         },
         "name": "Nicaragua",
         "orientation": "v",
         "showlegend": true,
         "textposition": "auto",
         "type": "bar",
         "x": {
          "bdata": "vAe9B74HwQc=",
          "dtype": "i2"
         },
         "xaxis": "x",
         "y": {
          "bdata": "BBDQPnwLHAI=",
          "dtype": "i2"
         },
         "yaxis": "y"
        },
        {
         "hovertemplate": "country_of_asylum_name=Nigeria<br>year=%{x}<br>count=%{y}<extra></extra>",
         "legendgroup": "Nigeria",
         "marker": {
          "color": "#FFA15A",
          "pattern": {
           "shape": ""
          }
         },
         "name": "Nigeria",
         "orientation": "v",
         "showlegend": true,
         "textposition": "auto",
         "type": "bar",
         "x": {
          "bdata": "uge+B78H",
          "dtype": "i2"
         },
         "xaxis": "x",
         "y": {
          "bdata": "ZAC+AMgA",
          "dtype": "i2"
         },
         "yaxis": "y"
        },
        {
         "hovertemplate": "country_of_asylum_name=Norway<br>year=%{x}<br>count=%{y}<extra></extra>",
         "legendgroup": "Norway",
         "marker": {
          "color": "#19d3f3",
          "pattern": {
           "shape": ""
          }
         },
         "name": "Norway",
         "orientation": "v",
         "showlegend": true,
         "textposition": "auto",
         "type": "bar",
         "x": {
          "bdata": "vAe9B74HvwfAB8EH",
          "dtype": "i2"
         },
         "xaxis": "x",
         "y": {
          "bdata": "ZQBfAGQAlgAsAT0D",
          "dtype": "i2"
         },
         "yaxis": "y"
        },
        {
         "hovertemplate": "country_of_asylum_name=Pakistan<br>year=%{x}<br>count=%{y}<extra></extra>",
         "legendgroup": "Pakistan",
         "marker": {
          "color": "#FF6692",
          "pattern": {
           "shape": ""
          }
         },
         "name": "Pakistan",
         "orientation": "v",
         "showlegend": true,
         "textposition": "auto",
         "type": "bar",
         "x": {
          "bdata": "vAe9B74HvwfBBw==",
          "dtype": "i2"
         },
         "xaxis": "x",
         "y": {
          "bdata": "rKgPAH5zDgCGqQcATAQAAHjzAgA=",
          "dtype": "i4"
         },
         "yaxis": "y"
        },
        {
         "hovertemplate": "country_of_asylum_name=Panama<br>year=%{x}<br>count=%{y}<extra></extra>",
         "legendgroup": "Panama",
         "marker": {
          "color": "#B6E880",
          "pattern": {
           "shape": ""
          }
         },
         "name": "Panama",
         "orientation": "v",
         "showlegend": true,
         "textposition": "auto",
         "type": "bar",
         "x": {
          "bdata": "uge7B7wHvgc=",
          "dtype": "i2"
         },
         "xaxis": "x",
         "y": {
          "bdata": "9AH2BOQHwgE=",
          "dtype": "i2"
         },
         "yaxis": "y"
        },
        {
         "hovertemplate": "country_of_asylum_name=Papua New Guinea<br>year=%{x}<br>count=%{y}<extra></extra>",
         "legendgroup": "Papua New Guinea",
         "marker": {
          "color": "#FF97FF",
          "pattern": {
           "shape": ""
          }
         },
         "name": "Papua New Guinea",
         "orientation": "v",
         "showlegend": true,
         "textposition": "auto",
         "type": "bar",
         "x": {
          "bdata": "vge/B8AHwQc=",
          "dtype": "i2"
         },
         "xaxis": "x",
         "y": {
          "bdata": "vAJeAWYmcAM=",
          "dtype": "i2"
         },
         "yaxis": "y"
        },
        {
         "hovertemplate": "country_of_asylum_name=Peru<br>year=%{x}<br>count=%{y}<extra></extra>",
         "legendgroup": "Peru",
         "marker": {
          "color": "#FECB52",
          "pattern": {
           "shape": ""
          }
         },
         "name": "Peru",
         "orientation": "v",
         "showlegend": true,
         "textposition": "auto",
         "type": "bar",
         "x": {
          "bdata": "uge8B70Hvwc=",
          "dtype": "i2"
         },
         "xaxis": "x",
         "y": {
          "bdata": "rgHkAhgBPAA=",
          "dtype": "i2"
         },
         "yaxis": "y"
        },
        {
         "hovertemplate": "country_of_asylum_name=Philippines<br>year=%{x}<br>count=%{y}<extra></extra>",
         "legendgroup": "Philippines",
         "marker": {
          "color": "#636efa",
          "pattern": {
           "shape": ""
          }
         },
         "name": "Philippines",
         "orientation": "v",
         "showlegend": true,
         "textposition": "auto",
         "type": "bar",
         "x": {
          "bdata": "uQe6B7sHvAe9B74HvwfAB8EH",
          "dtype": "i2"
         },
         "xaxis": "x",
         "y": {
          "bdata": "nAQAAIwKAAD6FAAAyIIAAOCwAADkcAAA5HUAAJ5/AACkeQAA",
          "dtype": "i4"
         },
         "yaxis": "y"
        },
        {
         "hovertemplate": "country_of_asylum_name=Portugal<br>year=%{x}<br>count=%{y}<extra></extra>",
         "legendgroup": "Portugal",
         "marker": {
          "color": "#EF553B",
          "pattern": {
           "shape": ""
          }
         },
         "name": "Portugal",
         "orientation": "v",
         "showlegend": true,
         "textposition": "auto",
         "type": "bar",
         "x": {
          "bdata": "vAe9B74HvwfAB8EH",
          "dtype": "i2"
         },
         "xaxis": "x",
         "y": {
          "bdata": "ZAZYAkMEYQJ8AT8A",
          "dtype": "i2"
         },
         "yaxis": "y"
        },
        {
         "hovertemplate": "country_of_asylum_name=Qatar<br>year=%{x}<br>count=%{y}<extra></extra>",
         "legendgroup": "Qatar",
         "marker": {
          "color": "#00cc96",
          "pattern": {
           "shape": ""
          }
         },
         "name": "Qatar",
         "orientation": "v",
         "showlegend": true,
         "textposition": "auto",
         "type": "bar",
         "x": {
          "bdata": "vAfBBw==",
          "dtype": "i2"
         },
         "xaxis": "x",
         "y": {
          "bdata": "yAAyAA==",
          "dtype": "i2"
         },
         "yaxis": "y"
        },
        {
         "hovertemplate": "country_of_asylum_name=Rep. of Korea<br>year=%{x}<br>count=%{y}<extra></extra>",
         "legendgroup": "Rep. of Korea",
         "marker": {
          "color": "#ab63fa",
          "pattern": {
           "shape": ""
          }
         },
         "name": "Rep. of Korea",
         "orientation": "v",
         "showlegend": true,
         "textposition": "auto",
         "type": "bar",
         "x": {
          "bdata": "uge7B70Hvgc=",
          "dtype": "i2"
         },
         "xaxis": "x",
         "y": {
          "bdata": "ZACWADwARgA=",
          "dtype": "i2"
         },
         "yaxis": "y"
        },
        {
         "hovertemplate": "country_of_asylum_name=Rwanda<br>year=%{x}<br>count=%{y}<extra></extra>",
         "legendgroup": "Rwanda",
         "marker": {
          "color": "#FFA15A",
          "pattern": {
           "shape": ""
          }
         },
         "name": "Rwanda",
         "orientation": "v",
         "showlegend": true,
         "textposition": "auto",
         "type": "bar",
         "x": {
          "bdata": "uwe8B70HvgfBBw==",
          "dtype": "i2"
         },
         "xaxis": "x",
         "y": {
          "bdata": "KgMAAJABAADwHgAAcJQAAPIDAAA=",
          "dtype": "i4"
         },
         "yaxis": "y"
        },
        {
         "hovertemplate": "country_of_asylum_name=Saudi Arabia<br>year=%{x}<br>count=%{y}<extra></extra>",
         "legendgroup": "Saudi Arabia",
         "marker": {
          "color": "#19d3f3",
          "pattern": {
           "shape": ""
          }
         },
         "name": "Saudi Arabia",
         "orientation": "v",
         "showlegend": true,
         "textposition": "auto",
         "type": "bar",
         "x": {
          "bdata": "vgfAB8EH",
          "dtype": "i2"
         },
         "xaxis": "x",
         "y": {
          "bdata": "0AcAAOiAAAC0XwAA",
          "dtype": "i4"
         },
         "yaxis": "y"
        },
        {
         "hovertemplate": "country_of_asylum_name=Serbia and Kosovo: S/RES/1244 (1999)<br>year=%{x}<br>count=%{y}<extra></extra>",
         "legendgroup": "Serbia and Kosovo: S/RES/1244 (1999)",
         "marker": {
          "color": "#FF6692",
          "pattern": {
           "shape": ""
          }
         },
         "name": "Serbia and Kosovo: S/RES/1244 (1999)",
         "orientation": "v",
         "showlegend": true,
         "textposition": "auto",
         "type": "bar",
         "x": {
          "bdata": "vAe9B74HwAfBBw==",
          "dtype": "i2"
         },
         "xaxis": "x",
         "y": {
          "bdata": "BAaWCq4GyAqADA==",
          "dtype": "i2"
         },
         "yaxis": "y"
        },
        {
         "hovertemplate": "country_of_asylum_name=Sierra Leone<br>year=%{x}<br>count=%{y}<extra></extra>",
         "legendgroup": "Sierra Leone",
         "marker": {
          "color": "#B6E880",
          "pattern": {
           "shape": ""
          }
         },
         "name": "Sierra Leone",
         "orientation": "v",
         "showlegend": true,
         "textposition": "auto",
         "type": "bar",
         "x": {
          "bdata": "vgc=",
          "dtype": "i2"
         },
         "xaxis": "x",
         "y": {
          "bdata": "Mg==",
          "dtype": "i1"
         },
         "yaxis": "y"
        },
        {
         "hovertemplate": "country_of_asylum_name=Singapore<br>year=%{x}<br>count=%{y}<extra></extra>",
         "legendgroup": "Singapore",
         "marker": {
          "color": "#FF97FF",
          "pattern": {
           "shape": ""
          }
         },
         "name": "Singapore",
         "orientation": "v",
         "showlegend": true,
         "textposition": "auto",
         "type": "bar",
         "x": {
          "bdata": "uQe6B7sHvAe9B74HvwfABw==",
          "dtype": "i2"
         },
         "xaxis": "x",
         "y": {
          "bdata": "SgFOB0oVQCSkFaoKIgbaAg==",
          "dtype": "i2"
         },
         "yaxis": "y"
        },
        {
         "hovertemplate": "country_of_asylum_name=Somalia<br>year=%{x}<br>count=%{y}<extra></extra>",
         "legendgroup": "Somalia",
         "marker": {
          "color": "#FECB52",
          "pattern": {
           "shape": ""
          }
         },
         "name": "Somalia",
         "orientation": "v",
         "showlegend": true,
         "textposition": "auto",
         "type": "bar",
         "x": {
          "bdata": "uge7B7wHvQe+B8AHwQc=",
          "dtype": "i2"
         },
         "xaxis": "x",
         "y": {
          "bdata": "oIYBAOpgBQAIRRcAJgIAANIAAABg6gAAUMMAAA==",
          "dtype": "i4"
         },
         "yaxis": "y"
        },
        {
         "hovertemplate": "country_of_asylum_name=Spain<br>year=%{x}<br>count=%{y}<extra></extra>",
         "legendgroup": "Spain",
         "marker": {
          "color": "#636efa",
          "pattern": {
           "shape": ""
          }
         },
         "name": "Spain",
         "orientation": "v",
         "showlegend": true,
         "textposition": "auto",
         "type": "bar",
         "x": {
          "bdata": "vQe+B78HwAfBBw==",
          "dtype": "i2"
         },
         "xaxis": "x",
         "y": {
          "bdata": "RQGRCWgFngQpCQ==",
          "dtype": "i2"
         },
         "yaxis": "y"
        },
        {
         "hovertemplate": "country_of_asylum_name=Sudan<br>year=%{x}<br>count=%{y}<extra></extra>",
         "legendgroup": "Sudan",
         "marker": {
          "color": "#EF553B",
          "pattern": {
           "shape": ""
          }
         },
         "name": "Sudan",
         "orientation": "v",
         "showlegend": true,
         "textposition": "auto",
         "type": "bar",
         "x": {
          "bdata": "uQe6B7sHvAe9B74HvwfAB8EH",
          "dtype": "i2"
         },
         "xaxis": "x",
         "y": {
          "bdata": "jKAAABACAgCWwgEAcBEBABrlAADwzAEA8NIAAFTyBABkCgUA",
          "dtype": "i4"
         },
         "yaxis": "y"
        },
        {
         "hovertemplate": "country_of_asylum_name=Sweden<br>year=%{x}<br>count=%{y}<extra></extra>",
         "legendgroup": "Sweden",
         "marker": {
          "color": "#00cc96",
          "pattern": {
           "shape": ""
          }
         },
         "name": "Sweden",
         "orientation": "v",
         "showlegend": true,
         "textposition": "auto",
         "type": "bar",
         "x": {
          "bdata": "vQe+B78HwAfBBw==",
          "dtype": "i2"
         },
         "xaxis": "x",
         "y": {
          "bdata": "azHxJ4ob4C6kOA==",
          "dtype": "i2"
         },
         "yaxis": "y"
        },
        {
         "hovertemplate": "country_of_asylum_name=Switzerland<br>year=%{x}<br>count=%{y}<extra></extra>",
         "legendgroup": "Switzerland",
         "marker": {
          "color": "#ab63fa",
          "pattern": {
           "shape": ""
          }
         },
         "name": "Switzerland",
         "orientation": "v",
         "showlegend": true,
         "textposition": "auto",
         "type": "bar",
         "x": {
          "bdata": "uQe6B7sHvAe9B74HvwfAB8EH",
          "dtype": "i2"
         },
         "xaxis": "x",
         "y": {
          "bdata": "JgRcBU0HuQt6ENcbuB7pHM8l",
          "dtype": "i2"
         },
         "yaxis": "y"
        },
        {
         "hovertemplate": "country_of_asylum_name=Syrian Arab Rep.<br>year=%{x}<br>count=%{y}<extra></extra>",
         "legendgroup": "Syrian Arab Rep.",
         "marker": {
          "color": "#FFA15A",
          "pattern": {
           "shape": ""
          }
         },
         "name": "Syrian Arab Rep.",
         "orientation": "v",
         "showlegend": true,
         "textposition": "auto",
         "type": "bar",
         "x": {
          "bdata": "vAe9B74HvwfAB8EH",
          "dtype": "i2"
         },
         "xaxis": "x",
         "y": {
          "bdata": "lgD6AGptWDlYAnIG",
          "dtype": "i2"
         },
         "yaxis": "y"
        },
        {
         "hovertemplate": "country_of_asylum_name=Thailand<br>year=%{x}<br>count=%{y}<extra></extra>",
         "legendgroup": "Thailand",
         "marker": {
          "color": "#19d3f3",
          "pattern": {
           "shape": ""
          }
         },
         "name": "Thailand",
         "orientation": "v",
         "showlegend": true,
         "textposition": "auto",
         "type": "bar",
         "x": {
          "bdata": "uQe6B7sHvAe9B74Hvwc=",
          "dtype": "i2"
         },
         "xaxis": "x",
         "y": {
          "bdata": "nIsAAGYHAQCSKwEAuk4BACqZAABMLAAACjIAAA==",
          "dtype": "i4"
         },
         "yaxis": "y"
        },
        {
         "hovertemplate": "country_of_asylum_name=Togo<br>year=%{x}<br>count=%{y}<extra></extra>",
         "legendgroup": "Togo",
         "marker": {
          "color": "#FF6692",
          "pattern": {
           "shape": ""
          }
         },
         "name": "Togo",
         "orientation": "v",
         "showlegend": true,
         "textposition": "auto",
         "type": "bar",
         "x": {
          "bdata": "vge/B8EH",
          "dtype": "i2"
         },
         "xaxis": "x",
         "y": {
          "bdata": "vgBaAFAA",
          "dtype": "i2"
         },
         "yaxis": "y"
        },
        {
         "hovertemplate": "country_of_asylum_name=Türkiye<br>year=%{x}<br>count=%{y}<extra></extra>",
         "legendgroup": "Türkiye",
         "marker": {
          "color": "#B6E880",
          "pattern": {
           "shape": ""
          }
         },
         "name": "Türkiye",
         "orientation": "v",
         "showlegend": true,
         "textposition": "auto",
         "type": "bar",
         "x": {
          "bdata": "uge8B70HvgfAB8EH",
          "dtype": "i2"
         },
         "xaxis": "x",
         "y": {
          "bdata": "MgDEE3gAAhKqBaID",
          "dtype": "i2"
         },
         "yaxis": "y"
        },
        {
         "hovertemplate": "country_of_asylum_name=Uganda<br>year=%{x}<br>count=%{y}<extra></extra>",
         "legendgroup": "Uganda",
         "marker": {
          "color": "#FF97FF",
          "pattern": {
           "shape": ""
          }
         },
         "name": "Uganda",
         "orientation": "v",
         "showlegend": true,
         "textposition": "auto",
         "type": "bar",
         "x": {
          "bdata": "uQe8B70HvwfAB8EH",
          "dtype": "i2"
         },
         "xaxis": "x",
         "y": {
          "bdata": "rAgAAPAKAACEFwAARnMAALyEAAD6jAAA",
          "dtype": "i4"
         },
         "yaxis": "y"
        },
        {
         "hovertemplate": "country_of_asylum_name=United Arab Emirates<br>year=%{x}<br>count=%{y}<extra></extra>",
         "legendgroup": "United Arab Emirates",
         "marker": {
          "color": "#FECB52",
          "pattern": {
           "shape": ""
          }
         },
         "name": "United Arab Emirates",
         "orientation": "v",
         "showlegend": true,
         "textposition": "auto",
         "type": "bar",
         "x": {
          "bdata": "uwe8B70Hvge/B8AHwQc=",
          "dtype": "i2"
         },
         "xaxis": "x",
         "y": {
          "bdata": "yABABoQDZACQAcQEpAY=",
          "dtype": "i2"
         },
         "yaxis": "y"
        },
        {
         "hovertemplate": "country_of_asylum_name=United Kingdom<br>year=%{x}<br>count=%{y}<extra></extra>",
         "legendgroup": "United Kingdom",
         "marker": {
          "color": "#636efa",
          "pattern": {
           "shape": ""
          }
         },
         "name": "United Kingdom",
         "orientation": "v",
         "showlegend": true,
         "textposition": "auto",
         "type": "bar",
         "x": {
          "bdata": "uwe8B70Hvge/B8AHwQc=",
          "dtype": "i2"
         },
         "xaxis": "x",
         "y": {
          "bdata": "EQYaCWAJahC7EDwQJhE=",
          "dtype": "i2"
         },
         "yaxis": "y"
        },
        {
         "hovertemplate": "country_of_asylum_name=United Rep. of Tanzania<br>year=%{x}<br>count=%{y}<extra></extra>",
         "legendgroup": "United Rep. of Tanzania",
         "marker": {
          "color": "#EF553B",
          "pattern": {
           "shape": ""
          }
         },
         "name": "United Rep. of Tanzania",
         "orientation": "v",
         "showlegend": true,
         "textposition": "auto",
         "type": "bar",
         "x": {
          "bdata": "uQe6B7wHvQe+B78HwAfBBw==",
          "dtype": "i2"
         },
         "xaxis": "x",
         "y": {
          "bdata": "hAMyBT41kCTCH4w8YBimGA==",
          "dtype": "i2"
         },
         "yaxis": "y"
        },
        {
         "hovertemplate": "country_of_asylum_name=United States of America<br>year=%{x}<br>count=%{y}<extra></extra>",
         "legendgroup": "United States of America",
         "marker": {
          "color": "#00cc96",
          "pattern": {
           "shape": ""
          }
         },
         "name": "United States of America",
         "orientation": "v",
         "showlegend": true,
         "textposition": "auto",
         "type": "bar",
         "x": {
          "bdata": "vAe9B74HvwfAB8EH",
          "dtype": "i2"
         },
         "xaxis": "x",
         "y": {
          "bdata": "kGcAAIDwAAAQggAA62UAAOdeAADuQAAA",
          "dtype": "i4"
         },
         "yaxis": "y"
        },
        {
         "hovertemplate": "country_of_asylum_name=Unknown/other<br>year=%{x}<br>count=%{y}<extra></extra>",
         "legendgroup": "Unknown/other",
         "marker": {
          "color": "#ab63fa",
          "pattern": {
           "shape": ""
          }
         },
         "name": "Unknown/other",
         "orientation": "v",
         "showlegend": true,
         "textposition": "auto",
         "type": "bar",
         "x": {
          "bdata": "uQe6B7sHvAe9B74HvwfAB8EH",
          "dtype": "i2"
         },
         "xaxis": "x",
         "y": {
          "bdata": "igKoAsIBwgESAkYFfgQ8BZYF",
          "dtype": "i2"
         },
         "yaxis": "y"
        },
        {
         "hovertemplate": "country_of_asylum_name=Uruguay<br>year=%{x}<br>count=%{y}<extra></extra>",
         "legendgroup": "Uruguay",
         "marker": {
          "color": "#FFA15A",
          "pattern": {
           "shape": ""
          }
         },
         "name": "Uruguay",
         "orientation": "v",
         "showlegend": true,
         "textposition": "auto",
         "type": "bar",
         "x": {
          "bdata": "vwc=",
          "dtype": "i2"
         },
         "xaxis": "x",
         "y": {
          "bdata": "Rg==",
          "dtype": "i1"
         },
         "yaxis": "y"
        },
        {
         "hovertemplate": "country_of_asylum_name=Venezuela (Bolivarian Republic of)<br>year=%{x}<br>count=%{y}<extra></extra>",
         "legendgroup": "Venezuela (Bolivarian Republic of)",
         "marker": {
          "color": "#19d3f3",
          "pattern": {
           "shape": ""
          }
         },
         "name": "Venezuela (Bolivarian Republic of)",
         "orientation": "v",
         "showlegend": true,
         "textposition": "auto",
         "type": "bar",
         "x": {
          "bdata": "uQe+B78HwAfBBw==",
          "dtype": "i2"
         },
         "xaxis": "x",
         "y": {
          "bdata": "ZADmAMgAhgHaAg==",
          "dtype": "i2"
         },
         "yaxis": "y"
        },
        {
         "hovertemplate": "country_of_asylum_name=Viet Nam<br>year=%{x}<br>count=%{y}<extra></extra>",
         "legendgroup": "Viet Nam",
         "marker": {
          "color": "#FF6692",
          "pattern": {
           "shape": ""
          }
         },
         "name": "Viet Nam",
         "orientation": "v",
         "showlegend": true,
         "textposition": "auto",
         "type": "bar",
         "x": {
          "bdata": "uge8B74HvwfABw==",
          "dtype": "i2"
         },
         "xaxis": "x",
         "y": {
          "bdata": "VGkBAJQRAAB0CQAATAQAAAYEAAA=",
          "dtype": "i4"
         },
         "yaxis": "y"
        },
        {
         "hovertemplate": "country_of_asylum_name=Yemen<br>year=%{x}<br>count=%{y}<extra></extra>",
         "legendgroup": "Yemen",
         "marker": {
          "color": "#B6E880",
          "pattern": {
           "shape": ""
          }
         },
         "name": "Yemen",
         "orientation": "v",
         "showlegend": true,
         "textposition": "auto",
         "type": "bar",
         "x": {
          "bdata": "uQe8B70Hvge/B8AHwQc=",
          "dtype": "i2"
         },
         "xaxis": "x",
         "y": {
          "bdata": "MgC+AA4BCALoCFgC9AE=",
          "dtype": "i2"
         },
         "yaxis": "y"
        },
        {
         "hovertemplate": "country_of_asylum_name=Zambia<br>year=%{x}<br>count=%{y}<extra></extra>",
         "legendgroup": "Zambia",
         "marker": {
          "color": "#FF97FF",
          "pattern": {
           "shape": ""
          }
         },
         "name": "Zambia",
         "orientation": "v",
         "showlegend": true,
         "textposition": "auto",
         "type": "bar",
         "x": {
          "bdata": "uQe6B7sHvAe9B74HwAfBBw==",
          "dtype": "i2"
         },
         "xaxis": "x",
         "y": {
          "bdata": "EgwAACBYAACAtgAAUl0AAOBbAAByvwAAngwAAHohAAA=",
          "dtype": "i4"
         },
         "yaxis": "y"
        },
        {
         "hovertemplate": "country_of_asylum_name=Zimbabwe<br>year=%{x}<br>count=%{y}<extra></extra>",
         "legendgroup": "Zimbabwe",
         "marker": {
          "color": "#FECB52",
          "pattern": {
           "shape": ""
          }
         },
         "name": "Zimbabwe",
         "orientation": "v",
         "showlegend": true,
         "textposition": "auto",
         "type": "bar",
         "x": {
          "bdata": "vAe9B74HvwfAB8EH",
          "dtype": "i2"
         },
         "xaxis": "x",
         "y": {
          "bdata": "MgDiE8o60HV4ABAx",
          "dtype": "i2"
         },
         "yaxis": "y"
        }
       ],
       "layout": {
        "barmode": "relative",
        "legend": {
         "title": {
          "text": "country_of_asylum_name"
         },
         "tracegroupgap": 0
        },
        "margin": {
         "t": 60
        },
        "template": {
         "data": {
          "bar": [
           {
            "error_x": {
             "color": "#2a3f5f"
            },
            "error_y": {
             "color": "#2a3f5f"
            },
            "marker": {
             "line": {
              "color": "#E5ECF6",
              "width": 0.5
             },
             "pattern": {
              "fillmode": "overlay",
              "size": 10,
              "solidity": 0.2
             }
            },
            "type": "bar"
           }
          ],
          "barpolar": [
           {
            "marker": {
             "line": {
              "color": "#E5ECF6",
              "width": 0.5
             },
             "pattern": {
              "fillmode": "overlay",
              "size": 10,
              "solidity": 0.2
             }
            },
            "type": "barpolar"
           }
          ],
          "carpet": [
           {
            "aaxis": {
             "endlinecolor": "#2a3f5f",
             "gridcolor": "white",
             "linecolor": "white",
             "minorgridcolor": "white",
             "startlinecolor": "#2a3f5f"
            },
            "baxis": {
             "endlinecolor": "#2a3f5f",
             "gridcolor": "white",
             "linecolor": "white",
             "minorgridcolor": "white",
             "startlinecolor": "#2a3f5f"
            },
            "type": "carpet"
           }
          ],
          "choropleth": [
           {
            "colorbar": {
             "outlinewidth": 0,
             "ticks": ""
            },
            "type": "choropleth"
           }
          ],
          "contour": [
           {
            "colorbar": {
             "outlinewidth": 0,
             "ticks": ""
            },
            "colorscale": [
             [
              0,
              "#0d0887"
             ],
             [
              0.1111111111111111,
              "#46039f"
             ],
             [
              0.2222222222222222,
              "#7201a8"
             ],
             [
              0.3333333333333333,
              "#9c179e"
             ],
             [
              0.4444444444444444,
              "#bd3786"
             ],
             [
              0.5555555555555556,
              "#d8576b"
             ],
             [
              0.6666666666666666,
              "#ed7953"
             ],
             [
              0.7777777777777778,
              "#fb9f3a"
             ],
             [
              0.8888888888888888,
              "#fdca26"
             ],
             [
              1,
              "#f0f921"
             ]
            ],
            "type": "contour"
           }
          ],
          "contourcarpet": [
           {
            "colorbar": {
             "outlinewidth": 0,
             "ticks": ""
            },
            "type": "contourcarpet"
           }
          ],
          "heatmap": [
           {
            "colorbar": {
             "outlinewidth": 0,
             "ticks": ""
            },
            "colorscale": [
             [
              0,
              "#0d0887"
             ],
             [
              0.1111111111111111,
              "#46039f"
             ],
             [
              0.2222222222222222,
              "#7201a8"
             ],
             [
              0.3333333333333333,
              "#9c179e"
             ],
             [
              0.4444444444444444,
              "#bd3786"
             ],
             [
              0.5555555555555556,
              "#d8576b"
             ],
             [
              0.6666666666666666,
              "#ed7953"
             ],
             [
              0.7777777777777778,
              "#fb9f3a"
             ],
             [
              0.8888888888888888,
              "#fdca26"
             ],
             [
              1,
              "#f0f921"
             ]
            ],
            "type": "heatmap"
           }
          ],
          "histogram": [
           {
            "marker": {
             "pattern": {
              "fillmode": "overlay",
              "size": 10,
              "solidity": 0.2
             }
            },
            "type": "histogram"
           }
          ],
          "histogram2d": [
           {
            "colorbar": {
             "outlinewidth": 0,
             "ticks": ""
            },
            "colorscale": [
             [
              0,
              "#0d0887"
             ],
             [
              0.1111111111111111,
              "#46039f"
             ],
             [
              0.2222222222222222,
              "#7201a8"
             ],
             [
              0.3333333333333333,
              "#9c179e"
             ],
             [
              0.4444444444444444,
              "#bd3786"
             ],
             [
              0.5555555555555556,
              "#d8576b"
             ],
             [
              0.6666666666666666,
              "#ed7953"
             ],
             [
              0.7777777777777778,
              "#fb9f3a"
             ],
             [
              0.8888888888888888,
              "#fdca26"
             ],
             [
              1,
              "#f0f921"
             ]
            ],
            "type": "histogram2d"
           }
          ],
          "histogram2dcontour": [
           {
            "colorbar": {
             "outlinewidth": 0,
             "ticks": ""
            },
            "colorscale": [
             [
              0,
              "#0d0887"
             ],
             [
              0.1111111111111111,
              "#46039f"
             ],
             [
              0.2222222222222222,
              "#7201a8"
             ],
             [
              0.3333333333333333,
              "#9c179e"
             ],
             [
              0.4444444444444444,
              "#bd3786"
             ],
             [
              0.5555555555555556,
              "#d8576b"
             ],
             [
              0.6666666666666666,
              "#ed7953"
             ],
             [
              0.7777777777777778,
              "#fb9f3a"
             ],
             [
              0.8888888888888888,
              "#fdca26"
             ],
             [
              1,
              "#f0f921"
             ]
            ],
            "type": "histogram2dcontour"
           }
          ],
          "mesh3d": [
           {
            "colorbar": {
             "outlinewidth": 0,
             "ticks": ""
            },
            "type": "mesh3d"
           }
          ],
          "parcoords": [
           {
            "line": {
             "colorbar": {
              "outlinewidth": 0,
              "ticks": ""
             }
            },
            "type": "parcoords"
           }
          ],
          "pie": [
           {
            "automargin": true,
            "type": "pie"
           }
          ],
          "scatter": [
           {
            "fillpattern": {
             "fillmode": "overlay",
             "size": 10,
             "solidity": 0.2
            },
            "type": "scatter"
           }
          ],
          "scatter3d": [
           {
            "line": {
             "colorbar": {
              "outlinewidth": 0,
              "ticks": ""
             }
            },
            "marker": {
             "colorbar": {
              "outlinewidth": 0,
              "ticks": ""
             }
            },
            "type": "scatter3d"
           }
          ],
          "scattercarpet": [
           {
            "marker": {
             "colorbar": {
              "outlinewidth": 0,
              "ticks": ""
             }
            },
            "type": "scattercarpet"
           }
          ],
          "scattergeo": [
           {
            "marker": {
             "colorbar": {
              "outlinewidth": 0,
              "ticks": ""
             }
            },
            "type": "scattergeo"
           }
          ],
          "scattergl": [
           {
            "marker": {
             "colorbar": {
              "outlinewidth": 0,
              "ticks": ""
             }
            },
            "type": "scattergl"
           }
          ],
          "scattermap": [
           {
            "marker": {
             "colorbar": {
              "outlinewidth": 0,
              "ticks": ""
             }
            },
            "type": "scattermap"
           }
          ],
          "scattermapbox": [
           {
            "marker": {
             "colorbar": {
              "outlinewidth": 0,
              "ticks": ""
             }
            },
            "type": "scattermapbox"
           }
          ],
          "scatterpolar": [
           {
            "marker": {
             "colorbar": {
              "outlinewidth": 0,
              "ticks": ""
             }
            },
            "type": "scatterpolar"
           }
          ],
          "scatterpolargl": [
           {
            "marker": {
             "colorbar": {
              "outlinewidth": 0,
              "ticks": ""
             }
            },
            "type": "scatterpolargl"
           }
          ],
          "scatterternary": [
           {
            "marker": {
             "colorbar": {
              "outlinewidth": 0,
              "ticks": ""
             }
            },
            "type": "scatterternary"
           }
          ],
          "surface": [
           {
            "colorbar": {
             "outlinewidth": 0,
             "ticks": ""
            },
            "colorscale": [
             [
              0,
              "#0d0887"
             ],
             [
              0.1111111111111111,
              "#46039f"
             ],
             [
              0.2222222222222222,
              "#7201a8"
             ],
             [
              0.3333333333333333,
              "#9c179e"
             ],
             [
              0.4444444444444444,
              "#bd3786"
             ],
             [
              0.5555555555555556,
              "#d8576b"
             ],
             [
              0.6666666666666666,
              "#ed7953"
             ],
             [
              0.7777777777777778,
              "#fb9f3a"
             ],
             [
              0.8888888888888888,
              "#fdca26"
             ],
             [
              1,
              "#f0f921"
             ]
            ],
            "type": "surface"
           }
          ],
          "table": [
           {
            "cells": {
             "fill": {
              "color": "#EBF0F8"
             },
             "line": {
              "color": "white"
             }
            },
            "header": {
             "fill": {
              "color": "#C8D4E3"
             },
             "line": {
              "color": "white"
             }
            },
            "type": "table"
           }
          ]
         },
         "layout": {
          "annotationdefaults": {
           "arrowcolor": "#2a3f5f",
           "arrowhead": 0,
           "arrowwidth": 1
          },
          "autotypenumbers": "strict",
          "coloraxis": {
           "colorbar": {
            "outlinewidth": 0,
            "ticks": ""
           }
          },
          "colorscale": {
           "diverging": [
            [
             0,
             "#8e0152"
            ],
            [
             0.1,
             "#c51b7d"
            ],
            [
             0.2,
             "#de77ae"
            ],
            [
             0.3,
             "#f1b6da"
            ],
            [
             0.4,
             "#fde0ef"
            ],
            [
             0.5,
             "#f7f7f7"
            ],
            [
             0.6,
             "#e6f5d0"
            ],
            [
             0.7,
             "#b8e186"
            ],
            [
             0.8,
             "#7fbc41"
            ],
            [
             0.9,
             "#4d9221"
            ],
            [
             1,
             "#276419"
            ]
           ],
           "sequential": [
            [
             0,
             "#0d0887"
            ],
            [
             0.1111111111111111,
             "#46039f"
            ],
            [
             0.2222222222222222,
             "#7201a8"
            ],
            [
             0.3333333333333333,
             "#9c179e"
            ],
            [
             0.4444444444444444,
             "#bd3786"
            ],
            [
             0.5555555555555556,
             "#d8576b"
            ],
            [
             0.6666666666666666,
             "#ed7953"
            ],
            [
             0.7777777777777778,
             "#fb9f3a"
            ],
            [
             0.8888888888888888,
             "#fdca26"
            ],
            [
             1,
             "#f0f921"
            ]
           ],
           "sequentialminus": [
            [
             0,
             "#0d0887"
            ],
            [
             0.1111111111111111,
             "#46039f"
            ],
            [
             0.2222222222222222,
             "#7201a8"
            ],
            [
             0.3333333333333333,
             "#9c179e"
            ],
            [
             0.4444444444444444,
             "#bd3786"
            ],
            [
             0.5555555555555556,
             "#d8576b"
            ],
            [
             0.6666666666666666,
             "#ed7953"
            ],
            [
             0.7777777777777778,
             "#fb9f3a"
            ],
            [
             0.8888888888888888,
             "#fdca26"
            ],
            [
             1,
             "#f0f921"
            ]
           ]
          },
          "colorway": [
           "#636efa",
           "#EF553B",
           "#00cc96",
           "#ab63fa",
           "#FFA15A",
           "#19d3f3",
           "#FF6692",
           "#B6E880",
           "#FF97FF",
           "#FECB52"
          ],
          "font": {
           "color": "#2a3f5f"
          },
          "geo": {
           "bgcolor": "white",
           "lakecolor": "white",
           "landcolor": "#E5ECF6",
           "showlakes": true,
           "showland": true,
           "subunitcolor": "white"
          },
          "hoverlabel": {
           "align": "left"
          },
          "hovermode": "closest",
          "mapbox": {
           "style": "light"
          },
          "paper_bgcolor": "white",
          "plot_bgcolor": "#E5ECF6",
          "polar": {
           "angularaxis": {
            "gridcolor": "white",
            "linecolor": "white",
            "ticks": ""
           },
           "bgcolor": "#E5ECF6",
           "radialaxis": {
            "gridcolor": "white",
            "linecolor": "white",
            "ticks": ""
           }
          },
          "scene": {
           "xaxis": {
            "backgroundcolor": "#E5ECF6",
            "gridcolor": "white",
            "gridwidth": 2,
            "linecolor": "white",
            "showbackground": true,
            "ticks": "",
            "zerolinecolor": "white"
           },
           "yaxis": {
            "backgroundcolor": "#E5ECF6",
            "gridcolor": "white",
            "gridwidth": 2,
            "linecolor": "white",
            "showbackground": true,
            "ticks": "",
            "zerolinecolor": "white"
           },
           "zaxis": {
            "backgroundcolor": "#E5ECF6",
            "gridcolor": "white",
            "gridwidth": 2,
            "linecolor": "white",
            "showbackground": true,
            "ticks": "",
            "zerolinecolor": "white"
           }
          },
          "shapedefaults": {
           "line": {
            "color": "#2a3f5f"
           }
          },
          "ternary": {
           "aaxis": {
            "gridcolor": "white",
            "linecolor": "white",
            "ticks": ""
           },
           "baxis": {
            "gridcolor": "white",
            "linecolor": "white",
            "ticks": ""
           },
           "bgcolor": "#E5ECF6",
           "caxis": {
            "gridcolor": "white",
            "linecolor": "white",
            "ticks": ""
           }
          },
          "title": {
           "x": 0.05
          },
          "xaxis": {
           "automargin": true,
           "gridcolor": "white",
           "linecolor": "white",
           "ticks": "",
           "title": {
            "standoff": 15
           },
           "zerolinecolor": "white",
           "zerolinewidth": 2
          },
          "yaxis": {
           "automargin": true,
           "gridcolor": "white",
           "linecolor": "white",
           "ticks": "",
           "title": {
            "standoff": 15
           },
           "zerolinecolor": "white",
           "zerolinewidth": 2
          }
         }
        },
        "xaxis": {
         "anchor": "y",
         "domain": [
          0,
          1
         ],
         "title": {
          "text": "year"
         }
        },
        "yaxis": {
         "anchor": "x",
         "domain": [
          0,
          1
         ],
         "title": {
          "text": "count"
         }
        }
       }
      }
     },
     "metadata": {},
     "output_type": "display_data"
    }
   ],
   "source": [
    "fig = px.bar(destination_df[(destination_df['year'] >= 1977) & (destination_df['year'] <= 1985)], x='year', y='count', color='country_of_asylum_name')\n",
    "fig.show()"
   ]
  }
 ],
 "metadata": {
  "kernelspec": {
   "display_name": "env",
   "language": "python",
   "name": "python3"
  },
  "language_info": {
   "codemirror_mode": {
    "name": "ipython",
    "version": 3
   },
   "file_extension": ".py",
   "mimetype": "text/x-python",
   "name": "python",
   "nbconvert_exporter": "python",
   "pygments_lexer": "ipython3",
   "version": "3.12.6"
  }
 },
 "nbformat": 4,
 "nbformat_minor": 2
}
