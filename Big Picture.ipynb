{
 "cells": [
  {
   "cell_type": "markdown",
   "metadata": {},
   "source": [
    "![darien](img\\cover.jpg)"
   ]
  },
  {
   "cell_type": "markdown",
   "metadata": {},
   "source": [
    "# Table of contents:\n",
    "* [Data sources](#data_sources)\n",
    "* [Total asylum seekers over the years](#total_asylum)\n",
    "* [Migration crisis](#migration_crisis)\n",
    "* [Country of origin](#country_of_origin)"
   ]
  },
  {
   "cell_type": "markdown",
   "metadata": {},
   "source": [
    "#### You can find all the logic behind the notebook in the file: functions_and_backend.py"
   ]
  },
  {
   "cell_type": "code",
   "execution_count": 1,
   "metadata": {},
   "outputs": [],
   "source": [
    "import functions_and_backend"
   ]
  },
  {
   "cell_type": "markdown",
   "metadata": {},
   "source": [
    "# Data sources: <a class=\"anchor\" id=\"data_sources\">\n",
    "<img src=\"img/sources.png\"><br>\n"
   ]
  },
  {
   "cell_type": "markdown",
   "metadata": {},
   "source": [
    "# From 1962 to 2023 more than <b>100,000,000<b> people have seek asylum"
   ]
  },
  {
   "cell_type": "code",
   "execution_count": 2,
   "metadata": {},
   "outputs": [
    {
     "name": "stdout",
     "output_type": "stream",
     "text": [
      "108,224,695\n"
     ]
    }
   ],
   "source": [
    "functions_and_backend.print_total_asylum_seekers()"
   ]
  },
  {
   "cell_type": "markdown",
   "metadata": {},
   "source": [
    "# Countries that generate the most asylum seekers <a class=\"anchor\" id=\"country_of_origin\"></a>\n",
    "Countries that generated less than 100,000 asylum seekers are not represented in the graph "
   ]
  },
  {
   "cell_type": "code",
   "execution_count": 3,
   "metadata": {},
   "outputs": [
    {
     "data": {
      "application/vnd.plotly.v1+json": {
       "config": {
        "plotlyServerURL": "https://plot.ly"
       },
       "data": [
        {
         "hovertemplate": "Total Asylum Seekers=%{x}<br>Country of Origin=%{y}<extra></extra>",
         "legendgroup": "",
         "marker": {
          "color": "#ad0b0b",
          "pattern": {
           "shape": ""
          }
         },
         "name": "",
         "orientation": "h",
         "showlegend": false,
         "textposition": "auto",
         "type": "bar",
         "x": {
          "bdata": "1ocBAH2rAQBpugEAhboBANwMAgBVcwIAJnQCAA97AgCrjAIAMOECACDoAgDhGgMABC0DAK05AwCsPAMAu1cDAG9YAwBwWwMAgn4DAD38AwCg/AMANjwEAO9GBAB8TAQAVIEEALKdBADu3QQAIzYFADNSBQCkYwUA36MFALMVBgAwXAYAcwAIAFZECAC1qwgAGNQIAHP6CACUCwkAwhkJAGQuCQCCqQkAPLYJAII/CgDgZQoAK2wKAHHgCgCjfAsA/78LAFUxDAAMWAwAPcsMAB/gDQCHBw4A+DAOAEbgDgDmGBAAca8QAADOEAC6ThEAUuERABYXEgBgCRMAcMMTAIaqFwBLzxkAFuEdACrQIgBsmCYAKBYuAM2YLgB6XzEADHE0AHUWNwC/qDcA0lFAAAqbeQD0joAAOYeOABRbwwA=",
          "dtype": "i4"
         },
         "xaxis": "x",
         "y": [
          "Namibia",
          "Tunisia",
          "Gambia",
          "Indonesia",
          "Brazil",
          "Ecuador",
          "Bulgaria",
          "State of Palestine",
          "Mauritania",
          "Stateless",
          "Morocco",
          "Egypt",
          "Peru",
          "Yemen",
          "North Macedonia",
          "Libya",
          "Senegal",
          "Croatia",
          "Burkina Faso",
          "Ghana",
          "Lebanon",
          "Algeria",
          "Guinea",
          "Timor-Leste",
          "Poland",
          "Togo",
          "Georgia",
          "Cameroon",
          "Congo, Republic of",
          "Cambodia",
          "Lao People's Dem. Rep.",
          "Albania",
          "Armenia",
          "Bangladesh",
          "Côte d'Ivoire",
          "Romania",
          "Chad",
          "Cuba",
          "Mexico",
          "Sri Lanka",
          "Honduras",
          "Mali",
          "Azerbaijan",
          "Uganda",
          "Guatemala",
          "India",
          "Bosnia and Herzegovina",
          "Haiti",
          "Russian Federation",
          "Sierra Leone",
          "Nicaragua",
          "El Salvador",
          "China",
          "Zimbabwe",
          "Iran (Islamic Rep. of)",
          "Colombia",
          "Central African Rep.",
          "Mozambique",
          "Viet Nam",
          "Angola",
          "Nigeria",
          "Pakistan",
          "Türkiye",
          "Eritrea",
          "Liberia",
          "Burundi",
          "Unknown/other",
          "Myanmar",
          "Serbia and Kosovo: S/RES/1244 (1999)",
          "Somalia",
          "Dem. Rep. of the Congo",
          "South Sudan",
          "Rwanda",
          "Sudan",
          "Iraq",
          "Ethiopia",
          "Ukraine",
          "Venezuela (Bolivarian Republic of)",
          "Syrian Arab Rep.",
          "Afghanistan"
         ],
         "yaxis": "y"
        }
       ],
       "layout": {
        "barmode": "relative",
        "height": 1500,
        "legend": {
         "tracegroupgap": 0
        },
        "margin": {
         "b": 50,
         "l": 150,
         "r": 50,
         "t": 50
        },
        "plot_bgcolor": "white",
        "template": {
         "data": {
          "bar": [
           {
            "error_x": {
             "color": "#2a3f5f"
            },
            "error_y": {
             "color": "#2a3f5f"
            },
            "marker": {
             "line": {
              "color": "#E5ECF6",
              "width": 0.5
             },
             "pattern": {
              "fillmode": "overlay",
              "size": 10,
              "solidity": 0.2
             }
            },
            "type": "bar"
           }
          ],
          "barpolar": [
           {
            "marker": {
             "line": {
              "color": "#E5ECF6",
              "width": 0.5
             },
             "pattern": {
              "fillmode": "overlay",
              "size": 10,
              "solidity": 0.2
             }
            },
            "type": "barpolar"
           }
          ],
          "carpet": [
           {
            "aaxis": {
             "endlinecolor": "#2a3f5f",
             "gridcolor": "white",
             "linecolor": "white",
             "minorgridcolor": "white",
             "startlinecolor": "#2a3f5f"
            },
            "baxis": {
             "endlinecolor": "#2a3f5f",
             "gridcolor": "white",
             "linecolor": "white",
             "minorgridcolor": "white",
             "startlinecolor": "#2a3f5f"
            },
            "type": "carpet"
           }
          ],
          "choropleth": [
           {
            "colorbar": {
             "outlinewidth": 0,
             "ticks": ""
            },
            "type": "choropleth"
           }
          ],
          "contour": [
           {
            "colorbar": {
             "outlinewidth": 0,
             "ticks": ""
            },
            "colorscale": [
             [
              0,
              "#0d0887"
             ],
             [
              0.1111111111111111,
              "#46039f"
             ],
             [
              0.2222222222222222,
              "#7201a8"
             ],
             [
              0.3333333333333333,
              "#9c179e"
             ],
             [
              0.4444444444444444,
              "#bd3786"
             ],
             [
              0.5555555555555556,
              "#d8576b"
             ],
             [
              0.6666666666666666,
              "#ed7953"
             ],
             [
              0.7777777777777778,
              "#fb9f3a"
             ],
             [
              0.8888888888888888,
              "#fdca26"
             ],
             [
              1,
              "#f0f921"
             ]
            ],
            "type": "contour"
           }
          ],
          "contourcarpet": [
           {
            "colorbar": {
             "outlinewidth": 0,
             "ticks": ""
            },
            "type": "contourcarpet"
           }
          ],
          "heatmap": [
           {
            "colorbar": {
             "outlinewidth": 0,
             "ticks": ""
            },
            "colorscale": [
             [
              0,
              "#0d0887"
             ],
             [
              0.1111111111111111,
              "#46039f"
             ],
             [
              0.2222222222222222,
              "#7201a8"
             ],
             [
              0.3333333333333333,
              "#9c179e"
             ],
             [
              0.4444444444444444,
              "#bd3786"
             ],
             [
              0.5555555555555556,
              "#d8576b"
             ],
             [
              0.6666666666666666,
              "#ed7953"
             ],
             [
              0.7777777777777778,
              "#fb9f3a"
             ],
             [
              0.8888888888888888,
              "#fdca26"
             ],
             [
              1,
              "#f0f921"
             ]
            ],
            "type": "heatmap"
           }
          ],
          "histogram": [
           {
            "marker": {
             "pattern": {
              "fillmode": "overlay",
              "size": 10,
              "solidity": 0.2
             }
            },
            "type": "histogram"
           }
          ],
          "histogram2d": [
           {
            "colorbar": {
             "outlinewidth": 0,
             "ticks": ""
            },
            "colorscale": [
             [
              0,
              "#0d0887"
             ],
             [
              0.1111111111111111,
              "#46039f"
             ],
             [
              0.2222222222222222,
              "#7201a8"
             ],
             [
              0.3333333333333333,
              "#9c179e"
             ],
             [
              0.4444444444444444,
              "#bd3786"
             ],
             [
              0.5555555555555556,
              "#d8576b"
             ],
             [
              0.6666666666666666,
              "#ed7953"
             ],
             [
              0.7777777777777778,
              "#fb9f3a"
             ],
             [
              0.8888888888888888,
              "#fdca26"
             ],
             [
              1,
              "#f0f921"
             ]
            ],
            "type": "histogram2d"
           }
          ],
          "histogram2dcontour": [
           {
            "colorbar": {
             "outlinewidth": 0,
             "ticks": ""
            },
            "colorscale": [
             [
              0,
              "#0d0887"
             ],
             [
              0.1111111111111111,
              "#46039f"
             ],
             [
              0.2222222222222222,
              "#7201a8"
             ],
             [
              0.3333333333333333,
              "#9c179e"
             ],
             [
              0.4444444444444444,
              "#bd3786"
             ],
             [
              0.5555555555555556,
              "#d8576b"
             ],
             [
              0.6666666666666666,
              "#ed7953"
             ],
             [
              0.7777777777777778,
              "#fb9f3a"
             ],
             [
              0.8888888888888888,
              "#fdca26"
             ],
             [
              1,
              "#f0f921"
             ]
            ],
            "type": "histogram2dcontour"
           }
          ],
          "mesh3d": [
           {
            "colorbar": {
             "outlinewidth": 0,
             "ticks": ""
            },
            "type": "mesh3d"
           }
          ],
          "parcoords": [
           {
            "line": {
             "colorbar": {
              "outlinewidth": 0,
              "ticks": ""
             }
            },
            "type": "parcoords"
           }
          ],
          "pie": [
           {
            "automargin": true,
            "type": "pie"
           }
          ],
          "scatter": [
           {
            "fillpattern": {
             "fillmode": "overlay",
             "size": 10,
             "solidity": 0.2
            },
            "type": "scatter"
           }
          ],
          "scatter3d": [
           {
            "line": {
             "colorbar": {
              "outlinewidth": 0,
              "ticks": ""
             }
            },
            "marker": {
             "colorbar": {
              "outlinewidth": 0,
              "ticks": ""
             }
            },
            "type": "scatter3d"
           }
          ],
          "scattercarpet": [
           {
            "marker": {
             "colorbar": {
              "outlinewidth": 0,
              "ticks": ""
             }
            },
            "type": "scattercarpet"
           }
          ],
          "scattergeo": [
           {
            "marker": {
             "colorbar": {
              "outlinewidth": 0,
              "ticks": ""
             }
            },
            "type": "scattergeo"
           }
          ],
          "scattergl": [
           {
            "marker": {
             "colorbar": {
              "outlinewidth": 0,
              "ticks": ""
             }
            },
            "type": "scattergl"
           }
          ],
          "scattermap": [
           {
            "marker": {
             "colorbar": {
              "outlinewidth": 0,
              "ticks": ""
             }
            },
            "type": "scattermap"
           }
          ],
          "scattermapbox": [
           {
            "marker": {
             "colorbar": {
              "outlinewidth": 0,
              "ticks": ""
             }
            },
            "type": "scattermapbox"
           }
          ],
          "scatterpolar": [
           {
            "marker": {
             "colorbar": {
              "outlinewidth": 0,
              "ticks": ""
             }
            },
            "type": "scatterpolar"
           }
          ],
          "scatterpolargl": [
           {
            "marker": {
             "colorbar": {
              "outlinewidth": 0,
              "ticks": ""
             }
            },
            "type": "scatterpolargl"
           }
          ],
          "scatterternary": [
           {
            "marker": {
             "colorbar": {
              "outlinewidth": 0,
              "ticks": ""
             }
            },
            "type": "scatterternary"
           }
          ],
          "surface": [
           {
            "colorbar": {
             "outlinewidth": 0,
             "ticks": ""
            },
            "colorscale": [
             [
              0,
              "#0d0887"
             ],
             [
              0.1111111111111111,
              "#46039f"
             ],
             [
              0.2222222222222222,
              "#7201a8"
             ],
             [
              0.3333333333333333,
              "#9c179e"
             ],
             [
              0.4444444444444444,
              "#bd3786"
             ],
             [
              0.5555555555555556,
              "#d8576b"
             ],
             [
              0.6666666666666666,
              "#ed7953"
             ],
             [
              0.7777777777777778,
              "#fb9f3a"
             ],
             [
              0.8888888888888888,
              "#fdca26"
             ],
             [
              1,
              "#f0f921"
             ]
            ],
            "type": "surface"
           }
          ],
          "table": [
           {
            "cells": {
             "fill": {
              "color": "#EBF0F8"
             },
             "line": {
              "color": "white"
             }
            },
            "header": {
             "fill": {
              "color": "#C8D4E3"
             },
             "line": {
              "color": "white"
             }
            },
            "type": "table"
           }
          ]
         },
         "layout": {
          "annotationdefaults": {
           "arrowcolor": "#2a3f5f",
           "arrowhead": 0,
           "arrowwidth": 1
          },
          "autotypenumbers": "strict",
          "coloraxis": {
           "colorbar": {
            "outlinewidth": 0,
            "ticks": ""
           }
          },
          "colorscale": {
           "diverging": [
            [
             0,
             "#8e0152"
            ],
            [
             0.1,
             "#c51b7d"
            ],
            [
             0.2,
             "#de77ae"
            ],
            [
             0.3,
             "#f1b6da"
            ],
            [
             0.4,
             "#fde0ef"
            ],
            [
             0.5,
             "#f7f7f7"
            ],
            [
             0.6,
             "#e6f5d0"
            ],
            [
             0.7,
             "#b8e186"
            ],
            [
             0.8,
             "#7fbc41"
            ],
            [
             0.9,
             "#4d9221"
            ],
            [
             1,
             "#276419"
            ]
           ],
           "sequential": [
            [
             0,
             "#0d0887"
            ],
            [
             0.1111111111111111,
             "#46039f"
            ],
            [
             0.2222222222222222,
             "#7201a8"
            ],
            [
             0.3333333333333333,
             "#9c179e"
            ],
            [
             0.4444444444444444,
             "#bd3786"
            ],
            [
             0.5555555555555556,
             "#d8576b"
            ],
            [
             0.6666666666666666,
             "#ed7953"
            ],
            [
             0.7777777777777778,
             "#fb9f3a"
            ],
            [
             0.8888888888888888,
             "#fdca26"
            ],
            [
             1,
             "#f0f921"
            ]
           ],
           "sequentialminus": [
            [
             0,
             "#0d0887"
            ],
            [
             0.1111111111111111,
             "#46039f"
            ],
            [
             0.2222222222222222,
             "#7201a8"
            ],
            [
             0.3333333333333333,
             "#9c179e"
            ],
            [
             0.4444444444444444,
             "#bd3786"
            ],
            [
             0.5555555555555556,
             "#d8576b"
            ],
            [
             0.6666666666666666,
             "#ed7953"
            ],
            [
             0.7777777777777778,
             "#fb9f3a"
            ],
            [
             0.8888888888888888,
             "#fdca26"
            ],
            [
             1,
             "#f0f921"
            ]
           ]
          },
          "colorway": [
           "#636efa",
           "#EF553B",
           "#00cc96",
           "#ab63fa",
           "#FFA15A",
           "#19d3f3",
           "#FF6692",
           "#B6E880",
           "#FF97FF",
           "#FECB52"
          ],
          "font": {
           "color": "#2a3f5f"
          },
          "geo": {
           "bgcolor": "white",
           "lakecolor": "white",
           "landcolor": "#E5ECF6",
           "showlakes": true,
           "showland": true,
           "subunitcolor": "white"
          },
          "hoverlabel": {
           "align": "left"
          },
          "hovermode": "closest",
          "mapbox": {
           "style": "light"
          },
          "paper_bgcolor": "white",
          "plot_bgcolor": "#E5ECF6",
          "polar": {
           "angularaxis": {
            "gridcolor": "white",
            "linecolor": "white",
            "ticks": ""
           },
           "bgcolor": "#E5ECF6",
           "radialaxis": {
            "gridcolor": "white",
            "linecolor": "white",
            "ticks": ""
           }
          },
          "scene": {
           "xaxis": {
            "backgroundcolor": "#E5ECF6",
            "gridcolor": "white",
            "gridwidth": 2,
            "linecolor": "white",
            "showbackground": true,
            "ticks": "",
            "zerolinecolor": "white"
           },
           "yaxis": {
            "backgroundcolor": "#E5ECF6",
            "gridcolor": "white",
            "gridwidth": 2,
            "linecolor": "white",
            "showbackground": true,
            "ticks": "",
            "zerolinecolor": "white"
           },
           "zaxis": {
            "backgroundcolor": "#E5ECF6",
            "gridcolor": "white",
            "gridwidth": 2,
            "linecolor": "white",
            "showbackground": true,
            "ticks": "",
            "zerolinecolor": "white"
           }
          },
          "shapedefaults": {
           "line": {
            "color": "#2a3f5f"
           }
          },
          "ternary": {
           "aaxis": {
            "gridcolor": "white",
            "linecolor": "white",
            "ticks": ""
           },
           "baxis": {
            "gridcolor": "white",
            "linecolor": "white",
            "ticks": ""
           },
           "bgcolor": "#E5ECF6",
           "caxis": {
            "gridcolor": "white",
            "linecolor": "white",
            "ticks": ""
           }
          },
          "title": {
           "x": 0.05
          },
          "xaxis": {
           "automargin": true,
           "gridcolor": "white",
           "linecolor": "white",
           "ticks": "",
           "title": {
            "standoff": 15
           },
           "zerolinecolor": "white",
           "zerolinewidth": 2
          },
          "yaxis": {
           "automargin": true,
           "gridcolor": "white",
           "linecolor": "white",
           "ticks": "",
           "title": {
            "standoff": 15
           },
           "zerolinecolor": "white",
           "zerolinewidth": 2
          }
         }
        },
        "title": {
         "font": {
          "color": "black",
          "size": 20
         },
         "text": "<b>Total Asylum Seekers by Country of Origin</b>",
         "x": 0.5
        },
        "xaxis": {
         "anchor": "y",
         "domain": [
          0,
          1
         ],
         "gridcolor": "lightgrey",
         "showgrid": true,
         "title": {
          "text": "<b>Total Asylum Seekers</b>"
         },
         "zeroline": false
        },
        "yaxis": {
         "anchor": "x",
         "domain": [
          0,
          1
         ],
         "showgrid": false,
         "title": {
          "text": "<b>Country of Origin</b>"
         }
        }
       }
      }
     },
     "metadata": {},
     "output_type": "display_data"
    }
   ],
   "source": [
    "functions_and_backend.Country_of_origin()"
   ]
  },
  {
   "cell_type": "markdown",
   "metadata": {},
   "source": [
    "## Asylum seekers over the years <a class=\"anchor\" id=\"total_asylum\"></a>\n",
    "This graph shows how the asylum seeker population behave over the years, <br>\n",
    "the highlighted zones represent an increment greater than 50%.<br>\n",
    "Hovering over the graph lets you know which are the top 3 countries that contribute to that year migration."
   ]
  },
  {
   "cell_type": "code",
   "execution_count": 4,
   "metadata": {},
   "outputs": [
    {
     "data": {
      "application/vnd.plotly.v1+json": {
       "config": {
        "plotlyServerURL": "https://plot.ly"
       },
       "data": [
        {
         "customdata": [
          "<b>Year: 1962<br>Total: 20,353<br><br>Top three origin countries:</b><br>Angola: 20,277<br>Iraq: 17<br>Dem. Rep. of the Congo: 13<br>Other: 46",
          "<b>Year: 1963<br>Total: 25,270<br><br>Top three origin countries:</b><br>Sudan: 13,000<br>Rwanda: 7,000<br>Angola: 5,000<br>Other: 270",
          "<b>Year: 1964<br>Total: 163,790<br><br>Top three origin countries:</b><br>Congo, Republic of: 58,700<br>Rwanda: 38,300<br>Angola: 25,000<br>Other: 41,790",
          "<b>Year: 1965<br>Total: 135,270<br><br>Top three origin countries:</b><br>Sudan: 61,700<br>Guinea-Bissau: 20,000<br>Angola: 20,000<br>Other: 33,570",
          "<b>Year: 1966<br>Total: 143,810<br><br>Top three origin countries:</b><br>Congo, Republic of: 45,000<br>Angola: 34,800<br>Sudan: 32,500<br>Other: 31,510",
          "<b>Year: 1967<br>Total: 68,180<br><br>Top three origin countries:</b><br>Ethiopia: 28,600<br>Sudan: 13,170<br>Angola: 12,400<br>Other: 14,010",
          "<b>Year: 1968<br>Total: 62,500<br><br>Top three origin countries:</b><br>Sudan: 15,510<br>Angola: 15,060<br>Zambia: 15,000<br>Other: 16,930",
          "<b>Year: 1969<br>Total: 52,400<br><br>Top three origin countries:</b><br>Angola: 20,480<br>Guinea-Bissau: 11,050<br>Sudan: 9,500<br>Other: 11,370",
          "<b>Year: 1970<br>Total: 72,513<br><br>Top three origin countries:</b><br>Ethiopia: 23,364<br>Mozambique: 16,720<br>Unknown/other: 7,699<br>Other: 24,730",
          "<b>Year: 1971<br>Total: 41,398<br><br>Top three origin countries:</b><br>Guinea-Bissau: 13,000<br>Sudan: 5,901<br>Unknown/other: 5,695<br>Other: 16,802",
          "<b>Year: 1972<br>Total: 192,564<br><br>Top three origin countries:</b><br>Burundi: 129,037<br>Malawi: 20,005<br>Angola: 8,955<br>Other: 34,567",
          "<b>Year: 1973<br>Total: 55,363<br><br>Top three origin countries:</b><br>Unknown/other: 15,427<br>Rwanda: 10,380<br>Angola: 5,780<br>Other: 23,776",
          "<b>Year: 1974<br>Total: 116,276<br><br>Top three origin countries:</b><br>Angola: 52,800<br>Unknown/other: 30,597<br>Rwanda: 11,140<br>Other: 21,739",
          "<b>Year: 1975<br>Total: 174,200<br><br>Top three origin countries:</b><br>Lao People's Dem. Rep.: 57,070<br>Ethiopia: 42,358<br>Cambodia: 26,595<br>Other: 48,177",
          "<b>Year: 1976<br>Total: 129,442<br><br>Top three origin countries:</b><br>Angola: 27,575<br>Lao People's Dem. Rep.: 23,485<br>Zimbabwe: 18,223<br>Other: 60,159",
          "<b>Year: 1977<br>Total: 381,959<br><br>Top three origin countries:</b><br>Dem. Rep. of the Congo: 220,721<br>Ethiopia: 42,226<br>Zimbabwe: 37,278<br>Other: 81,734",
          "<b>Year: 1978<br>Total: 1,070,264<br><br>Top three origin countries:</b><br>Ethiopia: 239,264<br>Myanmar: 196,000<br>Angola: 120,465<br>Other: 514,535",
          "<b>Year: 1979<br>Total: 1,042,860<br><br>Top three origin countries:</b><br>Ethiopia: 436,430<br>Viet Nam: 207,481<br>Uganda: 85,748<br>Other: 313,201",
          "<b>Year: 1980<br>Total: 3,758,283<br><br>Top three origin countries:</b><br>Ethiopia: 1,571,956<br>Afghanistan: 1,308,405<br>Uganda: 144,428<br>Other: 733,494",
          "<b>Year: 1981<br>Total: 2,842,696<br><br>Top three origin countries:</b><br>Afghanistan: 2,354,516<br>Unknown/other: 140,172<br>Viet Nam: 66,870<br>Other: 281,138",
          "<b>Year: 1982<br>Total: 1,085,662<br><br>Top three origin countries:</b><br>Afghanistan: 515,423<br>Uganda: 115,023<br>Viet Nam: 73,852<br>Other: 381,364",
          "<b>Year: 1983<br>Total: 804,312<br><br>Top three origin countries:</b><br>Rwanda: 220,655<br>Afghanistan: 204,003<br>Viet Nam: 55,162<br>Other: 324,492",
          "<b>Year: 1984<br>Total: 1,136,996<br><br>Top three origin countries:</b><br>Ethiopia: 259,530<br>Rwanda: 223,800<br>Chad: 171,865<br>Other: 481,801",
          "<b>Year: 1985<br>Total: 1,116,991<br><br>Top three origin countries:</b><br>Ethiopia: 334,923<br>Afghanistan: 199,926<br>Chad: 102,567<br>Other: 479,575",
          "<b>Year: 1986<br>Total: 967,311<br><br>Top three origin countries:</b><br>Afghanistan: 478,105<br>Unknown/other: 85,613<br>Sudan: 46,746<br>Other: 356,847",
          "<b>Year: 1987<br>Total: 1,187,938<br><br>Top three origin countries:</b><br>Afghanistan: 496,133<br>Sudan: 106,416<br>Mozambique: 106,001<br>Other: 479,388",
          "<b>Year: 1988<br>Total: 1,181,769<br><br>Top three origin countries:</b><br>Mozambique: 285,593<br>Afghanistan: 102,015<br>Unknown/other: 93,408<br>Other: 700,753",
          "<b>Year: 1989<br>Total: 1,024,573<br><br>Top three origin countries:</b><br>Mozambique: 220,117<br>Unknown/other: 148,245<br>Sudan: 89,289<br>Other: 566,922",
          "<b>Year: 1990<br>Total: 1,992,142<br><br>Top three origin countries:</b><br>Liberia: 738,613<br>Ethiopia: 184,368<br>Mozambique: 116,865<br>Other: 952,296",
          "<b>Year: 1991<br>Total: 3,212,153<br><br>Top three origin countries:</b><br>Iraq: 1,423,062<br>Myanmar: 400,205<br>Serbia and Kosovo: S/RES/1244 (1999): 167,779<br>Other: 1,221,107",
          "<b>Year: 1992<br>Total: 3,125,044<br><br>Top three origin countries:</b><br>Bosnia and Herzegovina: 460,751<br>Azerbaijan: 300,231<br>Somalia: 286,915<br>Other: 2,077,147",
          "<b>Year: 1993<br>Total: 1,287,930<br><br>Top three origin countries:</b><br>Liberia: 190,647<br>Togo: 160,618<br>Serbia and Kosovo: S/RES/1244 (1999): 100,330<br>Other: 836,335",
          "<b>Year: 1994<br>Total: 3,303,742<br><br>Top three origin countries:</b><br>Rwanda: 2,311,231<br>Liberia: 131,609<br>Burundi: 113,160<br>Other: 747,742",
          "<b>Year: 1995<br>Total: 890,584<br><br>Top three origin countries:</b><br>Croatia: 171,798<br>El Salvador: 75,611<br>Serbia and Kosovo: S/RES/1244 (1999): 59,096<br>Other: 584,079",
          "<b>Year: 1996<br>Total: 1,018,273<br><br>Top three origin countries:</b><br>Burundi: 147,003<br>Iraq: 92,937<br>Rwanda: 88,614<br>Other: 689,719",
          "<b>Year: 1997<br>Total: 938,994<br><br>Top three origin countries:</b><br>Burundi: 136,234<br>Sierra Leone: 78,507<br>Dem. Rep. of the Congo: 75,628<br>Other: 648,625",
          "<b>Year: 1998<br>Total: 977,354<br><br>Top three origin countries:</b><br>Sierra Leone: 283,603<br>Serbia and Kosovo: S/RES/1244 (1999): 131,529<br>Iraq: 41,509<br>Other: 520,713",
          "<b>Year: 1999<br>Total: 2,224,738<br><br>Top three origin countries:</b><br>Serbia and Kosovo: S/RES/1244 (1999): 990,247<br>Timor-Leste: 280,000<br>Dem. Rep. of the Congo: 144,510<br>Other: 809,981",
          "<b>Year: 2000<br>Total: 1,796,723<br><br>Top three origin countries:</b><br>Afghanistan: 633,338<br>Dem. Rep. of the Congo: 160,480<br>Eritrea: 101,023<br>Other: 901,882",
          "<b>Year: 2001<br>Total: 1,372,923<br><br>Top three origin countries:</b><br>Afghanistan: 358,249<br>North Macedonia: 100,193<br>Dem. Rep. of the Congo: 63,609<br>Other: 850,872",
          "<b>Year: 2002<br>Total: 1,219,163<br><br>Top three origin countries:</b><br>Afghanistan: 128,932<br>Liberia: 116,561<br>Dem. Rep. of the Congo: 74,900<br>Other: 898,770",
          "<b>Year: 2003<br>Total: 1,097,961<br><br>Top three origin countries:</b><br>Sudan: 123,448<br>Afghanistan: 119,193<br>Liberia: 102,818<br>Other: 752,502",
          "<b>Year: 2004<br>Total: 880,645<br><br>Top three origin countries:</b><br>Sudan: 161,918<br>Afghanistan: 111,572<br>Dem. Rep. of the Congo: 60,374<br>Other: 546,781",
          "<b>Year: 2005<br>Total: 796,631<br><br>Top three origin countries:</b><br>Afghanistan: 109,569<br>Togo: 55,914<br>Myanmar: 55,511<br>Other: 575,637",
          "<b>Year: 2006<br>Total: 760,915<br><br>Top three origin countries:</b><br>Afghanistan: 111,352<br>Somalia: 59,419<br>Iraq: 34,418<br>Other: 555,726",
          "<b>Year: 2007<br>Total: 903,205<br><br>Top three origin countries:</b><br>Iraq: 187,116<br>Afghanistan: 115,019<br>Somalia: 87,289<br>Other: 513,781",
          "<b>Year: 2008<br>Total: 1,255,665<br><br>Top three origin countries:</b><br>Somalia: 150,755<br>Iraq: 138,452<br>Afghanistan: 127,441<br>Other: 839,017",
          "<b>Year: 2009<br>Total: 1,349,840<br><br>Top three origin countries:</b><br>Dem. Rep. of the Congo: 176,031<br>Somalia: 170,907<br>Zimbabwe: 158,450<br>Other: 844,452",
          "<b>Year: 2010<br>Total: 1,106,948<br><br>Top three origin countries:</b><br>Somalia: 158,643<br>Zimbabwe: 149,377<br>Afghanistan: 136,158<br>Other: 662,770",
          "<b>Year: 2011<br>Total: 1,713,816<br><br>Top three origin countries:</b><br>Somalia: 336,164<br>Côte d'Ivoire: 241,045<br>Libya: 154,978<br>Other: 981,629",
          "<b>Year: 2012<br>Total: 1,974,939<br><br>Top three origin countries:</b><br>Syrian Arab Rep.: 680,042<br>Afghanistan: 158,375<br>Mali: 146,221<br>Other: 990,301",
          "<b>Year: 2013<br>Total: 3,578,218<br><br>Top three origin countries:</b><br>Syrian Arab Rep.: 2,265,655<br>Afghanistan: 148,019<br>Central African Rep.: 96,655<br>Other: 1,067,889",
          "<b>Year: 2014<br>Total: 4,224,482<br><br>Top three origin countries:</b><br>Syrian Arab Rep.: 1,724,889<br>South Sudan: 501,541<br>Pakistan: 319,028<br>Other: 1,679,024",
          "<b>Year: 2015<br>Total: 3,919,652<br><br>Top three origin countries:</b><br>Syrian Arab Rep.: 1,453,978<br>Afghanistan: 368,960<br>Burundi: 240,619<br>Other: 1,856,095",
          "<b>Year: 2016<br>Total: 3,573,444<br><br>Top three origin countries:</b><br>Syrian Arab Rep.: 759,114<br>South Sudan: 739,877<br>Afghanistan: 335,769<br>Other: 1,738,684",
          "<b>Year: 2017<br>Total: 4,541,717<br><br>Top three origin countries:</b><br>South Sudan: 1,005,888<br>Syrian Arab Rep.: 863,523<br>Myanmar: 677,996<br>Other: 1,994,310",
          "<b>Year: 2018<br>Total: 5,082,113<br><br>Top three origin countries:</b><br>Venezuela (Bolivarian Republic of): 2,528,744<br>Syrian Arab Rep.: 633,257<br>Afghanistan: 215,770<br>Other: 1,704,342",
          "<b>Year: 2019<br>Total: 3,591,477<br><br>Top three origin countries:</b><br>Venezuela (Bolivarian Republic of): 1,524,529<br>Afghanistan: 231,785<br>Syrian Arab Rep.: 142,197<br>Other: 1,692,966",
          "<b>Year: 2020<br>Total: 2,055,803<br><br>Top three origin countries:</b><br>Venezuela (Bolivarian Republic of): 572,886<br>Afghanistan: 175,760<br>Azerbaijan: 91,409<br>Other: 1,215,748",
          "<b>Year: 2021<br>Total: 3,122,800<br><br>Top three origin countries:</b><br>Afghanistan: 917,020<br>Venezuela (Bolivarian Republic of): 664,963<br>Syrian Arab Rep.: 126,992<br>Other: 1,413,825",
          "<b>Year: 2022<br>Total: 10,285,610<br><br>Top three origin countries:</b><br>Ukraine: 5,780,042<br>Venezuela (Bolivarian Republic of): 1,223,672<br>Afghanistan: 816,434<br>Other: 2,465,462",
          "<b>Year: 2023<br>Total: 6,754,870<br><br>Top three origin countries:</b><br>Ukraine: 1,082,208<br>Venezuela (Bolivarian Republic of): 1,021,351<br>Sudan: 810,161<br>Other: 3,841,150",
          "<b>Year: 2024<br>Total: 3,239,238<br><br>Top three origin countries:</b><br>Venezuela (Bolivarian Republic of): 680,192<br>Sudan: 465,878<br>Ukraine: 418,261<br>Other: 1,674,907"
         ],
         "hovertemplate": "%{customdata}",
         "line": {
          "color": "#1f77b4",
          "width": 2
         },
         "marker": {
          "color": "#ff7f0e",
          "size": 6
         },
         "mode": "lines+markers",
         "name": "Total Asylum Seekers",
         "type": "scatter",
         "x": {
          "bdata": "qgerB6wHrQeuB68HsAexB7IHswe0B7UHtge3B7gHuQe6B7sHvAe9B74HvwfAB8EHwgfDB8QHxQfGB8cHyAfJB8oHywfMB80HzgfPB9AH0QfSB9MH1AfVB9YH1wfYB9kH2gfbB9wH3QfeB98H4AfhB+IH4wfkB+UH5gfnB+gH",
          "dtype": "i2"
         },
         "y": {
          "bdata": "gU8AALZiAADOfwIAZhACAMIxAgBUCgEAJPQAALDMAABBGwEAtqEAADTwAgBD2AAANMYBAHioAgCi+QEAB9QFALhUEACs6Q8Ay1g5AEhgKwDekBAA2EUMAGRZEQA/CxEAj8IOAGIgEgBJCBIAPaIPAM5lHgB5AzEANK8vAPqmEwA+aTIA2JYNAKGJDwDyUw4AyukOAGLyIQBzahsA+/IUAFuaEgDpwBAABXANANcnDABTnAsAJcgNAPEoEwDQmBQABOQQAJgmGgCbIh4Aapk2AOJ1QAAkzzsAxIY2ABVNRQABjE0ANc02AHteHwBwpi8AKvKcADYSZwBGbTEA",
          "dtype": "i4"
         }
        }
       ],
       "layout": {
        "hoverlabel": {
         "bgcolor": "white",
         "font": {
          "family": "Arial",
          "size": 12
         }
        },
        "margin": {
         "b": 50,
         "l": 50,
         "r": 50,
         "t": 80
        },
        "plot_bgcolor": "white",
        "shapes": [
         {
          "fillcolor": "rgba(255, 99, 71, 0.3)",
          "layer": "below",
          "line": {
           "width": 0
          },
          "type": "rect",
          "x0": 1963,
          "x1": 1965,
          "y0": 0,
          "y1": 10285610
         },
         {
          "fillcolor": "rgba(255, 99, 71, 0.3)",
          "layer": "below",
          "line": {
           "width": 0
          },
          "type": "rect",
          "x0": 1971,
          "x1": 1973,
          "y0": 0,
          "y1": 10285610
         },
         {
          "fillcolor": "rgba(255, 99, 71, 0.3)",
          "layer": "below",
          "line": {
           "width": 0
          },
          "type": "rect",
          "x0": 1973,
          "x1": 1976,
          "y0": 0,
          "y1": 10285610
         },
         {
          "fillcolor": "rgba(255, 99, 71, 0.3)",
          "layer": "below",
          "line": {
           "width": 0
          },
          "type": "rect",
          "x0": 1976,
          "x1": 1979,
          "y0": 0,
          "y1": 10285610
         },
         {
          "fillcolor": "rgba(255, 99, 71, 0.3)",
          "layer": "below",
          "line": {
           "width": 0
          },
          "type": "rect",
          "x0": 1979,
          "x1": 1981,
          "y0": 0,
          "y1": 10285610
         },
         {
          "fillcolor": "rgba(255, 99, 71, 0.3)",
          "layer": "below",
          "line": {
           "width": 0
          },
          "type": "rect",
          "x0": 1989,
          "x1": 1992,
          "y0": 0,
          "y1": 10285610
         },
         {
          "fillcolor": "rgba(255, 99, 71, 0.3)",
          "layer": "below",
          "line": {
           "width": 0
          },
          "type": "rect",
          "x0": 1993,
          "x1": 1995,
          "y0": 0,
          "y1": 10285610
         },
         {
          "fillcolor": "rgba(255, 99, 71, 0.3)",
          "layer": "below",
          "line": {
           "width": 0
          },
          "type": "rect",
          "x0": 1998,
          "x1": 2000,
          "y0": 0,
          "y1": 10285610
         },
         {
          "fillcolor": "rgba(255, 99, 71, 0.3)",
          "layer": "below",
          "line": {
           "width": 0
          },
          "type": "rect",
          "x0": 2010,
          "x1": 2015,
          "y0": 0,
          "y1": 10285610
         },
         {
          "fillcolor": "rgba(255, 99, 71, 0.3)",
          "layer": "below",
          "line": {
           "width": 0
          },
          "type": "rect",
          "x0": 2020,
          "x1": 2023,
          "y0": 0,
          "y1": 10285610
         }
        ],
        "template": {
         "data": {
          "bar": [
           {
            "error_x": {
             "color": "#2a3f5f"
            },
            "error_y": {
             "color": "#2a3f5f"
            },
            "marker": {
             "line": {
              "color": "#E5ECF6",
              "width": 0.5
             },
             "pattern": {
              "fillmode": "overlay",
              "size": 10,
              "solidity": 0.2
             }
            },
            "type": "bar"
           }
          ],
          "barpolar": [
           {
            "marker": {
             "line": {
              "color": "#E5ECF6",
              "width": 0.5
             },
             "pattern": {
              "fillmode": "overlay",
              "size": 10,
              "solidity": 0.2
             }
            },
            "type": "barpolar"
           }
          ],
          "carpet": [
           {
            "aaxis": {
             "endlinecolor": "#2a3f5f",
             "gridcolor": "white",
             "linecolor": "white",
             "minorgridcolor": "white",
             "startlinecolor": "#2a3f5f"
            },
            "baxis": {
             "endlinecolor": "#2a3f5f",
             "gridcolor": "white",
             "linecolor": "white",
             "minorgridcolor": "white",
             "startlinecolor": "#2a3f5f"
            },
            "type": "carpet"
           }
          ],
          "choropleth": [
           {
            "colorbar": {
             "outlinewidth": 0,
             "ticks": ""
            },
            "type": "choropleth"
           }
          ],
          "contour": [
           {
            "colorbar": {
             "outlinewidth": 0,
             "ticks": ""
            },
            "colorscale": [
             [
              0,
              "#0d0887"
             ],
             [
              0.1111111111111111,
              "#46039f"
             ],
             [
              0.2222222222222222,
              "#7201a8"
             ],
             [
              0.3333333333333333,
              "#9c179e"
             ],
             [
              0.4444444444444444,
              "#bd3786"
             ],
             [
              0.5555555555555556,
              "#d8576b"
             ],
             [
              0.6666666666666666,
              "#ed7953"
             ],
             [
              0.7777777777777778,
              "#fb9f3a"
             ],
             [
              0.8888888888888888,
              "#fdca26"
             ],
             [
              1,
              "#f0f921"
             ]
            ],
            "type": "contour"
           }
          ],
          "contourcarpet": [
           {
            "colorbar": {
             "outlinewidth": 0,
             "ticks": ""
            },
            "type": "contourcarpet"
           }
          ],
          "heatmap": [
           {
            "colorbar": {
             "outlinewidth": 0,
             "ticks": ""
            },
            "colorscale": [
             [
              0,
              "#0d0887"
             ],
             [
              0.1111111111111111,
              "#46039f"
             ],
             [
              0.2222222222222222,
              "#7201a8"
             ],
             [
              0.3333333333333333,
              "#9c179e"
             ],
             [
              0.4444444444444444,
              "#bd3786"
             ],
             [
              0.5555555555555556,
              "#d8576b"
             ],
             [
              0.6666666666666666,
              "#ed7953"
             ],
             [
              0.7777777777777778,
              "#fb9f3a"
             ],
             [
              0.8888888888888888,
              "#fdca26"
             ],
             [
              1,
              "#f0f921"
             ]
            ],
            "type": "heatmap"
           }
          ],
          "histogram": [
           {
            "marker": {
             "pattern": {
              "fillmode": "overlay",
              "size": 10,
              "solidity": 0.2
             }
            },
            "type": "histogram"
           }
          ],
          "histogram2d": [
           {
            "colorbar": {
             "outlinewidth": 0,
             "ticks": ""
            },
            "colorscale": [
             [
              0,
              "#0d0887"
             ],
             [
              0.1111111111111111,
              "#46039f"
             ],
             [
              0.2222222222222222,
              "#7201a8"
             ],
             [
              0.3333333333333333,
              "#9c179e"
             ],
             [
              0.4444444444444444,
              "#bd3786"
             ],
             [
              0.5555555555555556,
              "#d8576b"
             ],
             [
              0.6666666666666666,
              "#ed7953"
             ],
             [
              0.7777777777777778,
              "#fb9f3a"
             ],
             [
              0.8888888888888888,
              "#fdca26"
             ],
             [
              1,
              "#f0f921"
             ]
            ],
            "type": "histogram2d"
           }
          ],
          "histogram2dcontour": [
           {
            "colorbar": {
             "outlinewidth": 0,
             "ticks": ""
            },
            "colorscale": [
             [
              0,
              "#0d0887"
             ],
             [
              0.1111111111111111,
              "#46039f"
             ],
             [
              0.2222222222222222,
              "#7201a8"
             ],
             [
              0.3333333333333333,
              "#9c179e"
             ],
             [
              0.4444444444444444,
              "#bd3786"
             ],
             [
              0.5555555555555556,
              "#d8576b"
             ],
             [
              0.6666666666666666,
              "#ed7953"
             ],
             [
              0.7777777777777778,
              "#fb9f3a"
             ],
             [
              0.8888888888888888,
              "#fdca26"
             ],
             [
              1,
              "#f0f921"
             ]
            ],
            "type": "histogram2dcontour"
           }
          ],
          "mesh3d": [
           {
            "colorbar": {
             "outlinewidth": 0,
             "ticks": ""
            },
            "type": "mesh3d"
           }
          ],
          "parcoords": [
           {
            "line": {
             "colorbar": {
              "outlinewidth": 0,
              "ticks": ""
             }
            },
            "type": "parcoords"
           }
          ],
          "pie": [
           {
            "automargin": true,
            "type": "pie"
           }
          ],
          "scatter": [
           {
            "fillpattern": {
             "fillmode": "overlay",
             "size": 10,
             "solidity": 0.2
            },
            "type": "scatter"
           }
          ],
          "scatter3d": [
           {
            "line": {
             "colorbar": {
              "outlinewidth": 0,
              "ticks": ""
             }
            },
            "marker": {
             "colorbar": {
              "outlinewidth": 0,
              "ticks": ""
             }
            },
            "type": "scatter3d"
           }
          ],
          "scattercarpet": [
           {
            "marker": {
             "colorbar": {
              "outlinewidth": 0,
              "ticks": ""
             }
            },
            "type": "scattercarpet"
           }
          ],
          "scattergeo": [
           {
            "marker": {
             "colorbar": {
              "outlinewidth": 0,
              "ticks": ""
             }
            },
            "type": "scattergeo"
           }
          ],
          "scattergl": [
           {
            "marker": {
             "colorbar": {
              "outlinewidth": 0,
              "ticks": ""
             }
            },
            "type": "scattergl"
           }
          ],
          "scattermap": [
           {
            "marker": {
             "colorbar": {
              "outlinewidth": 0,
              "ticks": ""
             }
            },
            "type": "scattermap"
           }
          ],
          "scattermapbox": [
           {
            "marker": {
             "colorbar": {
              "outlinewidth": 0,
              "ticks": ""
             }
            },
            "type": "scattermapbox"
           }
          ],
          "scatterpolar": [
           {
            "marker": {
             "colorbar": {
              "outlinewidth": 0,
              "ticks": ""
             }
            },
            "type": "scatterpolar"
           }
          ],
          "scatterpolargl": [
           {
            "marker": {
             "colorbar": {
              "outlinewidth": 0,
              "ticks": ""
             }
            },
            "type": "scatterpolargl"
           }
          ],
          "scatterternary": [
           {
            "marker": {
             "colorbar": {
              "outlinewidth": 0,
              "ticks": ""
             }
            },
            "type": "scatterternary"
           }
          ],
          "surface": [
           {
            "colorbar": {
             "outlinewidth": 0,
             "ticks": ""
            },
            "colorscale": [
             [
              0,
              "#0d0887"
             ],
             [
              0.1111111111111111,
              "#46039f"
             ],
             [
              0.2222222222222222,
              "#7201a8"
             ],
             [
              0.3333333333333333,
              "#9c179e"
             ],
             [
              0.4444444444444444,
              "#bd3786"
             ],
             [
              0.5555555555555556,
              "#d8576b"
             ],
             [
              0.6666666666666666,
              "#ed7953"
             ],
             [
              0.7777777777777778,
              "#fb9f3a"
             ],
             [
              0.8888888888888888,
              "#fdca26"
             ],
             [
              1,
              "#f0f921"
             ]
            ],
            "type": "surface"
           }
          ],
          "table": [
           {
            "cells": {
             "fill": {
              "color": "#EBF0F8"
             },
             "line": {
              "color": "white"
             }
            },
            "header": {
             "fill": {
              "color": "#C8D4E3"
             },
             "line": {
              "color": "white"
             }
            },
            "type": "table"
           }
          ]
         },
         "layout": {
          "annotationdefaults": {
           "arrowcolor": "#2a3f5f",
           "arrowhead": 0,
           "arrowwidth": 1
          },
          "autotypenumbers": "strict",
          "coloraxis": {
           "colorbar": {
            "outlinewidth": 0,
            "ticks": ""
           }
          },
          "colorscale": {
           "diverging": [
            [
             0,
             "#8e0152"
            ],
            [
             0.1,
             "#c51b7d"
            ],
            [
             0.2,
             "#de77ae"
            ],
            [
             0.3,
             "#f1b6da"
            ],
            [
             0.4,
             "#fde0ef"
            ],
            [
             0.5,
             "#f7f7f7"
            ],
            [
             0.6,
             "#e6f5d0"
            ],
            [
             0.7,
             "#b8e186"
            ],
            [
             0.8,
             "#7fbc41"
            ],
            [
             0.9,
             "#4d9221"
            ],
            [
             1,
             "#276419"
            ]
           ],
           "sequential": [
            [
             0,
             "#0d0887"
            ],
            [
             0.1111111111111111,
             "#46039f"
            ],
            [
             0.2222222222222222,
             "#7201a8"
            ],
            [
             0.3333333333333333,
             "#9c179e"
            ],
            [
             0.4444444444444444,
             "#bd3786"
            ],
            [
             0.5555555555555556,
             "#d8576b"
            ],
            [
             0.6666666666666666,
             "#ed7953"
            ],
            [
             0.7777777777777778,
             "#fb9f3a"
            ],
            [
             0.8888888888888888,
             "#fdca26"
            ],
            [
             1,
             "#f0f921"
            ]
           ],
           "sequentialminus": [
            [
             0,
             "#0d0887"
            ],
            [
             0.1111111111111111,
             "#46039f"
            ],
            [
             0.2222222222222222,
             "#7201a8"
            ],
            [
             0.3333333333333333,
             "#9c179e"
            ],
            [
             0.4444444444444444,
             "#bd3786"
            ],
            [
             0.5555555555555556,
             "#d8576b"
            ],
            [
             0.6666666666666666,
             "#ed7953"
            ],
            [
             0.7777777777777778,
             "#fb9f3a"
            ],
            [
             0.8888888888888888,
             "#fdca26"
            ],
            [
             1,
             "#f0f921"
            ]
           ]
          },
          "colorway": [
           "#636efa",
           "#EF553B",
           "#00cc96",
           "#ab63fa",
           "#FFA15A",
           "#19d3f3",
           "#FF6692",
           "#B6E880",
           "#FF97FF",
           "#FECB52"
          ],
          "font": {
           "color": "#2a3f5f"
          },
          "geo": {
           "bgcolor": "white",
           "lakecolor": "white",
           "landcolor": "#E5ECF6",
           "showlakes": true,
           "showland": true,
           "subunitcolor": "white"
          },
          "hoverlabel": {
           "align": "left"
          },
          "hovermode": "closest",
          "mapbox": {
           "style": "light"
          },
          "paper_bgcolor": "white",
          "plot_bgcolor": "#E5ECF6",
          "polar": {
           "angularaxis": {
            "gridcolor": "white",
            "linecolor": "white",
            "ticks": ""
           },
           "bgcolor": "#E5ECF6",
           "radialaxis": {
            "gridcolor": "white",
            "linecolor": "white",
            "ticks": ""
           }
          },
          "scene": {
           "xaxis": {
            "backgroundcolor": "#E5ECF6",
            "gridcolor": "white",
            "gridwidth": 2,
            "linecolor": "white",
            "showbackground": true,
            "ticks": "",
            "zerolinecolor": "white"
           },
           "yaxis": {
            "backgroundcolor": "#E5ECF6",
            "gridcolor": "white",
            "gridwidth": 2,
            "linecolor": "white",
            "showbackground": true,
            "ticks": "",
            "zerolinecolor": "white"
           },
           "zaxis": {
            "backgroundcolor": "#E5ECF6",
            "gridcolor": "white",
            "gridwidth": 2,
            "linecolor": "white",
            "showbackground": true,
            "ticks": "",
            "zerolinecolor": "white"
           }
          },
          "shapedefaults": {
           "line": {
            "color": "#2a3f5f"
           }
          },
          "ternary": {
           "aaxis": {
            "gridcolor": "white",
            "linecolor": "white",
            "ticks": ""
           },
           "baxis": {
            "gridcolor": "white",
            "linecolor": "white",
            "ticks": ""
           },
           "bgcolor": "#E5ECF6",
           "caxis": {
            "gridcolor": "white",
            "linecolor": "white",
            "ticks": ""
           }
          },
          "title": {
           "x": 0.05
          },
          "xaxis": {
           "automargin": true,
           "gridcolor": "white",
           "linecolor": "white",
           "ticks": "",
           "title": {
            "standoff": 15
           },
           "zerolinecolor": "white",
           "zerolinewidth": 2
          },
          "yaxis": {
           "automargin": true,
           "gridcolor": "white",
           "linecolor": "white",
           "ticks": "",
           "title": {
            "standoff": 15
           },
           "zerolinecolor": "white",
           "zerolinewidth": 2
          }
         }
        },
        "title": {
         "font": {
          "color": "black",
          "size": 18
         },
         "text": "<b>Total Asylum Seeker Population Over the Years (Highlighted Migration Crisis)</b>",
         "x": 0.5
        },
        "xaxis": {
         "gridcolor": "lightgrey",
         "showgrid": true,
         "tickangle": -45,
         "title": {
          "text": "<b>Year</b>"
         },
         "zeroline": false
        },
        "yaxis": {
         "gridcolor": "lightgrey",
         "rangemode": "tozero",
         "showgrid": true,
         "title": {
          "text": "<b>Asylum Seekers</b>"
         }
        }
       }
      }
     },
     "metadata": {},
     "output_type": "display_data"
    }
   ],
   "source": [
    "functions_and_backend.New_asylum_seekers_graph()"
   ]
  },
  {
   "cell_type": "markdown",
   "metadata": {},
   "source": [
    "# Closer look at the highlighted migration crisis <a class=\"anchor\" id=\"migration_crisis\"></a>\n",
    "This is an interactive graph that allowes you to select the period that you would like to analyze"
   ]
  },
  {
   "cell_type": "code",
   "execution_count": 5,
   "metadata": {},
   "outputs": [
    {
     "data": {
      "text/html": [
       "\n",
       "        <iframe\n",
       "            width=\"100%\"\n",
       "            height=\"650\"\n",
       "            src=\"http://127.0.0.1:8052/\"\n",
       "            frameborder=\"0\"\n",
       "            allowfullscreen\n",
       "            \n",
       "        ></iframe>\n",
       "        "
      ],
      "text/plain": [
       "<IPython.lib.display.IFrame at 0x23783a54500>"
      ]
     },
     "metadata": {},
     "output_type": "display_data"
    }
   ],
   "source": [
    "functions_and_backend.Migration_crisis_by_period_Dash()"
   ]
  },
  {
   "cell_type": "markdown",
   "metadata": {},
   "source": [
    "# Countries that recived the most immigrants"
   ]
  },
  {
   "cell_type": "code",
   "execution_count": 6,
   "metadata": {},
   "outputs": [
    {
     "data": {
      "application/vnd.plotly.v1+json": {
       "config": {
        "plotlyServerURL": "https://plot.ly"
       },
       "data": [
        {
         "coloraxis": "coloraxis",
         "geo": "geo",
         "hovertemplate": "<b>%{hovertext}</b><br><br>country_of_asylum_abbr=%{location}<br>count=%{z}<extra></extra>",
         "hovertext": [
          "Iran (Islamic Rep. of)",
          "Germany",
          "United States of America",
          "Türkiye",
          "Pakistan",
          "Sudan",
          "Dem. Rep. of the Congo",
          "Colombia",
          "Uganda",
          "France",
          "United Rep. of Tanzania",
          "Somalia",
          "Ethiopia",
          "Russian Federation",
          "United Kingdom",
          "Kenya",
          "Peru",
          "Bangladesh",
          "Canada",
          "Poland",
          "South Africa",
          "Lebanon",
          "Italy",
          "Burundi",
          "Chad",
          "Sweden",
          "Jordan",
          "Spain",
          "Austria",
          "Guinea",
          "Netherlands (Kingdom of the)",
          "Brazil",
          "Egypt",
          "Switzerland",
          "Thailand",
          "Belgium",
          "Greece",
          "Mexico",
          "Ecuador",
          "Malawi",
          "Cameroon",
          "Malaysia",
          "Serbia and Kosovo: S/RES/1244 (1999)",
          "Côte d'Ivoire",
          "Czechia",
          "Zambia",
          "Costa Rica",
          "Armenia",
          "Yemen",
          "Chile",
          "Hungary",
          "Albania",
          "Indonesia",
          "Liberia",
          "Niger",
          "South Sudan",
          "Australia",
          "Iraq",
          "Angola",
          "Norway",
          "North Macedonia",
          "Syrian Arab Rep.",
          "Rwanda",
          "Philippines",
          "Denmark",
          "Central African Rep.",
          "Bulgaria",
          "Congo, Republic of",
          "Afghanistan",
          "India",
          "Azerbaijan",
          "Zimbabwe",
          "Ireland",
          "Mauritania",
          "Romania",
          "Benin",
          "Djibouti",
          "Sierra Leone",
          "Slovakia",
          "Finland",
          "Mozambique",
          "Tunisia",
          "Rep. of Moldova",
          "Israel",
          "Cyprus",
          "Argentina",
          "Nigeria",
          "Libya",
          "Senegal",
          "China, Hong Kong SAR",
          "Slovenia",
          "Panama",
          "Burkina Faso",
          "Japan",
          "Honduras",
          "Ghana",
          "Dominican Rep.",
          "Rep. of Korea",
          "Viet Nam",
          "Mali",
          "Portugal",
          "Nepal",
          "Algeria",
          "Bosnia and Herzegovina",
          "Kazakhstan",
          "Lithuania",
          "Saudi Arabia",
          "Botswana",
          "Montenegro",
          "Uruguay",
          "Togo",
          "Belarus",
          "Latvia",
          "Estonia",
          "Morocco",
          "China",
          "Georgia",
          "Croatia",
          "Kyrgyzstan",
          "Unknown/other",
          "Tajikistan",
          "Luxembourg",
          "Eswatini",
          "Gambia",
          "Venezuela (Bolivarian Republic of)",
          "Trinidad and Tobago",
          "Malta",
          "Namibia",
          "Ukraine",
          "Guinea-Bissau",
          "Singapore",
          "Guyana",
          "Gabon",
          "Nicaragua",
          "New Zealand",
          "Curaçao",
          "Iceland",
          "Papua New Guinea",
          "Uzbekistan",
          "United Arab Emirates",
          "Guatemala",
          "Belize",
          "Bolivia (Plurinational State of)",
          "China, Macao SAR",
          "Eritrea",
          "Turkmenistan",
          "Paraguay",
          "Cambodia",
          "Kuwait",
          "Sri Lanka",
          "Cuba",
          "Lesotho",
          "Suriname",
          "Liechtenstein",
          "Aruba",
          "French Guiana",
          "Bahamas",
          "Nauru",
          "Madagascar",
          "El Salvador",
          "Bahrain",
          "Oman",
          "Qatar",
          "Cayman Islands",
          "Lao People's Dem. Rep.",
          "Jamaica",
          "Grenada",
          "Fiji",
          "Comoros",
          "Saint Kitts and Nevis",
          "Mongolia",
          "Mauritius",
          "Sint Maarten (Dutch part)",
          "Timor-Leste",
          "Haiti",
          "Saint Vincent and the Grenadines",
          "Turks and Caicos Islands",
          "Anguilla",
          "Micronesia (Federated States of)",
          "Palau",
          "Barbados",
          "Antigua and Barbuda",
          "Saint Lucia",
          "Vanuatu",
          "Solomon Islands",
          "Equatorial Guinea",
          "Samoa"
         ],
         "locationmode": "ISO-3",
         "locations": [
          "IRN",
          "DEU",
          "USA",
          "TUR",
          "PAK",
          "SDN",
          "COD",
          "COL",
          "UGA",
          "FRA",
          "TZA",
          "SOM",
          "ETH",
          "RUS",
          "GBR",
          "KEN",
          "PER",
          "BGD",
          "CAN",
          "POL",
          "ZAF",
          "LBN",
          "ITA",
          "BDI",
          "TCD",
          "SWE",
          "JOR",
          "ESP",
          "AUT",
          "GIN",
          "NLD",
          "BRA",
          "EGY",
          "CHE",
          "THA",
          "BEL",
          "GRC",
          "MEX",
          "ECU",
          "MWI",
          "CMR",
          "MYS",
          "SRB",
          "CIV",
          "CZE",
          "ZMB",
          "CRI",
          "ARM",
          "YEM",
          "CHL",
          "HUN",
          "ALB",
          "IDN",
          "LBR",
          "NER",
          "SSD",
          "AUS",
          "IRQ",
          "AGO",
          "NOR",
          "MKD",
          "SYR",
          "RWA",
          "PHL",
          "DNK",
          "CAF",
          "BGR",
          "COG",
          "AFG",
          "IND",
          "AZE",
          "ZWE",
          "IRL",
          "MRT",
          "ROU",
          "BEN",
          "DJI",
          "SLE",
          "SVK",
          "FIN",
          "MOZ",
          "TUN",
          "MDA",
          "ISR",
          "CYP",
          "ARG",
          "NGA",
          "LBY",
          "SEN",
          "HKG",
          "SVN",
          "PAN",
          "BFA",
          "JPN",
          "HND",
          "GHA",
          "DOM",
          "KOR",
          "VNM",
          "MLI",
          "PRT",
          "NPL",
          "DZA",
          "BIH",
          "KAZ",
          "LTU",
          "SAU",
          "BWA",
          "MNE",
          "URY",
          "TGO",
          "BLR",
          "LVA",
          "EST",
          "MAR",
          "CHN",
          "GEO",
          "HRV",
          "KGZ",
          "UKN",
          "TJK",
          "LUX",
          "SWZ",
          "GMB",
          "VEN",
          "TTO",
          "MLT",
          "NAM",
          "UKR",
          "GNB",
          "SGP",
          "GUY",
          "GAB",
          "NIC",
          "NZL",
          "CUW",
          "ISL",
          "PNG",
          "UZB",
          "ARE",
          "GTM",
          "BLZ",
          "BOL",
          "MAC",
          "ERI",
          "TKM",
          "PRY",
          "KHM",
          "KWT",
          "LKA",
          "CUB",
          "LSO",
          "SUR",
          "LIE",
          "ABW",
          "GUF",
          "BHS",
          "NRU",
          "MDG",
          "SLV",
          "BHR",
          "OMN",
          "QAT",
          "CYM",
          "LAO",
          "JAM",
          "GRD",
          "FJI",
          "COM",
          "KNA",
          "MNG",
          "MUS",
          "SXM",
          "TLS",
          "HTI",
          "VCT",
          "TCA",
          "AIA",
          "FSM",
          "PLW",
          "BRB",
          "ATG",
          "LCA",
          "VUT",
          "SLB",
          "GNQ",
          "WSM"
         ],
         "name": "",
         "type": "choropleth",
         "z": {
          "bdata": "4NBzACJ9cwBV+GgAIKdNAPMYRACrFTUAxRUzAHoMMwD9LywAcIIlAN4rIQDzCCEAgfsdAH6EHADw/xsA9oMbACGMGgD5ShcAJhAXAHQfFgD0dBUARVMVABpBFQDZIxQAx+MTAB0yEwB8ZxIApacRAFsZEQC0vhAAXt8PAHnhDgDEYA4ALS0OAHcsDQCJcwwAdjUMABzYCwC8FAsATQoLAEPzCgADvgoA26AKAMp+CgC2WQoAjuEIAGuhCABAdggAMWEIAJ8kCAD/XgcAaDYHACcaBwALCgcAwQQHAGrZBgA90gYAsoUGAJmABgDnewYA9DkGAHj+BQDYngUAzX0FAPI8BQCBMQUATxQFAL/WBAC/wgQAOF8EADQxBADzGQQASvgDAK+1AwAfnQMA22ADAOswAwCEDgMAuAsDAHH3AgDP3wIAFskCADK/AgDYtwIAArMCAMeJAgAHiQIAwIQCAEKDAgDgewIAUF0CAMVHAgCmMwIAgisCALvvAQDk1AEA4MIBAPy+AQAiugEAuLABACWAAQBiegEAjXkBAPBsAQC3bAEAa2YBAB9XAQBOVAEAGEIBAEkdAQCdFgEAnuoAAFHlAAA05QAAseMAAHrIAADaxQAAF8MAABW4AAD4twAAcrUAAE+0AAAqrwAAxKoAAOCoAAAymAAA6JMAAPyBAABpfgAAtnYAAKN1AAA2cwAAuGoAAKxjAACaWgAAslcAALlRAABlTAAAJksAABNKAADXSAAAB0UAAB84AABZMwAAlScAAG4lAADkJAAAKxwAAPEbAAC7FwAA1BYAAHUWAACJEAAA5Q4AACAOAAAqCAAA8wcAAHYGAAAhBgAA8QUAAAQFAAAtAwAAIQMAABgDAABYAgAAQgEAAPQAAABhAAAAWwAAAFkAAABZAAAAVAAAAEUAAABAAAAAPAAAADQAAAAsAAAAJQAAACIAAAAWAAAAFAAAABQAAAAPAAAACgAAAAoAAAAFAAAABQAAAA==",
          "dtype": "i4"
         }
        }
       ],
       "layout": {
        "coloraxis": {
         "colorbar": {
          "title": {
           "text": "count"
          }
         },
         "colorscale": [
          [
           0,
           "rgb(255,245,240)"
          ],
          [
           0.125,
           "rgb(254,224,210)"
          ],
          [
           0.25,
           "rgb(252,187,161)"
          ],
          [
           0.375,
           "rgb(252,146,114)"
          ],
          [
           0.5,
           "rgb(251,106,74)"
          ],
          [
           0.625,
           "rgb(239,59,44)"
          ],
          [
           0.75,
           "rgb(203,24,29)"
          ],
          [
           0.875,
           "rgb(165,15,21)"
          ],
          [
           1,
           "rgb(103,0,13)"
          ]
         ]
        },
        "geo": {
         "center": {},
         "domain": {
          "x": [
           0,
           1
          ],
          "y": [
           0,
           1
          ]
         },
         "projection": {
          "type": "natural earth"
         }
        },
        "legend": {
         "tracegroupgap": 0
        },
        "margin": {
         "t": 60
        },
        "template": {
         "data": {
          "bar": [
           {
            "error_x": {
             "color": "#2a3f5f"
            },
            "error_y": {
             "color": "#2a3f5f"
            },
            "marker": {
             "line": {
              "color": "#E5ECF6",
              "width": 0.5
             },
             "pattern": {
              "fillmode": "overlay",
              "size": 10,
              "solidity": 0.2
             }
            },
            "type": "bar"
           }
          ],
          "barpolar": [
           {
            "marker": {
             "line": {
              "color": "#E5ECF6",
              "width": 0.5
             },
             "pattern": {
              "fillmode": "overlay",
              "size": 10,
              "solidity": 0.2
             }
            },
            "type": "barpolar"
           }
          ],
          "carpet": [
           {
            "aaxis": {
             "endlinecolor": "#2a3f5f",
             "gridcolor": "white",
             "linecolor": "white",
             "minorgridcolor": "white",
             "startlinecolor": "#2a3f5f"
            },
            "baxis": {
             "endlinecolor": "#2a3f5f",
             "gridcolor": "white",
             "linecolor": "white",
             "minorgridcolor": "white",
             "startlinecolor": "#2a3f5f"
            },
            "type": "carpet"
           }
          ],
          "choropleth": [
           {
            "colorbar": {
             "outlinewidth": 0,
             "ticks": ""
            },
            "type": "choropleth"
           }
          ],
          "contour": [
           {
            "colorbar": {
             "outlinewidth": 0,
             "ticks": ""
            },
            "colorscale": [
             [
              0,
              "#0d0887"
             ],
             [
              0.1111111111111111,
              "#46039f"
             ],
             [
              0.2222222222222222,
              "#7201a8"
             ],
             [
              0.3333333333333333,
              "#9c179e"
             ],
             [
              0.4444444444444444,
              "#bd3786"
             ],
             [
              0.5555555555555556,
              "#d8576b"
             ],
             [
              0.6666666666666666,
              "#ed7953"
             ],
             [
              0.7777777777777778,
              "#fb9f3a"
             ],
             [
              0.8888888888888888,
              "#fdca26"
             ],
             [
              1,
              "#f0f921"
             ]
            ],
            "type": "contour"
           }
          ],
          "contourcarpet": [
           {
            "colorbar": {
             "outlinewidth": 0,
             "ticks": ""
            },
            "type": "contourcarpet"
           }
          ],
          "heatmap": [
           {
            "colorbar": {
             "outlinewidth": 0,
             "ticks": ""
            },
            "colorscale": [
             [
              0,
              "#0d0887"
             ],
             [
              0.1111111111111111,
              "#46039f"
             ],
             [
              0.2222222222222222,
              "#7201a8"
             ],
             [
              0.3333333333333333,
              "#9c179e"
             ],
             [
              0.4444444444444444,
              "#bd3786"
             ],
             [
              0.5555555555555556,
              "#d8576b"
             ],
             [
              0.6666666666666666,
              "#ed7953"
             ],
             [
              0.7777777777777778,
              "#fb9f3a"
             ],
             [
              0.8888888888888888,
              "#fdca26"
             ],
             [
              1,
              "#f0f921"
             ]
            ],
            "type": "heatmap"
           }
          ],
          "histogram": [
           {
            "marker": {
             "pattern": {
              "fillmode": "overlay",
              "size": 10,
              "solidity": 0.2
             }
            },
            "type": "histogram"
           }
          ],
          "histogram2d": [
           {
            "colorbar": {
             "outlinewidth": 0,
             "ticks": ""
            },
            "colorscale": [
             [
              0,
              "#0d0887"
             ],
             [
              0.1111111111111111,
              "#46039f"
             ],
             [
              0.2222222222222222,
              "#7201a8"
             ],
             [
              0.3333333333333333,
              "#9c179e"
             ],
             [
              0.4444444444444444,
              "#bd3786"
             ],
             [
              0.5555555555555556,
              "#d8576b"
             ],
             [
              0.6666666666666666,
              "#ed7953"
             ],
             [
              0.7777777777777778,
              "#fb9f3a"
             ],
             [
              0.8888888888888888,
              "#fdca26"
             ],
             [
              1,
              "#f0f921"
             ]
            ],
            "type": "histogram2d"
           }
          ],
          "histogram2dcontour": [
           {
            "colorbar": {
             "outlinewidth": 0,
             "ticks": ""
            },
            "colorscale": [
             [
              0,
              "#0d0887"
             ],
             [
              0.1111111111111111,
              "#46039f"
             ],
             [
              0.2222222222222222,
              "#7201a8"
             ],
             [
              0.3333333333333333,
              "#9c179e"
             ],
             [
              0.4444444444444444,
              "#bd3786"
             ],
             [
              0.5555555555555556,
              "#d8576b"
             ],
             [
              0.6666666666666666,
              "#ed7953"
             ],
             [
              0.7777777777777778,
              "#fb9f3a"
             ],
             [
              0.8888888888888888,
              "#fdca26"
             ],
             [
              1,
              "#f0f921"
             ]
            ],
            "type": "histogram2dcontour"
           }
          ],
          "mesh3d": [
           {
            "colorbar": {
             "outlinewidth": 0,
             "ticks": ""
            },
            "type": "mesh3d"
           }
          ],
          "parcoords": [
           {
            "line": {
             "colorbar": {
              "outlinewidth": 0,
              "ticks": ""
             }
            },
            "type": "parcoords"
           }
          ],
          "pie": [
           {
            "automargin": true,
            "type": "pie"
           }
          ],
          "scatter": [
           {
            "fillpattern": {
             "fillmode": "overlay",
             "size": 10,
             "solidity": 0.2
            },
            "type": "scatter"
           }
          ],
          "scatter3d": [
           {
            "line": {
             "colorbar": {
              "outlinewidth": 0,
              "ticks": ""
             }
            },
            "marker": {
             "colorbar": {
              "outlinewidth": 0,
              "ticks": ""
             }
            },
            "type": "scatter3d"
           }
          ],
          "scattercarpet": [
           {
            "marker": {
             "colorbar": {
              "outlinewidth": 0,
              "ticks": ""
             }
            },
            "type": "scattercarpet"
           }
          ],
          "scattergeo": [
           {
            "marker": {
             "colorbar": {
              "outlinewidth": 0,
              "ticks": ""
             }
            },
            "type": "scattergeo"
           }
          ],
          "scattergl": [
           {
            "marker": {
             "colorbar": {
              "outlinewidth": 0,
              "ticks": ""
             }
            },
            "type": "scattergl"
           }
          ],
          "scattermap": [
           {
            "marker": {
             "colorbar": {
              "outlinewidth": 0,
              "ticks": ""
             }
            },
            "type": "scattermap"
           }
          ],
          "scattermapbox": [
           {
            "marker": {
             "colorbar": {
              "outlinewidth": 0,
              "ticks": ""
             }
            },
            "type": "scattermapbox"
           }
          ],
          "scatterpolar": [
           {
            "marker": {
             "colorbar": {
              "outlinewidth": 0,
              "ticks": ""
             }
            },
            "type": "scatterpolar"
           }
          ],
          "scatterpolargl": [
           {
            "marker": {
             "colorbar": {
              "outlinewidth": 0,
              "ticks": ""
             }
            },
            "type": "scatterpolargl"
           }
          ],
          "scatterternary": [
           {
            "marker": {
             "colorbar": {
              "outlinewidth": 0,
              "ticks": ""
             }
            },
            "type": "scatterternary"
           }
          ],
          "surface": [
           {
            "colorbar": {
             "outlinewidth": 0,
             "ticks": ""
            },
            "colorscale": [
             [
              0,
              "#0d0887"
             ],
             [
              0.1111111111111111,
              "#46039f"
             ],
             [
              0.2222222222222222,
              "#7201a8"
             ],
             [
              0.3333333333333333,
              "#9c179e"
             ],
             [
              0.4444444444444444,
              "#bd3786"
             ],
             [
              0.5555555555555556,
              "#d8576b"
             ],
             [
              0.6666666666666666,
              "#ed7953"
             ],
             [
              0.7777777777777778,
              "#fb9f3a"
             ],
             [
              0.8888888888888888,
              "#fdca26"
             ],
             [
              1,
              "#f0f921"
             ]
            ],
            "type": "surface"
           }
          ],
          "table": [
           {
            "cells": {
             "fill": {
              "color": "#EBF0F8"
             },
             "line": {
              "color": "white"
             }
            },
            "header": {
             "fill": {
              "color": "#C8D4E3"
             },
             "line": {
              "color": "white"
             }
            },
            "type": "table"
           }
          ]
         },
         "layout": {
          "annotationdefaults": {
           "arrowcolor": "#2a3f5f",
           "arrowhead": 0,
           "arrowwidth": 1
          },
          "autotypenumbers": "strict",
          "coloraxis": {
           "colorbar": {
            "outlinewidth": 0,
            "ticks": ""
           }
          },
          "colorscale": {
           "diverging": [
            [
             0,
             "#8e0152"
            ],
            [
             0.1,
             "#c51b7d"
            ],
            [
             0.2,
             "#de77ae"
            ],
            [
             0.3,
             "#f1b6da"
            ],
            [
             0.4,
             "#fde0ef"
            ],
            [
             0.5,
             "#f7f7f7"
            ],
            [
             0.6,
             "#e6f5d0"
            ],
            [
             0.7,
             "#b8e186"
            ],
            [
             0.8,
             "#7fbc41"
            ],
            [
             0.9,
             "#4d9221"
            ],
            [
             1,
             "#276419"
            ]
           ],
           "sequential": [
            [
             0,
             "#0d0887"
            ],
            [
             0.1111111111111111,
             "#46039f"
            ],
            [
             0.2222222222222222,
             "#7201a8"
            ],
            [
             0.3333333333333333,
             "#9c179e"
            ],
            [
             0.4444444444444444,
             "#bd3786"
            ],
            [
             0.5555555555555556,
             "#d8576b"
            ],
            [
             0.6666666666666666,
             "#ed7953"
            ],
            [
             0.7777777777777778,
             "#fb9f3a"
            ],
            [
             0.8888888888888888,
             "#fdca26"
            ],
            [
             1,
             "#f0f921"
            ]
           ],
           "sequentialminus": [
            [
             0,
             "#0d0887"
            ],
            [
             0.1111111111111111,
             "#46039f"
            ],
            [
             0.2222222222222222,
             "#7201a8"
            ],
            [
             0.3333333333333333,
             "#9c179e"
            ],
            [
             0.4444444444444444,
             "#bd3786"
            ],
            [
             0.5555555555555556,
             "#d8576b"
            ],
            [
             0.6666666666666666,
             "#ed7953"
            ],
            [
             0.7777777777777778,
             "#fb9f3a"
            ],
            [
             0.8888888888888888,
             "#fdca26"
            ],
            [
             1,
             "#f0f921"
            ]
           ]
          },
          "colorway": [
           "#636efa",
           "#EF553B",
           "#00cc96",
           "#ab63fa",
           "#FFA15A",
           "#19d3f3",
           "#FF6692",
           "#B6E880",
           "#FF97FF",
           "#FECB52"
          ],
          "font": {
           "color": "#2a3f5f"
          },
          "geo": {
           "bgcolor": "white",
           "lakecolor": "white",
           "landcolor": "#E5ECF6",
           "showlakes": true,
           "showland": true,
           "subunitcolor": "white"
          },
          "hoverlabel": {
           "align": "left"
          },
          "hovermode": "closest",
          "mapbox": {
           "style": "light"
          },
          "paper_bgcolor": "white",
          "plot_bgcolor": "#E5ECF6",
          "polar": {
           "angularaxis": {
            "gridcolor": "white",
            "linecolor": "white",
            "ticks": ""
           },
           "bgcolor": "#E5ECF6",
           "radialaxis": {
            "gridcolor": "white",
            "linecolor": "white",
            "ticks": ""
           }
          },
          "scene": {
           "xaxis": {
            "backgroundcolor": "#E5ECF6",
            "gridcolor": "white",
            "gridwidth": 2,
            "linecolor": "white",
            "showbackground": true,
            "ticks": "",
            "zerolinecolor": "white"
           },
           "yaxis": {
            "backgroundcolor": "#E5ECF6",
            "gridcolor": "white",
            "gridwidth": 2,
            "linecolor": "white",
            "showbackground": true,
            "ticks": "",
            "zerolinecolor": "white"
           },
           "zaxis": {
            "backgroundcolor": "#E5ECF6",
            "gridcolor": "white",
            "gridwidth": 2,
            "linecolor": "white",
            "showbackground": true,
            "ticks": "",
            "zerolinecolor": "white"
           }
          },
          "shapedefaults": {
           "line": {
            "color": "#2a3f5f"
           }
          },
          "ternary": {
           "aaxis": {
            "gridcolor": "white",
            "linecolor": "white",
            "ticks": ""
           },
           "baxis": {
            "gridcolor": "white",
            "linecolor": "white",
            "ticks": ""
           },
           "bgcolor": "#E5ECF6",
           "caxis": {
            "gridcolor": "white",
            "linecolor": "white",
            "ticks": ""
           }
          },
          "title": {
           "x": 0.05
          },
          "xaxis": {
           "automargin": true,
           "gridcolor": "white",
           "linecolor": "white",
           "ticks": "",
           "title": {
            "standoff": 15
           },
           "zerolinecolor": "white",
           "zerolinewidth": 2
          },
          "yaxis": {
           "automargin": true,
           "gridcolor": "white",
           "linecolor": "white",
           "ticks": "",
           "title": {
            "standoff": 15
           },
           "zerolinecolor": "white",
           "zerolinewidth": 2
          }
         }
        }
       }
      }
     },
     "metadata": {},
     "output_type": "display_data"
    }
   ],
   "source": [
    "functions_and_backend.Destination_countries_graph()"
   ]
  },
  {
   "cell_type": "markdown",
   "metadata": {},
   "source": [
    "# Biggest porcentual population displacement in one year"
   ]
  },
  {
   "cell_type": "code",
   "execution_count": 7,
   "metadata": {},
   "outputs": [
    {
     "data": {
      "application/vnd.plotly.v1+json": {
       "config": {
        "plotlyServerURL": "https://plot.ly"
       },
       "data": [
        {
         "customdata": {
          "bdata": "ygfPB8YHvQfmB88HyAfdB+EHyAfiB8cHzgfIBw==",
          "dtype": "i2"
         },
         "hovertemplate": "<b>%{x}</b><br>Year: %{customdata}<br>Percentage: %{y:.2f}%<extra></extra>",
         "marker": {
          "color": "#ad0b0b"
         },
         "text": {
          "bdata": "AAAAAAAon0AAAAAAADyfQAAAAAAAGJ9AAAAAAAD0nkAAAAAAAJifQAAAAAAAPJ9AAAAAAAAgn0AAAAAAAHSfQAAAAAAAhJ9AAAAAAAAgn0AAAAAAAIifQAAAAAAAHJ9AAAAAAAA4n0AAAAAAACCfQA==",
          "dtype": "f8"
         },
         "textposition": "outside",
         "type": "bar",
         "x": [
          "Rwanda",
          "Timor-Leste",
          "Liberia",
          "Afghanistan",
          "Ukraine",
          "Serbia and Kosovo: S/RES/1244 (1999)",
          "Bosnia and Herzegovina",
          "Syrian Arab Rep.",
          "South Sudan",
          "Bhutan",
          "Venezuela (Bolivarian Republic of)",
          "Iraq",
          "Sierra Leone",
          "Armenia"
         ],
         "y": {
          "bdata": "wt10eXMDQUBVCigPxsVAQI1rSoylm0BAZ6JIQTu5M0BYLTW9bSksQOWzbrbdQypASBDPDtzCJUBQxKLt2ukkQN4CAcoMnCNAK+9riMOMI0AhOfzBlPcgQE0kmqnYBCBAWJWg2VVoGkAkZmQrKwIWQA==",
          "dtype": "f8"
         }
        }
       ],
       "layout": {
        "height": 600,
        "margin": {
         "b": 150,
         "t": 50
        },
        "plot_bgcolor": "white",
        "template": {
         "data": {
          "bar": [
           {
            "error_x": {
             "color": "#2a3f5f"
            },
            "error_y": {
             "color": "#2a3f5f"
            },
            "marker": {
             "line": {
              "color": "#E5ECF6",
              "width": 0.5
             },
             "pattern": {
              "fillmode": "overlay",
              "size": 10,
              "solidity": 0.2
             }
            },
            "type": "bar"
           }
          ],
          "barpolar": [
           {
            "marker": {
             "line": {
              "color": "#E5ECF6",
              "width": 0.5
             },
             "pattern": {
              "fillmode": "overlay",
              "size": 10,
              "solidity": 0.2
             }
            },
            "type": "barpolar"
           }
          ],
          "carpet": [
           {
            "aaxis": {
             "endlinecolor": "#2a3f5f",
             "gridcolor": "white",
             "linecolor": "white",
             "minorgridcolor": "white",
             "startlinecolor": "#2a3f5f"
            },
            "baxis": {
             "endlinecolor": "#2a3f5f",
             "gridcolor": "white",
             "linecolor": "white",
             "minorgridcolor": "white",
             "startlinecolor": "#2a3f5f"
            },
            "type": "carpet"
           }
          ],
          "choropleth": [
           {
            "colorbar": {
             "outlinewidth": 0,
             "ticks": ""
            },
            "type": "choropleth"
           }
          ],
          "contour": [
           {
            "colorbar": {
             "outlinewidth": 0,
             "ticks": ""
            },
            "colorscale": [
             [
              0,
              "#0d0887"
             ],
             [
              0.1111111111111111,
              "#46039f"
             ],
             [
              0.2222222222222222,
              "#7201a8"
             ],
             [
              0.3333333333333333,
              "#9c179e"
             ],
             [
              0.4444444444444444,
              "#bd3786"
             ],
             [
              0.5555555555555556,
              "#d8576b"
             ],
             [
              0.6666666666666666,
              "#ed7953"
             ],
             [
              0.7777777777777778,
              "#fb9f3a"
             ],
             [
              0.8888888888888888,
              "#fdca26"
             ],
             [
              1,
              "#f0f921"
             ]
            ],
            "type": "contour"
           }
          ],
          "contourcarpet": [
           {
            "colorbar": {
             "outlinewidth": 0,
             "ticks": ""
            },
            "type": "contourcarpet"
           }
          ],
          "heatmap": [
           {
            "colorbar": {
             "outlinewidth": 0,
             "ticks": ""
            },
            "colorscale": [
             [
              0,
              "#0d0887"
             ],
             [
              0.1111111111111111,
              "#46039f"
             ],
             [
              0.2222222222222222,
              "#7201a8"
             ],
             [
              0.3333333333333333,
              "#9c179e"
             ],
             [
              0.4444444444444444,
              "#bd3786"
             ],
             [
              0.5555555555555556,
              "#d8576b"
             ],
             [
              0.6666666666666666,
              "#ed7953"
             ],
             [
              0.7777777777777778,
              "#fb9f3a"
             ],
             [
              0.8888888888888888,
              "#fdca26"
             ],
             [
              1,
              "#f0f921"
             ]
            ],
            "type": "heatmap"
           }
          ],
          "histogram": [
           {
            "marker": {
             "pattern": {
              "fillmode": "overlay",
              "size": 10,
              "solidity": 0.2
             }
            },
            "type": "histogram"
           }
          ],
          "histogram2d": [
           {
            "colorbar": {
             "outlinewidth": 0,
             "ticks": ""
            },
            "colorscale": [
             [
              0,
              "#0d0887"
             ],
             [
              0.1111111111111111,
              "#46039f"
             ],
             [
              0.2222222222222222,
              "#7201a8"
             ],
             [
              0.3333333333333333,
              "#9c179e"
             ],
             [
              0.4444444444444444,
              "#bd3786"
             ],
             [
              0.5555555555555556,
              "#d8576b"
             ],
             [
              0.6666666666666666,
              "#ed7953"
             ],
             [
              0.7777777777777778,
              "#fb9f3a"
             ],
             [
              0.8888888888888888,
              "#fdca26"
             ],
             [
              1,
              "#f0f921"
             ]
            ],
            "type": "histogram2d"
           }
          ],
          "histogram2dcontour": [
           {
            "colorbar": {
             "outlinewidth": 0,
             "ticks": ""
            },
            "colorscale": [
             [
              0,
              "#0d0887"
             ],
             [
              0.1111111111111111,
              "#46039f"
             ],
             [
              0.2222222222222222,
              "#7201a8"
             ],
             [
              0.3333333333333333,
              "#9c179e"
             ],
             [
              0.4444444444444444,
              "#bd3786"
             ],
             [
              0.5555555555555556,
              "#d8576b"
             ],
             [
              0.6666666666666666,
              "#ed7953"
             ],
             [
              0.7777777777777778,
              "#fb9f3a"
             ],
             [
              0.8888888888888888,
              "#fdca26"
             ],
             [
              1,
              "#f0f921"
             ]
            ],
            "type": "histogram2dcontour"
           }
          ],
          "mesh3d": [
           {
            "colorbar": {
             "outlinewidth": 0,
             "ticks": ""
            },
            "type": "mesh3d"
           }
          ],
          "parcoords": [
           {
            "line": {
             "colorbar": {
              "outlinewidth": 0,
              "ticks": ""
             }
            },
            "type": "parcoords"
           }
          ],
          "pie": [
           {
            "automargin": true,
            "type": "pie"
           }
          ],
          "scatter": [
           {
            "fillpattern": {
             "fillmode": "overlay",
             "size": 10,
             "solidity": 0.2
            },
            "type": "scatter"
           }
          ],
          "scatter3d": [
           {
            "line": {
             "colorbar": {
              "outlinewidth": 0,
              "ticks": ""
             }
            },
            "marker": {
             "colorbar": {
              "outlinewidth": 0,
              "ticks": ""
             }
            },
            "type": "scatter3d"
           }
          ],
          "scattercarpet": [
           {
            "marker": {
             "colorbar": {
              "outlinewidth": 0,
              "ticks": ""
             }
            },
            "type": "scattercarpet"
           }
          ],
          "scattergeo": [
           {
            "marker": {
             "colorbar": {
              "outlinewidth": 0,
              "ticks": ""
             }
            },
            "type": "scattergeo"
           }
          ],
          "scattergl": [
           {
            "marker": {
             "colorbar": {
              "outlinewidth": 0,
              "ticks": ""
             }
            },
            "type": "scattergl"
           }
          ],
          "scattermap": [
           {
            "marker": {
             "colorbar": {
              "outlinewidth": 0,
              "ticks": ""
             }
            },
            "type": "scattermap"
           }
          ],
          "scattermapbox": [
           {
            "marker": {
             "colorbar": {
              "outlinewidth": 0,
              "ticks": ""
             }
            },
            "type": "scattermapbox"
           }
          ],
          "scatterpolar": [
           {
            "marker": {
             "colorbar": {
              "outlinewidth": 0,
              "ticks": ""
             }
            },
            "type": "scatterpolar"
           }
          ],
          "scatterpolargl": [
           {
            "marker": {
             "colorbar": {
              "outlinewidth": 0,
              "ticks": ""
             }
            },
            "type": "scatterpolargl"
           }
          ],
          "scatterternary": [
           {
            "marker": {
             "colorbar": {
              "outlinewidth": 0,
              "ticks": ""
             }
            },
            "type": "scatterternary"
           }
          ],
          "surface": [
           {
            "colorbar": {
             "outlinewidth": 0,
             "ticks": ""
            },
            "colorscale": [
             [
              0,
              "#0d0887"
             ],
             [
              0.1111111111111111,
              "#46039f"
             ],
             [
              0.2222222222222222,
              "#7201a8"
             ],
             [
              0.3333333333333333,
              "#9c179e"
             ],
             [
              0.4444444444444444,
              "#bd3786"
             ],
             [
              0.5555555555555556,
              "#d8576b"
             ],
             [
              0.6666666666666666,
              "#ed7953"
             ],
             [
              0.7777777777777778,
              "#fb9f3a"
             ],
             [
              0.8888888888888888,
              "#fdca26"
             ],
             [
              1,
              "#f0f921"
             ]
            ],
            "type": "surface"
           }
          ],
          "table": [
           {
            "cells": {
             "fill": {
              "color": "#EBF0F8"
             },
             "line": {
              "color": "white"
             }
            },
            "header": {
             "fill": {
              "color": "#C8D4E3"
             },
             "line": {
              "color": "white"
             }
            },
            "type": "table"
           }
          ]
         },
         "layout": {
          "annotationdefaults": {
           "arrowcolor": "#2a3f5f",
           "arrowhead": 0,
           "arrowwidth": 1
          },
          "autotypenumbers": "strict",
          "coloraxis": {
           "colorbar": {
            "outlinewidth": 0,
            "ticks": ""
           }
          },
          "colorscale": {
           "diverging": [
            [
             0,
             "#8e0152"
            ],
            [
             0.1,
             "#c51b7d"
            ],
            [
             0.2,
             "#de77ae"
            ],
            [
             0.3,
             "#f1b6da"
            ],
            [
             0.4,
             "#fde0ef"
            ],
            [
             0.5,
             "#f7f7f7"
            ],
            [
             0.6,
             "#e6f5d0"
            ],
            [
             0.7,
             "#b8e186"
            ],
            [
             0.8,
             "#7fbc41"
            ],
            [
             0.9,
             "#4d9221"
            ],
            [
             1,
             "#276419"
            ]
           ],
           "sequential": [
            [
             0,
             "#0d0887"
            ],
            [
             0.1111111111111111,
             "#46039f"
            ],
            [
             0.2222222222222222,
             "#7201a8"
            ],
            [
             0.3333333333333333,
             "#9c179e"
            ],
            [
             0.4444444444444444,
             "#bd3786"
            ],
            [
             0.5555555555555556,
             "#d8576b"
            ],
            [
             0.6666666666666666,
             "#ed7953"
            ],
            [
             0.7777777777777778,
             "#fb9f3a"
            ],
            [
             0.8888888888888888,
             "#fdca26"
            ],
            [
             1,
             "#f0f921"
            ]
           ],
           "sequentialminus": [
            [
             0,
             "#0d0887"
            ],
            [
             0.1111111111111111,
             "#46039f"
            ],
            [
             0.2222222222222222,
             "#7201a8"
            ],
            [
             0.3333333333333333,
             "#9c179e"
            ],
            [
             0.4444444444444444,
             "#bd3786"
            ],
            [
             0.5555555555555556,
             "#d8576b"
            ],
            [
             0.6666666666666666,
             "#ed7953"
            ],
            [
             0.7777777777777778,
             "#fb9f3a"
            ],
            [
             0.8888888888888888,
             "#fdca26"
            ],
            [
             1,
             "#f0f921"
            ]
           ]
          },
          "colorway": [
           "#636efa",
           "#EF553B",
           "#00cc96",
           "#ab63fa",
           "#FFA15A",
           "#19d3f3",
           "#FF6692",
           "#B6E880",
           "#FF97FF",
           "#FECB52"
          ],
          "font": {
           "color": "#2a3f5f"
          },
          "geo": {
           "bgcolor": "white",
           "lakecolor": "white",
           "landcolor": "#E5ECF6",
           "showlakes": true,
           "showland": true,
           "subunitcolor": "white"
          },
          "hoverlabel": {
           "align": "left"
          },
          "hovermode": "closest",
          "mapbox": {
           "style": "light"
          },
          "paper_bgcolor": "white",
          "plot_bgcolor": "#E5ECF6",
          "polar": {
           "angularaxis": {
            "gridcolor": "white",
            "linecolor": "white",
            "ticks": ""
           },
           "bgcolor": "#E5ECF6",
           "radialaxis": {
            "gridcolor": "white",
            "linecolor": "white",
            "ticks": ""
           }
          },
          "scene": {
           "xaxis": {
            "backgroundcolor": "#E5ECF6",
            "gridcolor": "white",
            "gridwidth": 2,
            "linecolor": "white",
            "showbackground": true,
            "ticks": "",
            "zerolinecolor": "white"
           },
           "yaxis": {
            "backgroundcolor": "#E5ECF6",
            "gridcolor": "white",
            "gridwidth": 2,
            "linecolor": "white",
            "showbackground": true,
            "ticks": "",
            "zerolinecolor": "white"
           },
           "zaxis": {
            "backgroundcolor": "#E5ECF6",
            "gridcolor": "white",
            "gridwidth": 2,
            "linecolor": "white",
            "showbackground": true,
            "ticks": "",
            "zerolinecolor": "white"
           }
          },
          "shapedefaults": {
           "line": {
            "color": "#2a3f5f"
           }
          },
          "ternary": {
           "aaxis": {
            "gridcolor": "white",
            "linecolor": "white",
            "ticks": ""
           },
           "baxis": {
            "gridcolor": "white",
            "linecolor": "white",
            "ticks": ""
           },
           "bgcolor": "#E5ECF6",
           "caxis": {
            "gridcolor": "white",
            "linecolor": "white",
            "ticks": ""
           }
          },
          "title": {
           "x": 0.05
          },
          "xaxis": {
           "automargin": true,
           "gridcolor": "white",
           "linecolor": "white",
           "ticks": "",
           "title": {
            "standoff": 15
           },
           "zerolinecolor": "white",
           "zerolinewidth": 2
          },
          "yaxis": {
           "automargin": true,
           "gridcolor": "white",
           "linecolor": "white",
           "ticks": "",
           "title": {
            "standoff": 15
           },
           "zerolinecolor": "white",
           "zerolinewidth": 2
          }
         }
        },
        "title": {
         "text": "<b>Top Countries by Percentage of Population Displaced (Highest Year per Country)</b>"
        },
        "xaxis": {
         "showgrid": false,
         "tickangle": -45,
         "title": {
          "text": "<b>Country of Origin</b>"
         }
        },
        "yaxis": {
         "gridcolor": "lightgrey",
         "showgrid": true,
         "title": {
          "text": "<b>Percentage of Population Displaced</b>"
         }
        }
       }
      }
     },
     "metadata": {},
     "output_type": "display_data"
    }
   ],
   "source": [
    "functions_and_backend.Biggest_displacement_percentage_graph()"
   ]
  },
  {
   "cell_type": "markdown",
   "metadata": {},
   "source": [
    "# Specific country migration graphs"
   ]
  },
  {
   "cell_type": "code",
   "execution_count": 8,
   "metadata": {},
   "outputs": [
    {
     "data": {
      "text/html": [
       "\n",
       "        <iframe\n",
       "            width=\"100%\"\n",
       "            height=\"650\"\n",
       "            src=\"http://127.0.0.1:8053/\"\n",
       "            frameborder=\"0\"\n",
       "            allowfullscreen\n",
       "            \n",
       "        ></iframe>\n",
       "        "
      ],
      "text/plain": [
       "<IPython.lib.display.IFrame at 0x23783aa1e80>"
      ]
     },
     "metadata": {},
     "output_type": "display_data"
    }
   ],
   "source": [
    "functions_and_backend.Specific_country_information_dash()"
   ]
  }
 ],
 "metadata": {
  "kernelspec": {
   "display_name": "venv",
   "language": "python",
   "name": "python3"
  },
  "language_info": {
   "codemirror_mode": {
    "name": "ipython",
    "version": 3
   },
   "file_extension": ".py",
   "mimetype": "text/x-python",
   "name": "python",
   "nbconvert_exporter": "python",
   "pygments_lexer": "ipython3",
   "version": "3.12.6"
  }
 },
 "nbformat": 4,
 "nbformat_minor": 2
}
