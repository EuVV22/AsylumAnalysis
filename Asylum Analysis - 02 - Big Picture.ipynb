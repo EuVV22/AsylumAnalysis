{
 "cells": [
  {
   "cell_type": "markdown",
   "metadata": {},
   "source": [
    "# Asylum seekers: During interantional migration crisis\n"
   ]
  },
  {
   "cell_type": "code",
   "execution_count": 45,
   "metadata": {},
   "outputs": [],
   "source": [
    "import pandas as pd\n",
    "import plotly.express as px\n",
    "import plotly.graph_objects as go\n",
    "from plotly.subplots import make_subplots\n",
    "from dash import Dash, dcc, html, Input, Output"
   ]
  },
  {
   "cell_type": "markdown",
   "metadata": {},
   "source": [
    "![darien](img/darien.webp)"
   ]
  },
  {
   "cell_type": "markdown",
   "metadata": {},
   "source": [
    "# Data from:\n",
    "<img src=\"img/unhcr-logo-png-transparent.png\" width=\"400\" height=\"340\"><br>\n",
    "<img src=\"img/The_World_Bank_logo.svg\" width=\"500\" height=\"100\">"
   ]
  },
  {
   "cell_type": "markdown",
   "metadata": {},
   "source": [
    "# Reason of the analysis:\n",
    "This analysis tries to describe how people are migrating worldwide, showing the country of origin, country of destination, etc.\n"
   ]
  },
  {
   "cell_type": "markdown",
   "metadata": {},
   "source": [
    "## Import data"
   ]
  },
  {
   "cell_type": "code",
   "execution_count": 46,
   "metadata": {},
   "outputs": [],
   "source": [
    "asylum = pd.read_csv('.\\\\Data\\\\Clean\\\\Asylum_data.csv')\n",
    "population = pd.read_csv(\".\\\\Data\\\\Clean\\\\Population_data.csv\")"
   ]
  },
  {
   "cell_type": "markdown",
   "metadata": {},
   "source": [
    "# More than 100,000,000 people have seek asylum\n"
   ]
  },
  {
   "cell_type": "code",
   "execution_count": 47,
   "metadata": {},
   "outputs": [
    {
     "name": "stdout",
     "output_type": "stream",
     "text": [
      "108,224,695\n"
     ]
    }
   ],
   "source": [
    "print(format(asylum['count'].sum(), \",d\"))"
   ]
  },
  {
   "cell_type": "markdown",
   "metadata": {},
   "source": [
    "## Asylum seekers over the years"
   ]
  },
  {
   "cell_type": "code",
   "execution_count": 48,
   "metadata": {},
   "outputs": [],
   "source": [
    "def Peak_finder(data: pd.DataFrame):\n",
    "    percentaje_to_check = 0.5\n",
    "    previous_value = data['count'][0]\n",
    "    previous_year = data['year'][0]\n",
    "\n",
    "    inside_peak = False\n",
    "    current_highlight = {}\n",
    "    # Start of the highlight:\n",
    "    for index, row in data.iterrows():\n",
    "        if not inside_peak:\n",
    "            # can be a small function call peak finder:\n",
    "            if (row['count'] - previous_value) > (previous_value * percentaje_to_check):\n",
    "                current_highlight = {'start': previous_year, 'end': 0}\n",
    "                inside_peak = True\n",
    "        else:\n",
    "            if (row['count']) <= (previous_value):\n",
    "                current_highlight['end'] = row['year']\n",
    "                yield current_highlight\n",
    "                inside_peak = False\n",
    "                current_highlight = {}\n",
    "        previous_value = row['count']\n",
    "        previous_year = row['year']\n"
   ]
  },
  {
   "cell_type": "code",
   "execution_count": 49,
   "metadata": {},
   "outputs": [],
   "source": [
    "custom_for_template = asylum.groupby(['country_of_origin_name', 'year']).agg({'count': 'sum'}).reset_index().sort_values('count', ascending=False)\n",
    "custom_for_template = custom_for_template.groupby('year')\n",
    "\n",
    "# \"By default the group keys are sorted during the groupby operation.\" Pandas docs https://pandas.pydata.org/pandas-docs/stable/user_guide/groupby.html\n",
    "extra_hover_text = [\n",
    "        f\"<b>Year: {year}<br>\" +\n",
    "        f\"Total: {countries[\"count\"].sum():,}<br><br>\" +\n",
    "        f\"Top three origin countries:</b><br>\" +\n",
    "        f\"{countries.iloc[0]['country_of_origin_name']}: {countries.iloc[0]['count']:,}<br>\" +\n",
    "        f\"{countries.iloc[1]['country_of_origin_name']}: {countries.iloc[1]['count']:,}<br>\" +\n",
    "        f\"{countries.iloc[2]['country_of_origin_name']}: {countries.iloc[2]['count']:,}<br>\" +\n",
    "        f\"Other: {countries[3:]['count'].sum():,}\"\n",
    "     for year, countries in custom_for_template\n",
    "]\n"
   ]
  },
  {
   "cell_type": "code",
   "execution_count": 50,
   "metadata": {},
   "outputs": [
    {
     "data": {
      "application/vnd.plotly.v1+json": {
       "config": {
        "plotlyServerURL": "https://plot.ly"
       },
       "data": [
        {
         "customdata": [
          "<b>Year: 1962<br>Total: 20,353<br><br>Top three origin countries:</b><br>Angola: 20,277<br>Iraq: 17<br>Dem. Rep. of the Congo: 13<br>Other: 46",
          "<b>Year: 1963<br>Total: 25,270<br><br>Top three origin countries:</b><br>Sudan: 13,000<br>Rwanda: 7,000<br>Angola: 5,000<br>Other: 270",
          "<b>Year: 1964<br>Total: 163,790<br><br>Top three origin countries:</b><br>Congo, Republic of: 58,700<br>Rwanda: 38,300<br>Angola: 25,000<br>Other: 41,790",
          "<b>Year: 1965<br>Total: 135,270<br><br>Top three origin countries:</b><br>Sudan: 61,700<br>Guinea-Bissau: 20,000<br>Angola: 20,000<br>Other: 33,570",
          "<b>Year: 1966<br>Total: 143,810<br><br>Top three origin countries:</b><br>Congo, Republic of: 45,000<br>Angola: 34,800<br>Sudan: 32,500<br>Other: 31,510",
          "<b>Year: 1967<br>Total: 68,180<br><br>Top three origin countries:</b><br>Ethiopia: 28,600<br>Sudan: 13,170<br>Angola: 12,400<br>Other: 14,010",
          "<b>Year: 1968<br>Total: 62,500<br><br>Top three origin countries:</b><br>Sudan: 15,510<br>Angola: 15,060<br>Zambia: 15,000<br>Other: 16,930",
          "<b>Year: 1969<br>Total: 52,400<br><br>Top three origin countries:</b><br>Angola: 20,480<br>Guinea-Bissau: 11,050<br>Sudan: 9,500<br>Other: 11,370",
          "<b>Year: 1970<br>Total: 72,513<br><br>Top three origin countries:</b><br>Ethiopia: 23,364<br>Mozambique: 16,720<br>Unknown/other: 7,699<br>Other: 24,730",
          "<b>Year: 1971<br>Total: 41,398<br><br>Top three origin countries:</b><br>Guinea-Bissau: 13,000<br>Sudan: 5,901<br>Unknown/other: 5,695<br>Other: 16,802",
          "<b>Year: 1972<br>Total: 192,564<br><br>Top three origin countries:</b><br>Burundi: 129,037<br>Malawi: 20,005<br>Angola: 8,955<br>Other: 34,567",
          "<b>Year: 1973<br>Total: 55,363<br><br>Top three origin countries:</b><br>Unknown/other: 15,427<br>Rwanda: 10,380<br>Angola: 5,780<br>Other: 23,776",
          "<b>Year: 1974<br>Total: 116,276<br><br>Top three origin countries:</b><br>Angola: 52,800<br>Unknown/other: 30,597<br>Rwanda: 11,140<br>Other: 21,739",
          "<b>Year: 1975<br>Total: 174,200<br><br>Top three origin countries:</b><br>Lao People's Dem. Rep.: 57,070<br>Ethiopia: 42,358<br>Cambodia: 26,595<br>Other: 48,177",
          "<b>Year: 1976<br>Total: 129,442<br><br>Top three origin countries:</b><br>Angola: 27,575<br>Lao People's Dem. Rep.: 23,485<br>Zimbabwe: 18,223<br>Other: 60,159",
          "<b>Year: 1977<br>Total: 381,959<br><br>Top three origin countries:</b><br>Dem. Rep. of the Congo: 220,721<br>Ethiopia: 42,226<br>Zimbabwe: 37,278<br>Other: 81,734",
          "<b>Year: 1978<br>Total: 1,070,264<br><br>Top three origin countries:</b><br>Ethiopia: 239,264<br>Myanmar: 196,000<br>Angola: 120,465<br>Other: 514,535",
          "<b>Year: 1979<br>Total: 1,042,860<br><br>Top three origin countries:</b><br>Ethiopia: 436,430<br>Viet Nam: 207,481<br>Uganda: 85,748<br>Other: 313,201",
          "<b>Year: 1980<br>Total: 3,758,283<br><br>Top three origin countries:</b><br>Ethiopia: 1,571,956<br>Afghanistan: 1,308,405<br>Uganda: 144,428<br>Other: 733,494",
          "<b>Year: 1981<br>Total: 2,842,696<br><br>Top three origin countries:</b><br>Afghanistan: 2,354,516<br>Unknown/other: 140,172<br>Viet Nam: 66,870<br>Other: 281,138",
          "<b>Year: 1982<br>Total: 1,085,662<br><br>Top three origin countries:</b><br>Afghanistan: 515,423<br>Uganda: 115,023<br>Viet Nam: 73,852<br>Other: 381,364",
          "<b>Year: 1983<br>Total: 804,312<br><br>Top three origin countries:</b><br>Rwanda: 220,655<br>Afghanistan: 204,003<br>Viet Nam: 55,162<br>Other: 324,492",
          "<b>Year: 1984<br>Total: 1,136,996<br><br>Top three origin countries:</b><br>Ethiopia: 259,530<br>Rwanda: 223,800<br>Chad: 171,865<br>Other: 481,801",
          "<b>Year: 1985<br>Total: 1,116,991<br><br>Top three origin countries:</b><br>Ethiopia: 334,923<br>Afghanistan: 199,926<br>Chad: 102,567<br>Other: 479,575",
          "<b>Year: 1986<br>Total: 967,311<br><br>Top three origin countries:</b><br>Afghanistan: 478,105<br>Unknown/other: 85,613<br>Sudan: 46,746<br>Other: 356,847",
          "<b>Year: 1987<br>Total: 1,187,938<br><br>Top three origin countries:</b><br>Afghanistan: 496,133<br>Sudan: 106,416<br>Mozambique: 106,001<br>Other: 479,388",
          "<b>Year: 1988<br>Total: 1,181,769<br><br>Top three origin countries:</b><br>Mozambique: 285,593<br>Afghanistan: 102,015<br>Unknown/other: 93,408<br>Other: 700,753",
          "<b>Year: 1989<br>Total: 1,024,573<br><br>Top three origin countries:</b><br>Mozambique: 220,117<br>Unknown/other: 148,245<br>Sudan: 89,289<br>Other: 566,922",
          "<b>Year: 1990<br>Total: 1,992,142<br><br>Top three origin countries:</b><br>Liberia: 738,613<br>Ethiopia: 184,368<br>Mozambique: 116,865<br>Other: 952,296",
          "<b>Year: 1991<br>Total: 3,212,153<br><br>Top three origin countries:</b><br>Iraq: 1,423,062<br>Myanmar: 400,205<br>Serbia and Kosovo: S/RES/1244 (1999): 167,779<br>Other: 1,221,107",
          "<b>Year: 1992<br>Total: 3,125,044<br><br>Top three origin countries:</b><br>Bosnia and Herzegovina: 460,751<br>Azerbaijan: 300,231<br>Somalia: 286,915<br>Other: 2,077,147",
          "<b>Year: 1993<br>Total: 1,287,930<br><br>Top three origin countries:</b><br>Liberia: 190,647<br>Togo: 160,618<br>Serbia and Kosovo: S/RES/1244 (1999): 100,330<br>Other: 836,335",
          "<b>Year: 1994<br>Total: 3,303,742<br><br>Top three origin countries:</b><br>Rwanda: 2,311,231<br>Liberia: 131,609<br>Burundi: 113,160<br>Other: 747,742",
          "<b>Year: 1995<br>Total: 890,584<br><br>Top three origin countries:</b><br>Croatia: 171,798<br>El Salvador: 75,611<br>Serbia and Kosovo: S/RES/1244 (1999): 59,096<br>Other: 584,079",
          "<b>Year: 1996<br>Total: 1,018,273<br><br>Top three origin countries:</b><br>Burundi: 147,003<br>Iraq: 92,937<br>Rwanda: 88,614<br>Other: 689,719",
          "<b>Year: 1997<br>Total: 938,994<br><br>Top three origin countries:</b><br>Burundi: 136,234<br>Sierra Leone: 78,507<br>Dem. Rep. of the Congo: 75,628<br>Other: 648,625",
          "<b>Year: 1998<br>Total: 977,354<br><br>Top three origin countries:</b><br>Sierra Leone: 283,603<br>Serbia and Kosovo: S/RES/1244 (1999): 131,529<br>Iraq: 41,509<br>Other: 520,713",
          "<b>Year: 1999<br>Total: 2,224,738<br><br>Top three origin countries:</b><br>Serbia and Kosovo: S/RES/1244 (1999): 990,247<br>Timor-Leste: 280,000<br>Dem. Rep. of the Congo: 144,510<br>Other: 809,981",
          "<b>Year: 2000<br>Total: 1,796,723<br><br>Top three origin countries:</b><br>Afghanistan: 633,338<br>Dem. Rep. of the Congo: 160,480<br>Eritrea: 101,023<br>Other: 901,882",
          "<b>Year: 2001<br>Total: 1,372,923<br><br>Top three origin countries:</b><br>Afghanistan: 358,249<br>North Macedonia: 100,193<br>Dem. Rep. of the Congo: 63,609<br>Other: 850,872",
          "<b>Year: 2002<br>Total: 1,219,163<br><br>Top three origin countries:</b><br>Afghanistan: 128,932<br>Liberia: 116,561<br>Dem. Rep. of the Congo: 74,900<br>Other: 898,770",
          "<b>Year: 2003<br>Total: 1,097,961<br><br>Top three origin countries:</b><br>Sudan: 123,448<br>Afghanistan: 119,193<br>Liberia: 102,818<br>Other: 752,502",
          "<b>Year: 2004<br>Total: 880,645<br><br>Top three origin countries:</b><br>Sudan: 161,918<br>Afghanistan: 111,572<br>Dem. Rep. of the Congo: 60,374<br>Other: 546,781",
          "<b>Year: 2005<br>Total: 796,631<br><br>Top three origin countries:</b><br>Afghanistan: 109,569<br>Togo: 55,914<br>Myanmar: 55,511<br>Other: 575,637",
          "<b>Year: 2006<br>Total: 760,915<br><br>Top three origin countries:</b><br>Afghanistan: 111,352<br>Somalia: 59,419<br>Iraq: 34,418<br>Other: 555,726",
          "<b>Year: 2007<br>Total: 903,205<br><br>Top three origin countries:</b><br>Iraq: 187,116<br>Afghanistan: 115,019<br>Somalia: 87,289<br>Other: 513,781",
          "<b>Year: 2008<br>Total: 1,255,665<br><br>Top three origin countries:</b><br>Somalia: 150,755<br>Iraq: 138,452<br>Afghanistan: 127,441<br>Other: 839,017",
          "<b>Year: 2009<br>Total: 1,349,840<br><br>Top three origin countries:</b><br>Dem. Rep. of the Congo: 176,031<br>Somalia: 170,907<br>Zimbabwe: 158,450<br>Other: 844,452",
          "<b>Year: 2010<br>Total: 1,106,948<br><br>Top three origin countries:</b><br>Somalia: 158,643<br>Zimbabwe: 149,377<br>Afghanistan: 136,158<br>Other: 662,770",
          "<b>Year: 2011<br>Total: 1,713,816<br><br>Top three origin countries:</b><br>Somalia: 336,164<br>Côte d'Ivoire: 241,045<br>Libya: 154,978<br>Other: 981,629",
          "<b>Year: 2012<br>Total: 1,974,939<br><br>Top three origin countries:</b><br>Syrian Arab Rep.: 680,042<br>Afghanistan: 158,375<br>Mali: 146,221<br>Other: 990,301",
          "<b>Year: 2013<br>Total: 3,578,218<br><br>Top three origin countries:</b><br>Syrian Arab Rep.: 2,265,655<br>Afghanistan: 148,019<br>Central African Rep.: 96,655<br>Other: 1,067,889",
          "<b>Year: 2014<br>Total: 4,224,482<br><br>Top three origin countries:</b><br>Syrian Arab Rep.: 1,724,889<br>South Sudan: 501,541<br>Pakistan: 319,028<br>Other: 1,679,024",
          "<b>Year: 2015<br>Total: 3,919,652<br><br>Top three origin countries:</b><br>Syrian Arab Rep.: 1,453,978<br>Afghanistan: 368,960<br>Burundi: 240,619<br>Other: 1,856,095",
          "<b>Year: 2016<br>Total: 3,573,444<br><br>Top three origin countries:</b><br>Syrian Arab Rep.: 759,114<br>South Sudan: 739,877<br>Afghanistan: 335,769<br>Other: 1,738,684",
          "<b>Year: 2017<br>Total: 4,541,717<br><br>Top three origin countries:</b><br>South Sudan: 1,005,888<br>Syrian Arab Rep.: 863,523<br>Myanmar: 677,996<br>Other: 1,994,310",
          "<b>Year: 2018<br>Total: 5,082,113<br><br>Top three origin countries:</b><br>Venezuela (Bolivarian Republic of): 2,528,744<br>Syrian Arab Rep.: 633,257<br>Afghanistan: 215,770<br>Other: 1,704,342",
          "<b>Year: 2019<br>Total: 3,591,477<br><br>Top three origin countries:</b><br>Venezuela (Bolivarian Republic of): 1,524,529<br>Afghanistan: 231,785<br>Syrian Arab Rep.: 142,197<br>Other: 1,692,966",
          "<b>Year: 2020<br>Total: 2,055,803<br><br>Top three origin countries:</b><br>Venezuela (Bolivarian Republic of): 572,886<br>Afghanistan: 175,760<br>Azerbaijan: 91,409<br>Other: 1,215,748",
          "<b>Year: 2021<br>Total: 3,122,800<br><br>Top three origin countries:</b><br>Afghanistan: 917,020<br>Venezuela (Bolivarian Republic of): 664,963<br>Syrian Arab Rep.: 126,992<br>Other: 1,413,825",
          "<b>Year: 2022<br>Total: 10,285,610<br><br>Top three origin countries:</b><br>Ukraine: 5,780,042<br>Venezuela (Bolivarian Republic of): 1,223,672<br>Afghanistan: 816,434<br>Other: 2,465,462",
          "<b>Year: 2023<br>Total: 6,754,870<br><br>Top three origin countries:</b><br>Ukraine: 1,082,208<br>Venezuela (Bolivarian Republic of): 1,021,351<br>Sudan: 810,161<br>Other: 3,841,150",
          "<b>Year: 2024<br>Total: 3,239,238<br><br>Top three origin countries:</b><br>Venezuela (Bolivarian Republic of): 680,192<br>Sudan: 465,878<br>Ukraine: 418,261<br>Other: 1,674,907"
         ],
         "hovertemplate": "%{customdata}",
         "type": "scatter",
         "x": {
          "bdata": "qgerB6wHrQeuB68HsAexB7IHswe0B7UHtge3B7gHuQe6B7sHvAe9B74HvwfAB8EHwgfDB8QHxQfGB8cHyAfJB8oHywfMB80HzgfPB9AH0QfSB9MH1AfVB9YH1wfYB9kH2gfbB9wH3QfeB98H4AfhB+IH4wfkB+UH5gfnB+gH",
          "dtype": "i2"
         },
         "y": {
          "bdata": "gU8AALZiAADOfwIAZhACAMIxAgBUCgEAJPQAALDMAABBGwEAtqEAADTwAgBD2AAANMYBAHioAgCi+QEAB9QFALhUEACs6Q8Ay1g5AEhgKwDekBAA2EUMAGRZEQA/CxEAj8IOAGIgEgBJCBIAPaIPAM5lHgB5AzEANK8vAPqmEwA+aTIA2JYNAKGJDwDyUw4AyukOAGLyIQBzahsA+/IUAFuaEgDpwBAABXANANcnDABTnAsAJcgNAPEoEwDQmBQABOQQAJgmGgCbIh4Aapk2AOJ1QAAkzzsAxIY2ABVNRQABjE0ANc02AHteHwBwpi8AKvKcADYSZwBGbTEA",
          "dtype": "i4"
         }
        }
       ],
       "layout": {
        "shapes": [
         {
          "fillcolor": "tomato",
          "layer": "below",
          "line": {
           "width": 0
          },
          "opacity": 0.5,
          "type": "rect",
          "x0": 1963,
          "x1": 1965,
          "y0": 0,
          "y1": 10300000
         },
         {
          "fillcolor": "tomato",
          "layer": "below",
          "line": {
           "width": 0
          },
          "opacity": 0.5,
          "type": "rect",
          "x0": 1971,
          "x1": 1973,
          "y0": 0,
          "y1": 10300000
         },
         {
          "fillcolor": "tomato",
          "layer": "below",
          "line": {
           "width": 0
          },
          "opacity": 0.5,
          "type": "rect",
          "x0": 1973,
          "x1": 1976,
          "y0": 0,
          "y1": 10300000
         },
         {
          "fillcolor": "tomato",
          "layer": "below",
          "line": {
           "width": 0
          },
          "opacity": 0.5,
          "type": "rect",
          "x0": 1976,
          "x1": 1979,
          "y0": 0,
          "y1": 10300000
         },
         {
          "fillcolor": "tomato",
          "layer": "below",
          "line": {
           "width": 0
          },
          "opacity": 0.5,
          "type": "rect",
          "x0": 1979,
          "x1": 1981,
          "y0": 0,
          "y1": 10300000
         },
         {
          "fillcolor": "tomato",
          "layer": "below",
          "line": {
           "width": 0
          },
          "opacity": 0.5,
          "type": "rect",
          "x0": 1989,
          "x1": 1992,
          "y0": 0,
          "y1": 10300000
         },
         {
          "fillcolor": "tomato",
          "layer": "below",
          "line": {
           "width": 0
          },
          "opacity": 0.5,
          "type": "rect",
          "x0": 1993,
          "x1": 1995,
          "y0": 0,
          "y1": 10300000
         },
         {
          "fillcolor": "tomato",
          "layer": "below",
          "line": {
           "width": 0
          },
          "opacity": 0.5,
          "type": "rect",
          "x0": 1998,
          "x1": 2000,
          "y0": 0,
          "y1": 10300000
         },
         {
          "fillcolor": "tomato",
          "layer": "below",
          "line": {
           "width": 0
          },
          "opacity": 0.5,
          "type": "rect",
          "x0": 2010,
          "x1": 2015,
          "y0": 0,
          "y1": 10300000
         },
         {
          "fillcolor": "tomato",
          "layer": "below",
          "line": {
           "width": 0
          },
          "opacity": 0.5,
          "type": "rect",
          "x0": 2020,
          "x1": 2023,
          "y0": 0,
          "y1": 10300000
         }
        ],
        "template": {
         "data": {
          "bar": [
           {
            "error_x": {
             "color": "#2a3f5f"
            },
            "error_y": {
             "color": "#2a3f5f"
            },
            "marker": {
             "line": {
              "color": "#E5ECF6",
              "width": 0.5
             },
             "pattern": {
              "fillmode": "overlay",
              "size": 10,
              "solidity": 0.2
             }
            },
            "type": "bar"
           }
          ],
          "barpolar": [
           {
            "marker": {
             "line": {
              "color": "#E5ECF6",
              "width": 0.5
             },
             "pattern": {
              "fillmode": "overlay",
              "size": 10,
              "solidity": 0.2
             }
            },
            "type": "barpolar"
           }
          ],
          "carpet": [
           {
            "aaxis": {
             "endlinecolor": "#2a3f5f",
             "gridcolor": "white",
             "linecolor": "white",
             "minorgridcolor": "white",
             "startlinecolor": "#2a3f5f"
            },
            "baxis": {
             "endlinecolor": "#2a3f5f",
             "gridcolor": "white",
             "linecolor": "white",
             "minorgridcolor": "white",
             "startlinecolor": "#2a3f5f"
            },
            "type": "carpet"
           }
          ],
          "choropleth": [
           {
            "colorbar": {
             "outlinewidth": 0,
             "ticks": ""
            },
            "type": "choropleth"
           }
          ],
          "contour": [
           {
            "colorbar": {
             "outlinewidth": 0,
             "ticks": ""
            },
            "colorscale": [
             [
              0,
              "#0d0887"
             ],
             [
              0.1111111111111111,
              "#46039f"
             ],
             [
              0.2222222222222222,
              "#7201a8"
             ],
             [
              0.3333333333333333,
              "#9c179e"
             ],
             [
              0.4444444444444444,
              "#bd3786"
             ],
             [
              0.5555555555555556,
              "#d8576b"
             ],
             [
              0.6666666666666666,
              "#ed7953"
             ],
             [
              0.7777777777777778,
              "#fb9f3a"
             ],
             [
              0.8888888888888888,
              "#fdca26"
             ],
             [
              1,
              "#f0f921"
             ]
            ],
            "type": "contour"
           }
          ],
          "contourcarpet": [
           {
            "colorbar": {
             "outlinewidth": 0,
             "ticks": ""
            },
            "type": "contourcarpet"
           }
          ],
          "heatmap": [
           {
            "colorbar": {
             "outlinewidth": 0,
             "ticks": ""
            },
            "colorscale": [
             [
              0,
              "#0d0887"
             ],
             [
              0.1111111111111111,
              "#46039f"
             ],
             [
              0.2222222222222222,
              "#7201a8"
             ],
             [
              0.3333333333333333,
              "#9c179e"
             ],
             [
              0.4444444444444444,
              "#bd3786"
             ],
             [
              0.5555555555555556,
              "#d8576b"
             ],
             [
              0.6666666666666666,
              "#ed7953"
             ],
             [
              0.7777777777777778,
              "#fb9f3a"
             ],
             [
              0.8888888888888888,
              "#fdca26"
             ],
             [
              1,
              "#f0f921"
             ]
            ],
            "type": "heatmap"
           }
          ],
          "histogram": [
           {
            "marker": {
             "pattern": {
              "fillmode": "overlay",
              "size": 10,
              "solidity": 0.2
             }
            },
            "type": "histogram"
           }
          ],
          "histogram2d": [
           {
            "colorbar": {
             "outlinewidth": 0,
             "ticks": ""
            },
            "colorscale": [
             [
              0,
              "#0d0887"
             ],
             [
              0.1111111111111111,
              "#46039f"
             ],
             [
              0.2222222222222222,
              "#7201a8"
             ],
             [
              0.3333333333333333,
              "#9c179e"
             ],
             [
              0.4444444444444444,
              "#bd3786"
             ],
             [
              0.5555555555555556,
              "#d8576b"
             ],
             [
              0.6666666666666666,
              "#ed7953"
             ],
             [
              0.7777777777777778,
              "#fb9f3a"
             ],
             [
              0.8888888888888888,
              "#fdca26"
             ],
             [
              1,
              "#f0f921"
             ]
            ],
            "type": "histogram2d"
           }
          ],
          "histogram2dcontour": [
           {
            "colorbar": {
             "outlinewidth": 0,
             "ticks": ""
            },
            "colorscale": [
             [
              0,
              "#0d0887"
             ],
             [
              0.1111111111111111,
              "#46039f"
             ],
             [
              0.2222222222222222,
              "#7201a8"
             ],
             [
              0.3333333333333333,
              "#9c179e"
             ],
             [
              0.4444444444444444,
              "#bd3786"
             ],
             [
              0.5555555555555556,
              "#d8576b"
             ],
             [
              0.6666666666666666,
              "#ed7953"
             ],
             [
              0.7777777777777778,
              "#fb9f3a"
             ],
             [
              0.8888888888888888,
              "#fdca26"
             ],
             [
              1,
              "#f0f921"
             ]
            ],
            "type": "histogram2dcontour"
           }
          ],
          "mesh3d": [
           {
            "colorbar": {
             "outlinewidth": 0,
             "ticks": ""
            },
            "type": "mesh3d"
           }
          ],
          "parcoords": [
           {
            "line": {
             "colorbar": {
              "outlinewidth": 0,
              "ticks": ""
             }
            },
            "type": "parcoords"
           }
          ],
          "pie": [
           {
            "automargin": true,
            "type": "pie"
           }
          ],
          "scatter": [
           {
            "fillpattern": {
             "fillmode": "overlay",
             "size": 10,
             "solidity": 0.2
            },
            "type": "scatter"
           }
          ],
          "scatter3d": [
           {
            "line": {
             "colorbar": {
              "outlinewidth": 0,
              "ticks": ""
             }
            },
            "marker": {
             "colorbar": {
              "outlinewidth": 0,
              "ticks": ""
             }
            },
            "type": "scatter3d"
           }
          ],
          "scattercarpet": [
           {
            "marker": {
             "colorbar": {
              "outlinewidth": 0,
              "ticks": ""
             }
            },
            "type": "scattercarpet"
           }
          ],
          "scattergeo": [
           {
            "marker": {
             "colorbar": {
              "outlinewidth": 0,
              "ticks": ""
             }
            },
            "type": "scattergeo"
           }
          ],
          "scattergl": [
           {
            "marker": {
             "colorbar": {
              "outlinewidth": 0,
              "ticks": ""
             }
            },
            "type": "scattergl"
           }
          ],
          "scattermap": [
           {
            "marker": {
             "colorbar": {
              "outlinewidth": 0,
              "ticks": ""
             }
            },
            "type": "scattermap"
           }
          ],
          "scattermapbox": [
           {
            "marker": {
             "colorbar": {
              "outlinewidth": 0,
              "ticks": ""
             }
            },
            "type": "scattermapbox"
           }
          ],
          "scatterpolar": [
           {
            "marker": {
             "colorbar": {
              "outlinewidth": 0,
              "ticks": ""
             }
            },
            "type": "scatterpolar"
           }
          ],
          "scatterpolargl": [
           {
            "marker": {
             "colorbar": {
              "outlinewidth": 0,
              "ticks": ""
             }
            },
            "type": "scatterpolargl"
           }
          ],
          "scatterternary": [
           {
            "marker": {
             "colorbar": {
              "outlinewidth": 0,
              "ticks": ""
             }
            },
            "type": "scatterternary"
           }
          ],
          "surface": [
           {
            "colorbar": {
             "outlinewidth": 0,
             "ticks": ""
            },
            "colorscale": [
             [
              0,
              "#0d0887"
             ],
             [
              0.1111111111111111,
              "#46039f"
             ],
             [
              0.2222222222222222,
              "#7201a8"
             ],
             [
              0.3333333333333333,
              "#9c179e"
             ],
             [
              0.4444444444444444,
              "#bd3786"
             ],
             [
              0.5555555555555556,
              "#d8576b"
             ],
             [
              0.6666666666666666,
              "#ed7953"
             ],
             [
              0.7777777777777778,
              "#fb9f3a"
             ],
             [
              0.8888888888888888,
              "#fdca26"
             ],
             [
              1,
              "#f0f921"
             ]
            ],
            "type": "surface"
           }
          ],
          "table": [
           {
            "cells": {
             "fill": {
              "color": "#EBF0F8"
             },
             "line": {
              "color": "white"
             }
            },
            "header": {
             "fill": {
              "color": "#C8D4E3"
             },
             "line": {
              "color": "white"
             }
            },
            "type": "table"
           }
          ]
         },
         "layout": {
          "annotationdefaults": {
           "arrowcolor": "#2a3f5f",
           "arrowhead": 0,
           "arrowwidth": 1
          },
          "autotypenumbers": "strict",
          "coloraxis": {
           "colorbar": {
            "outlinewidth": 0,
            "ticks": ""
           }
          },
          "colorscale": {
           "diverging": [
            [
             0,
             "#8e0152"
            ],
            [
             0.1,
             "#c51b7d"
            ],
            [
             0.2,
             "#de77ae"
            ],
            [
             0.3,
             "#f1b6da"
            ],
            [
             0.4,
             "#fde0ef"
            ],
            [
             0.5,
             "#f7f7f7"
            ],
            [
             0.6,
             "#e6f5d0"
            ],
            [
             0.7,
             "#b8e186"
            ],
            [
             0.8,
             "#7fbc41"
            ],
            [
             0.9,
             "#4d9221"
            ],
            [
             1,
             "#276419"
            ]
           ],
           "sequential": [
            [
             0,
             "#0d0887"
            ],
            [
             0.1111111111111111,
             "#46039f"
            ],
            [
             0.2222222222222222,
             "#7201a8"
            ],
            [
             0.3333333333333333,
             "#9c179e"
            ],
            [
             0.4444444444444444,
             "#bd3786"
            ],
            [
             0.5555555555555556,
             "#d8576b"
            ],
            [
             0.6666666666666666,
             "#ed7953"
            ],
            [
             0.7777777777777778,
             "#fb9f3a"
            ],
            [
             0.8888888888888888,
             "#fdca26"
            ],
            [
             1,
             "#f0f921"
            ]
           ],
           "sequentialminus": [
            [
             0,
             "#0d0887"
            ],
            [
             0.1111111111111111,
             "#46039f"
            ],
            [
             0.2222222222222222,
             "#7201a8"
            ],
            [
             0.3333333333333333,
             "#9c179e"
            ],
            [
             0.4444444444444444,
             "#bd3786"
            ],
            [
             0.5555555555555556,
             "#d8576b"
            ],
            [
             0.6666666666666666,
             "#ed7953"
            ],
            [
             0.7777777777777778,
             "#fb9f3a"
            ],
            [
             0.8888888888888888,
             "#fdca26"
            ],
            [
             1,
             "#f0f921"
            ]
           ]
          },
          "colorway": [
           "#636efa",
           "#EF553B",
           "#00cc96",
           "#ab63fa",
           "#FFA15A",
           "#19d3f3",
           "#FF6692",
           "#B6E880",
           "#FF97FF",
           "#FECB52"
          ],
          "font": {
           "color": "#2a3f5f"
          },
          "geo": {
           "bgcolor": "white",
           "lakecolor": "white",
           "landcolor": "#E5ECF6",
           "showlakes": true,
           "showland": true,
           "subunitcolor": "white"
          },
          "hoverlabel": {
           "align": "left"
          },
          "hovermode": "closest",
          "mapbox": {
           "style": "light"
          },
          "paper_bgcolor": "white",
          "plot_bgcolor": "#E5ECF6",
          "polar": {
           "angularaxis": {
            "gridcolor": "white",
            "linecolor": "white",
            "ticks": ""
           },
           "bgcolor": "#E5ECF6",
           "radialaxis": {
            "gridcolor": "white",
            "linecolor": "white",
            "ticks": ""
           }
          },
          "scene": {
           "xaxis": {
            "backgroundcolor": "#E5ECF6",
            "gridcolor": "white",
            "gridwidth": 2,
            "linecolor": "white",
            "showbackground": true,
            "ticks": "",
            "zerolinecolor": "white"
           },
           "yaxis": {
            "backgroundcolor": "#E5ECF6",
            "gridcolor": "white",
            "gridwidth": 2,
            "linecolor": "white",
            "showbackground": true,
            "ticks": "",
            "zerolinecolor": "white"
           },
           "zaxis": {
            "backgroundcolor": "#E5ECF6",
            "gridcolor": "white",
            "gridwidth": 2,
            "linecolor": "white",
            "showbackground": true,
            "ticks": "",
            "zerolinecolor": "white"
           }
          },
          "shapedefaults": {
           "line": {
            "color": "#2a3f5f"
           }
          },
          "ternary": {
           "aaxis": {
            "gridcolor": "white",
            "linecolor": "white",
            "ticks": ""
           },
           "baxis": {
            "gridcolor": "white",
            "linecolor": "white",
            "ticks": ""
           },
           "bgcolor": "#E5ECF6",
           "caxis": {
            "gridcolor": "white",
            "linecolor": "white",
            "ticks": ""
           }
          },
          "title": {
           "x": 0.05
          },
          "xaxis": {
           "automargin": true,
           "gridcolor": "white",
           "linecolor": "white",
           "ticks": "",
           "title": {
            "standoff": 15
           },
           "zerolinecolor": "white",
           "zerolinewidth": 2
          },
          "yaxis": {
           "automargin": true,
           "gridcolor": "white",
           "linecolor": "white",
           "ticks": "",
           "title": {
            "standoff": 15
           },
           "zerolinecolor": "white",
           "zerolinewidth": 2
          }
         }
        },
        "title": {
         "text": "Total asylumn seeker population over the years (highlighted migration crisis)"
        },
        "xaxis": {
         "showgrid": false,
         "title": {
          "text": "Years"
         }
        },
        "yaxis": {
         "rangemode": "tozero",
         "showgrid": false,
         "title": {
          "text": "Asylum Seekers"
         }
        }
       }
      }
     },
     "metadata": {},
     "output_type": "display_data"
    }
   ],
   "source": [
    "# Plot the timelime\n",
    "## Data\n",
    "timeline = asylum.groupby('year').agg({'count': 'sum'}).reset_index()\n",
    "custom_for_template = asylum.groupby(['country_of_origin_name', 'year']).agg({'count': 'sum'}).reset_index()\n",
    "## Setting trace\n",
    "trace = go.Scatter(x=timeline['year'], y=timeline['count'])\n",
    "fig = go.Figure(trace)\n",
    "\n",
    "\n",
    "\n",
    "for peak in Peak_finder(timeline):\n",
    "    fig.add_shape(type=\"rect\",\n",
    "                x0=peak['start'], y0=0, x1=peak['end'], y1=10300000,\n",
    "                fillcolor=\"tomato\", opacity=0.5,\n",
    "                layer=\"below\", line_width=0)\n",
    "\n",
    "\n",
    "fig.update_traces(\n",
    "    customdata=extra_hover_text,\n",
    "    hovertemplate=\"%{customdata}\"\n",
    "\n",
    ")\n",
    "\n",
    "## Defining title\n",
    "fig.update_layout(\n",
    "    title='Total asylumn seeker population over the years (highlighted migration crisis)',\n",
    "    xaxis={'title': {'text': \"Years\"}, 'showgrid':False},\n",
    "    yaxis={'title': {'text': 'Asylum Seekers'}, 'rangemode': 'tozero', 'showgrid':False}\n",
    ")\n",
    "\n",
    "fig.show()"
   ]
  },
  {
   "cell_type": "markdown",
   "metadata": {},
   "source": [
    "# Closer look at migration crisis"
   ]
  },
  {
   "cell_type": "code",
   "execution_count": 51,
   "metadata": {},
   "outputs": [],
   "source": [
    "def Specific_Timeframe_Data(df: pd.DataFrame, start_year: int, end_year: int) -> pd.DataFrame:\n",
    "    YEAR_COLUMN_NAME = 'year'\n",
    "    return df[(start_year <= df[YEAR_COLUMN_NAME]) & (df[YEAR_COLUMN_NAME] <= end_year)]\n",
    "\n",
    "def yearly_data_asylum(df: pd.DataFrame) -> pd.DataFrame:\n",
    "    return df.groupby(['country_of_origin_name', 'year']).agg({'count': 'sum'}).reset_index()\n",
    "\n",
    "def only_the_top_for_year(df: pd.DataFrame) -> pd.DataFrame:\n",
    "    \"\"\"\n",
    "        Compares the all the countries and change the name of the country to 'Other' if its less than the constant minimum value \n",
    "\n",
    "        Args:\n",
    "            df (pandas.DataFrame): the DataFrame to work on\n",
    "\n",
    "        Returns:\n",
    "            pandas.DataFrame with the values changed.\n",
    "    \"\"\"\n",
    "    MINIMUN_PARTICIPATION = 0.05\n",
    "    years = df['year'].unique().tolist()\n",
    "\n",
    "    for year in years:\n",
    "        yearly_df = df[df['year'] == year]\n",
    "        total_asylums = yearly_df['count'].sum()\n",
    "        countries = yearly_df['country_of_origin_name'].unique().tolist()\n",
    "\n",
    "        for country in countries:\n",
    "            asylum_per_country = yearly_df[yearly_df['country_of_origin_name'] == country]['count'].sum()\n",
    "            if (asylum_per_country / total_asylums) < MINIMUN_PARTICIPATION:\n",
    "                df.loc[(df['country_of_origin_name'] == country) & (df['year'] == year), 'country_of_origin_name'] = 'Other'\n",
    "    \n",
    "    return df\n",
    "\n",
    "def Top_four_countries(df: pd.DataFrame) -> pd.DataFrame:\n",
    "    years = df['year'].unique().tolist()\n",
    "\n",
    "    for year in years:\n",
    "        yearly_df = df[df['year'] == year]\n",
    "        countries = yearly_df['country_of_origin_name'].unique().tolist()\n",
    "        yearly_df = yearly_df.groupby('country_of_origin_name').agg({'count': 'sum'})\n",
    "        top_4 = yearly_df.sort_values('count', ascending=False).head(4).reset_index()\n",
    "\n",
    "        for country in countries:\n",
    "            if not top_4['country_of_origin_name'].isin([country]).any():\n",
    "                df.loc[(df['country_of_origin_name'] == country) & (df['year'] == year), 'country_of_origin_name'] = 'Other'\n",
    "        df.loc[~df['country_of_origin_name'].isin(top_4['country_of_origin_name']), 'country_of_origin_name'] = 'Other'\n",
    "    return df\n",
    "            \n",
    "def wrap(df: pd.DataFrame, start_year: int, end_year: int) -> pd.DataFrame:\n",
    "    result = Specific_Timeframe_Data(df, start_year, end_year)\n",
    "    result = only_the_top_for_year(result)\n",
    "    # result = Top_four_countries(result)\n",
    "    result = yearly_data_asylum(result)\n",
    "    return result\n"
   ]
  },
  {
   "cell_type": "code",
   "execution_count": 52,
   "metadata": {},
   "outputs": [
    {
     "data": {
      "text/html": [
       "\n",
       "        <iframe\n",
       "            width=\"100%\"\n",
       "            height=\"650\"\n",
       "            src=\"http://127.0.0.1:8050/\"\n",
       "            frameborder=\"0\"\n",
       "            allowfullscreen\n",
       "            \n",
       "        ></iframe>\n",
       "        "
      ],
      "text/plain": [
       "<IPython.lib.display.IFrame at 0x1f44540c2c0>"
      ]
     },
     "metadata": {},
     "output_type": "display_data"
    }
   ],
   "source": [
    "app = Dash(__name__)\n",
    "\n",
    "migration_crisis = list(Peak_finder(timeline))\n",
    "options = [f\"{years['start']}-{years['end']}\" for years in migration_crisis]\n",
    "app.layout = html.Div([\n",
    "    html.H2('Migration crisis'),\n",
    "    html.P('Select period:'),\n",
    "    dcc.Dropdown(\n",
    "        id=\"dropdown\",\n",
    "        options=options,\n",
    "        value=options[0],\n",
    "        clearable=False,\n",
    "    ),\n",
    "    dcc.Graph(id=\"graph\"),\n",
    "    \n",
    "], style={'backgroundColor':'white'})\n",
    "\n",
    "@app.callback(\n",
    "    Output(\"graph\", \"figure\"),\n",
    "    Input(\"dropdown\", \"value\"))\n",
    "\n",
    "def update_bar_chart(years):\n",
    "    years = years.split('-')\n",
    "    fig = go.Figure()\n",
    "    period_data = wrap(asylum, int(years[0]), int(years[1])).sort_values('count')\n",
    "    g = period_data.groupby('country_of_origin_name')\n",
    "    for country, data in g:\n",
    "        custom = [\n",
    "        f\"<b>{line['country_of_origin_name']}</b><br>\"\n",
    "        f\"Total: {line['count']:,}<br>\" +\n",
    "        f\"<b>{(line['count'] / (period_data[period_data['year'] == line['year']]['count'].sum())):%}</b> of the year asylum seeker population\"\n",
    "        for index, line in data.iterrows()\n",
    "        ]\n",
    "        fig.add_trace(\n",
    "            go.Bar(name=country, x=data['year'], y=data['count'], customdata=custom, hovertemplate=\"%{customdata}\"))\n",
    "        \n",
    "    fig.update_layout(barmode='stack')\n",
    "    fig.update_layout(\n",
    "    title='Total asylum seekers by country of origin (countries that represent less than 5% are group in \"Other\")',\n",
    "    xaxis={'title': {'text': \"Years\"}, 'showgrid':False},\n",
    "    yaxis={'title': {'text': 'Asylum Seekers'}}\n",
    ")\n",
    "    return fig\n",
    "\n",
    "\n",
    "\n",
    "app.run()"
   ]
  },
  {
   "cell_type": "markdown",
   "metadata": {},
   "source": [
    "# Countries origin of the most asylum seekers"
   ]
  },
  {
   "cell_type": "code",
   "execution_count": 53,
   "metadata": {},
   "outputs": [
    {
     "data": {
      "application/vnd.plotly.v1+json": {
       "config": {
        "plotlyServerURL": "https://plot.ly"
       },
       "data": [
        {
         "hovertemplate": "count=%{x}<br>country_of_origin_name=%{y}<extra></extra>",
         "legendgroup": "",
         "marker": {
          "color": "#636efa",
          "pattern": {
           "shape": ""
          }
         },
         "name": "",
         "orientation": "h",
         "showlegend": false,
         "textposition": "auto",
         "type": "bar",
         "x": {
          "bdata": "1ocBAH2rAQBpugEAhboBANwMAgBVcwIAJnQCAA97AgCrjAIAMOECACDoAgDhGgMABC0DAK05AwCsPAMAu1cDAG9YAwBwWwMAgn4DAD38AwCg/AMANjwEAO9GBAB8TAQAVIEEALKdBADu3QQAIzYFADNSBQCkYwUA36MFALMVBgAwXAYAcwAIAFZECAC1qwgAGNQIAHP6CACUCwkAwhkJAGQuCQCCqQkAPLYJAII/CgDgZQoAK2wKAHHgCgCjfAsA/78LAFUxDAAMWAwAPcsMAB/gDQCHBw4A+DAOAEbgDgDmGBAAca8QAADOEAC6ThEAUuERABYXEgBgCRMAcMMTAIaqFwBLzxkAFuEdACrQIgBsmCYAKBYuAM2YLgB6XzEADHE0AHUWNwC/qDcA0lFAAAqbeQD0joAAOYeOABRbwwA=",
          "dtype": "i4"
         },
         "xaxis": "x",
         "y": [
          "Namibia",
          "Tunisia",
          "Gambia",
          "Indonesia",
          "Brazil",
          "Ecuador",
          "Bulgaria",
          "State of Palestine",
          "Mauritania",
          "Stateless",
          "Morocco",
          "Egypt",
          "Peru",
          "Yemen",
          "North Macedonia",
          "Libya",
          "Senegal",
          "Croatia",
          "Burkina Faso",
          "Ghana",
          "Lebanon",
          "Algeria",
          "Guinea",
          "Timor-Leste",
          "Poland",
          "Togo",
          "Georgia",
          "Cameroon",
          "Congo, Republic of",
          "Cambodia",
          "Lao People's Dem. Rep.",
          "Albania",
          "Armenia",
          "Bangladesh",
          "Côte d'Ivoire",
          "Romania",
          "Chad",
          "Cuba",
          "Mexico",
          "Sri Lanka",
          "Honduras",
          "Mali",
          "Azerbaijan",
          "Uganda",
          "Guatemala",
          "India",
          "Bosnia and Herzegovina",
          "Haiti",
          "Russian Federation",
          "Sierra Leone",
          "Nicaragua",
          "El Salvador",
          "China",
          "Zimbabwe",
          "Iran (Islamic Rep. of)",
          "Colombia",
          "Central African Rep.",
          "Mozambique",
          "Viet Nam",
          "Angola",
          "Nigeria",
          "Pakistan",
          "Türkiye",
          "Eritrea",
          "Liberia",
          "Burundi",
          "Unknown/other",
          "Myanmar",
          "Serbia and Kosovo: S/RES/1244 (1999)",
          "Somalia",
          "Dem. Rep. of the Congo",
          "South Sudan",
          "Rwanda",
          "Sudan",
          "Iraq",
          "Ethiopia",
          "Ukraine",
          "Venezuela (Bolivarian Republic of)",
          "Syrian Arab Rep.",
          "Afghanistan"
         ],
         "yaxis": "y"
        }
       ],
       "layout": {
        "barmode": "relative",
        "height": 2000,
        "legend": {
         "tracegroupgap": 0
        },
        "margin": {
         "t": 60
        },
        "template": {
         "data": {
          "bar": [
           {
            "error_x": {
             "color": "#2a3f5f"
            },
            "error_y": {
             "color": "#2a3f5f"
            },
            "marker": {
             "line": {
              "color": "#E5ECF6",
              "width": 0.5
             },
             "pattern": {
              "fillmode": "overlay",
              "size": 10,
              "solidity": 0.2
             }
            },
            "type": "bar"
           }
          ],
          "barpolar": [
           {
            "marker": {
             "line": {
              "color": "#E5ECF6",
              "width": 0.5
             },
             "pattern": {
              "fillmode": "overlay",
              "size": 10,
              "solidity": 0.2
             }
            },
            "type": "barpolar"
           }
          ],
          "carpet": [
           {
            "aaxis": {
             "endlinecolor": "#2a3f5f",
             "gridcolor": "white",
             "linecolor": "white",
             "minorgridcolor": "white",
             "startlinecolor": "#2a3f5f"
            },
            "baxis": {
             "endlinecolor": "#2a3f5f",
             "gridcolor": "white",
             "linecolor": "white",
             "minorgridcolor": "white",
             "startlinecolor": "#2a3f5f"
            },
            "type": "carpet"
           }
          ],
          "choropleth": [
           {
            "colorbar": {
             "outlinewidth": 0,
             "ticks": ""
            },
            "type": "choropleth"
           }
          ],
          "contour": [
           {
            "colorbar": {
             "outlinewidth": 0,
             "ticks": ""
            },
            "colorscale": [
             [
              0,
              "#0d0887"
             ],
             [
              0.1111111111111111,
              "#46039f"
             ],
             [
              0.2222222222222222,
              "#7201a8"
             ],
             [
              0.3333333333333333,
              "#9c179e"
             ],
             [
              0.4444444444444444,
              "#bd3786"
             ],
             [
              0.5555555555555556,
              "#d8576b"
             ],
             [
              0.6666666666666666,
              "#ed7953"
             ],
             [
              0.7777777777777778,
              "#fb9f3a"
             ],
             [
              0.8888888888888888,
              "#fdca26"
             ],
             [
              1,
              "#f0f921"
             ]
            ],
            "type": "contour"
           }
          ],
          "contourcarpet": [
           {
            "colorbar": {
             "outlinewidth": 0,
             "ticks": ""
            },
            "type": "contourcarpet"
           }
          ],
          "heatmap": [
           {
            "colorbar": {
             "outlinewidth": 0,
             "ticks": ""
            },
            "colorscale": [
             [
              0,
              "#0d0887"
             ],
             [
              0.1111111111111111,
              "#46039f"
             ],
             [
              0.2222222222222222,
              "#7201a8"
             ],
             [
              0.3333333333333333,
              "#9c179e"
             ],
             [
              0.4444444444444444,
              "#bd3786"
             ],
             [
              0.5555555555555556,
              "#d8576b"
             ],
             [
              0.6666666666666666,
              "#ed7953"
             ],
             [
              0.7777777777777778,
              "#fb9f3a"
             ],
             [
              0.8888888888888888,
              "#fdca26"
             ],
             [
              1,
              "#f0f921"
             ]
            ],
            "type": "heatmap"
           }
          ],
          "histogram": [
           {
            "marker": {
             "pattern": {
              "fillmode": "overlay",
              "size": 10,
              "solidity": 0.2
             }
            },
            "type": "histogram"
           }
          ],
          "histogram2d": [
           {
            "colorbar": {
             "outlinewidth": 0,
             "ticks": ""
            },
            "colorscale": [
             [
              0,
              "#0d0887"
             ],
             [
              0.1111111111111111,
              "#46039f"
             ],
             [
              0.2222222222222222,
              "#7201a8"
             ],
             [
              0.3333333333333333,
              "#9c179e"
             ],
             [
              0.4444444444444444,
              "#bd3786"
             ],
             [
              0.5555555555555556,
              "#d8576b"
             ],
             [
              0.6666666666666666,
              "#ed7953"
             ],
             [
              0.7777777777777778,
              "#fb9f3a"
             ],
             [
              0.8888888888888888,
              "#fdca26"
             ],
             [
              1,
              "#f0f921"
             ]
            ],
            "type": "histogram2d"
           }
          ],
          "histogram2dcontour": [
           {
            "colorbar": {
             "outlinewidth": 0,
             "ticks": ""
            },
            "colorscale": [
             [
              0,
              "#0d0887"
             ],
             [
              0.1111111111111111,
              "#46039f"
             ],
             [
              0.2222222222222222,
              "#7201a8"
             ],
             [
              0.3333333333333333,
              "#9c179e"
             ],
             [
              0.4444444444444444,
              "#bd3786"
             ],
             [
              0.5555555555555556,
              "#d8576b"
             ],
             [
              0.6666666666666666,
              "#ed7953"
             ],
             [
              0.7777777777777778,
              "#fb9f3a"
             ],
             [
              0.8888888888888888,
              "#fdca26"
             ],
             [
              1,
              "#f0f921"
             ]
            ],
            "type": "histogram2dcontour"
           }
          ],
          "mesh3d": [
           {
            "colorbar": {
             "outlinewidth": 0,
             "ticks": ""
            },
            "type": "mesh3d"
           }
          ],
          "parcoords": [
           {
            "line": {
             "colorbar": {
              "outlinewidth": 0,
              "ticks": ""
             }
            },
            "type": "parcoords"
           }
          ],
          "pie": [
           {
            "automargin": true,
            "type": "pie"
           }
          ],
          "scatter": [
           {
            "fillpattern": {
             "fillmode": "overlay",
             "size": 10,
             "solidity": 0.2
            },
            "type": "scatter"
           }
          ],
          "scatter3d": [
           {
            "line": {
             "colorbar": {
              "outlinewidth": 0,
              "ticks": ""
             }
            },
            "marker": {
             "colorbar": {
              "outlinewidth": 0,
              "ticks": ""
             }
            },
            "type": "scatter3d"
           }
          ],
          "scattercarpet": [
           {
            "marker": {
             "colorbar": {
              "outlinewidth": 0,
              "ticks": ""
             }
            },
            "type": "scattercarpet"
           }
          ],
          "scattergeo": [
           {
            "marker": {
             "colorbar": {
              "outlinewidth": 0,
              "ticks": ""
             }
            },
            "type": "scattergeo"
           }
          ],
          "scattergl": [
           {
            "marker": {
             "colorbar": {
              "outlinewidth": 0,
              "ticks": ""
             }
            },
            "type": "scattergl"
           }
          ],
          "scattermap": [
           {
            "marker": {
             "colorbar": {
              "outlinewidth": 0,
              "ticks": ""
             }
            },
            "type": "scattermap"
           }
          ],
          "scattermapbox": [
           {
            "marker": {
             "colorbar": {
              "outlinewidth": 0,
              "ticks": ""
             }
            },
            "type": "scattermapbox"
           }
          ],
          "scatterpolar": [
           {
            "marker": {
             "colorbar": {
              "outlinewidth": 0,
              "ticks": ""
             }
            },
            "type": "scatterpolar"
           }
          ],
          "scatterpolargl": [
           {
            "marker": {
             "colorbar": {
              "outlinewidth": 0,
              "ticks": ""
             }
            },
            "type": "scatterpolargl"
           }
          ],
          "scatterternary": [
           {
            "marker": {
             "colorbar": {
              "outlinewidth": 0,
              "ticks": ""
             }
            },
            "type": "scatterternary"
           }
          ],
          "surface": [
           {
            "colorbar": {
             "outlinewidth": 0,
             "ticks": ""
            },
            "colorscale": [
             [
              0,
              "#0d0887"
             ],
             [
              0.1111111111111111,
              "#46039f"
             ],
             [
              0.2222222222222222,
              "#7201a8"
             ],
             [
              0.3333333333333333,
              "#9c179e"
             ],
             [
              0.4444444444444444,
              "#bd3786"
             ],
             [
              0.5555555555555556,
              "#d8576b"
             ],
             [
              0.6666666666666666,
              "#ed7953"
             ],
             [
              0.7777777777777778,
              "#fb9f3a"
             ],
             [
              0.8888888888888888,
              "#fdca26"
             ],
             [
              1,
              "#f0f921"
             ]
            ],
            "type": "surface"
           }
          ],
          "table": [
           {
            "cells": {
             "fill": {
              "color": "#EBF0F8"
             },
             "line": {
              "color": "white"
             }
            },
            "header": {
             "fill": {
              "color": "#C8D4E3"
             },
             "line": {
              "color": "white"
             }
            },
            "type": "table"
           }
          ]
         },
         "layout": {
          "annotationdefaults": {
           "arrowcolor": "#2a3f5f",
           "arrowhead": 0,
           "arrowwidth": 1
          },
          "autotypenumbers": "strict",
          "coloraxis": {
           "colorbar": {
            "outlinewidth": 0,
            "ticks": ""
           }
          },
          "colorscale": {
           "diverging": [
            [
             0,
             "#8e0152"
            ],
            [
             0.1,
             "#c51b7d"
            ],
            [
             0.2,
             "#de77ae"
            ],
            [
             0.3,
             "#f1b6da"
            ],
            [
             0.4,
             "#fde0ef"
            ],
            [
             0.5,
             "#f7f7f7"
            ],
            [
             0.6,
             "#e6f5d0"
            ],
            [
             0.7,
             "#b8e186"
            ],
            [
             0.8,
             "#7fbc41"
            ],
            [
             0.9,
             "#4d9221"
            ],
            [
             1,
             "#276419"
            ]
           ],
           "sequential": [
            [
             0,
             "#0d0887"
            ],
            [
             0.1111111111111111,
             "#46039f"
            ],
            [
             0.2222222222222222,
             "#7201a8"
            ],
            [
             0.3333333333333333,
             "#9c179e"
            ],
            [
             0.4444444444444444,
             "#bd3786"
            ],
            [
             0.5555555555555556,
             "#d8576b"
            ],
            [
             0.6666666666666666,
             "#ed7953"
            ],
            [
             0.7777777777777778,
             "#fb9f3a"
            ],
            [
             0.8888888888888888,
             "#fdca26"
            ],
            [
             1,
             "#f0f921"
            ]
           ],
           "sequentialminus": [
            [
             0,
             "#0d0887"
            ],
            [
             0.1111111111111111,
             "#46039f"
            ],
            [
             0.2222222222222222,
             "#7201a8"
            ],
            [
             0.3333333333333333,
             "#9c179e"
            ],
            [
             0.4444444444444444,
             "#bd3786"
            ],
            [
             0.5555555555555556,
             "#d8576b"
            ],
            [
             0.6666666666666666,
             "#ed7953"
            ],
            [
             0.7777777777777778,
             "#fb9f3a"
            ],
            [
             0.8888888888888888,
             "#fdca26"
            ],
            [
             1,
             "#f0f921"
            ]
           ]
          },
          "colorway": [
           "#636efa",
           "#EF553B",
           "#00cc96",
           "#ab63fa",
           "#FFA15A",
           "#19d3f3",
           "#FF6692",
           "#B6E880",
           "#FF97FF",
           "#FECB52"
          ],
          "font": {
           "color": "#2a3f5f"
          },
          "geo": {
           "bgcolor": "white",
           "lakecolor": "white",
           "landcolor": "#E5ECF6",
           "showlakes": true,
           "showland": true,
           "subunitcolor": "white"
          },
          "hoverlabel": {
           "align": "left"
          },
          "hovermode": "closest",
          "mapbox": {
           "style": "light"
          },
          "paper_bgcolor": "white",
          "plot_bgcolor": "#E5ECF6",
          "polar": {
           "angularaxis": {
            "gridcolor": "white",
            "linecolor": "white",
            "ticks": ""
           },
           "bgcolor": "#E5ECF6",
           "radialaxis": {
            "gridcolor": "white",
            "linecolor": "white",
            "ticks": ""
           }
          },
          "scene": {
           "xaxis": {
            "backgroundcolor": "#E5ECF6",
            "gridcolor": "white",
            "gridwidth": 2,
            "linecolor": "white",
            "showbackground": true,
            "ticks": "",
            "zerolinecolor": "white"
           },
           "yaxis": {
            "backgroundcolor": "#E5ECF6",
            "gridcolor": "white",
            "gridwidth": 2,
            "linecolor": "white",
            "showbackground": true,
            "ticks": "",
            "zerolinecolor": "white"
           },
           "zaxis": {
            "backgroundcolor": "#E5ECF6",
            "gridcolor": "white",
            "gridwidth": 2,
            "linecolor": "white",
            "showbackground": true,
            "ticks": "",
            "zerolinecolor": "white"
           }
          },
          "shapedefaults": {
           "line": {
            "color": "#2a3f5f"
           }
          },
          "ternary": {
           "aaxis": {
            "gridcolor": "white",
            "linecolor": "white",
            "ticks": ""
           },
           "baxis": {
            "gridcolor": "white",
            "linecolor": "white",
            "ticks": ""
           },
           "bgcolor": "#E5ECF6",
           "caxis": {
            "gridcolor": "white",
            "linecolor": "white",
            "ticks": ""
           }
          },
          "title": {
           "x": 0.05
          },
          "xaxis": {
           "automargin": true,
           "gridcolor": "white",
           "linecolor": "white",
           "ticks": "",
           "title": {
            "standoff": 15
           },
           "zerolinecolor": "white",
           "zerolinewidth": 2
          },
          "yaxis": {
           "automargin": true,
           "gridcolor": "white",
           "linecolor": "white",
           "ticks": "",
           "title": {
            "standoff": 15
           },
           "zerolinecolor": "white",
           "zerolinewidth": 2
          }
         }
        },
        "xaxis": {
         "anchor": "y",
         "domain": [
          0,
          1
         ],
         "title": {
          "text": "count"
         }
        },
        "yaxis": {
         "anchor": "x",
         "domain": [
          0,
          1
         ],
         "title": {
          "text": "country_of_origin_name"
         }
        }
       }
      }
     },
     "metadata": {},
     "output_type": "display_data"
    }
   ],
   "source": [
    "as_by_country = asylum.groupby('country_of_origin_name').agg({'count' : 'sum'})\n",
    "as_by_country = as_by_country.sort_values('count', ascending=True).reset_index()\n",
    "as_by_country = as_by_country[as_by_country['count'] > 100000]\n",
    "fig = px.bar(as_by_country, y='country_of_origin_name', x='count', orientation='h')\n",
    "# TODO: Log scale\n",
    "fig.update_layout(height=2000)\n",
    "fig.show()"
   ]
  },
  {
   "cell_type": "markdown",
   "metadata": {},
   "source": [
    "# Country specific information\n",
    "This part of the project tries to define the history of a country"
   ]
  },
  {
   "cell_type": "code",
   "execution_count": 54,
   "metadata": {},
   "outputs": [],
   "source": [
    "# Functions \n",
    "# Timeline of the afghanistan migration\n",
    "def Get_Destination_by_year_df(df: pd.DataFrame, country_abbr: str) -> pd.DataFrame:\n",
    "    result = df[df['country_of_origin_abbr'] == country_abbr]\n",
    "    result = result.groupby(['year', 'country_of_asylum_abbr']).agg({'count' : 'sum'}).reset_index()\n",
    "    result['merge_column'] = result['country_of_asylum_abbr'] + result['year'].astype(str)\n",
    "    return result\n",
    "\n",
    "def Get_countries_and_years_df(df: pd.DataFrame) -> pd.DataFrame:\n",
    "    countries = df['country_of_asylum_abbr'].unique()\n",
    "    years = df['year'].unique()\n",
    "    result = pd.DataFrame(columns=[\"country\", \"year\"])\n",
    "    for country in countries:\n",
    "        c_list = [country] * len(years)\n",
    "        country_list_df = pd.DataFrame({\"country\" : c_list, \"year\" : years})\n",
    "        result = pd.concat([result, country_list_df], ignore_index=True)\n",
    "    result['merge_column'] = result['country'] + result['year'].astype(str)\n",
    "    return result\n",
    "\n",
    "## TODO: For loop at group by with if statement\n",
    "\n",
    "\n",
    "def Merge_and_clean_df(destination_df: pd.DataFrame, years_df: pd.DataFrame) -> pd.DataFrame:\n",
    "    final = years_df.merge(destination_df, on='merge_column', how='left')\n",
    "    final[final['year_x'] != final['year_y']]\n",
    "    final = final.drop(columns=['year_y', 'merge_column', 'country_of_asylum_abbr'])\n",
    "    final = final.rename(columns={'year_x': 'year'})\n",
    "    final['count'] = final['count'].fillna(0)\n",
    "    final['cumulative_sum'] = final.groupby('country')['count'].cumsum()\n",
    "    return final\n",
    "\n",
    "def Get_ready_for_plot_df(df: pd.DataFrame, country_of_origin_abbr: str) -> pd.DataFrame:\n",
    "    destination = Get_Destination_by_year_df(df, country_of_origin_abbr)\n",
    "    yearly = Get_countries_and_years_df(destination)\n",
    "    return Merge_and_clean_df(destination, yearly)    \n",
    "\n",
    "def Get_total_country_migration_df(df: pd.DataFrame, country_of_origin_abbr: str) -> pd.DataFrame:\n",
    "    return df[df['country_of_origin_abbr'] == country_of_origin_abbr].groupby('year').agg({'count' : 'sum'}).reset_index()"
   ]
  },
  {
   "cell_type": "code",
   "execution_count": 55,
   "metadata": {},
   "outputs": [
    {
     "data": {
      "text/html": [
       "<div>\n",
       "<style scoped>\n",
       "    .dataframe tbody tr th:only-of-type {\n",
       "        vertical-align: middle;\n",
       "    }\n",
       "\n",
       "    .dataframe tbody tr th {\n",
       "        vertical-align: top;\n",
       "    }\n",
       "\n",
       "    .dataframe thead th {\n",
       "        text-align: right;\n",
       "    }\n",
       "</style>\n",
       "<table border=\"1\" class=\"dataframe\">\n",
       "  <thead>\n",
       "    <tr style=\"text-align: right;\">\n",
       "      <th></th>\n",
       "      <th>country_of_origin_abbr</th>\n",
       "      <th>country_of_origin_name</th>\n",
       "      <th>country_of_asylum_abbr</th>\n",
       "      <th>country_of_asylum_name</th>\n",
       "      <th>region_of_asylum</th>\n",
       "      <th>category</th>\n",
       "      <th>year</th>\n",
       "      <th>count</th>\n",
       "    </tr>\n",
       "  </thead>\n",
       "  <tbody>\n",
       "    <tr>\n",
       "      <th>0</th>\n",
       "      <td>DZA</td>\n",
       "      <td>Algeria</td>\n",
       "      <td>MLT</td>\n",
       "      <td>Malta</td>\n",
       "      <td>Europe</td>\n",
       "      <td>Refugee</td>\n",
       "      <td>1962</td>\n",
       "      <td>5</td>\n",
       "    </tr>\n",
       "    <tr>\n",
       "      <th>1</th>\n",
       "      <td>AGO</td>\n",
       "      <td>Angola</td>\n",
       "      <td>COD</td>\n",
       "      <td>Dem. Rep. of the Congo</td>\n",
       "      <td>Southern Africa</td>\n",
       "      <td>Refugee</td>\n",
       "      <td>1962</td>\n",
       "      <td>20000</td>\n",
       "    </tr>\n",
       "    <tr>\n",
       "      <th>2</th>\n",
       "      <td>AGO</td>\n",
       "      <td>Angola</td>\n",
       "      <td>NAM</td>\n",
       "      <td>Namibia</td>\n",
       "      <td>Southern Africa</td>\n",
       "      <td>Refugee</td>\n",
       "      <td>1962</td>\n",
       "      <td>277</td>\n",
       "    </tr>\n",
       "    <tr>\n",
       "      <th>3</th>\n",
       "      <td>BDI</td>\n",
       "      <td>Burundi</td>\n",
       "      <td>NAM</td>\n",
       "      <td>Namibia</td>\n",
       "      <td>Southern Africa</td>\n",
       "      <td>Refugee</td>\n",
       "      <td>1962</td>\n",
       "      <td>13</td>\n",
       "    </tr>\n",
       "    <tr>\n",
       "      <th>4</th>\n",
       "      <td>CHN</td>\n",
       "      <td>China</td>\n",
       "      <td>NPL</td>\n",
       "      <td>Nepal</td>\n",
       "      <td>Asia and the Pacific</td>\n",
       "      <td>Refugee</td>\n",
       "      <td>1962</td>\n",
       "      <td>5</td>\n",
       "    </tr>\n",
       "    <tr>\n",
       "      <th>...</th>\n",
       "      <td>...</td>\n",
       "      <td>...</td>\n",
       "      <td>...</td>\n",
       "      <td>...</td>\n",
       "      <td>...</td>\n",
       "      <td>...</td>\n",
       "      <td>...</td>\n",
       "      <td>...</td>\n",
       "    </tr>\n",
       "    <tr>\n",
       "      <th>103303</th>\n",
       "      <td>ZWE</td>\n",
       "      <td>Zimbabwe</td>\n",
       "      <td>POL</td>\n",
       "      <td>Poland</td>\n",
       "      <td>Europe</td>\n",
       "      <td>Asylum-seekers</td>\n",
       "      <td>2024</td>\n",
       "      <td>9</td>\n",
       "    </tr>\n",
       "    <tr>\n",
       "      <th>103304</th>\n",
       "      <td>ZWE</td>\n",
       "      <td>Zimbabwe</td>\n",
       "      <td>ZAF</td>\n",
       "      <td>South Africa</td>\n",
       "      <td>Southern Africa</td>\n",
       "      <td>Asylum-seekers</td>\n",
       "      <td>2024</td>\n",
       "      <td>89</td>\n",
       "    </tr>\n",
       "    <tr>\n",
       "      <th>103305</th>\n",
       "      <td>ZWE</td>\n",
       "      <td>Zimbabwe</td>\n",
       "      <td>SWE</td>\n",
       "      <td>Sweden</td>\n",
       "      <td>Europe</td>\n",
       "      <td>Asylum-seekers</td>\n",
       "      <td>2024</td>\n",
       "      <td>5</td>\n",
       "    </tr>\n",
       "    <tr>\n",
       "      <th>103306</th>\n",
       "      <td>ZWE</td>\n",
       "      <td>Zimbabwe</td>\n",
       "      <td>USA</td>\n",
       "      <td>United States of America</td>\n",
       "      <td>Americas</td>\n",
       "      <td>Asylum-seekers</td>\n",
       "      <td>2024</td>\n",
       "      <td>641</td>\n",
       "    </tr>\n",
       "    <tr>\n",
       "      <th>103307</th>\n",
       "      <td>ZWE</td>\n",
       "      <td>Zimbabwe</td>\n",
       "      <td>ZMB</td>\n",
       "      <td>Zambia</td>\n",
       "      <td>Southern Africa</td>\n",
       "      <td>Asylum-seekers</td>\n",
       "      <td>2024</td>\n",
       "      <td>9</td>\n",
       "    </tr>\n",
       "  </tbody>\n",
       "</table>\n",
       "<p>103308 rows × 8 columns</p>\n",
       "</div>"
      ],
      "text/plain": [
       "       country_of_origin_abbr country_of_origin_name country_of_asylum_abbr  \\\n",
       "0                         DZA                Algeria                    MLT   \n",
       "1                         AGO                 Angola                    COD   \n",
       "2                         AGO                 Angola                    NAM   \n",
       "3                         BDI                Burundi                    NAM   \n",
       "4                         CHN                  China                    NPL   \n",
       "...                       ...                    ...                    ...   \n",
       "103303                    ZWE               Zimbabwe                    POL   \n",
       "103304                    ZWE               Zimbabwe                    ZAF   \n",
       "103305                    ZWE               Zimbabwe                    SWE   \n",
       "103306                    ZWE               Zimbabwe                    USA   \n",
       "103307                    ZWE               Zimbabwe                    ZMB   \n",
       "\n",
       "          country_of_asylum_name      region_of_asylum        category  year  \\\n",
       "0                          Malta                Europe         Refugee  1962   \n",
       "1         Dem. Rep. of the Congo       Southern Africa         Refugee  1962   \n",
       "2                        Namibia       Southern Africa         Refugee  1962   \n",
       "3                        Namibia       Southern Africa         Refugee  1962   \n",
       "4                          Nepal  Asia and the Pacific         Refugee  1962   \n",
       "...                          ...                   ...             ...   ...   \n",
       "103303                    Poland                Europe  Asylum-seekers  2024   \n",
       "103304              South Africa       Southern Africa  Asylum-seekers  2024   \n",
       "103305                    Sweden                Europe  Asylum-seekers  2024   \n",
       "103306  United States of America              Americas  Asylum-seekers  2024   \n",
       "103307                    Zambia       Southern Africa  Asylum-seekers  2024   \n",
       "\n",
       "        count  \n",
       "0           5  \n",
       "1       20000  \n",
       "2         277  \n",
       "3          13  \n",
       "4           5  \n",
       "...       ...  \n",
       "103303      9  \n",
       "103304     89  \n",
       "103305      5  \n",
       "103306    641  \n",
       "103307      9  \n",
       "\n",
       "[103308 rows x 8 columns]"
      ]
     },
     "execution_count": 55,
     "metadata": {},
     "output_type": "execute_result"
    }
   ],
   "source": [
    "countries = asylum[['country_of_origin_name', 'count']].groupby('country_of_origin_name').agg({'count': \"sum\"}).reset_index().sort_values('count', ascending=False)\n",
    "countries\n",
    "asylum"
   ]
  },
  {
   "cell_type": "code",
   "execution_count": 56,
   "metadata": {},
   "outputs": [
    {
     "data": {
      "text/plain": [
       "array(['Afghanistan', 'Syrian Arab Rep.',\n",
       "       'Venezuela (Bolivarian Republic of)', 'Ukraine', 'Ethiopia',\n",
       "       'Iraq', 'Sudan', 'Rwanda', 'South Sudan', 'Dem. Rep. of the Congo',\n",
       "       'Somalia', 'Serbia and Kosovo: S/RES/1244 (1999)', 'Myanmar',\n",
       "       'Unknown/other', 'Burundi', 'Liberia', 'Eritrea', 'Türkiye',\n",
       "       'Pakistan', 'Nigeria', 'Angola', 'Viet Nam', 'Mozambique',\n",
       "       'Central African Rep.', 'Colombia', 'Iran (Islamic Rep. of)',\n",
       "       'Zimbabwe', 'China', 'El Salvador', 'Nicaragua', 'Sierra Leone',\n",
       "       'Russian Federation', 'Haiti', 'Bosnia and Herzegovina', 'India',\n",
       "       'Guatemala', 'Uganda', 'Azerbaijan', 'Mali', 'Honduras',\n",
       "       'Sri Lanka', 'Mexico', 'Cuba', 'Chad', 'Romania', \"Côte d'Ivoire\",\n",
       "       'Bangladesh', 'Armenia', 'Albania', \"Lao People's Dem. Rep.\",\n",
       "       'Cambodia', 'Congo, Republic of', 'Cameroon', 'Georgia', 'Togo',\n",
       "       'Poland', 'Timor-Leste', 'Guinea', 'Algeria', 'Lebanon', 'Ghana',\n",
       "       'Burkina Faso', 'Croatia', 'Senegal', 'Libya', 'North Macedonia',\n",
       "       'Yemen', 'Peru', 'Egypt', 'Morocco', 'Stateless', 'Mauritania',\n",
       "       'State of Palestine', 'Bulgaria', 'Ecuador', 'Brazil', 'Indonesia',\n",
       "       'Gambia', 'Tunisia', 'Namibia', 'Rep. of Moldova', 'Czechia',\n",
       "       'Guinea-Bissau', 'Malawi', 'Nepal', 'Bhutan', 'Hungary', 'Niger',\n",
       "       'Chile', 'Kenya', 'Uzbekistan', 'Belarus', 'Philippines',\n",
       "       'Malaysia', 'South Africa', 'Mongolia', 'Kazakhstan', 'Jordan',\n",
       "       'Tajikistan', 'Slovakia', 'Kyrgyzstan', 'Dominican Rep.',\n",
       "       'United Rep. of Tanzania', 'Jamaica', 'Israel', 'Zambia',\n",
       "       'Argentina', 'Comoros', 'United States of America', 'Fiji',\n",
       "       'Benin', 'Thailand', 'Bolivia (Plurinational State of)',\n",
       "       'Montenegro', 'Kuwait', 'Costa Rica', 'Turkmenistan', 'Guyana',\n",
       "       'Western Sahara', 'Djibouti', 'Lithuania', 'Rep. of Korea',\n",
       "       'Saudi Arabia', 'Uruguay', 'Lesotho', 'Trinidad and Tobago',\n",
       "       'Saint Vincent and the Grenadines', \"Dem. People's Rep. of Korea\",\n",
       "       'Latvia', 'Gabon', 'Suriname', 'Madagascar', 'Cabo Verde',\n",
       "       'Panama', 'Mauritius', 'Paraguay', 'Bahamas', 'Greece',\n",
       "       'Equatorial Guinea', 'Saint Lucia', 'Estonia', 'Portugal', 'Tonga',\n",
       "       'Spain', 'Italy', 'Germany', 'Botswana', 'United Kingdom',\n",
       "       'Papua New Guinea', 'Grenada', 'France', 'Belize',\n",
       "       'China, Hong Kong SAR', 'Vanuatu', 'Barbados', 'Eswatini',\n",
       "       'Bahrain', 'Dominica', 'Canada', 'Solomon Islands',\n",
       "       'Netherlands (Kingdom of the)', 'Seychelles',\n",
       "       'United Arab Emirates', 'Samoa', 'Ireland', 'Cyprus', 'Singapore',\n",
       "       'Japan', 'French Guiana', 'Slovenia', 'Belgium', 'Sweden',\n",
       "       'Antigua and Barbuda', 'Australia', 'China, Macao SAR', 'Oman',\n",
       "       'New Zealand', 'Maldives', 'Sao Tome and Principe',\n",
       "       'Saint Kitts and Nevis', 'Qatar', 'Austria', 'Denmark',\n",
       "       'Switzerland', 'Norway', 'Bermuda', 'Guadeloupe',\n",
       "       'Brunei Darussalam', 'Finland', 'Curaçao', 'Kiribati',\n",
       "       'Micronesia (Federated States of)', 'Malta', 'San Marino',\n",
       "       'Iceland', 'Nauru', 'Turks and Caicos Islands', 'Andorra',\n",
       "       'Tuvalu', 'Liechtenstein', 'Holy See (the)', 'Marshall Islands',\n",
       "       'Anguilla', 'Monaco', 'Puerto Rico', 'Gibraltar',\n",
       "       'Bonaire, Sint Eustatius and Saba', 'Cayman Islands',\n",
       "       'Cook Islands', 'Palau', 'Niue', 'New Caledonia', 'Luxembourg'],\n",
       "      dtype=object)"
      ]
     },
     "execution_count": 56,
     "metadata": {},
     "output_type": "execute_result"
    }
   ],
   "source": [
    "countries['country_of_origin_name'].unique()"
   ]
  },
  {
   "cell_type": "code",
   "execution_count": 58,
   "metadata": {},
   "outputs": [
    {
     "data": {
      "text/html": [
       "\n",
       "        <iframe\n",
       "            width=\"100%\"\n",
       "            height=\"650\"\n",
       "            src=\"http://127.0.0.1:8050/\"\n",
       "            frameborder=\"0\"\n",
       "            allowfullscreen\n",
       "            \n",
       "        ></iframe>\n",
       "        "
      ],
      "text/plain": [
       "<IPython.lib.display.IFrame at 0x1f442fa2db0>"
      ]
     },
     "metadata": {},
     "output_type": "display_data"
    }
   ],
   "source": [
    "app2 = Dash(__name__)\n",
    "\n",
    "countries = asylum[['country_of_origin_abbr', 'count']].groupby('country_of_origin_abbr').agg({'count': \"sum\"}).reset_index().sort_values('count', ascending=False)\n",
    "options = countries['country_of_origin_abbr'].unique()\n",
    "\n",
    "app2.layout = html.Div([\n",
    "    html.H2('Countries'),\n",
    "    html.P('Select country:'),\n",
    "    dcc.Dropdown(\n",
    "        id=\"dropdown\",\n",
    "        options=options,\n",
    "        value=options[0],\n",
    "        clearable=False,\n",
    "    ),\n",
    "    dcc.Graph(id=\"line\"),\n",
    "    dcc.Graph(id=\"graph\"),\n",
    "    \n",
    "], style={'backgroundColor':'white'})\n",
    "\n",
    "@app2.callback(\n",
    "    Output(\"graph\", \"figure\"),\n",
    "    Input(\"dropdown\", \"value\"))\n",
    "\n",
    "def update_bar_chart(country):\n",
    "    final = Get_ready_for_plot_df(asylum, country)\n",
    "    final_heat = final[final['cumulative_sum'] != 0]\n",
    "\n",
    "    fig = px.choropleth(final_heat, locations=\"country\", locationmode='ISO-3',\n",
    "                        color=\"cumulative_sum\",\n",
    "                        color_continuous_scale=\"Reds\",\n",
    "                        hover_name=\"country\",\n",
    "                        animation_frame=\"year\",\n",
    "                        projection=\"natural earth\")\n",
    "\n",
    "    return fig\n",
    "\n",
    "@app2.callback(\n",
    "    Output(\"line\", \"figure\"),\n",
    "    Input(\"dropdown\", \"value\"))\n",
    "\n",
    "def update_line(country):\n",
    "    timeline = Get_total_country_migration_df(asylum, country)\n",
    "    trace = go.Scatter(x=timeline['year'], y=timeline['count'])\n",
    "    fig = go.Figure(trace)\n",
    "\n",
    "    for peak in Peak_finder(timeline):\n",
    "        fig.add_shape(type=\"rect\",\n",
    "                    x0=peak['start'], y0=0, x1=peak['end'], y1=10300000,\n",
    "                    fillcolor=\"tomato\", opacity=0.5,\n",
    "                    layer=\"below\", line_width=0)\n",
    "\n",
    "    fig.update_layout(\n",
    "    title=f'Total {country} asylum seeker population over the years (highlighted migration crisis)',\n",
    "    xaxis={'title': {'text': \"Years\"}, 'showgrid':False},\n",
    "    yaxis={'title': {'text': 'Asylum Seekers'}, 'rangemode': 'tozero', 'showgrid':False}\n",
    "    )\n",
    "\n",
    "    return fig\n",
    "\n",
    "\n",
    "\n",
    "app2.run(debug=True)"
   ]
  },
  {
   "cell_type": "code",
   "execution_count": null,
   "metadata": {},
   "outputs": [],
   "source": [
    "\n",
    "fig.show()"
   ]
  }
 ],
 "metadata": {
  "kernelspec": {
   "display_name": "env",
   "language": "python",
   "name": "python3"
  },
  "language_info": {
   "codemirror_mode": {
    "name": "ipython",
    "version": 3
   },
   "file_extension": ".py",
   "mimetype": "text/x-python",
   "name": "python",
   "nbconvert_exporter": "python",
   "pygments_lexer": "ipython3",
   "version": "3.12.6"
  }
 },
 "nbformat": 4,
 "nbformat_minor": 2
}
