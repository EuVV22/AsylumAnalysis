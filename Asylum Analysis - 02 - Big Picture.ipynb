{
 "cells": [
  {
   "cell_type": "markdown",
   "metadata": {},
   "source": [
    "# Asylum seekers"
   ]
  },
  {
   "cell_type": "code",
   "execution_count": 1,
   "metadata": {},
   "outputs": [],
   "source": [
    "import pandas as pd\n",
    "import plotly.graph_objects as go\n",
    "import nbformat"
   ]
  },
  {
   "cell_type": "markdown",
   "metadata": {},
   "source": [
    "## Analisys"
   ]
  },
  {
   "cell_type": "code",
   "execution_count": 2,
   "metadata": {},
   "outputs": [
    {
     "data": {
      "text/html": [
       "<div>\n",
       "<style scoped>\n",
       "    .dataframe tbody tr th:only-of-type {\n",
       "        vertical-align: middle;\n",
       "    }\n",
       "\n",
       "    .dataframe tbody tr th {\n",
       "        vertical-align: top;\n",
       "    }\n",
       "\n",
       "    .dataframe thead th {\n",
       "        text-align: right;\n",
       "    }\n",
       "</style>\n",
       "<table border=\"1\" class=\"dataframe\">\n",
       "  <thead>\n",
       "    <tr style=\"text-align: right;\">\n",
       "      <th></th>\n",
       "      <th>country_of_origin_abbr</th>\n",
       "      <th>country_of_origin_name</th>\n",
       "      <th>country_of_asylum_abbr</th>\n",
       "      <th>country_of_asylum_name</th>\n",
       "      <th>region_of_asylum</th>\n",
       "      <th>category</th>\n",
       "      <th>year</th>\n",
       "      <th>count</th>\n",
       "    </tr>\n",
       "  </thead>\n",
       "  <tbody>\n",
       "    <tr>\n",
       "      <th>1561</th>\n",
       "      <td>AFG</td>\n",
       "      <td>Afghanistan</td>\n",
       "      <td>AUT</td>\n",
       "      <td>Austria</td>\n",
       "      <td>Europe</td>\n",
       "      <td>Asylum-seekers</td>\n",
       "      <td>1981</td>\n",
       "      <td>31</td>\n",
       "    </tr>\n",
       "    <tr>\n",
       "      <th>1562</th>\n",
       "      <td>AFG</td>\n",
       "      <td>Afghanistan</td>\n",
       "      <td>FRA</td>\n",
       "      <td>France</td>\n",
       "      <td>Europe</td>\n",
       "      <td>Asylum-seekers</td>\n",
       "      <td>1981</td>\n",
       "      <td>116</td>\n",
       "    </tr>\n",
       "    <tr>\n",
       "      <th>1563</th>\n",
       "      <td>AFG</td>\n",
       "      <td>Afghanistan</td>\n",
       "      <td>GBR</td>\n",
       "      <td>United Kingdom</td>\n",
       "      <td>Europe</td>\n",
       "      <td>Asylum-seekers</td>\n",
       "      <td>1981</td>\n",
       "      <td>82</td>\n",
       "    </tr>\n",
       "    <tr>\n",
       "      <th>1564</th>\n",
       "      <td>AFG</td>\n",
       "      <td>Afghanistan</td>\n",
       "      <td>DEU</td>\n",
       "      <td>Germany</td>\n",
       "      <td>Europe</td>\n",
       "      <td>Asylum-seekers</td>\n",
       "      <td>1981</td>\n",
       "      <td>3610</td>\n",
       "    </tr>\n",
       "    <tr>\n",
       "      <th>1565</th>\n",
       "      <td>AFG</td>\n",
       "      <td>Afghanistan</td>\n",
       "      <td>GRC</td>\n",
       "      <td>Greece</td>\n",
       "      <td>Europe</td>\n",
       "      <td>Asylum-seekers</td>\n",
       "      <td>1981</td>\n",
       "      <td>16</td>\n",
       "    </tr>\n",
       "  </tbody>\n",
       "</table>\n",
       "</div>"
      ],
      "text/plain": [
       "     country_of_origin_abbr country_of_origin_name country_of_asylum_abbr  \\\n",
       "1561                    AFG            Afghanistan                    AUT   \n",
       "1562                    AFG            Afghanistan                    FRA   \n",
       "1563                    AFG            Afghanistan                    GBR   \n",
       "1564                    AFG            Afghanistan                    DEU   \n",
       "1565                    AFG            Afghanistan                    GRC   \n",
       "\n",
       "     country_of_asylum_name region_of_asylum        category  year  count  \n",
       "1561                Austria           Europe  Asylum-seekers  1981     31  \n",
       "1562                 France           Europe  Asylum-seekers  1981    116  \n",
       "1563         United Kingdom           Europe  Asylum-seekers  1981     82  \n",
       "1564                Germany           Europe  Asylum-seekers  1981   3610  \n",
       "1565                 Greece           Europe  Asylum-seekers  1981     16  "
      ]
     },
     "execution_count": 2,
     "metadata": {},
     "output_type": "execute_result"
    }
   ],
   "source": [
    "asylum = pd.read_csv('.\\\\Data\\\\Clean\\\\Asylum_data.csv')\n",
    "population = pd.read_csv(\".\\\\Data\\\\Clean\\\\Population_data.csv\")\n",
    "\n",
    "asylum_2000 = asylum[asylum[\"year\"] > 1980]\n",
    "asylum_2000.head()"
   ]
  },
  {
   "cell_type": "code",
   "execution_count": 3,
   "metadata": {},
   "outputs": [
    {
     "data": {
      "text/plain": [
       "(20, 2)"
      ]
     },
     "execution_count": 3,
     "metadata": {},
     "output_type": "execute_result"
    }
   ],
   "source": [
    "asylum_2000_by_country = asylum_2000.groupby('country_of_origin_name').agg({'count' : 'sum'}).reset_index()\n",
    "asylum_2000_by_country = asylum_2000_by_country.nlargest(20, 'count')\n",
    "asylum_2000_by_country.shape\n"
   ]
  },
  {
   "cell_type": "code",
   "execution_count": 4,
   "metadata": {},
   "outputs": [
    {
     "data": {
      "text/html": [
       "<div>\n",
       "<style scoped>\n",
       "    .dataframe tbody tr th:only-of-type {\n",
       "        vertical-align: middle;\n",
       "    }\n",
       "\n",
       "    .dataframe tbody tr th {\n",
       "        vertical-align: top;\n",
       "    }\n",
       "\n",
       "    .dataframe thead th {\n",
       "        text-align: right;\n",
       "    }\n",
       "</style>\n",
       "<table border=\"1\" class=\"dataframe\">\n",
       "  <thead>\n",
       "    <tr style=\"text-align: right;\">\n",
       "      <th></th>\n",
       "      <th>country_of_origin_abbr</th>\n",
       "      <th>country_of_origin_name</th>\n",
       "      <th>country_of_asylum_abbr</th>\n",
       "      <th>country_of_asylum_name</th>\n",
       "      <th>region_of_asylum</th>\n",
       "      <th>category</th>\n",
       "      <th>year</th>\n",
       "      <th>count</th>\n",
       "    </tr>\n",
       "  </thead>\n",
       "  <tbody>\n",
       "    <tr>\n",
       "      <th>15292</th>\n",
       "      <td>AFG</td>\n",
       "      <td>Afghanistan</td>\n",
       "      <td>UKR</td>\n",
       "      <td>Ukraine</td>\n",
       "      <td>Europe</td>\n",
       "      <td>Refugee</td>\n",
       "      <td>1997</td>\n",
       "      <td>530</td>\n",
       "    </tr>\n",
       "    <tr>\n",
       "      <th>16636</th>\n",
       "      <td>SOM</td>\n",
       "      <td>Somalia</td>\n",
       "      <td>UKR</td>\n",
       "      <td>Ukraine</td>\n",
       "      <td>Europe</td>\n",
       "      <td>Refugee</td>\n",
       "      <td>1997</td>\n",
       "      <td>52</td>\n",
       "    </tr>\n",
       "    <tr>\n",
       "      <th>16991</th>\n",
       "      <td>AFG</td>\n",
       "      <td>Afghanistan</td>\n",
       "      <td>UKR</td>\n",
       "      <td>Ukraine</td>\n",
       "      <td>Europe</td>\n",
       "      <td>Refugee</td>\n",
       "      <td>1998</td>\n",
       "      <td>447</td>\n",
       "    </tr>\n",
       "    <tr>\n",
       "      <th>18305</th>\n",
       "      <td>SOM</td>\n",
       "      <td>Somalia</td>\n",
       "      <td>UKR</td>\n",
       "      <td>Ukraine</td>\n",
       "      <td>Europe</td>\n",
       "      <td>Refugee</td>\n",
       "      <td>1998</td>\n",
       "      <td>22</td>\n",
       "    </tr>\n",
       "    <tr>\n",
       "      <th>20451</th>\n",
       "      <td>AFG</td>\n",
       "      <td>Afghanistan</td>\n",
       "      <td>UKR</td>\n",
       "      <td>Ukraine</td>\n",
       "      <td>Europe</td>\n",
       "      <td>Asylum-seekers</td>\n",
       "      <td>2000</td>\n",
       "      <td>662</td>\n",
       "    </tr>\n",
       "    <tr>\n",
       "      <th>...</th>\n",
       "      <td>...</td>\n",
       "      <td>...</td>\n",
       "      <td>...</td>\n",
       "      <td>...</td>\n",
       "      <td>...</td>\n",
       "      <td>...</td>\n",
       "      <td>...</td>\n",
       "      <td>...</td>\n",
       "    </tr>\n",
       "    <tr>\n",
       "      <th>102136</th>\n",
       "      <td>NGA</td>\n",
       "      <td>Nigeria</td>\n",
       "      <td>UKR</td>\n",
       "      <td>Ukraine</td>\n",
       "      <td>Europe</td>\n",
       "      <td>Asylum-seekers</td>\n",
       "      <td>2024</td>\n",
       "      <td>5</td>\n",
       "    </tr>\n",
       "    <tr>\n",
       "      <th>102372</th>\n",
       "      <td>RUS</td>\n",
       "      <td>Russian Federation</td>\n",
       "      <td>UKR</td>\n",
       "      <td>Ukraine</td>\n",
       "      <td>Europe</td>\n",
       "      <td>Asylum-seekers</td>\n",
       "      <td>2024</td>\n",
       "      <td>19</td>\n",
       "    </tr>\n",
       "    <tr>\n",
       "      <th>102658</th>\n",
       "      <td>STA</td>\n",
       "      <td>Stateless</td>\n",
       "      <td>UKR</td>\n",
       "      <td>Ukraine</td>\n",
       "      <td>Europe</td>\n",
       "      <td>Asylum-seekers</td>\n",
       "      <td>2024</td>\n",
       "      <td>5</td>\n",
       "    </tr>\n",
       "    <tr>\n",
       "      <th>102832</th>\n",
       "      <td>SYR</td>\n",
       "      <td>Syrian Arab Rep.</td>\n",
       "      <td>UKR</td>\n",
       "      <td>Ukraine</td>\n",
       "      <td>Europe</td>\n",
       "      <td>Asylum-seekers</td>\n",
       "      <td>2024</td>\n",
       "      <td>5</td>\n",
       "    </tr>\n",
       "    <tr>\n",
       "      <th>102887</th>\n",
       "      <td>TJK</td>\n",
       "      <td>Tajikistan</td>\n",
       "      <td>UKR</td>\n",
       "      <td>Ukraine</td>\n",
       "      <td>Europe</td>\n",
       "      <td>Asylum-seekers</td>\n",
       "      <td>2024</td>\n",
       "      <td>8</td>\n",
       "    </tr>\n",
       "  </tbody>\n",
       "</table>\n",
       "<p>792 rows × 8 columns</p>\n",
       "</div>"
      ],
      "text/plain": [
       "       country_of_origin_abbr country_of_origin_name country_of_asylum_abbr  \\\n",
       "15292                     AFG            Afghanistan                    UKR   \n",
       "16636                     SOM                Somalia                    UKR   \n",
       "16991                     AFG            Afghanistan                    UKR   \n",
       "18305                     SOM                Somalia                    UKR   \n",
       "20451                     AFG            Afghanistan                    UKR   \n",
       "...                       ...                    ...                    ...   \n",
       "102136                    NGA                Nigeria                    UKR   \n",
       "102372                    RUS     Russian Federation                    UKR   \n",
       "102658                    STA              Stateless                    UKR   \n",
       "102832                    SYR       Syrian Arab Rep.                    UKR   \n",
       "102887                    TJK             Tajikistan                    UKR   \n",
       "\n",
       "       country_of_asylum_name region_of_asylum        category  year  count  \n",
       "15292                 Ukraine           Europe         Refugee  1997    530  \n",
       "16636                 Ukraine           Europe         Refugee  1997     52  \n",
       "16991                 Ukraine           Europe         Refugee  1998    447  \n",
       "18305                 Ukraine           Europe         Refugee  1998     22  \n",
       "20451                 Ukraine           Europe  Asylum-seekers  2000    662  \n",
       "...                       ...              ...             ...   ...    ...  \n",
       "102136                Ukraine           Europe  Asylum-seekers  2024      5  \n",
       "102372                Ukraine           Europe  Asylum-seekers  2024     19  \n",
       "102658                Ukraine           Europe  Asylum-seekers  2024      5  \n",
       "102832                Ukraine           Europe  Asylum-seekers  2024      5  \n",
       "102887                Ukraine           Europe  Asylum-seekers  2024      8  \n",
       "\n",
       "[792 rows x 8 columns]"
      ]
     },
     "execution_count": 4,
     "metadata": {},
     "output_type": "execute_result"
    }
   ],
   "source": [
    "asylum[asylum['country_of_asylum_name'] == 'Ukraine']"
   ]
  },
  {
   "cell_type": "markdown",
   "metadata": {},
   "source": [
    "# Graph the biggets ex"
   ]
  },
  {
   "cell_type": "code",
   "execution_count": 5,
   "metadata": {},
   "outputs": [
    {
     "data": {
      "application/vnd.plotly.v1+json": {
       "config": {
        "plotlyServerURL": "https://plot.ly"
       },
       "data": [
        {
         "mode": "markers",
         "type": "scatter",
         "x": [
          "Afghanistan",
          "Syrian Arab Rep.",
          "Venezuela (Bolivarian Republic of)",
          "Ukraine",
          "Iraq",
          "Sudan",
          "South Sudan",
          "Rwanda",
          "Somalia",
          "Dem. Rep. of the Congo",
          "Serbia and Kosovo: S/RES/1244 (1999)",
          "Myanmar",
          "Ethiopia",
          "Unknown/other",
          "Liberia",
          "Burundi",
          "Eritrea",
          "Nigeria",
          "Pakistan",
          "Türkiye"
         ],
         "y": {
          "bdata": "AGGvAGZ+jgDvjoAACpt5ACGLNwAFWjQAel8xANcOMQCPFS4A1zYpAEN7JgCkyh8ASZYbAIt3GgA6qhcAU1kXAAa/EwAI2hEA5LkRALKyEQA=",
          "dtype": "i4"
         }
        }
       ],
       "layout": {
        "template": {
         "data": {
          "bar": [
           {
            "error_x": {
             "color": "#2a3f5f"
            },
            "error_y": {
             "color": "#2a3f5f"
            },
            "marker": {
             "line": {
              "color": "#E5ECF6",
              "width": 0.5
             },
             "pattern": {
              "fillmode": "overlay",
              "size": 10,
              "solidity": 0.2
             }
            },
            "type": "bar"
           }
          ],
          "barpolar": [
           {
            "marker": {
             "line": {
              "color": "#E5ECF6",
              "width": 0.5
             },
             "pattern": {
              "fillmode": "overlay",
              "size": 10,
              "solidity": 0.2
             }
            },
            "type": "barpolar"
           }
          ],
          "carpet": [
           {
            "aaxis": {
             "endlinecolor": "#2a3f5f",
             "gridcolor": "white",
             "linecolor": "white",
             "minorgridcolor": "white",
             "startlinecolor": "#2a3f5f"
            },
            "baxis": {
             "endlinecolor": "#2a3f5f",
             "gridcolor": "white",
             "linecolor": "white",
             "minorgridcolor": "white",
             "startlinecolor": "#2a3f5f"
            },
            "type": "carpet"
           }
          ],
          "choropleth": [
           {
            "colorbar": {
             "outlinewidth": 0,
             "ticks": ""
            },
            "type": "choropleth"
           }
          ],
          "contour": [
           {
            "colorbar": {
             "outlinewidth": 0,
             "ticks": ""
            },
            "colorscale": [
             [
              0,
              "#0d0887"
             ],
             [
              0.1111111111111111,
              "#46039f"
             ],
             [
              0.2222222222222222,
              "#7201a8"
             ],
             [
              0.3333333333333333,
              "#9c179e"
             ],
             [
              0.4444444444444444,
              "#bd3786"
             ],
             [
              0.5555555555555556,
              "#d8576b"
             ],
             [
              0.6666666666666666,
              "#ed7953"
             ],
             [
              0.7777777777777778,
              "#fb9f3a"
             ],
             [
              0.8888888888888888,
              "#fdca26"
             ],
             [
              1,
              "#f0f921"
             ]
            ],
            "type": "contour"
           }
          ],
          "contourcarpet": [
           {
            "colorbar": {
             "outlinewidth": 0,
             "ticks": ""
            },
            "type": "contourcarpet"
           }
          ],
          "heatmap": [
           {
            "colorbar": {
             "outlinewidth": 0,
             "ticks": ""
            },
            "colorscale": [
             [
              0,
              "#0d0887"
             ],
             [
              0.1111111111111111,
              "#46039f"
             ],
             [
              0.2222222222222222,
              "#7201a8"
             ],
             [
              0.3333333333333333,
              "#9c179e"
             ],
             [
              0.4444444444444444,
              "#bd3786"
             ],
             [
              0.5555555555555556,
              "#d8576b"
             ],
             [
              0.6666666666666666,
              "#ed7953"
             ],
             [
              0.7777777777777778,
              "#fb9f3a"
             ],
             [
              0.8888888888888888,
              "#fdca26"
             ],
             [
              1,
              "#f0f921"
             ]
            ],
            "type": "heatmap"
           }
          ],
          "histogram": [
           {
            "marker": {
             "pattern": {
              "fillmode": "overlay",
              "size": 10,
              "solidity": 0.2
             }
            },
            "type": "histogram"
           }
          ],
          "histogram2d": [
           {
            "colorbar": {
             "outlinewidth": 0,
             "ticks": ""
            },
            "colorscale": [
             [
              0,
              "#0d0887"
             ],
             [
              0.1111111111111111,
              "#46039f"
             ],
             [
              0.2222222222222222,
              "#7201a8"
             ],
             [
              0.3333333333333333,
              "#9c179e"
             ],
             [
              0.4444444444444444,
              "#bd3786"
             ],
             [
              0.5555555555555556,
              "#d8576b"
             ],
             [
              0.6666666666666666,
              "#ed7953"
             ],
             [
              0.7777777777777778,
              "#fb9f3a"
             ],
             [
              0.8888888888888888,
              "#fdca26"
             ],
             [
              1,
              "#f0f921"
             ]
            ],
            "type": "histogram2d"
           }
          ],
          "histogram2dcontour": [
           {
            "colorbar": {
             "outlinewidth": 0,
             "ticks": ""
            },
            "colorscale": [
             [
              0,
              "#0d0887"
             ],
             [
              0.1111111111111111,
              "#46039f"
             ],
             [
              0.2222222222222222,
              "#7201a8"
             ],
             [
              0.3333333333333333,
              "#9c179e"
             ],
             [
              0.4444444444444444,
              "#bd3786"
             ],
             [
              0.5555555555555556,
              "#d8576b"
             ],
             [
              0.6666666666666666,
              "#ed7953"
             ],
             [
              0.7777777777777778,
              "#fb9f3a"
             ],
             [
              0.8888888888888888,
              "#fdca26"
             ],
             [
              1,
              "#f0f921"
             ]
            ],
            "type": "histogram2dcontour"
           }
          ],
          "mesh3d": [
           {
            "colorbar": {
             "outlinewidth": 0,
             "ticks": ""
            },
            "type": "mesh3d"
           }
          ],
          "parcoords": [
           {
            "line": {
             "colorbar": {
              "outlinewidth": 0,
              "ticks": ""
             }
            },
            "type": "parcoords"
           }
          ],
          "pie": [
           {
            "automargin": true,
            "type": "pie"
           }
          ],
          "scatter": [
           {
            "fillpattern": {
             "fillmode": "overlay",
             "size": 10,
             "solidity": 0.2
            },
            "type": "scatter"
           }
          ],
          "scatter3d": [
           {
            "line": {
             "colorbar": {
              "outlinewidth": 0,
              "ticks": ""
             }
            },
            "marker": {
             "colorbar": {
              "outlinewidth": 0,
              "ticks": ""
             }
            },
            "type": "scatter3d"
           }
          ],
          "scattercarpet": [
           {
            "marker": {
             "colorbar": {
              "outlinewidth": 0,
              "ticks": ""
             }
            },
            "type": "scattercarpet"
           }
          ],
          "scattergeo": [
           {
            "marker": {
             "colorbar": {
              "outlinewidth": 0,
              "ticks": ""
             }
            },
            "type": "scattergeo"
           }
          ],
          "scattergl": [
           {
            "marker": {
             "colorbar": {
              "outlinewidth": 0,
              "ticks": ""
             }
            },
            "type": "scattergl"
           }
          ],
          "scattermap": [
           {
            "marker": {
             "colorbar": {
              "outlinewidth": 0,
              "ticks": ""
             }
            },
            "type": "scattermap"
           }
          ],
          "scattermapbox": [
           {
            "marker": {
             "colorbar": {
              "outlinewidth": 0,
              "ticks": ""
             }
            },
            "type": "scattermapbox"
           }
          ],
          "scatterpolar": [
           {
            "marker": {
             "colorbar": {
              "outlinewidth": 0,
              "ticks": ""
             }
            },
            "type": "scatterpolar"
           }
          ],
          "scatterpolargl": [
           {
            "marker": {
             "colorbar": {
              "outlinewidth": 0,
              "ticks": ""
             }
            },
            "type": "scatterpolargl"
           }
          ],
          "scatterternary": [
           {
            "marker": {
             "colorbar": {
              "outlinewidth": 0,
              "ticks": ""
             }
            },
            "type": "scatterternary"
           }
          ],
          "surface": [
           {
            "colorbar": {
             "outlinewidth": 0,
             "ticks": ""
            },
            "colorscale": [
             [
              0,
              "#0d0887"
             ],
             [
              0.1111111111111111,
              "#46039f"
             ],
             [
              0.2222222222222222,
              "#7201a8"
             ],
             [
              0.3333333333333333,
              "#9c179e"
             ],
             [
              0.4444444444444444,
              "#bd3786"
             ],
             [
              0.5555555555555556,
              "#d8576b"
             ],
             [
              0.6666666666666666,
              "#ed7953"
             ],
             [
              0.7777777777777778,
              "#fb9f3a"
             ],
             [
              0.8888888888888888,
              "#fdca26"
             ],
             [
              1,
              "#f0f921"
             ]
            ],
            "type": "surface"
           }
          ],
          "table": [
           {
            "cells": {
             "fill": {
              "color": "#EBF0F8"
             },
             "line": {
              "color": "white"
             }
            },
            "header": {
             "fill": {
              "color": "#C8D4E3"
             },
             "line": {
              "color": "white"
             }
            },
            "type": "table"
           }
          ]
         },
         "layout": {
          "annotationdefaults": {
           "arrowcolor": "#2a3f5f",
           "arrowhead": 0,
           "arrowwidth": 1
          },
          "autotypenumbers": "strict",
          "coloraxis": {
           "colorbar": {
            "outlinewidth": 0,
            "ticks": ""
           }
          },
          "colorscale": {
           "diverging": [
            [
             0,
             "#8e0152"
            ],
            [
             0.1,
             "#c51b7d"
            ],
            [
             0.2,
             "#de77ae"
            ],
            [
             0.3,
             "#f1b6da"
            ],
            [
             0.4,
             "#fde0ef"
            ],
            [
             0.5,
             "#f7f7f7"
            ],
            [
             0.6,
             "#e6f5d0"
            ],
            [
             0.7,
             "#b8e186"
            ],
            [
             0.8,
             "#7fbc41"
            ],
            [
             0.9,
             "#4d9221"
            ],
            [
             1,
             "#276419"
            ]
           ],
           "sequential": [
            [
             0,
             "#0d0887"
            ],
            [
             0.1111111111111111,
             "#46039f"
            ],
            [
             0.2222222222222222,
             "#7201a8"
            ],
            [
             0.3333333333333333,
             "#9c179e"
            ],
            [
             0.4444444444444444,
             "#bd3786"
            ],
            [
             0.5555555555555556,
             "#d8576b"
            ],
            [
             0.6666666666666666,
             "#ed7953"
            ],
            [
             0.7777777777777778,
             "#fb9f3a"
            ],
            [
             0.8888888888888888,
             "#fdca26"
            ],
            [
             1,
             "#f0f921"
            ]
           ],
           "sequentialminus": [
            [
             0,
             "#0d0887"
            ],
            [
             0.1111111111111111,
             "#46039f"
            ],
            [
             0.2222222222222222,
             "#7201a8"
            ],
            [
             0.3333333333333333,
             "#9c179e"
            ],
            [
             0.4444444444444444,
             "#bd3786"
            ],
            [
             0.5555555555555556,
             "#d8576b"
            ],
            [
             0.6666666666666666,
             "#ed7953"
            ],
            [
             0.7777777777777778,
             "#fb9f3a"
            ],
            [
             0.8888888888888888,
             "#fdca26"
            ],
            [
             1,
             "#f0f921"
            ]
           ]
          },
          "colorway": [
           "#636efa",
           "#EF553B",
           "#00cc96",
           "#ab63fa",
           "#FFA15A",
           "#19d3f3",
           "#FF6692",
           "#B6E880",
           "#FF97FF",
           "#FECB52"
          ],
          "font": {
           "color": "#2a3f5f"
          },
          "geo": {
           "bgcolor": "white",
           "lakecolor": "white",
           "landcolor": "#E5ECF6",
           "showlakes": true,
           "showland": true,
           "subunitcolor": "white"
          },
          "hoverlabel": {
           "align": "left"
          },
          "hovermode": "closest",
          "mapbox": {
           "style": "light"
          },
          "paper_bgcolor": "white",
          "plot_bgcolor": "#E5ECF6",
          "polar": {
           "angularaxis": {
            "gridcolor": "white",
            "linecolor": "white",
            "ticks": ""
           },
           "bgcolor": "#E5ECF6",
           "radialaxis": {
            "gridcolor": "white",
            "linecolor": "white",
            "ticks": ""
           }
          },
          "scene": {
           "xaxis": {
            "backgroundcolor": "#E5ECF6",
            "gridcolor": "white",
            "gridwidth": 2,
            "linecolor": "white",
            "showbackground": true,
            "ticks": "",
            "zerolinecolor": "white"
           },
           "yaxis": {
            "backgroundcolor": "#E5ECF6",
            "gridcolor": "white",
            "gridwidth": 2,
            "linecolor": "white",
            "showbackground": true,
            "ticks": "",
            "zerolinecolor": "white"
           },
           "zaxis": {
            "backgroundcolor": "#E5ECF6",
            "gridcolor": "white",
            "gridwidth": 2,
            "linecolor": "white",
            "showbackground": true,
            "ticks": "",
            "zerolinecolor": "white"
           }
          },
          "shapedefaults": {
           "line": {
            "color": "#2a3f5f"
           }
          },
          "ternary": {
           "aaxis": {
            "gridcolor": "white",
            "linecolor": "white",
            "ticks": ""
           },
           "baxis": {
            "gridcolor": "white",
            "linecolor": "white",
            "ticks": ""
           },
           "bgcolor": "#E5ECF6",
           "caxis": {
            "gridcolor": "white",
            "linecolor": "white",
            "ticks": ""
           }
          },
          "title": {
           "x": 0.05
          },
          "xaxis": {
           "automargin": true,
           "gridcolor": "white",
           "linecolor": "white",
           "ticks": "",
           "title": {
            "standoff": 15
           },
           "zerolinecolor": "white",
           "zerolinewidth": 2
          },
          "yaxis": {
           "automargin": true,
           "gridcolor": "white",
           "linecolor": "white",
           "ticks": "",
           "title": {
            "standoff": 15
           },
           "zerolinecolor": "white",
           "zerolinewidth": 2
          }
         }
        }
       }
      }
     },
     "metadata": {},
     "output_type": "display_data"
    }
   ],
   "source": [
    "fig = go.Figure(data = go.Scatter(x = asylum_2000_by_country['country_of_origin_name'], y = asylum_2000_by_country['count'], mode='markers'))\n",
    "fig.show()"
   ]
  },
  {
   "cell_type": "markdown",
   "metadata": {},
   "source": [
    "# Adding country population"
   ]
  },
  {
   "cell_type": "code",
   "execution_count": 6,
   "metadata": {},
   "outputs": [],
   "source": [
    "def Country_population_data(country_code: str, population_data: pd.DataFrame, asylum_data: pd.DataFrame) -> pd.DataFrame:\n",
    "    country_population = population_data[population_data[\"Country Code\"] == country_code].drop(columns=[\"Country Name\", \"Country Code\"]).transpose().reset_index()\n",
    "    country_population.columns = ['year', 'population']\n",
    "    country_population['year'] = country_population['year'].astype(int)\n",
    "\n",
    "    country = asylum_data[asylum_data[\"country_of_origin_abbr\"] == country_code].groupby(\"year\", as_index=False)[\"count\"].sum()\n",
    "    \n",
    "    country = country.merge(right= country_population, how='left', on='year')\n",
    "    country.drop(country[country['population'].isna()].index, inplace=True)\n",
    "    country[\"percentage_of_population_migration\"] = (country[\"count\"] / country[\"population\"]) * 100\n",
    "\n",
    "    country.rename(columns={'count': \"displaced\"}, inplace=True)\n",
    "\n",
    "    return country\n",
    "\n"
   ]
  },
  {
   "cell_type": "code",
   "execution_count": 7,
   "metadata": {},
   "outputs": [
    {
     "data": {
      "text/html": [
       "<div>\n",
       "<style scoped>\n",
       "    .dataframe tbody tr th:only-of-type {\n",
       "        vertical-align: middle;\n",
       "    }\n",
       "\n",
       "    .dataframe tbody tr th {\n",
       "        vertical-align: top;\n",
       "    }\n",
       "\n",
       "    .dataframe thead th {\n",
       "        text-align: right;\n",
       "    }\n",
       "</style>\n",
       "<table border=\"1\" class=\"dataframe\">\n",
       "  <thead>\n",
       "    <tr style=\"text-align: right;\">\n",
       "      <th></th>\n",
       "      <th>year</th>\n",
       "      <th>displaced</th>\n",
       "      <th>population</th>\n",
       "      <th>percentage_of_population_migration</th>\n",
       "    </tr>\n",
       "  </thead>\n",
       "  <tbody>\n",
       "    <tr>\n",
       "      <th>0</th>\n",
       "      <td>1973</td>\n",
       "      <td>5</td>\n",
       "      <td>12463537.0</td>\n",
       "      <td>0.000040</td>\n",
       "    </tr>\n",
       "    <tr>\n",
       "      <th>1</th>\n",
       "      <td>1984</td>\n",
       "      <td>10</td>\n",
       "      <td>17008841.0</td>\n",
       "      <td>0.000059</td>\n",
       "    </tr>\n",
       "    <tr>\n",
       "      <th>2</th>\n",
       "      <td>1986</td>\n",
       "      <td>5</td>\n",
       "      <td>17923536.0</td>\n",
       "      <td>0.000028</td>\n",
       "    </tr>\n",
       "    <tr>\n",
       "      <th>3</th>\n",
       "      <td>1989</td>\n",
       "      <td>61</td>\n",
       "      <td>19348921.0</td>\n",
       "      <td>0.000315</td>\n",
       "    </tr>\n",
       "    <tr>\n",
       "      <th>4</th>\n",
       "      <td>1990</td>\n",
       "      <td>171</td>\n",
       "      <td>19827010.0</td>\n",
       "      <td>0.000862</td>\n",
       "    </tr>\n",
       "    <tr>\n",
       "      <th>5</th>\n",
       "      <td>1991</td>\n",
       "      <td>246</td>\n",
       "      <td>20304896.0</td>\n",
       "      <td>0.001212</td>\n",
       "    </tr>\n",
       "    <tr>\n",
       "      <th>6</th>\n",
       "      <td>1992</td>\n",
       "      <td>290</td>\n",
       "      <td>20780948.0</td>\n",
       "      <td>0.001396</td>\n",
       "    </tr>\n",
       "    <tr>\n",
       "      <th>7</th>\n",
       "      <td>1993</td>\n",
       "      <td>297</td>\n",
       "      <td>21254520.0</td>\n",
       "      <td>0.001397</td>\n",
       "    </tr>\n",
       "    <tr>\n",
       "      <th>8</th>\n",
       "      <td>1994</td>\n",
       "      <td>471</td>\n",
       "      <td>21725188.0</td>\n",
       "      <td>0.002168</td>\n",
       "    </tr>\n",
       "    <tr>\n",
       "      <th>9</th>\n",
       "      <td>1995</td>\n",
       "      <td>1084</td>\n",
       "      <td>22193821.0</td>\n",
       "      <td>0.004884</td>\n",
       "    </tr>\n",
       "    <tr>\n",
       "      <th>10</th>\n",
       "      <td>1996</td>\n",
       "      <td>384</td>\n",
       "      <td>22662113.0</td>\n",
       "      <td>0.001694</td>\n",
       "    </tr>\n",
       "    <tr>\n",
       "      <th>11</th>\n",
       "      <td>1997</td>\n",
       "      <td>130</td>\n",
       "      <td>23131685.0</td>\n",
       "      <td>0.000562</td>\n",
       "    </tr>\n",
       "    <tr>\n",
       "      <th>12</th>\n",
       "      <td>1998</td>\n",
       "      <td>142</td>\n",
       "      <td>23601337.0</td>\n",
       "      <td>0.000602</td>\n",
       "    </tr>\n",
       "    <tr>\n",
       "      <th>13</th>\n",
       "      <td>1999</td>\n",
       "      <td>125</td>\n",
       "      <td>24066593.0</td>\n",
       "      <td>0.000519</td>\n",
       "    </tr>\n",
       "    <tr>\n",
       "      <th>14</th>\n",
       "      <td>2000</td>\n",
       "      <td>175</td>\n",
       "      <td>24526708.0</td>\n",
       "      <td>0.000714</td>\n",
       "    </tr>\n",
       "    <tr>\n",
       "      <th>15</th>\n",
       "      <td>2001</td>\n",
       "      <td>398</td>\n",
       "      <td>24979922.0</td>\n",
       "      <td>0.001593</td>\n",
       "    </tr>\n",
       "    <tr>\n",
       "      <th>16</th>\n",
       "      <td>2002</td>\n",
       "      <td>936</td>\n",
       "      <td>25435671.0</td>\n",
       "      <td>0.003680</td>\n",
       "    </tr>\n",
       "    <tr>\n",
       "      <th>17</th>\n",
       "      <td>2003</td>\n",
       "      <td>2643</td>\n",
       "      <td>25892703.0</td>\n",
       "      <td>0.010208</td>\n",
       "    </tr>\n",
       "    <tr>\n",
       "      <th>18</th>\n",
       "      <td>2004</td>\n",
       "      <td>2469</td>\n",
       "      <td>26340838.0</td>\n",
       "      <td>0.009373</td>\n",
       "    </tr>\n",
       "    <tr>\n",
       "      <th>19</th>\n",
       "      <td>2005</td>\n",
       "      <td>1874</td>\n",
       "      <td>26785804.0</td>\n",
       "      <td>0.006996</td>\n",
       "    </tr>\n",
       "    <tr>\n",
       "      <th>20</th>\n",
       "      <td>2006</td>\n",
       "      <td>1476</td>\n",
       "      <td>27224686.0</td>\n",
       "      <td>0.005422</td>\n",
       "    </tr>\n",
       "    <tr>\n",
       "      <th>21</th>\n",
       "      <td>2007</td>\n",
       "      <td>1192</td>\n",
       "      <td>27649363.0</td>\n",
       "      <td>0.004311</td>\n",
       "    </tr>\n",
       "    <tr>\n",
       "      <th>22</th>\n",
       "      <td>2008</td>\n",
       "      <td>1268</td>\n",
       "      <td>28053696.0</td>\n",
       "      <td>0.004520</td>\n",
       "    </tr>\n",
       "    <tr>\n",
       "      <th>23</th>\n",
       "      <td>2009</td>\n",
       "      <td>897</td>\n",
       "      <td>28438298.0</td>\n",
       "      <td>0.003154</td>\n",
       "    </tr>\n",
       "    <tr>\n",
       "      <th>24</th>\n",
       "      <td>2010</td>\n",
       "      <td>999</td>\n",
       "      <td>28813101.0</td>\n",
       "      <td>0.003467</td>\n",
       "    </tr>\n",
       "    <tr>\n",
       "      <th>25</th>\n",
       "      <td>2011</td>\n",
       "      <td>1213</td>\n",
       "      <td>29185212.0</td>\n",
       "      <td>0.004156</td>\n",
       "    </tr>\n",
       "    <tr>\n",
       "      <th>26</th>\n",
       "      <td>2012</td>\n",
       "      <td>905</td>\n",
       "      <td>29553826.0</td>\n",
       "      <td>0.003062</td>\n",
       "    </tr>\n",
       "    <tr>\n",
       "      <th>27</th>\n",
       "      <td>2013</td>\n",
       "      <td>1434</td>\n",
       "      <td>29912198.0</td>\n",
       "      <td>0.004794</td>\n",
       "    </tr>\n",
       "    <tr>\n",
       "      <th>28</th>\n",
       "      <td>2014</td>\n",
       "      <td>5298</td>\n",
       "      <td>30254079.0</td>\n",
       "      <td>0.017512</td>\n",
       "    </tr>\n",
       "    <tr>\n",
       "      <th>29</th>\n",
       "      <td>2015</td>\n",
       "      <td>13199</td>\n",
       "      <td>30573972.0</td>\n",
       "      <td>0.043171</td>\n",
       "    </tr>\n",
       "    <tr>\n",
       "      <th>30</th>\n",
       "      <td>2016</td>\n",
       "      <td>42499</td>\n",
       "      <td>30765720.0</td>\n",
       "      <td>0.138138</td>\n",
       "    </tr>\n",
       "    <tr>\n",
       "      <th>31</th>\n",
       "      <td>2017</td>\n",
       "      <td>126571</td>\n",
       "      <td>30565323.0</td>\n",
       "      <td>0.414100</td>\n",
       "    </tr>\n",
       "    <tr>\n",
       "      <th>32</th>\n",
       "      <td>2018</td>\n",
       "      <td>2528744</td>\n",
       "      <td>29807592.0</td>\n",
       "      <td>8.483557</td>\n",
       "    </tr>\n",
       "    <tr>\n",
       "      <th>33</th>\n",
       "      <td>2019</td>\n",
       "      <td>1524529</td>\n",
       "      <td>28938098.0</td>\n",
       "      <td>5.268242</td>\n",
       "    </tr>\n",
       "    <tr>\n",
       "      <th>34</th>\n",
       "      <td>2020</td>\n",
       "      <td>572886</td>\n",
       "      <td>28444077.0</td>\n",
       "      <td>2.014078</td>\n",
       "    </tr>\n",
       "    <tr>\n",
       "      <th>35</th>\n",
       "      <td>2021</td>\n",
       "      <td>664963</td>\n",
       "      <td>28237826.0</td>\n",
       "      <td>2.354866</td>\n",
       "    </tr>\n",
       "    <tr>\n",
       "      <th>36</th>\n",
       "      <td>2022</td>\n",
       "      <td>1223672</td>\n",
       "      <td>28213017.0</td>\n",
       "      <td>4.337260</td>\n",
       "    </tr>\n",
       "    <tr>\n",
       "      <th>37</th>\n",
       "      <td>2023</td>\n",
       "      <td>1021351</td>\n",
       "      <td>28300854.0</td>\n",
       "      <td>3.608905</td>\n",
       "    </tr>\n",
       "  </tbody>\n",
       "</table>\n",
       "</div>"
      ],
      "text/plain": [
       "    year  displaced  population  percentage_of_population_migration\n",
       "0   1973          5  12463537.0                            0.000040\n",
       "1   1984         10  17008841.0                            0.000059\n",
       "2   1986          5  17923536.0                            0.000028\n",
       "3   1989         61  19348921.0                            0.000315\n",
       "4   1990        171  19827010.0                            0.000862\n",
       "5   1991        246  20304896.0                            0.001212\n",
       "6   1992        290  20780948.0                            0.001396\n",
       "7   1993        297  21254520.0                            0.001397\n",
       "8   1994        471  21725188.0                            0.002168\n",
       "9   1995       1084  22193821.0                            0.004884\n",
       "10  1996        384  22662113.0                            0.001694\n",
       "11  1997        130  23131685.0                            0.000562\n",
       "12  1998        142  23601337.0                            0.000602\n",
       "13  1999        125  24066593.0                            0.000519\n",
       "14  2000        175  24526708.0                            0.000714\n",
       "15  2001        398  24979922.0                            0.001593\n",
       "16  2002        936  25435671.0                            0.003680\n",
       "17  2003       2643  25892703.0                            0.010208\n",
       "18  2004       2469  26340838.0                            0.009373\n",
       "19  2005       1874  26785804.0                            0.006996\n",
       "20  2006       1476  27224686.0                            0.005422\n",
       "21  2007       1192  27649363.0                            0.004311\n",
       "22  2008       1268  28053696.0                            0.004520\n",
       "23  2009        897  28438298.0                            0.003154\n",
       "24  2010        999  28813101.0                            0.003467\n",
       "25  2011       1213  29185212.0                            0.004156\n",
       "26  2012        905  29553826.0                            0.003062\n",
       "27  2013       1434  29912198.0                            0.004794\n",
       "28  2014       5298  30254079.0                            0.017512\n",
       "29  2015      13199  30573972.0                            0.043171\n",
       "30  2016      42499  30765720.0                            0.138138\n",
       "31  2017     126571  30565323.0                            0.414100\n",
       "32  2018    2528744  29807592.0                            8.483557\n",
       "33  2019    1524529  28938098.0                            5.268242\n",
       "34  2020     572886  28444077.0                            2.014078\n",
       "35  2021     664963  28237826.0                            2.354866\n",
       "36  2022    1223672  28213017.0                            4.337260\n",
       "37  2023    1021351  28300854.0                            3.608905"
      ]
     },
     "execution_count": 7,
     "metadata": {},
     "output_type": "execute_result"
    }
   ],
   "source": [
    "venezuela = Country_population_data(\"VEN\", population, asylum)\n",
    "venezuela"
   ]
  },
  {
   "cell_type": "code",
   "execution_count": 8,
   "metadata": {},
   "outputs": [
    {
     "data": {
      "text/html": [
       "<style type=\"text/css\">\n",
       "</style>\n",
       "<table id=\"T_7eab1\">\n",
       "  <thead>\n",
       "    <tr>\n",
       "      <th class=\"blank level0\" >&nbsp;</th>\n",
       "      <th id=\"T_7eab1_level0_col0\" class=\"col_heading level0 col0\" >year</th>\n",
       "      <th id=\"T_7eab1_level0_col1\" class=\"col_heading level0 col1\" >displaced</th>\n",
       "      <th id=\"T_7eab1_level0_col2\" class=\"col_heading level0 col2\" >population</th>\n",
       "      <th id=\"T_7eab1_level0_col3\" class=\"col_heading level0 col3\" >percentage_of_population_migration</th>\n",
       "    </tr>\n",
       "  </thead>\n",
       "  <tbody>\n",
       "    <tr>\n",
       "      <th id=\"T_7eab1_level0_row0\" class=\"row_heading level0 row0\" >0</th>\n",
       "      <td id=\"T_7eab1_row0_col0\" class=\"data row0 col0\" >1.972</td>\n",
       "      <td id=\"T_7eab1_row0_col1\" class=\"data row0 col1\" >5</td>\n",
       "      <td id=\"T_7eab1_row0_col2\" class=\"data row0 col2\" >11.853.696,0000</td>\n",
       "      <td id=\"T_7eab1_row0_col3\" class=\"data row0 col3\" >0,0000</td>\n",
       "    </tr>\n",
       "    <tr>\n",
       "      <th id=\"T_7eab1_level0_row1\" class=\"row_heading level0 row1\" >1</th>\n",
       "      <td id=\"T_7eab1_row1_col0\" class=\"data row1 col0\" >1.976</td>\n",
       "      <td id=\"T_7eab1_row1_col1\" class=\"data row1 col1\" >15</td>\n",
       "      <td id=\"T_7eab1_row1_col2\" class=\"data row1 col2\" >13.059.851,0000</td>\n",
       "      <td id=\"T_7eab1_row1_col3\" class=\"data row1 col3\" >0,0001</td>\n",
       "    </tr>\n",
       "    <tr>\n",
       "      <th id=\"T_7eab1_level0_row2\" class=\"row_heading level0 row2\" >2</th>\n",
       "      <td id=\"T_7eab1_row2_col0\" class=\"data row2 col0\" >1.977</td>\n",
       "      <td id=\"T_7eab1_row2_col1\" class=\"data row2 col1\" >36</td>\n",
       "      <td id=\"T_7eab1_row2_col2\" class=\"data row2 col2\" >13.340.756,0000</td>\n",
       "      <td id=\"T_7eab1_row2_col3\" class=\"data row2 col3\" >0,0003</td>\n",
       "    </tr>\n",
       "    <tr>\n",
       "      <th id=\"T_7eab1_level0_row3\" class=\"row_heading level0 row3\" >3</th>\n",
       "      <td id=\"T_7eab1_row3_col0\" class=\"data row3 col0\" >1.978</td>\n",
       "      <td id=\"T_7eab1_row3_col1\" class=\"data row3 col1\" >141</td>\n",
       "      <td id=\"T_7eab1_row3_col2\" class=\"data row3 col2\" >13.611.441,0000</td>\n",
       "      <td id=\"T_7eab1_row3_col3\" class=\"data row3 col3\" >0,0010</td>\n",
       "    </tr>\n",
       "    <tr>\n",
       "      <th id=\"T_7eab1_level0_row4\" class=\"row_heading level0 row4\" >4</th>\n",
       "      <td id=\"T_7eab1_row4_col0\" class=\"data row4 col0\" >1.979</td>\n",
       "      <td id=\"T_7eab1_row4_col1\" class=\"data row4 col1\" >602</td>\n",
       "      <td id=\"T_7eab1_row4_col2\" class=\"data row4 col2\" >13.655.567,0000</td>\n",
       "      <td id=\"T_7eab1_row4_col3\" class=\"data row4 col3\" >0,0044</td>\n",
       "    </tr>\n",
       "    <tr>\n",
       "      <th id=\"T_7eab1_level0_row5\" class=\"row_heading level0 row5\" >5</th>\n",
       "      <td id=\"T_7eab1_row5_col0\" class=\"data row5 col0\" >1.980</td>\n",
       "      <td id=\"T_7eab1_row5_col1\" class=\"data row5 col1\" >1.308.405</td>\n",
       "      <td id=\"T_7eab1_row5_col2\" class=\"data row5 col2\" >13.169.311,0000</td>\n",
       "      <td id=\"T_7eab1_row5_col3\" class=\"data row5 col3\" >9,9353</td>\n",
       "    </tr>\n",
       "    <tr>\n",
       "      <th id=\"T_7eab1_level0_row6\" class=\"row_heading level0 row6\" >6</th>\n",
       "      <td id=\"T_7eab1_row6_col0\" class=\"data row6 col0\" >1.981</td>\n",
       "      <td id=\"T_7eab1_row6_col1\" class=\"data row6 col1\" >2.354.516</td>\n",
       "      <td id=\"T_7eab1_row6_col2\" class=\"data row6 col2\" >11.937.581,0000</td>\n",
       "      <td id=\"T_7eab1_row6_col3\" class=\"data row6 col3\" >19,7236</td>\n",
       "    </tr>\n",
       "    <tr>\n",
       "      <th id=\"T_7eab1_level0_row7\" class=\"row_heading level0 row7\" >7</th>\n",
       "      <td id=\"T_7eab1_row7_col0\" class=\"data row7 col0\" >1.982</td>\n",
       "      <td id=\"T_7eab1_row7_col1\" class=\"data row7 col1\" >515.423</td>\n",
       "      <td id=\"T_7eab1_row7_col2\" class=\"data row7 col2\" >10.991.378,0000</td>\n",
       "      <td id=\"T_7eab1_row7_col3\" class=\"data row7 col3\" >4,6893</td>\n",
       "    </tr>\n",
       "    <tr>\n",
       "      <th id=\"T_7eab1_level0_row8\" class=\"row_heading level0 row8\" >8</th>\n",
       "      <td id=\"T_7eab1_row8_col0\" class=\"data row8 col0\" >1.983</td>\n",
       "      <td id=\"T_7eab1_row8_col1\" class=\"data row8 col1\" >204.003</td>\n",
       "      <td id=\"T_7eab1_row8_col2\" class=\"data row8 col2\" >10.917.982,0000</td>\n",
       "      <td id=\"T_7eab1_row8_col3\" class=\"data row8 col3\" >1,8685</td>\n",
       "    </tr>\n",
       "    <tr>\n",
       "      <th id=\"T_7eab1_level0_row9\" class=\"row_heading level0 row9\" >9</th>\n",
       "      <td id=\"T_7eab1_row9_col0\" class=\"data row9 col0\" >1.984</td>\n",
       "      <td id=\"T_7eab1_row9_col1\" class=\"data row9 col1\" >108.450</td>\n",
       "      <td id=\"T_7eab1_row9_col2\" class=\"data row9 col2\" >11.190.221,0000</td>\n",
       "      <td id=\"T_7eab1_row9_col3\" class=\"data row9 col3\" >0,9691</td>\n",
       "    </tr>\n",
       "    <tr>\n",
       "      <th id=\"T_7eab1_level0_row10\" class=\"row_heading level0 row10\" >10</th>\n",
       "      <td id=\"T_7eab1_row10_col0\" class=\"data row10 col0\" >1.985</td>\n",
       "      <td id=\"T_7eab1_row10_col1\" class=\"data row10 col1\" >199.926</td>\n",
       "      <td id=\"T_7eab1_row10_col2\" class=\"data row10 col2\" >11.426.852,0000</td>\n",
       "      <td id=\"T_7eab1_row10_col3\" class=\"data row10 col3\" >1,7496</td>\n",
       "    </tr>\n",
       "    <tr>\n",
       "      <th id=\"T_7eab1_level0_row11\" class=\"row_heading level0 row11\" >11</th>\n",
       "      <td id=\"T_7eab1_row11_col0\" class=\"data row11 col0\" >1.986</td>\n",
       "      <td id=\"T_7eab1_row11_col1\" class=\"data row11 col1\" >478.105</td>\n",
       "      <td id=\"T_7eab1_row11_col2\" class=\"data row11 col2\" >11.420.074,0000</td>\n",
       "      <td id=\"T_7eab1_row11_col3\" class=\"data row11 col3\" >4,1865</td>\n",
       "    </tr>\n",
       "    <tr>\n",
       "      <th id=\"T_7eab1_level0_row12\" class=\"row_heading level0 row12\" >12</th>\n",
       "      <td id=\"T_7eab1_row12_col0\" class=\"data row12 col0\" >1.987</td>\n",
       "      <td id=\"T_7eab1_row12_col1\" class=\"data row12 col1\" >496.133</td>\n",
       "      <td id=\"T_7eab1_row12_col2\" class=\"data row12 col2\" >11.387.818,0000</td>\n",
       "      <td id=\"T_7eab1_row12_col3\" class=\"data row12 col3\" >4,3567</td>\n",
       "    </tr>\n",
       "    <tr>\n",
       "      <th id=\"T_7eab1_level0_row13\" class=\"row_heading level0 row13\" >13</th>\n",
       "      <td id=\"T_7eab1_row13_col0\" class=\"data row13 col0\" >1.988</td>\n",
       "      <td id=\"T_7eab1_row13_col1\" class=\"data row13 col1\" >102.015</td>\n",
       "      <td id=\"T_7eab1_row13_col2\" class=\"data row13 col2\" >11.523.298,0000</td>\n",
       "      <td id=\"T_7eab1_row13_col3\" class=\"data row13 col3\" >0,8853</td>\n",
       "    </tr>\n",
       "    <tr>\n",
       "      <th id=\"T_7eab1_level0_row14\" class=\"row_heading level0 row14\" >14</th>\n",
       "      <td id=\"T_7eab1_row14_col0\" class=\"data row14 col0\" >1.989</td>\n",
       "      <td id=\"T_7eab1_row14_col1\" class=\"data row14 col1\" >27.822</td>\n",
       "      <td id=\"T_7eab1_row14_col2\" class=\"data row14 col2\" >11.874.088,0000</td>\n",
       "      <td id=\"T_7eab1_row14_col3\" class=\"data row14 col3\" >0,2343</td>\n",
       "    </tr>\n",
       "    <tr>\n",
       "      <th id=\"T_7eab1_level0_row15\" class=\"row_heading level0 row15\" >15</th>\n",
       "      <td id=\"T_7eab1_row15_col0\" class=\"data row15 col0\" >1.990</td>\n",
       "      <td id=\"T_7eab1_row15_col1\" class=\"data row15 col1\" >28.937</td>\n",
       "      <td id=\"T_7eab1_row15_col2\" class=\"data row15 col2\" >12.045.660,0000</td>\n",
       "      <td id=\"T_7eab1_row15_col3\" class=\"data row15 col3\" >0,2402</td>\n",
       "    </tr>\n",
       "    <tr>\n",
       "      <th id=\"T_7eab1_level0_row16\" class=\"row_heading level0 row16\" >16</th>\n",
       "      <td id=\"T_7eab1_row16_col0\" class=\"data row16 col0\" >1.991</td>\n",
       "      <td id=\"T_7eab1_row16_col1\" class=\"data row16 col1\" >32.458</td>\n",
       "      <td id=\"T_7eab1_row16_col2\" class=\"data row16 col2\" >12.238.879,0000</td>\n",
       "      <td id=\"T_7eab1_row16_col3\" class=\"data row16 col3\" >0,2652</td>\n",
       "    </tr>\n",
       "    <tr>\n",
       "      <th id=\"T_7eab1_level0_row17\" class=\"row_heading level0 row17\" >17</th>\n",
       "      <td id=\"T_7eab1_row17_col0\" class=\"data row17 col0\" >1.992</td>\n",
       "      <td id=\"T_7eab1_row17_col1\" class=\"data row17 col1\" >137.962</td>\n",
       "      <td id=\"T_7eab1_row17_col2\" class=\"data row17 col2\" >13.278.974,0000</td>\n",
       "      <td id=\"T_7eab1_row17_col3\" class=\"data row17 col3\" >1,0390</td>\n",
       "    </tr>\n",
       "    <tr>\n",
       "      <th id=\"T_7eab1_level0_row18\" class=\"row_heading level0 row18\" >18</th>\n",
       "      <td id=\"T_7eab1_row18_col0\" class=\"data row18 col0\" >1.993</td>\n",
       "      <td id=\"T_7eab1_row18_col1\" class=\"data row18 col1\" >24.693</td>\n",
       "      <td id=\"T_7eab1_row18_col2\" class=\"data row18 col2\" >14.943.172,0000</td>\n",
       "      <td id=\"T_7eab1_row18_col3\" class=\"data row18 col3\" >0,1652</td>\n",
       "    </tr>\n",
       "    <tr>\n",
       "      <th id=\"T_7eab1_level0_row19\" class=\"row_heading level0 row19\" >19</th>\n",
       "      <td id=\"T_7eab1_row19_col0\" class=\"data row19 col0\" >1.994</td>\n",
       "      <td id=\"T_7eab1_row19_col1\" class=\"data row19 col1\" >41.285</td>\n",
       "      <td id=\"T_7eab1_row19_col2\" class=\"data row19 col2\" >16.250.794,0000</td>\n",
       "      <td id=\"T_7eab1_row19_col3\" class=\"data row19 col3\" >0,2540</td>\n",
       "    </tr>\n",
       "    <tr>\n",
       "      <th id=\"T_7eab1_level0_row20\" class=\"row_heading level0 row20\" >20</th>\n",
       "      <td id=\"T_7eab1_row20_col0\" class=\"data row20 col0\" >1.995</td>\n",
       "      <td id=\"T_7eab1_row20_col1\" class=\"data row20 col1\" >13.229</td>\n",
       "      <td id=\"T_7eab1_row20_col2\" class=\"data row20 col2\" >17.065.836,0000</td>\n",
       "      <td id=\"T_7eab1_row20_col3\" class=\"data row20 col3\" >0,0775</td>\n",
       "    </tr>\n",
       "    <tr>\n",
       "      <th id=\"T_7eab1_level0_row21\" class=\"row_heading level0 row21\" >21</th>\n",
       "      <td id=\"T_7eab1_row21_col0\" class=\"data row21 col0\" >1.996</td>\n",
       "      <td id=\"T_7eab1_row21_col1\" class=\"data row21 col1\" >56.446</td>\n",
       "      <td id=\"T_7eab1_row21_col2\" class=\"data row21 col2\" >17.763.266,0000</td>\n",
       "      <td id=\"T_7eab1_row21_col3\" class=\"data row21 col3\" >0,3178</td>\n",
       "    </tr>\n",
       "    <tr>\n",
       "      <th id=\"T_7eab1_level0_row22\" class=\"row_heading level0 row22\" >22</th>\n",
       "      <td id=\"T_7eab1_row22_col0\" class=\"data row22 col0\" >1.997</td>\n",
       "      <td id=\"T_7eab1_row22_col1\" class=\"data row22 col1\" >33.316</td>\n",
       "      <td id=\"T_7eab1_row22_col2\" class=\"data row22 col2\" >18.452.091,0000</td>\n",
       "      <td id=\"T_7eab1_row22_col3\" class=\"data row22 col3\" >0,1806</td>\n",
       "    </tr>\n",
       "    <tr>\n",
       "      <th id=\"T_7eab1_level0_row23\" class=\"row_heading level0 row23\" >23</th>\n",
       "      <td id=\"T_7eab1_row23_col0\" class=\"data row23 col0\" >1.998</td>\n",
       "      <td id=\"T_7eab1_row23_col1\" class=\"data row23 col1\" >19.719</td>\n",
       "      <td id=\"T_7eab1_row23_col2\" class=\"data row23 col2\" >19.159.996,0000</td>\n",
       "      <td id=\"T_7eab1_row23_col3\" class=\"data row23 col3\" >0,1029</td>\n",
       "    </tr>\n",
       "    <tr>\n",
       "      <th id=\"T_7eab1_level0_row24\" class=\"row_heading level0 row24\" >24</th>\n",
       "      <td id=\"T_7eab1_row24_col0\" class=\"data row24 col0\" >1.999</td>\n",
       "      <td id=\"T_7eab1_row24_col1\" class=\"data row24 col1\" >118.368</td>\n",
       "      <td id=\"T_7eab1_row24_col2\" class=\"data row24 col2\" >19.887.785,0000</td>\n",
       "      <td id=\"T_7eab1_row24_col3\" class=\"data row24 col3\" >0,5952</td>\n",
       "    </tr>\n",
       "    <tr>\n",
       "      <th id=\"T_7eab1_level0_row25\" class=\"row_heading level0 row25\" >25</th>\n",
       "      <td id=\"T_7eab1_row25_col0\" class=\"data row25 col0\" >2.000</td>\n",
       "      <td id=\"T_7eab1_row25_col1\" class=\"data row25 col1\" >633.338</td>\n",
       "      <td id=\"T_7eab1_row25_col2\" class=\"data row25 col2\" >20.130.327,0000</td>\n",
       "      <td id=\"T_7eab1_row25_col3\" class=\"data row25 col3\" >3,1462</td>\n",
       "    </tr>\n",
       "    <tr>\n",
       "      <th id=\"T_7eab1_level0_row26\" class=\"row_heading level0 row26\" >26</th>\n",
       "      <td id=\"T_7eab1_row26_col0\" class=\"data row26 col0\" >2.001</td>\n",
       "      <td id=\"T_7eab1_row26_col1\" class=\"data row26 col1\" >358.249</td>\n",
       "      <td id=\"T_7eab1_row26_col2\" class=\"data row26 col2\" >20.284.307,0000</td>\n",
       "      <td id=\"T_7eab1_row26_col3\" class=\"data row26 col3\" >1,7661</td>\n",
       "    </tr>\n",
       "    <tr>\n",
       "      <th id=\"T_7eab1_level0_row27\" class=\"row_heading level0 row27\" >27</th>\n",
       "      <td id=\"T_7eab1_row27_col0\" class=\"data row27 col0\" >2.002</td>\n",
       "      <td id=\"T_7eab1_row27_col1\" class=\"data row27 col1\" >128.932</td>\n",
       "      <td id=\"T_7eab1_row27_col2\" class=\"data row27 col2\" >21.378.117,0000</td>\n",
       "      <td id=\"T_7eab1_row27_col3\" class=\"data row27 col3\" >0,6031</td>\n",
       "    </tr>\n",
       "    <tr>\n",
       "      <th id=\"T_7eab1_level0_row28\" class=\"row_heading level0 row28\" >28</th>\n",
       "      <td id=\"T_7eab1_row28_col0\" class=\"data row28 col0\" >2.003</td>\n",
       "      <td id=\"T_7eab1_row28_col1\" class=\"data row28 col1\" >119.193</td>\n",
       "      <td id=\"T_7eab1_row28_col2\" class=\"data row28 col2\" >22.733.049,0000</td>\n",
       "      <td id=\"T_7eab1_row28_col3\" class=\"data row28 col3\" >0,5243</td>\n",
       "    </tr>\n",
       "    <tr>\n",
       "      <th id=\"T_7eab1_level0_row29\" class=\"row_heading level0 row29\" >29</th>\n",
       "      <td id=\"T_7eab1_row29_col0\" class=\"data row29 col0\" >2.004</td>\n",
       "      <td id=\"T_7eab1_row29_col1\" class=\"data row29 col1\" >111.572</td>\n",
       "      <td id=\"T_7eab1_row29_col2\" class=\"data row29 col2\" >23.560.654,0000</td>\n",
       "      <td id=\"T_7eab1_row29_col3\" class=\"data row29 col3\" >0,4736</td>\n",
       "    </tr>\n",
       "    <tr>\n",
       "      <th id=\"T_7eab1_level0_row30\" class=\"row_heading level0 row30\" >30</th>\n",
       "      <td id=\"T_7eab1_row30_col0\" class=\"data row30 col0\" >2.005</td>\n",
       "      <td id=\"T_7eab1_row30_col1\" class=\"data row30 col1\" >109.569</td>\n",
       "      <td id=\"T_7eab1_row30_col2\" class=\"data row30 col2\" >24.404.567,0000</td>\n",
       "      <td id=\"T_7eab1_row30_col3\" class=\"data row30 col3\" >0,4490</td>\n",
       "    </tr>\n",
       "    <tr>\n",
       "      <th id=\"T_7eab1_level0_row31\" class=\"row_heading level0 row31\" >31</th>\n",
       "      <td id=\"T_7eab1_row31_col0\" class=\"data row31 col0\" >2.006</td>\n",
       "      <td id=\"T_7eab1_row31_col1\" class=\"data row31 col1\" >111.352</td>\n",
       "      <td id=\"T_7eab1_row31_col2\" class=\"data row31 col2\" >25.424.094,0000</td>\n",
       "      <td id=\"T_7eab1_row31_col3\" class=\"data row31 col3\" >0,4380</td>\n",
       "    </tr>\n",
       "    <tr>\n",
       "      <th id=\"T_7eab1_level0_row32\" class=\"row_heading level0 row32\" >32</th>\n",
       "      <td id=\"T_7eab1_row32_col0\" class=\"data row32 col0\" >2.007</td>\n",
       "      <td id=\"T_7eab1_row32_col1\" class=\"data row32 col1\" >115.019</td>\n",
       "      <td id=\"T_7eab1_row32_col2\" class=\"data row32 col2\" >25.909.852,0000</td>\n",
       "      <td id=\"T_7eab1_row32_col3\" class=\"data row32 col3\" >0,4439</td>\n",
       "    </tr>\n",
       "    <tr>\n",
       "      <th id=\"T_7eab1_level0_row33\" class=\"row_heading level0 row33\" >33</th>\n",
       "      <td id=\"T_7eab1_row33_col0\" class=\"data row33 col0\" >2.008</td>\n",
       "      <td id=\"T_7eab1_row33_col1\" class=\"data row33 col1\" >127.441</td>\n",
       "      <td id=\"T_7eab1_row33_col2\" class=\"data row33 col2\" >26.482.622,0000</td>\n",
       "      <td id=\"T_7eab1_row33_col3\" class=\"data row33 col3\" >0,4812</td>\n",
       "    </tr>\n",
       "    <tr>\n",
       "      <th id=\"T_7eab1_level0_row34\" class=\"row_heading level0 row34\" >34</th>\n",
       "      <td id=\"T_7eab1_row34_col0\" class=\"data row34 col0\" >2.009</td>\n",
       "      <td id=\"T_7eab1_row34_col1\" class=\"data row34 col1\" >139.454</td>\n",
       "      <td id=\"T_7eab1_row34_col2\" class=\"data row34 col2\" >27.466.101,0000</td>\n",
       "      <td id=\"T_7eab1_row34_col3\" class=\"data row34 col3\" >0,5077</td>\n",
       "    </tr>\n",
       "    <tr>\n",
       "      <th id=\"T_7eab1_level0_row35\" class=\"row_heading level0 row35\" >35</th>\n",
       "      <td id=\"T_7eab1_row35_col0\" class=\"data row35 col0\" >2.010</td>\n",
       "      <td id=\"T_7eab1_row35_col1\" class=\"data row35 col1\" >136.158</td>\n",
       "      <td id=\"T_7eab1_row35_col2\" class=\"data row35 col2\" >28.284.089,0000</td>\n",
       "      <td id=\"T_7eab1_row35_col3\" class=\"data row35 col3\" >0,4814</td>\n",
       "    </tr>\n",
       "    <tr>\n",
       "      <th id=\"T_7eab1_level0_row36\" class=\"row_heading level0 row36\" >36</th>\n",
       "      <td id=\"T_7eab1_row36_col0\" class=\"data row36 col0\" >2.011</td>\n",
       "      <td id=\"T_7eab1_row36_col1\" class=\"data row36 col1\" >143.170</td>\n",
       "      <td id=\"T_7eab1_row36_col2\" class=\"data row36 col2\" >29.347.708,0000</td>\n",
       "      <td id=\"T_7eab1_row36_col3\" class=\"data row36 col3\" >0,4878</td>\n",
       "    </tr>\n",
       "    <tr>\n",
       "      <th id=\"T_7eab1_level0_row37\" class=\"row_heading level0 row37\" >37</th>\n",
       "      <td id=\"T_7eab1_row37_col0\" class=\"data row37 col0\" >2.012</td>\n",
       "      <td id=\"T_7eab1_row37_col1\" class=\"data row37 col1\" >158.375</td>\n",
       "      <td id=\"T_7eab1_row37_col2\" class=\"data row37 col2\" >30.560.034,0000</td>\n",
       "      <td id=\"T_7eab1_row37_col3\" class=\"data row37 col3\" >0,5182</td>\n",
       "    </tr>\n",
       "    <tr>\n",
       "      <th id=\"T_7eab1_level0_row38\" class=\"row_heading level0 row38\" >38</th>\n",
       "      <td id=\"T_7eab1_row38_col0\" class=\"data row38 col0\" >2.013</td>\n",
       "      <td id=\"T_7eab1_row38_col1\" class=\"data row38 col1\" >148.019</td>\n",
       "      <td id=\"T_7eab1_row38_col2\" class=\"data row38 col2\" >31.622.704,0000</td>\n",
       "      <td id=\"T_7eab1_row38_col3\" class=\"data row38 col3\" >0,4681</td>\n",
       "    </tr>\n",
       "    <tr>\n",
       "      <th id=\"T_7eab1_level0_row39\" class=\"row_heading level0 row39\" >39</th>\n",
       "      <td id=\"T_7eab1_row39_col0\" class=\"data row39 col0\" >2.014</td>\n",
       "      <td id=\"T_7eab1_row39_col1\" class=\"data row39 col1\" >171.334</td>\n",
       "      <td id=\"T_7eab1_row39_col2\" class=\"data row39 col2\" >32.792.523,0000</td>\n",
       "      <td id=\"T_7eab1_row39_col3\" class=\"data row39 col3\" >0,5225</td>\n",
       "    </tr>\n",
       "    <tr>\n",
       "      <th id=\"T_7eab1_level0_row40\" class=\"row_heading level0 row40\" >40</th>\n",
       "      <td id=\"T_7eab1_row40_col0\" class=\"data row40 col0\" >2.015</td>\n",
       "      <td id=\"T_7eab1_row40_col1\" class=\"data row40 col1\" >368.960</td>\n",
       "      <td id=\"T_7eab1_row40_col2\" class=\"data row40 col2\" >33.831.764,0000</td>\n",
       "      <td id=\"T_7eab1_row40_col3\" class=\"data row40 col3\" >1,0906</td>\n",
       "    </tr>\n",
       "    <tr>\n",
       "      <th id=\"T_7eab1_level0_row41\" class=\"row_heading level0 row41\" >41</th>\n",
       "      <td id=\"T_7eab1_row41_col0\" class=\"data row41 col0\" >2.016</td>\n",
       "      <td id=\"T_7eab1_row41_col1\" class=\"data row41 col1\" >335.769</td>\n",
       "      <td id=\"T_7eab1_row41_col2\" class=\"data row41 col2\" >34.700.612,0000</td>\n",
       "      <td id=\"T_7eab1_row41_col3\" class=\"data row41 col3\" >0,9676</td>\n",
       "    </tr>\n",
       "    <tr>\n",
       "      <th id=\"T_7eab1_level0_row42\" class=\"row_heading level0 row42\" >42</th>\n",
       "      <td id=\"T_7eab1_row42_col0\" class=\"data row42 col0\" >2.017</td>\n",
       "      <td id=\"T_7eab1_row42_col1\" class=\"data row42 col1\" >226.123</td>\n",
       "      <td id=\"T_7eab1_row42_col2\" class=\"data row42 col2\" >35.688.935,0000</td>\n",
       "      <td id=\"T_7eab1_row42_col3\" class=\"data row42 col3\" >0,6336</td>\n",
       "    </tr>\n",
       "    <tr>\n",
       "      <th id=\"T_7eab1_level0_row43\" class=\"row_heading level0 row43\" >43</th>\n",
       "      <td id=\"T_7eab1_row43_col0\" class=\"data row43 col0\" >2.018</td>\n",
       "      <td id=\"T_7eab1_row43_col1\" class=\"data row43 col1\" >215.770</td>\n",
       "      <td id=\"T_7eab1_row43_col2\" class=\"data row43 col2\" >36.743.039,0000</td>\n",
       "      <td id=\"T_7eab1_row43_col3\" class=\"data row43 col3\" >0,5872</td>\n",
       "    </tr>\n",
       "    <tr>\n",
       "      <th id=\"T_7eab1_level0_row44\" class=\"row_heading level0 row44\" >44</th>\n",
       "      <td id=\"T_7eab1_row44_col0\" class=\"data row44 col0\" >2.019</td>\n",
       "      <td id=\"T_7eab1_row44_col1\" class=\"data row44 col1\" >231.785</td>\n",
       "      <td id=\"T_7eab1_row44_col2\" class=\"data row44 col2\" >37.856.121,0000</td>\n",
       "      <td id=\"T_7eab1_row44_col3\" class=\"data row44 col3\" >0,6123</td>\n",
       "    </tr>\n",
       "    <tr>\n",
       "      <th id=\"T_7eab1_level0_row45\" class=\"row_heading level0 row45\" >45</th>\n",
       "      <td id=\"T_7eab1_row45_col0\" class=\"data row45 col0\" >2.020</td>\n",
       "      <td id=\"T_7eab1_row45_col1\" class=\"data row45 col1\" >175.760</td>\n",
       "      <td id=\"T_7eab1_row45_col2\" class=\"data row45 col2\" >39.068.979,0000</td>\n",
       "      <td id=\"T_7eab1_row45_col3\" class=\"data row45 col3\" >0,4499</td>\n",
       "    </tr>\n",
       "    <tr>\n",
       "      <th id=\"T_7eab1_level0_row46\" class=\"row_heading level0 row46\" >46</th>\n",
       "      <td id=\"T_7eab1_row46_col0\" class=\"data row46 col0\" >2.021</td>\n",
       "      <td id=\"T_7eab1_row46_col1\" class=\"data row46 col1\" >917.020</td>\n",
       "      <td id=\"T_7eab1_row46_col2\" class=\"data row46 col2\" >40.000.412,0000</td>\n",
       "      <td id=\"T_7eab1_row46_col3\" class=\"data row46 col3\" >2,2925</td>\n",
       "    </tr>\n",
       "    <tr>\n",
       "      <th id=\"T_7eab1_level0_row47\" class=\"row_heading level0 row47\" >47</th>\n",
       "      <td id=\"T_7eab1_row47_col0\" class=\"data row47 col0\" >2.022</td>\n",
       "      <td id=\"T_7eab1_row47_col1\" class=\"data row47 col1\" >816.434</td>\n",
       "      <td id=\"T_7eab1_row47_col2\" class=\"data row47 col2\" >40.578.842,0000</td>\n",
       "      <td id=\"T_7eab1_row47_col3\" class=\"data row47 col3\" >2,0120</td>\n",
       "    </tr>\n",
       "    <tr>\n",
       "      <th id=\"T_7eab1_level0_row48\" class=\"row_heading level0 row48\" >48</th>\n",
       "      <td id=\"T_7eab1_row48_col0\" class=\"data row48 col0\" >2.023</td>\n",
       "      <td id=\"T_7eab1_row48_col1\" class=\"data row48 col1\" >439.530</td>\n",
       "      <td id=\"T_7eab1_row48_col2\" class=\"data row48 col2\" >41.454.761,0000</td>\n",
       "      <td id=\"T_7eab1_row48_col3\" class=\"data row48 col3\" >1,0603</td>\n",
       "    </tr>\n",
       "  </tbody>\n",
       "</table>\n"
      ],
      "text/plain": [
       "<pandas.io.formats.style.Styler at 0x2b5a5a44c50>"
      ]
     },
     "execution_count": 8,
     "metadata": {},
     "output_type": "execute_result"
    }
   ],
   "source": [
    "af = Country_population_data('AFG', population, asylum)\n",
    "af.style.format(precision=4, thousands=\".\", decimal=\",\")\n"
   ]
  },
  {
   "cell_type": "code",
   "execution_count": 9,
   "metadata": {},
   "outputs": [
    {
     "data": {
      "text/html": [
       "<div>\n",
       "<style scoped>\n",
       "    .dataframe tbody tr th:only-of-type {\n",
       "        vertical-align: middle;\n",
       "    }\n",
       "\n",
       "    .dataframe tbody tr th {\n",
       "        vertical-align: top;\n",
       "    }\n",
       "\n",
       "    .dataframe thead th {\n",
       "        text-align: right;\n",
       "    }\n",
       "</style>\n",
       "<table border=\"1\" class=\"dataframe\">\n",
       "  <thead>\n",
       "    <tr style=\"text-align: right;\">\n",
       "      <th></th>\n",
       "      <th>year</th>\n",
       "      <th>displaced</th>\n",
       "      <th>population</th>\n",
       "      <th>percentage_of_population_migration</th>\n",
       "    </tr>\n",
       "  </thead>\n",
       "  <tbody>\n",
       "    <tr>\n",
       "      <th>0</th>\n",
       "      <td>1970</td>\n",
       "      <td>176</td>\n",
       "      <td>6380609.0</td>\n",
       "      <td>0.002758</td>\n",
       "    </tr>\n",
       "    <tr>\n",
       "      <th>1</th>\n",
       "      <td>1971</td>\n",
       "      <td>209</td>\n",
       "      <td>6598094.0</td>\n",
       "      <td>0.003168</td>\n",
       "    </tr>\n",
       "    <tr>\n",
       "      <th>2</th>\n",
       "      <td>1972</td>\n",
       "      <td>143</td>\n",
       "      <td>6826024.0</td>\n",
       "      <td>0.002095</td>\n",
       "    </tr>\n",
       "    <tr>\n",
       "      <th>3</th>\n",
       "      <td>1973</td>\n",
       "      <td>5</td>\n",
       "      <td>7060321.0</td>\n",
       "      <td>0.000071</td>\n",
       "    </tr>\n",
       "    <tr>\n",
       "      <th>4</th>\n",
       "      <td>1974</td>\n",
       "      <td>5</td>\n",
       "      <td>7302160.0</td>\n",
       "      <td>0.000068</td>\n",
       "    </tr>\n",
       "    <tr>\n",
       "      <th>5</th>\n",
       "      <td>1975</td>\n",
       "      <td>10</td>\n",
       "      <td>7554364.0</td>\n",
       "      <td>0.000132</td>\n",
       "    </tr>\n",
       "    <tr>\n",
       "      <th>6</th>\n",
       "      <td>1976</td>\n",
       "      <td>247</td>\n",
       "      <td>7817320.0</td>\n",
       "      <td>0.003160</td>\n",
       "    </tr>\n",
       "    <tr>\n",
       "      <th>7</th>\n",
       "      <td>1977</td>\n",
       "      <td>254</td>\n",
       "      <td>8090501.0</td>\n",
       "      <td>0.003139</td>\n",
       "    </tr>\n",
       "    <tr>\n",
       "      <th>8</th>\n",
       "      <td>1978</td>\n",
       "      <td>373</td>\n",
       "      <td>8372759.0</td>\n",
       "      <td>0.004455</td>\n",
       "    </tr>\n",
       "    <tr>\n",
       "      <th>9</th>\n",
       "      <td>1979</td>\n",
       "      <td>84</td>\n",
       "      <td>8661909.0</td>\n",
       "      <td>0.000970</td>\n",
       "    </tr>\n",
       "    <tr>\n",
       "      <th>10</th>\n",
       "      <td>1980</td>\n",
       "      <td>753</td>\n",
       "      <td>8957663.0</td>\n",
       "      <td>0.008406</td>\n",
       "    </tr>\n",
       "    <tr>\n",
       "      <th>11</th>\n",
       "      <td>1981</td>\n",
       "      <td>563</td>\n",
       "      <td>9260189.0</td>\n",
       "      <td>0.006080</td>\n",
       "    </tr>\n",
       "    <tr>\n",
       "      <th>12</th>\n",
       "      <td>1982</td>\n",
       "      <td>266</td>\n",
       "      <td>9572511.0</td>\n",
       "      <td>0.002779</td>\n",
       "    </tr>\n",
       "    <tr>\n",
       "      <th>13</th>\n",
       "      <td>1983</td>\n",
       "      <td>362</td>\n",
       "      <td>9904809.0</td>\n",
       "      <td>0.003655</td>\n",
       "    </tr>\n",
       "    <tr>\n",
       "      <th>14</th>\n",
       "      <td>1984</td>\n",
       "      <td>619</td>\n",
       "      <td>10258398.0</td>\n",
       "      <td>0.006034</td>\n",
       "    </tr>\n",
       "    <tr>\n",
       "      <th>15</th>\n",
       "      <td>1985</td>\n",
       "      <td>731</td>\n",
       "      <td>10625672.0</td>\n",
       "      <td>0.006880</td>\n",
       "    </tr>\n",
       "    <tr>\n",
       "      <th>16</th>\n",
       "      <td>1986</td>\n",
       "      <td>2876</td>\n",
       "      <td>11002844.0</td>\n",
       "      <td>0.026139</td>\n",
       "    </tr>\n",
       "    <tr>\n",
       "      <th>17</th>\n",
       "      <td>1987</td>\n",
       "      <td>1620</td>\n",
       "      <td>11388923.0</td>\n",
       "      <td>0.014224</td>\n",
       "    </tr>\n",
       "    <tr>\n",
       "      <th>18</th>\n",
       "      <td>1988</td>\n",
       "      <td>2040</td>\n",
       "      <td>11782264.0</td>\n",
       "      <td>0.017314</td>\n",
       "    </tr>\n",
       "    <tr>\n",
       "      <th>19</th>\n",
       "      <td>1989</td>\n",
       "      <td>3213</td>\n",
       "      <td>12179060.0</td>\n",
       "      <td>0.026381</td>\n",
       "    </tr>\n",
       "    <tr>\n",
       "      <th>20</th>\n",
       "      <td>1990</td>\n",
       "      <td>6925</td>\n",
       "      <td>12579208.0</td>\n",
       "      <td>0.055051</td>\n",
       "    </tr>\n",
       "    <tr>\n",
       "      <th>21</th>\n",
       "      <td>1991</td>\n",
       "      <td>3434</td>\n",
       "      <td>12980821.0</td>\n",
       "      <td>0.026454</td>\n",
       "    </tr>\n",
       "    <tr>\n",
       "      <th>22</th>\n",
       "      <td>1992</td>\n",
       "      <td>2890</td>\n",
       "      <td>13385571.0</td>\n",
       "      <td>0.021590</td>\n",
       "    </tr>\n",
       "    <tr>\n",
       "      <th>23</th>\n",
       "      <td>1993</td>\n",
       "      <td>2557</td>\n",
       "      <td>13795686.0</td>\n",
       "      <td>0.018535</td>\n",
       "    </tr>\n",
       "    <tr>\n",
       "      <th>24</th>\n",
       "      <td>1994</td>\n",
       "      <td>2106</td>\n",
       "      <td>14208583.0</td>\n",
       "      <td>0.014822</td>\n",
       "    </tr>\n",
       "    <tr>\n",
       "      <th>25</th>\n",
       "      <td>1995</td>\n",
       "      <td>2451</td>\n",
       "      <td>14616801.0</td>\n",
       "      <td>0.016768</td>\n",
       "    </tr>\n",
       "    <tr>\n",
       "      <th>26</th>\n",
       "      <td>1996</td>\n",
       "      <td>3293</td>\n",
       "      <td>15018104.0</td>\n",
       "      <td>0.021927</td>\n",
       "    </tr>\n",
       "    <tr>\n",
       "      <th>27</th>\n",
       "      <td>1997</td>\n",
       "      <td>3155</td>\n",
       "      <td>15417542.0</td>\n",
       "      <td>0.020464</td>\n",
       "    </tr>\n",
       "    <tr>\n",
       "      <th>28</th>\n",
       "      <td>1998</td>\n",
       "      <td>3419</td>\n",
       "      <td>15820413.0</td>\n",
       "      <td>0.021611</td>\n",
       "    </tr>\n",
       "    <tr>\n",
       "      <th>29</th>\n",
       "      <td>1999</td>\n",
       "      <td>4421</td>\n",
       "      <td>16228061.0</td>\n",
       "      <td>0.027243</td>\n",
       "    </tr>\n",
       "    <tr>\n",
       "      <th>30</th>\n",
       "      <td>2000</td>\n",
       "      <td>5677</td>\n",
       "      <td>16637888.0</td>\n",
       "      <td>0.034121</td>\n",
       "    </tr>\n",
       "    <tr>\n",
       "      <th>31</th>\n",
       "      <td>2001</td>\n",
       "      <td>4700</td>\n",
       "      <td>17051338.0</td>\n",
       "      <td>0.027564</td>\n",
       "    </tr>\n",
       "    <tr>\n",
       "      <th>32</th>\n",
       "      <td>2002</td>\n",
       "      <td>4030</td>\n",
       "      <td>17468332.0</td>\n",
       "      <td>0.023070</td>\n",
       "    </tr>\n",
       "    <tr>\n",
       "      <th>33</th>\n",
       "      <td>2003</td>\n",
       "      <td>3867</td>\n",
       "      <td>17889296.0</td>\n",
       "      <td>0.021616</td>\n",
       "    </tr>\n",
       "    <tr>\n",
       "      <th>34</th>\n",
       "      <td>2004</td>\n",
       "      <td>3603</td>\n",
       "      <td>18336875.0</td>\n",
       "      <td>0.019649</td>\n",
       "    </tr>\n",
       "    <tr>\n",
       "      <th>35</th>\n",
       "      <td>2005</td>\n",
       "      <td>4766</td>\n",
       "      <td>18814091.0</td>\n",
       "      <td>0.025332</td>\n",
       "    </tr>\n",
       "    <tr>\n",
       "      <th>36</th>\n",
       "      <td>2006</td>\n",
       "      <td>4118</td>\n",
       "      <td>19637022.0</td>\n",
       "      <td>0.020971</td>\n",
       "    </tr>\n",
       "    <tr>\n",
       "      <th>37</th>\n",
       "      <td>2007</td>\n",
       "      <td>5781</td>\n",
       "      <td>20884125.0</td>\n",
       "      <td>0.027681</td>\n",
       "    </tr>\n",
       "    <tr>\n",
       "      <th>38</th>\n",
       "      <td>2008</td>\n",
       "      <td>5769</td>\n",
       "      <td>21636564.0</td>\n",
       "      <td>0.026663</td>\n",
       "    </tr>\n",
       "    <tr>\n",
       "      <th>39</th>\n",
       "      <td>2009</td>\n",
       "      <td>5941</td>\n",
       "      <td>21976969.0</td>\n",
       "      <td>0.027033</td>\n",
       "    </tr>\n",
       "    <tr>\n",
       "      <th>40</th>\n",
       "      <td>2010</td>\n",
       "      <td>7899</td>\n",
       "      <td>22482421.0</td>\n",
       "      <td>0.035134</td>\n",
       "    </tr>\n",
       "    <tr>\n",
       "      <th>41</th>\n",
       "      <td>2011</td>\n",
       "      <td>12714</td>\n",
       "      <td>22878098.0</td>\n",
       "      <td>0.055573</td>\n",
       "    </tr>\n",
       "    <tr>\n",
       "      <th>42</th>\n",
       "      <td>2012</td>\n",
       "      <td>680042</td>\n",
       "      <td>22759763.0</td>\n",
       "      <td>2.987913</td>\n",
       "    </tr>\n",
       "    <tr>\n",
       "      <th>43</th>\n",
       "      <td>2013</td>\n",
       "      <td>2265655</td>\n",
       "      <td>21666917.0</td>\n",
       "      <td>10.456748</td>\n",
       "    </tr>\n",
       "    <tr>\n",
       "      <th>44</th>\n",
       "      <td>2014</td>\n",
       "      <td>1724889</td>\n",
       "      <td>20273659.0</td>\n",
       "      <td>8.508030</td>\n",
       "    </tr>\n",
       "    <tr>\n",
       "      <th>45</th>\n",
       "      <td>2015</td>\n",
       "      <td>1453978</td>\n",
       "      <td>19424618.0</td>\n",
       "      <td>7.485233</td>\n",
       "    </tr>\n",
       "    <tr>\n",
       "      <th>46</th>\n",
       "      <td>2016</td>\n",
       "      <td>759114</td>\n",
       "      <td>19193834.0</td>\n",
       "      <td>3.954989</td>\n",
       "    </tr>\n",
       "    <tr>\n",
       "      <th>47</th>\n",
       "      <td>2017</td>\n",
       "      <td>863523</td>\n",
       "      <td>19224668.0</td>\n",
       "      <td>4.491745</td>\n",
       "    </tr>\n",
       "    <tr>\n",
       "      <th>48</th>\n",
       "      <td>2018</td>\n",
       "      <td>633257</td>\n",
       "      <td>19577845.0</td>\n",
       "      <td>3.234559</td>\n",
       "    </tr>\n",
       "    <tr>\n",
       "      <th>49</th>\n",
       "      <td>2019</td>\n",
       "      <td>142197</td>\n",
       "      <td>20353534.0</td>\n",
       "      <td>0.698635</td>\n",
       "    </tr>\n",
       "    <tr>\n",
       "      <th>50</th>\n",
       "      <td>2020</td>\n",
       "      <td>79433</td>\n",
       "      <td>21049429.0</td>\n",
       "      <td>0.377364</td>\n",
       "    </tr>\n",
       "    <tr>\n",
       "      <th>51</th>\n",
       "      <td>2021</td>\n",
       "      <td>126992</td>\n",
       "      <td>21628839.0</td>\n",
       "      <td>0.587142</td>\n",
       "    </tr>\n",
       "    <tr>\n",
       "      <th>52</th>\n",
       "      <td>2022</td>\n",
       "      <td>177031</td>\n",
       "      <td>22462173.0</td>\n",
       "      <td>0.788129</td>\n",
       "    </tr>\n",
       "    <tr>\n",
       "      <th>53</th>\n",
       "      <td>2023</td>\n",
       "      <td>228225</td>\n",
       "      <td>23594623.0</td>\n",
       "      <td>0.967275</td>\n",
       "    </tr>\n",
       "  </tbody>\n",
       "</table>\n",
       "</div>"
      ],
      "text/plain": [
       "    year  displaced  population  percentage_of_population_migration\n",
       "0   1970        176   6380609.0                            0.002758\n",
       "1   1971        209   6598094.0                            0.003168\n",
       "2   1972        143   6826024.0                            0.002095\n",
       "3   1973          5   7060321.0                            0.000071\n",
       "4   1974          5   7302160.0                            0.000068\n",
       "5   1975         10   7554364.0                            0.000132\n",
       "6   1976        247   7817320.0                            0.003160\n",
       "7   1977        254   8090501.0                            0.003139\n",
       "8   1978        373   8372759.0                            0.004455\n",
       "9   1979         84   8661909.0                            0.000970\n",
       "10  1980        753   8957663.0                            0.008406\n",
       "11  1981        563   9260189.0                            0.006080\n",
       "12  1982        266   9572511.0                            0.002779\n",
       "13  1983        362   9904809.0                            0.003655\n",
       "14  1984        619  10258398.0                            0.006034\n",
       "15  1985        731  10625672.0                            0.006880\n",
       "16  1986       2876  11002844.0                            0.026139\n",
       "17  1987       1620  11388923.0                            0.014224\n",
       "18  1988       2040  11782264.0                            0.017314\n",
       "19  1989       3213  12179060.0                            0.026381\n",
       "20  1990       6925  12579208.0                            0.055051\n",
       "21  1991       3434  12980821.0                            0.026454\n",
       "22  1992       2890  13385571.0                            0.021590\n",
       "23  1993       2557  13795686.0                            0.018535\n",
       "24  1994       2106  14208583.0                            0.014822\n",
       "25  1995       2451  14616801.0                            0.016768\n",
       "26  1996       3293  15018104.0                            0.021927\n",
       "27  1997       3155  15417542.0                            0.020464\n",
       "28  1998       3419  15820413.0                            0.021611\n",
       "29  1999       4421  16228061.0                            0.027243\n",
       "30  2000       5677  16637888.0                            0.034121\n",
       "31  2001       4700  17051338.0                            0.027564\n",
       "32  2002       4030  17468332.0                            0.023070\n",
       "33  2003       3867  17889296.0                            0.021616\n",
       "34  2004       3603  18336875.0                            0.019649\n",
       "35  2005       4766  18814091.0                            0.025332\n",
       "36  2006       4118  19637022.0                            0.020971\n",
       "37  2007       5781  20884125.0                            0.027681\n",
       "38  2008       5769  21636564.0                            0.026663\n",
       "39  2009       5941  21976969.0                            0.027033\n",
       "40  2010       7899  22482421.0                            0.035134\n",
       "41  2011      12714  22878098.0                            0.055573\n",
       "42  2012     680042  22759763.0                            2.987913\n",
       "43  2013    2265655  21666917.0                           10.456748\n",
       "44  2014    1724889  20273659.0                            8.508030\n",
       "45  2015    1453978  19424618.0                            7.485233\n",
       "46  2016     759114  19193834.0                            3.954989\n",
       "47  2017     863523  19224668.0                            4.491745\n",
       "48  2018     633257  19577845.0                            3.234559\n",
       "49  2019     142197  20353534.0                            0.698635\n",
       "50  2020      79433  21049429.0                            0.377364\n",
       "51  2021     126992  21628839.0                            0.587142\n",
       "52  2022     177031  22462173.0                            0.788129\n",
       "53  2023     228225  23594623.0                            0.967275"
      ]
     },
     "execution_count": 9,
     "metadata": {},
     "output_type": "execute_result"
    }
   ],
   "source": [
    "syria = Country_population_data('SYR', population, asylum)\n",
    "syria"
   ]
  },
  {
   "cell_type": "code",
   "execution_count": 10,
   "metadata": {},
   "outputs": [
    {
     "data": {
      "text/html": [
       "<style type=\"text/css\">\n",
       "</style>\n",
       "<table id=\"T_ce995\">\n",
       "  <thead>\n",
       "    <tr>\n",
       "      <th class=\"blank level0\" >&nbsp;</th>\n",
       "      <th id=\"T_ce995_level0_col0\" class=\"col_heading level0 col0\" >year</th>\n",
       "      <th id=\"T_ce995_level0_col1\" class=\"col_heading level0 col1\" >displaced</th>\n",
       "      <th id=\"T_ce995_level0_col2\" class=\"col_heading level0 col2\" >population</th>\n",
       "      <th id=\"T_ce995_level0_col3\" class=\"col_heading level0 col3\" >percentage_of_population_migration</th>\n",
       "    </tr>\n",
       "  </thead>\n",
       "  <tbody>\n",
       "    <tr>\n",
       "      <th id=\"T_ce995_level0_row0\" class=\"row_heading level0 row0\" >0</th>\n",
       "      <td id=\"T_ce995_row0_col0\" class=\"data row0 col0\" >1.981</td>\n",
       "      <td id=\"T_ce995_row0_col1\" class=\"data row0 col1\" >5</td>\n",
       "      <td id=\"T_ce995_row0_col2\" class=\"data row0 col2\" >50.189.281,0000</td>\n",
       "      <td id=\"T_ce995_row0_col3\" class=\"data row0 col3\" >0,0000</td>\n",
       "    </tr>\n",
       "    <tr>\n",
       "      <th id=\"T_ce995_level0_row1\" class=\"row_heading level0 row1\" >1</th>\n",
       "      <td id=\"T_ce995_row1_col0\" class=\"data row1 col0\" >1.990</td>\n",
       "      <td id=\"T_ce995_row1_col1\" class=\"data row1 col1\" >5</td>\n",
       "      <td id=\"T_ce995_row1_col2\" class=\"data row1 col2\" >52.054.092,0000</td>\n",
       "      <td id=\"T_ce995_row1_col3\" class=\"data row1 col3\" >0,0000</td>\n",
       "    </tr>\n",
       "    <tr>\n",
       "      <th id=\"T_ce995_level0_row2\" class=\"row_heading level0 row2\" >2</th>\n",
       "      <td id=\"T_ce995_row2_col0\" class=\"data row2 col0\" >1.991</td>\n",
       "      <td id=\"T_ce995_row2_col1\" class=\"data row2 col1\" >115</td>\n",
       "      <td id=\"T_ce995_row2_col2\" class=\"data row2 col2\" >52.170.961,0000</td>\n",
       "      <td id=\"T_ce995_row2_col3\" class=\"data row2 col3\" >0,0002</td>\n",
       "    </tr>\n",
       "    <tr>\n",
       "      <th id=\"T_ce995_level0_row3\" class=\"row_heading level0 row3\" >3</th>\n",
       "      <td id=\"T_ce995_row3_col0\" class=\"data row3 col0\" >1.992</td>\n",
       "      <td id=\"T_ce995_row3_col1\" class=\"data row3 col1\" >3.318</td>\n",
       "      <td id=\"T_ce995_row3_col2\" class=\"data row3 col2\" >52.323.671,0000</td>\n",
       "      <td id=\"T_ce995_row3_col3\" class=\"data row3 col3\" >0,0063</td>\n",
       "    </tr>\n",
       "    <tr>\n",
       "      <th id=\"T_ce995_level0_row4\" class=\"row_heading level0 row4\" >4</th>\n",
       "      <td id=\"T_ce995_row4_col0\" class=\"data row4 col0\" >1.993</td>\n",
       "      <td id=\"T_ce995_row4_col1\" class=\"data row4 col1\" >6.322</td>\n",
       "      <td id=\"T_ce995_row4_col2\" class=\"data row4 col2\" >52.350.126,0000</td>\n",
       "      <td id=\"T_ce995_row4_col3\" class=\"data row4 col3\" >0,0121</td>\n",
       "    </tr>\n",
       "    <tr>\n",
       "      <th id=\"T_ce995_level0_row5\" class=\"row_heading level0 row5\" >5</th>\n",
       "      <td id=\"T_ce995_row5_col0\" class=\"data row5 col0\" >1.994</td>\n",
       "      <td id=\"T_ce995_row5_col1\" class=\"data row5 col1\" >3.781</td>\n",
       "      <td id=\"T_ce995_row5_col2\" class=\"data row5 col2\" >52.075.998,0000</td>\n",
       "      <td id=\"T_ce995_row5_col3\" class=\"data row5 col3\" >0,0073</td>\n",
       "    </tr>\n",
       "    <tr>\n",
       "      <th id=\"T_ce995_level0_row6\" class=\"row_heading level0 row6\" >6</th>\n",
       "      <td id=\"T_ce995_row6_col0\" class=\"data row6 col0\" >1.995</td>\n",
       "      <td id=\"T_ce995_row6_col1\" class=\"data row6 col1\" >2.595</td>\n",
       "      <td id=\"T_ce995_row6_col2\" class=\"data row6 col2\" >51.665.539,0000</td>\n",
       "      <td id=\"T_ce995_row6_col3\" class=\"data row6 col3\" >0,0050</td>\n",
       "    </tr>\n",
       "    <tr>\n",
       "      <th id=\"T_ce995_level0_row7\" class=\"row_heading level0 row7\" >7</th>\n",
       "      <td id=\"T_ce995_row7_col0\" class=\"data row7 col0\" >1.996</td>\n",
       "      <td id=\"T_ce995_row7_col1\" class=\"data row7 col1\" >3.128</td>\n",
       "      <td id=\"T_ce995_row7_col2\" class=\"data row7 col2\" >51.226.109,0000</td>\n",
       "      <td id=\"T_ce995_row7_col3\" class=\"data row7 col3\" >0,0061</td>\n",
       "    </tr>\n",
       "    <tr>\n",
       "      <th id=\"T_ce995_level0_row8\" class=\"row_heading level0 row8\" >8</th>\n",
       "      <td id=\"T_ce995_row8_col0\" class=\"data row8 col0\" >1.997</td>\n",
       "      <td id=\"T_ce995_row8_col1\" class=\"data row8 col1\" >3.380</td>\n",
       "      <td id=\"T_ce995_row8_col2\" class=\"data row8 col2\" >50.786.885,0000</td>\n",
       "      <td id=\"T_ce995_row8_col3\" class=\"data row8 col3\" >0,0067</td>\n",
       "    </tr>\n",
       "    <tr>\n",
       "      <th id=\"T_ce995_level0_row9\" class=\"row_heading level0 row9\" >9</th>\n",
       "      <td id=\"T_ce995_row9_col0\" class=\"data row9 col0\" >1.998</td>\n",
       "      <td id=\"T_ce995_row9_col1\" class=\"data row9 col1\" >2.423</td>\n",
       "      <td id=\"T_ce995_row9_col2\" class=\"data row9 col2\" >50.379.731,0000</td>\n",
       "      <td id=\"T_ce995_row9_col3\" class=\"data row9 col3\" >0,0048</td>\n",
       "    </tr>\n",
       "    <tr>\n",
       "      <th id=\"T_ce995_level0_row10\" class=\"row_heading level0 row10\" >10</th>\n",
       "      <td id=\"T_ce995_row10_col0\" class=\"data row10 col0\" >1.999</td>\n",
       "      <td id=\"T_ce995_row10_col1\" class=\"data row10 col1\" >4.797</td>\n",
       "      <td id=\"T_ce995_row10_col2\" class=\"data row10 col2\" >49.976.446,0000</td>\n",
       "      <td id=\"T_ce995_row10_col3\" class=\"data row10 col3\" >0,0096</td>\n",
       "    </tr>\n",
       "    <tr>\n",
       "      <th id=\"T_ce995_level0_row11\" class=\"row_heading level0 row11\" >11</th>\n",
       "      <td id=\"T_ce995_row11_col0\" class=\"data row11 col0\" >2.000</td>\n",
       "      <td id=\"T_ce995_row11_col1\" class=\"data row11 col1\" >7.366</td>\n",
       "      <td id=\"T_ce995_row11_col2\" class=\"data row11 col2\" >49.556.660,0000</td>\n",
       "      <td id=\"T_ce995_row11_col3\" class=\"data row11 col3\" >0,0149</td>\n",
       "    </tr>\n",
       "    <tr>\n",
       "      <th id=\"T_ce995_level0_row12\" class=\"row_heading level0 row12\" >12</th>\n",
       "      <td id=\"T_ce995_row12_col0\" class=\"data row12 col0\" >2.001</td>\n",
       "      <td id=\"T_ce995_row12_col1\" class=\"data row12 col1\" >11.089</td>\n",
       "      <td id=\"T_ce995_row12_col2\" class=\"data row12 col2\" >49.106.855,0000</td>\n",
       "      <td id=\"T_ce995_row12_col3\" class=\"data row12 col3\" >0,0226</td>\n",
       "    </tr>\n",
       "    <tr>\n",
       "      <th id=\"T_ce995_level0_row13\" class=\"row_heading level0 row13\" >13</th>\n",
       "      <td id=\"T_ce995_row13_col0\" class=\"data row13 col0\" >2.002</td>\n",
       "      <td id=\"T_ce995_row13_col1\" class=\"data row13 col1\" >7.934</td>\n",
       "      <td id=\"T_ce995_row13_col2\" class=\"data row13 col2\" >48.677.281,0000</td>\n",
       "      <td id=\"T_ce995_row13_col3\" class=\"data row13 col3\" >0,0163</td>\n",
       "    </tr>\n",
       "    <tr>\n",
       "      <th id=\"T_ce995_level0_row14\" class=\"row_heading level0 row14\" >14</th>\n",
       "      <td id=\"T_ce995_row14_col0\" class=\"data row14 col0\" >2.003</td>\n",
       "      <td id=\"T_ce995_row14_col1\" class=\"data row14 col1\" >6.245</td>\n",
       "      <td id=\"T_ce995_row14_col2\" class=\"data row14 col2\" >48.315.136,0000</td>\n",
       "      <td id=\"T_ce995_row14_col3\" class=\"data row14 col3\" >0,0129</td>\n",
       "    </tr>\n",
       "    <tr>\n",
       "      <th id=\"T_ce995_level0_row15\" class=\"row_heading level0 row15\" >15</th>\n",
       "      <td id=\"T_ce995_row15_col0\" class=\"data row15 col0\" >2.004</td>\n",
       "      <td id=\"T_ce995_row15_col1\" class=\"data row15 col1\" >5.494</td>\n",
       "      <td id=\"T_ce995_row15_col2\" class=\"data row15 col2\" >47.979.507,0000</td>\n",
       "      <td id=\"T_ce995_row15_col3\" class=\"data row15 col3\" >0,0115</td>\n",
       "    </tr>\n",
       "    <tr>\n",
       "      <th id=\"T_ce995_level0_row16\" class=\"row_heading level0 row16\" >16</th>\n",
       "      <td id=\"T_ce995_row16_col0\" class=\"data row16 col0\" >2.005</td>\n",
       "      <td id=\"T_ce995_row16_col1\" class=\"data row16 col1\" >3.993</td>\n",
       "      <td id=\"T_ce995_row16_col2\" class=\"data row16 col2\" >47.585.556,0000</td>\n",
       "      <td id=\"T_ce995_row16_col3\" class=\"data row16 col3\" >0,0084</td>\n",
       "    </tr>\n",
       "    <tr>\n",
       "      <th id=\"T_ce995_level0_row17\" class=\"row_heading level0 row17\" >17</th>\n",
       "      <td id=\"T_ce995_row17_col0\" class=\"data row17 col0\" >2.006</td>\n",
       "      <td id=\"T_ce995_row17_col1\" class=\"data row17 col1\" >2.267</td>\n",
       "      <td id=\"T_ce995_row17_col2\" class=\"data row17 col2\" >47.278.694,0000</td>\n",
       "      <td id=\"T_ce995_row17_col3\" class=\"data row17 col3\" >0,0048</td>\n",
       "    </tr>\n",
       "    <tr>\n",
       "      <th id=\"T_ce995_level0_row18\" class=\"row_heading level0 row18\" >18</th>\n",
       "      <td id=\"T_ce995_row18_col0\" class=\"data row18 col0\" >2.007</td>\n",
       "      <td id=\"T_ce995_row18_col1\" class=\"data row18 col1\" >1.782</td>\n",
       "      <td id=\"T_ce995_row18_col2\" class=\"data row18 col2\" >47.062.798,0000</td>\n",
       "      <td id=\"T_ce995_row18_col3\" class=\"data row18 col3\" >0,0038</td>\n",
       "    </tr>\n",
       "    <tr>\n",
       "      <th id=\"T_ce995_level0_row19\" class=\"row_heading level0 row19\" >19</th>\n",
       "      <td id=\"T_ce995_row19_col0\" class=\"data row19 col0\" >2.008</td>\n",
       "      <td id=\"T_ce995_row19_col1\" class=\"data row19 col1\" >1.656</td>\n",
       "      <td id=\"T_ce995_row19_col2\" class=\"data row19 col2\" >46.819.175,0000</td>\n",
       "      <td id=\"T_ce995_row19_col3\" class=\"data row19 col3\" >0,0035</td>\n",
       "    </tr>\n",
       "    <tr>\n",
       "      <th id=\"T_ce995_level0_row20\" class=\"row_heading level0 row20\" >20</th>\n",
       "      <td id=\"T_ce995_row20_col0\" class=\"data row20 col0\" >2.009</td>\n",
       "      <td id=\"T_ce995_row20_col1\" class=\"data row20 col1\" >1.511</td>\n",
       "      <td id=\"T_ce995_row20_col2\" class=\"data row20 col2\" >46.623.731,0000</td>\n",
       "      <td id=\"T_ce995_row20_col3\" class=\"data row20 col3\" >0,0032</td>\n",
       "    </tr>\n",
       "    <tr>\n",
       "      <th id=\"T_ce995_level0_row21\" class=\"row_heading level0 row21\" >21</th>\n",
       "      <td id=\"T_ce995_row21_col0\" class=\"data row21 col0\" >2.010</td>\n",
       "      <td id=\"T_ce995_row21_col1\" class=\"data row21 col1\" >1.564</td>\n",
       "      <td id=\"T_ce995_row21_col2\" class=\"data row21 col2\" >46.456.003,0000</td>\n",
       "      <td id=\"T_ce995_row21_col3\" class=\"data row21 col3\" >0,0034</td>\n",
       "    </tr>\n",
       "    <tr>\n",
       "      <th id=\"T_ce995_level0_row22\" class=\"row_heading level0 row22\" >22</th>\n",
       "      <td id=\"T_ce995_row22_col0\" class=\"data row22 col0\" >2.011</td>\n",
       "      <td id=\"T_ce995_row22_col1\" class=\"data row22 col1\" >1.546</td>\n",
       "      <td id=\"T_ce995_row22_col2\" class=\"data row22 col2\" >46.307.853,0000</td>\n",
       "      <td id=\"T_ce995_row22_col3\" class=\"data row22 col3\" >0,0033</td>\n",
       "    </tr>\n",
       "    <tr>\n",
       "      <th id=\"T_ce995_level0_row23\" class=\"row_heading level0 row23\" >23</th>\n",
       "      <td id=\"T_ce995_row23_col0\" class=\"data row23 col0\" >2.012</td>\n",
       "      <td id=\"T_ce995_row23_col1\" class=\"data row23 col1\" >1.654</td>\n",
       "      <td id=\"T_ce995_row23_col2\" class=\"data row23 col2\" >46.210.056,0000</td>\n",
       "      <td id=\"T_ce995_row23_col3\" class=\"data row23 col3\" >0,0036</td>\n",
       "    </tr>\n",
       "    <tr>\n",
       "      <th id=\"T_ce995_level0_row24\" class=\"row_heading level0 row24\" >24</th>\n",
       "      <td id=\"T_ce995_row24_col0\" class=\"data row24 col0\" >2.013</td>\n",
       "      <td id=\"T_ce995_row24_col1\" class=\"data row24 col1\" >1.617</td>\n",
       "      <td id=\"T_ce995_row24_col2\" class=\"data row24 col2\" >46.126.770,0000</td>\n",
       "      <td id=\"T_ce995_row24_col3\" class=\"data row24 col3\" >0,0035</td>\n",
       "    </tr>\n",
       "    <tr>\n",
       "      <th id=\"T_ce995_level0_row25\" class=\"row_heading level0 row25\" >25</th>\n",
       "      <td id=\"T_ce995_row25_col0\" class=\"data row25 col0\" >2.014</td>\n",
       "      <td id=\"T_ce995_row25_col1\" class=\"data row25 col1\" >289.071</td>\n",
       "      <td id=\"T_ce995_row25_col2\" class=\"data row25 col2\" >45.972.380,0000</td>\n",
       "      <td id=\"T_ce995_row25_col3\" class=\"data row25 col3\" >0,6288</td>\n",
       "    </tr>\n",
       "    <tr>\n",
       "      <th id=\"T_ce995_level0_row26\" class=\"row_heading level0 row26\" >26</th>\n",
       "      <td id=\"T_ce995_row26_col0\" class=\"data row26 col0\" >2.015</td>\n",
       "      <td id=\"T_ce995_row26_col1\" class=\"data row26 col1\" >176.845</td>\n",
       "      <td id=\"T_ce995_row26_col2\" class=\"data row26 col2\" >45.784.896,0000</td>\n",
       "      <td id=\"T_ce995_row26_col3\" class=\"data row26 col3\" >0,3863</td>\n",
       "    </tr>\n",
       "    <tr>\n",
       "      <th id=\"T_ce995_level0_row27\" class=\"row_heading level0 row27\" >27</th>\n",
       "      <td id=\"T_ce995_row27_col0\" class=\"data row27 col0\" >2.016</td>\n",
       "      <td id=\"T_ce995_row27_col1\" class=\"data row27 col1\" >46.448</td>\n",
       "      <td id=\"T_ce995_row27_col2\" class=\"data row27 col2\" >45.616.832,0000</td>\n",
       "      <td id=\"T_ce995_row27_col3\" class=\"data row27 col3\" >0,1018</td>\n",
       "    </tr>\n",
       "    <tr>\n",
       "      <th id=\"T_ce995_level0_row28\" class=\"row_heading level0 row28\" >28</th>\n",
       "      <td id=\"T_ce995_row28_col0\" class=\"data row28 col0\" >2.017</td>\n",
       "      <td id=\"T_ce995_row28_col1\" class=\"data row28 col1\" >32.727</td>\n",
       "      <td id=\"T_ce995_row28_col2\" class=\"data row28 col2\" >45.436.041,0000</td>\n",
       "      <td id=\"T_ce995_row28_col3\" class=\"data row28 col3\" >0,0720</td>\n",
       "    </tr>\n",
       "    <tr>\n",
       "      <th id=\"T_ce995_level0_row29\" class=\"row_heading level0 row29\" >29</th>\n",
       "      <td id=\"T_ce995_row29_col0\" class=\"data row29 col0\" >2.018</td>\n",
       "      <td id=\"T_ce995_row29_col1\" class=\"data row29 col1\" >19.383</td>\n",
       "      <td id=\"T_ce995_row29_col2\" class=\"data row29 col2\" >45.208.907,0000</td>\n",
       "      <td id=\"T_ce995_row29_col3\" class=\"data row29 col3\" >0,0429</td>\n",
       "    </tr>\n",
       "    <tr>\n",
       "      <th id=\"T_ce995_level0_row30\" class=\"row_heading level0 row30\" >30</th>\n",
       "      <td id=\"T_ce995_row30_col0\" class=\"data row30 col0\" >2.019</td>\n",
       "      <td id=\"T_ce995_row30_col1\" class=\"data row30 col1\" >17.278</td>\n",
       "      <td id=\"T_ce995_row30_col2\" class=\"data row30 col2\" >44.957.458,0000</td>\n",
       "      <td id=\"T_ce995_row30_col3\" class=\"data row30 col3\" >0,0384</td>\n",
       "    </tr>\n",
       "    <tr>\n",
       "      <th id=\"T_ce995_level0_row31\" class=\"row_heading level0 row31\" >31</th>\n",
       "      <td id=\"T_ce995_row31_col0\" class=\"data row31 col0\" >2.020</td>\n",
       "      <td id=\"T_ce995_row31_col1\" class=\"data row31 col1\" >11.407</td>\n",
       "      <td id=\"T_ce995_row31_col2\" class=\"data row31 col2\" >44.680.014,0000</td>\n",
       "      <td id=\"T_ce995_row31_col3\" class=\"data row31 col3\" >0,0255</td>\n",
       "    </tr>\n",
       "    <tr>\n",
       "      <th id=\"T_ce995_level0_row32\" class=\"row_heading level0 row32\" >32</th>\n",
       "      <td id=\"T_ce995_row32_col0\" class=\"data row32 col0\" >2.021</td>\n",
       "      <td id=\"T_ce995_row32_col1\" class=\"data row32 col1\" >10.289</td>\n",
       "      <td id=\"T_ce995_row32_col2\" class=\"data row32 col2\" >44.298.640,0000</td>\n",
       "      <td id=\"T_ce995_row32_col3\" class=\"data row32 col3\" >0,0232</td>\n",
       "    </tr>\n",
       "    <tr>\n",
       "      <th id=\"T_ce995_level0_row33\" class=\"row_heading level0 row33\" >33</th>\n",
       "      <td id=\"T_ce995_row33_col0\" class=\"data row33 col0\" >2.022</td>\n",
       "      <td id=\"T_ce995_row33_col1\" class=\"data row33 col1\" >5.780.042</td>\n",
       "      <td id=\"T_ce995_row33_col2\" class=\"data row33 col2\" >41.048.766,0000</td>\n",
       "      <td id=\"T_ce995_row33_col3\" class=\"data row33 col3\" >14,0809</td>\n",
       "    </tr>\n",
       "    <tr>\n",
       "      <th id=\"T_ce995_level0_row34\" class=\"row_heading level0 row34\" >34</th>\n",
       "      <td id=\"T_ce995_row34_col0\" class=\"data row34 col0\" >2.023</td>\n",
       "      <td id=\"T_ce995_row34_col1\" class=\"data row34 col1\" >1.082.208</td>\n",
       "      <td id=\"T_ce995_row34_col2\" class=\"data row34 col2\" >37.732.836,0000</td>\n",
       "      <td id=\"T_ce995_row34_col3\" class=\"data row34 col3\" >2,8681</td>\n",
       "    </tr>\n",
       "  </tbody>\n",
       "</table>\n"
      ],
      "text/plain": [
       "<pandas.io.formats.style.Styler at 0x2b5a5a44080>"
      ]
     },
     "execution_count": 10,
     "metadata": {},
     "output_type": "execute_result"
    }
   ],
   "source": [
    "ukrine = Country_population_data(\"UKR\", population, asylum)\n",
    "ukrine.style.format(precision=4, thousands=\".\", decimal=\",\")"
   ]
  },
  {
   "cell_type": "code",
   "execution_count": 11,
   "metadata": {},
   "outputs": [
    {
     "data": {
      "application/vnd.plotly.v1+json": {
       "config": {
        "plotlyServerURL": "https://plot.ly"
       },
       "data": [
        {
         "type": "scatter",
         "x": {
          "bdata": "tQfAB8IHxQfGB8cHyAfJB8oHywfMB80HzgfPB9AH0QfSB9MH1AfVB9YH1wfYB9kH2gfbB9wH3QfeB98H4AfhB+IH4wfkB+UH5gfnBw==",
          "dtype": "i2"
         },
         "y": {
          "bdata": "I2q8aWoIBT+v1RGBDtMOPw5QeNhZQP0+vPDhhTypND9jitNq1kJMP4brKe2G2VM/nYCJYTDdVj//I7j16ORWP6Ew5gGbwmE/HDQx0X8BdD8YYZR8EsNbP+LpwCllakI/Sx4Vyxi3Qz8O5v4x+gRBPyODGI5WYUc/sYEr8LIaWj+1n5HzPyVuPwJkFKys54Q/7KE3F0wygz9uCSe+F6h8P0IpOkjoNHY/YtLwKYyocT/P+4FedoNyP6Ttk7rU1mk/G/XMODBnbD+M55RSGwZxP6WXpxXrFWk/kOx12+eicz/paXmBle6RPwTlD5F4GqY/c64Zb32uwT++jmJAnYDaPyE5/MGU9yBAgDBIAK4SFUDQjbMd1RwAQEA+jw3E1gJAnEX9xlpZEUAGoXi0Cd8MQA==",
          "dtype": "f8"
         }
        },
        {
         "type": "scatter",
         "x": {
          "bdata": "vQfGB8cHyAfJB8oHywfMB80HzgfPB9AH0QfSB9MH1AfVB9YH1wfYB9kH2gfbB9wH3QfeB98H4AfhB+IH4wfkB+UH5gfnBw==",
          "dtype": "i2"
         },
         "y": {
          "bdata": "2kl9PXbk5D793f0h2yTkPuNUReJf5Cw/Li8sRVX5eT94XaI/gLuIP+8sww07vX0/wDwfJ6ySdD8PWAsA4QJ5P0ryNyeMQns/lOj2Txmzcz8L+lrFY6iDPzSMALPocI4/vpbNAJIflz/ruivHu7CQP3ckQcW2eIo/Ddun5nlzhz/jkygIaC+BP87Aj2rko3M//I8fPbgEbz+GDD0Lp/lsPzKOlB+IjGo/5rz8tlOUaz9oU+zUZVlrP0T/5xRaUm0/gcR4Va+3bD9TL/oBEh/kPwcGmptZuNg/6k0UxAIRuj+pWZRweXCyP673z5qe86U/GIv1LVitoz/RozYzpiSaP2SilnOsyJc/WC01vW0pLEBHCM0I1PEGQA==",
          "dtype": "f8"
         }
        },
        {
         "type": "scatter",
         "x": {
          "bdata": "tAe4B7kHuge7B7wHvQe+B78HwAfBB8IHwwfEB8UHxgfHB8gHyQfKB8sHzAfNB84HzwfQB9EH0gfTB9QH1QfWB9cH2AfZB9oH2wfcB90H3gffB+AH4QfiB+MH5AflB+YH5wc=",
          "dtype": "i2"
         },
         "y": {
          "bdata": "1xyB8m0dBj8vmY8Z2BseP0N89fRTrzE/u+5P69n4UD8/bECPmg5yP3ZXrRza3iNAZ6JIQTu5M0ChFlkk4sESQFcxbR5l5f0/gxCvW0YD7z8cIjkQbf77P2u7zh8CvxBAT3VrnEJtEUCkrZ/iUlTsPz3R4lXS/c0/D54vLMe/zj8PhfdPGvnQP/xtaNKKn/A/Px4UQcgmxT/MSxxDV0LQP57oQuou2LM/Lt1sLlBW1D+9qcRBZRzHP2a04RnOWLo/PajNrLUL4z/tAkXKZCsJQFH5pawaQvw/IJN6Bp5M4z+SUe85MsfgP6otLPitTt4/4XQkf+m73D86wqrk1QfcP+XCWjAvadw/QC+A+mPM3j9E9l7GVT/gP7i8Jycqz94/PuZdSMc43z/E+6+3cJXgP7rnrHv+9N0/4fiElSW44D9P6Tdq/HLxP8gXDc239u4/QPmXNmdG5D8O8R6OrMriP1IF9LDJl+M/A5Ixqq/K3D/JTgoTGFcCQHjcEZCDGABAqJZuntf28D8=",
          "dtype": "f8"
         }
        }
       ],
       "layout": {
        "template": {
         "data": {
          "bar": [
           {
            "error_x": {
             "color": "#2a3f5f"
            },
            "error_y": {
             "color": "#2a3f5f"
            },
            "marker": {
             "line": {
              "color": "#E5ECF6",
              "width": 0.5
             },
             "pattern": {
              "fillmode": "overlay",
              "size": 10,
              "solidity": 0.2
             }
            },
            "type": "bar"
           }
          ],
          "barpolar": [
           {
            "marker": {
             "line": {
              "color": "#E5ECF6",
              "width": 0.5
             },
             "pattern": {
              "fillmode": "overlay",
              "size": 10,
              "solidity": 0.2
             }
            },
            "type": "barpolar"
           }
          ],
          "carpet": [
           {
            "aaxis": {
             "endlinecolor": "#2a3f5f",
             "gridcolor": "white",
             "linecolor": "white",
             "minorgridcolor": "white",
             "startlinecolor": "#2a3f5f"
            },
            "baxis": {
             "endlinecolor": "#2a3f5f",
             "gridcolor": "white",
             "linecolor": "white",
             "minorgridcolor": "white",
             "startlinecolor": "#2a3f5f"
            },
            "type": "carpet"
           }
          ],
          "choropleth": [
           {
            "colorbar": {
             "outlinewidth": 0,
             "ticks": ""
            },
            "type": "choropleth"
           }
          ],
          "contour": [
           {
            "colorbar": {
             "outlinewidth": 0,
             "ticks": ""
            },
            "colorscale": [
             [
              0,
              "#0d0887"
             ],
             [
              0.1111111111111111,
              "#46039f"
             ],
             [
              0.2222222222222222,
              "#7201a8"
             ],
             [
              0.3333333333333333,
              "#9c179e"
             ],
             [
              0.4444444444444444,
              "#bd3786"
             ],
             [
              0.5555555555555556,
              "#d8576b"
             ],
             [
              0.6666666666666666,
              "#ed7953"
             ],
             [
              0.7777777777777778,
              "#fb9f3a"
             ],
             [
              0.8888888888888888,
              "#fdca26"
             ],
             [
              1,
              "#f0f921"
             ]
            ],
            "type": "contour"
           }
          ],
          "contourcarpet": [
           {
            "colorbar": {
             "outlinewidth": 0,
             "ticks": ""
            },
            "type": "contourcarpet"
           }
          ],
          "heatmap": [
           {
            "colorbar": {
             "outlinewidth": 0,
             "ticks": ""
            },
            "colorscale": [
             [
              0,
              "#0d0887"
             ],
             [
              0.1111111111111111,
              "#46039f"
             ],
             [
              0.2222222222222222,
              "#7201a8"
             ],
             [
              0.3333333333333333,
              "#9c179e"
             ],
             [
              0.4444444444444444,
              "#bd3786"
             ],
             [
              0.5555555555555556,
              "#d8576b"
             ],
             [
              0.6666666666666666,
              "#ed7953"
             ],
             [
              0.7777777777777778,
              "#fb9f3a"
             ],
             [
              0.8888888888888888,
              "#fdca26"
             ],
             [
              1,
              "#f0f921"
             ]
            ],
            "type": "heatmap"
           }
          ],
          "histogram": [
           {
            "marker": {
             "pattern": {
              "fillmode": "overlay",
              "size": 10,
              "solidity": 0.2
             }
            },
            "type": "histogram"
           }
          ],
          "histogram2d": [
           {
            "colorbar": {
             "outlinewidth": 0,
             "ticks": ""
            },
            "colorscale": [
             [
              0,
              "#0d0887"
             ],
             [
              0.1111111111111111,
              "#46039f"
             ],
             [
              0.2222222222222222,
              "#7201a8"
             ],
             [
              0.3333333333333333,
              "#9c179e"
             ],
             [
              0.4444444444444444,
              "#bd3786"
             ],
             [
              0.5555555555555556,
              "#d8576b"
             ],
             [
              0.6666666666666666,
              "#ed7953"
             ],
             [
              0.7777777777777778,
              "#fb9f3a"
             ],
             [
              0.8888888888888888,
              "#fdca26"
             ],
             [
              1,
              "#f0f921"
             ]
            ],
            "type": "histogram2d"
           }
          ],
          "histogram2dcontour": [
           {
            "colorbar": {
             "outlinewidth": 0,
             "ticks": ""
            },
            "colorscale": [
             [
              0,
              "#0d0887"
             ],
             [
              0.1111111111111111,
              "#46039f"
             ],
             [
              0.2222222222222222,
              "#7201a8"
             ],
             [
              0.3333333333333333,
              "#9c179e"
             ],
             [
              0.4444444444444444,
              "#bd3786"
             ],
             [
              0.5555555555555556,
              "#d8576b"
             ],
             [
              0.6666666666666666,
              "#ed7953"
             ],
             [
              0.7777777777777778,
              "#fb9f3a"
             ],
             [
              0.8888888888888888,
              "#fdca26"
             ],
             [
              1,
              "#f0f921"
             ]
            ],
            "type": "histogram2dcontour"
           }
          ],
          "mesh3d": [
           {
            "colorbar": {
             "outlinewidth": 0,
             "ticks": ""
            },
            "type": "mesh3d"
           }
          ],
          "parcoords": [
           {
            "line": {
             "colorbar": {
              "outlinewidth": 0,
              "ticks": ""
             }
            },
            "type": "parcoords"
           }
          ],
          "pie": [
           {
            "automargin": true,
            "type": "pie"
           }
          ],
          "scatter": [
           {
            "fillpattern": {
             "fillmode": "overlay",
             "size": 10,
             "solidity": 0.2
            },
            "type": "scatter"
           }
          ],
          "scatter3d": [
           {
            "line": {
             "colorbar": {
              "outlinewidth": 0,
              "ticks": ""
             }
            },
            "marker": {
             "colorbar": {
              "outlinewidth": 0,
              "ticks": ""
             }
            },
            "type": "scatter3d"
           }
          ],
          "scattercarpet": [
           {
            "marker": {
             "colorbar": {
              "outlinewidth": 0,
              "ticks": ""
             }
            },
            "type": "scattercarpet"
           }
          ],
          "scattergeo": [
           {
            "marker": {
             "colorbar": {
              "outlinewidth": 0,
              "ticks": ""
             }
            },
            "type": "scattergeo"
           }
          ],
          "scattergl": [
           {
            "marker": {
             "colorbar": {
              "outlinewidth": 0,
              "ticks": ""
             }
            },
            "type": "scattergl"
           }
          ],
          "scattermap": [
           {
            "marker": {
             "colorbar": {
              "outlinewidth": 0,
              "ticks": ""
             }
            },
            "type": "scattermap"
           }
          ],
          "scattermapbox": [
           {
            "marker": {
             "colorbar": {
              "outlinewidth": 0,
              "ticks": ""
             }
            },
            "type": "scattermapbox"
           }
          ],
          "scatterpolar": [
           {
            "marker": {
             "colorbar": {
              "outlinewidth": 0,
              "ticks": ""
             }
            },
            "type": "scatterpolar"
           }
          ],
          "scatterpolargl": [
           {
            "marker": {
             "colorbar": {
              "outlinewidth": 0,
              "ticks": ""
             }
            },
            "type": "scatterpolargl"
           }
          ],
          "scatterternary": [
           {
            "marker": {
             "colorbar": {
              "outlinewidth": 0,
              "ticks": ""
             }
            },
            "type": "scatterternary"
           }
          ],
          "surface": [
           {
            "colorbar": {
             "outlinewidth": 0,
             "ticks": ""
            },
            "colorscale": [
             [
              0,
              "#0d0887"
             ],
             [
              0.1111111111111111,
              "#46039f"
             ],
             [
              0.2222222222222222,
              "#7201a8"
             ],
             [
              0.3333333333333333,
              "#9c179e"
             ],
             [
              0.4444444444444444,
              "#bd3786"
             ],
             [
              0.5555555555555556,
              "#d8576b"
             ],
             [
              0.6666666666666666,
              "#ed7953"
             ],
             [
              0.7777777777777778,
              "#fb9f3a"
             ],
             [
              0.8888888888888888,
              "#fdca26"
             ],
             [
              1,
              "#f0f921"
             ]
            ],
            "type": "surface"
           }
          ],
          "table": [
           {
            "cells": {
             "fill": {
              "color": "#EBF0F8"
             },
             "line": {
              "color": "white"
             }
            },
            "header": {
             "fill": {
              "color": "#C8D4E3"
             },
             "line": {
              "color": "white"
             }
            },
            "type": "table"
           }
          ]
         },
         "layout": {
          "annotationdefaults": {
           "arrowcolor": "#2a3f5f",
           "arrowhead": 0,
           "arrowwidth": 1
          },
          "autotypenumbers": "strict",
          "coloraxis": {
           "colorbar": {
            "outlinewidth": 0,
            "ticks": ""
           }
          },
          "colorscale": {
           "diverging": [
            [
             0,
             "#8e0152"
            ],
            [
             0.1,
             "#c51b7d"
            ],
            [
             0.2,
             "#de77ae"
            ],
            [
             0.3,
             "#f1b6da"
            ],
            [
             0.4,
             "#fde0ef"
            ],
            [
             0.5,
             "#f7f7f7"
            ],
            [
             0.6,
             "#e6f5d0"
            ],
            [
             0.7,
             "#b8e186"
            ],
            [
             0.8,
             "#7fbc41"
            ],
            [
             0.9,
             "#4d9221"
            ],
            [
             1,
             "#276419"
            ]
           ],
           "sequential": [
            [
             0,
             "#0d0887"
            ],
            [
             0.1111111111111111,
             "#46039f"
            ],
            [
             0.2222222222222222,
             "#7201a8"
            ],
            [
             0.3333333333333333,
             "#9c179e"
            ],
            [
             0.4444444444444444,
             "#bd3786"
            ],
            [
             0.5555555555555556,
             "#d8576b"
            ],
            [
             0.6666666666666666,
             "#ed7953"
            ],
            [
             0.7777777777777778,
             "#fb9f3a"
            ],
            [
             0.8888888888888888,
             "#fdca26"
            ],
            [
             1,
             "#f0f921"
            ]
           ],
           "sequentialminus": [
            [
             0,
             "#0d0887"
            ],
            [
             0.1111111111111111,
             "#46039f"
            ],
            [
             0.2222222222222222,
             "#7201a8"
            ],
            [
             0.3333333333333333,
             "#9c179e"
            ],
            [
             0.4444444444444444,
             "#bd3786"
            ],
            [
             0.5555555555555556,
             "#d8576b"
            ],
            [
             0.6666666666666666,
             "#ed7953"
            ],
            [
             0.7777777777777778,
             "#fb9f3a"
            ],
            [
             0.8888888888888888,
             "#fdca26"
            ],
            [
             1,
             "#f0f921"
            ]
           ]
          },
          "colorway": [
           "#636efa",
           "#EF553B",
           "#00cc96",
           "#ab63fa",
           "#FFA15A",
           "#19d3f3",
           "#FF6692",
           "#B6E880",
           "#FF97FF",
           "#FECB52"
          ],
          "font": {
           "color": "#2a3f5f"
          },
          "geo": {
           "bgcolor": "white",
           "lakecolor": "white",
           "landcolor": "#E5ECF6",
           "showlakes": true,
           "showland": true,
           "subunitcolor": "white"
          },
          "hoverlabel": {
           "align": "left"
          },
          "hovermode": "closest",
          "mapbox": {
           "style": "light"
          },
          "paper_bgcolor": "white",
          "plot_bgcolor": "#E5ECF6",
          "polar": {
           "angularaxis": {
            "gridcolor": "white",
            "linecolor": "white",
            "ticks": ""
           },
           "bgcolor": "#E5ECF6",
           "radialaxis": {
            "gridcolor": "white",
            "linecolor": "white",
            "ticks": ""
           }
          },
          "scene": {
           "xaxis": {
            "backgroundcolor": "#E5ECF6",
            "gridcolor": "white",
            "gridwidth": 2,
            "linecolor": "white",
            "showbackground": true,
            "ticks": "",
            "zerolinecolor": "white"
           },
           "yaxis": {
            "backgroundcolor": "#E5ECF6",
            "gridcolor": "white",
            "gridwidth": 2,
            "linecolor": "white",
            "showbackground": true,
            "ticks": "",
            "zerolinecolor": "white"
           },
           "zaxis": {
            "backgroundcolor": "#E5ECF6",
            "gridcolor": "white",
            "gridwidth": 2,
            "linecolor": "white",
            "showbackground": true,
            "ticks": "",
            "zerolinecolor": "white"
           }
          },
          "shapedefaults": {
           "line": {
            "color": "#2a3f5f"
           }
          },
          "ternary": {
           "aaxis": {
            "gridcolor": "white",
            "linecolor": "white",
            "ticks": ""
           },
           "baxis": {
            "gridcolor": "white",
            "linecolor": "white",
            "ticks": ""
           },
           "bgcolor": "#E5ECF6",
           "caxis": {
            "gridcolor": "white",
            "linecolor": "white",
            "ticks": ""
           }
          },
          "title": {
           "x": 0.05
          },
          "xaxis": {
           "automargin": true,
           "gridcolor": "white",
           "linecolor": "white",
           "ticks": "",
           "title": {
            "standoff": 15
           },
           "zerolinecolor": "white",
           "zerolinewidth": 2
          },
          "yaxis": {
           "automargin": true,
           "gridcolor": "white",
           "linecolor": "white",
           "ticks": "",
           "title": {
            "standoff": 15
           },
           "zerolinecolor": "white",
           "zerolinewidth": 2
          }
         }
        },
        "xaxis": {
         "anchor": "y",
         "domain": [
          0,
          1
         ]
        },
        "yaxis": {
         "anchor": "x",
         "domain": [
          0,
          1
         ]
        }
       }
      }
     },
     "metadata": {},
     "output_type": "display_data"
    }
   ],
   "source": [
    "from plotly.subplots import make_subplots\n",
    "\n",
    "fit = make_subplots(rows=1, cols=1)\n",
    "fit.add_trace(go.Scatter(y=venezuela['percentage_of_population_migration'], x=venezuela[\"year\"]))\n",
    "fit.add_trace(go.Scatter(y=ukrine[\"percentage_of_population_migration\"], x=ukrine[\"year\"]))\n",
    "fit.add_trace(go.Scatter(y=af[\"percentage_of_population_migration\"], x=af[\"year\"]))\n",
    "\n",
    "fit.show()"
   ]
  },
  {
   "cell_type": "markdown",
   "metadata": {},
   "source": [
    "# Adding population movement"
   ]
  },
  {
   "cell_type": "code",
   "execution_count": 12,
   "metadata": {},
   "outputs": [
    {
     "data": {
      "text/html": [
       "<div>\n",
       "<style scoped>\n",
       "    .dataframe tbody tr th:only-of-type {\n",
       "        vertical-align: middle;\n",
       "    }\n",
       "\n",
       "    .dataframe tbody tr th {\n",
       "        vertical-align: top;\n",
       "    }\n",
       "\n",
       "    .dataframe thead th {\n",
       "        text-align: right;\n",
       "    }\n",
       "</style>\n",
       "<table border=\"1\" class=\"dataframe\">\n",
       "  <thead>\n",
       "    <tr style=\"text-align: right;\">\n",
       "      <th></th>\n",
       "      <th>country_of_origin_abbr</th>\n",
       "      <th>country_of_origin_name</th>\n",
       "      <th>country_of_asylum_abbr</th>\n",
       "      <th>country_of_asylum_name</th>\n",
       "      <th>region_of_asylum</th>\n",
       "      <th>category</th>\n",
       "      <th>year</th>\n",
       "      <th>count</th>\n",
       "    </tr>\n",
       "  </thead>\n",
       "  <tbody>\n",
       "    <tr>\n",
       "      <th>0</th>\n",
       "      <td>DZA</td>\n",
       "      <td>Algeria</td>\n",
       "      <td>MLT</td>\n",
       "      <td>Malta</td>\n",
       "      <td>Europe</td>\n",
       "      <td>Refugee</td>\n",
       "      <td>1962</td>\n",
       "      <td>5</td>\n",
       "    </tr>\n",
       "    <tr>\n",
       "      <th>1</th>\n",
       "      <td>AGO</td>\n",
       "      <td>Angola</td>\n",
       "      <td>COD</td>\n",
       "      <td>Dem. Rep. of the Congo</td>\n",
       "      <td>Southern Africa</td>\n",
       "      <td>Refugee</td>\n",
       "      <td>1962</td>\n",
       "      <td>20000</td>\n",
       "    </tr>\n",
       "    <tr>\n",
       "      <th>2</th>\n",
       "      <td>AGO</td>\n",
       "      <td>Angola</td>\n",
       "      <td>NAM</td>\n",
       "      <td>Namibia</td>\n",
       "      <td>Southern Africa</td>\n",
       "      <td>Refugee</td>\n",
       "      <td>1962</td>\n",
       "      <td>277</td>\n",
       "    </tr>\n",
       "    <tr>\n",
       "      <th>3</th>\n",
       "      <td>BDI</td>\n",
       "      <td>Burundi</td>\n",
       "      <td>NAM</td>\n",
       "      <td>Namibia</td>\n",
       "      <td>Southern Africa</td>\n",
       "      <td>Refugee</td>\n",
       "      <td>1962</td>\n",
       "      <td>13</td>\n",
       "    </tr>\n",
       "    <tr>\n",
       "      <th>4</th>\n",
       "      <td>CHN</td>\n",
       "      <td>China</td>\n",
       "      <td>NPL</td>\n",
       "      <td>Nepal</td>\n",
       "      <td>Asia and the Pacific</td>\n",
       "      <td>Refugee</td>\n",
       "      <td>1962</td>\n",
       "      <td>5</td>\n",
       "    </tr>\n",
       "    <tr>\n",
       "      <th>...</th>\n",
       "      <td>...</td>\n",
       "      <td>...</td>\n",
       "      <td>...</td>\n",
       "      <td>...</td>\n",
       "      <td>...</td>\n",
       "      <td>...</td>\n",
       "      <td>...</td>\n",
       "      <td>...</td>\n",
       "    </tr>\n",
       "    <tr>\n",
       "      <th>103338</th>\n",
       "      <td>ZWE</td>\n",
       "      <td>Zimbabwe</td>\n",
       "      <td>POL</td>\n",
       "      <td>Poland</td>\n",
       "      <td>Europe</td>\n",
       "      <td>Asylum-seekers</td>\n",
       "      <td>2024</td>\n",
       "      <td>9</td>\n",
       "    </tr>\n",
       "    <tr>\n",
       "      <th>103339</th>\n",
       "      <td>ZWE</td>\n",
       "      <td>Zimbabwe</td>\n",
       "      <td>ZAF</td>\n",
       "      <td>South Africa</td>\n",
       "      <td>Southern Africa</td>\n",
       "      <td>Asylum-seekers</td>\n",
       "      <td>2024</td>\n",
       "      <td>89</td>\n",
       "    </tr>\n",
       "    <tr>\n",
       "      <th>103340</th>\n",
       "      <td>ZWE</td>\n",
       "      <td>Zimbabwe</td>\n",
       "      <td>SWE</td>\n",
       "      <td>Sweden</td>\n",
       "      <td>Europe</td>\n",
       "      <td>Asylum-seekers</td>\n",
       "      <td>2024</td>\n",
       "      <td>5</td>\n",
       "    </tr>\n",
       "    <tr>\n",
       "      <th>103341</th>\n",
       "      <td>ZWE</td>\n",
       "      <td>Zimbabwe</td>\n",
       "      <td>USA</td>\n",
       "      <td>United States of America</td>\n",
       "      <td>Americas</td>\n",
       "      <td>Asylum-seekers</td>\n",
       "      <td>2024</td>\n",
       "      <td>641</td>\n",
       "    </tr>\n",
       "    <tr>\n",
       "      <th>103342</th>\n",
       "      <td>ZWE</td>\n",
       "      <td>Zimbabwe</td>\n",
       "      <td>ZMB</td>\n",
       "      <td>Zambia</td>\n",
       "      <td>Southern Africa</td>\n",
       "      <td>Asylum-seekers</td>\n",
       "      <td>2024</td>\n",
       "      <td>9</td>\n",
       "    </tr>\n",
       "  </tbody>\n",
       "</table>\n",
       "<p>103343 rows × 8 columns</p>\n",
       "</div>"
      ],
      "text/plain": [
       "       country_of_origin_abbr country_of_origin_name country_of_asylum_abbr  \\\n",
       "0                         DZA                Algeria                    MLT   \n",
       "1                         AGO                 Angola                    COD   \n",
       "2                         AGO                 Angola                    NAM   \n",
       "3                         BDI                Burundi                    NAM   \n",
       "4                         CHN                  China                    NPL   \n",
       "...                       ...                    ...                    ...   \n",
       "103338                    ZWE               Zimbabwe                    POL   \n",
       "103339                    ZWE               Zimbabwe                    ZAF   \n",
       "103340                    ZWE               Zimbabwe                    SWE   \n",
       "103341                    ZWE               Zimbabwe                    USA   \n",
       "103342                    ZWE               Zimbabwe                    ZMB   \n",
       "\n",
       "          country_of_asylum_name      region_of_asylum        category  year  \\\n",
       "0                          Malta                Europe         Refugee  1962   \n",
       "1         Dem. Rep. of the Congo       Southern Africa         Refugee  1962   \n",
       "2                        Namibia       Southern Africa         Refugee  1962   \n",
       "3                        Namibia       Southern Africa         Refugee  1962   \n",
       "4                          Nepal  Asia and the Pacific         Refugee  1962   \n",
       "...                          ...                   ...             ...   ...   \n",
       "103338                    Poland                Europe  Asylum-seekers  2024   \n",
       "103339              South Africa       Southern Africa  Asylum-seekers  2024   \n",
       "103340                    Sweden                Europe  Asylum-seekers  2024   \n",
       "103341  United States of America              Americas  Asylum-seekers  2024   \n",
       "103342                    Zambia       Southern Africa  Asylum-seekers  2024   \n",
       "\n",
       "        count  \n",
       "0           5  \n",
       "1       20000  \n",
       "2         277  \n",
       "3          13  \n",
       "4           5  \n",
       "...       ...  \n",
       "103338      9  \n",
       "103339     89  \n",
       "103340      5  \n",
       "103341    641  \n",
       "103342      9  \n",
       "\n",
       "[103343 rows x 8 columns]"
      ]
     },
     "execution_count": 12,
     "metadata": {},
     "output_type": "execute_result"
    }
   ],
   "source": [
    "asylum"
   ]
  },
  {
   "cell_type": "code",
   "execution_count": 13,
   "metadata": {},
   "outputs": [
    {
     "data": {
      "text/html": [
       "<div>\n",
       "<style scoped>\n",
       "    .dataframe tbody tr th:only-of-type {\n",
       "        vertical-align: middle;\n",
       "    }\n",
       "\n",
       "    .dataframe tbody tr th {\n",
       "        vertical-align: top;\n",
       "    }\n",
       "\n",
       "    .dataframe thead th {\n",
       "        text-align: right;\n",
       "    }\n",
       "</style>\n",
       "<table border=\"1\" class=\"dataframe\">\n",
       "  <thead>\n",
       "    <tr style=\"text-align: right;\">\n",
       "      <th></th>\n",
       "      <th>country_of_asylum_name</th>\n",
       "      <th>count</th>\n",
       "    </tr>\n",
       "  </thead>\n",
       "  <tbody>\n",
       "    <tr>\n",
       "      <th>68</th>\n",
       "      <td>Russian Federation</td>\n",
       "      <td>1797280</td>\n",
       "    </tr>\n",
       "    <tr>\n",
       "      <th>63</th>\n",
       "      <td>Poland</td>\n",
       "      <td>1273423</td>\n",
       "    </tr>\n",
       "    <tr>\n",
       "      <th>29</th>\n",
       "      <td>Germany</td>\n",
       "      <td>1232215</td>\n",
       "    </tr>\n",
       "    <tr>\n",
       "      <th>19</th>\n",
       "      <td>Czechia</td>\n",
       "      <td>586657</td>\n",
       "    </tr>\n",
       "    <tr>\n",
       "      <th>79</th>\n",
       "      <td>United Kingdom</td>\n",
       "      <td>249132</td>\n",
       "    </tr>\n",
       "    <tr>\n",
       "      <th>73</th>\n",
       "      <td>Spain</td>\n",
       "      <td>224870</td>\n",
       "    </tr>\n",
       "    <tr>\n",
       "      <th>38</th>\n",
       "      <td>Italy</td>\n",
       "      <td>194074</td>\n",
       "    </tr>\n",
       "    <tr>\n",
       "      <th>11</th>\n",
       "      <td>Bulgaria</td>\n",
       "      <td>187758</td>\n",
       "    </tr>\n",
       "    <tr>\n",
       "      <th>66</th>\n",
       "      <td>Rep. of Moldova</td>\n",
       "      <td>169543</td>\n",
       "    </tr>\n",
       "    <tr>\n",
       "      <th>67</th>\n",
       "      <td>Romania</td>\n",
       "      <td>168063</td>\n",
       "    </tr>\n",
       "    <tr>\n",
       "      <th>54</th>\n",
       "      <td>Netherlands (Kingdom of the)</td>\n",
       "      <td>156282</td>\n",
       "    </tr>\n",
       "    <tr>\n",
       "      <th>70</th>\n",
       "      <td>Slovakia</td>\n",
       "      <td>139461</td>\n",
       "    </tr>\n",
       "    <tr>\n",
       "      <th>4</th>\n",
       "      <td>Austria</td>\n",
       "      <td>121840</td>\n",
       "    </tr>\n",
       "    <tr>\n",
       "      <th>27</th>\n",
       "      <td>France</td>\n",
       "      <td>113559</td>\n",
       "    </tr>\n",
       "    <tr>\n",
       "      <th>36</th>\n",
       "      <td>Ireland</td>\n",
       "      <td>111350</td>\n",
       "    </tr>\n",
       "    <tr>\n",
       "      <th>7</th>\n",
       "      <td>Belgium</td>\n",
       "      <td>90699</td>\n",
       "    </tr>\n",
       "    <tr>\n",
       "      <th>76</th>\n",
       "      <td>Switzerland</td>\n",
       "      <td>84627</td>\n",
       "    </tr>\n",
       "    <tr>\n",
       "      <th>12</th>\n",
       "      <td>Canada</td>\n",
       "      <td>82931</td>\n",
       "    </tr>\n",
       "    <tr>\n",
       "      <th>48</th>\n",
       "      <td>Lithuania</td>\n",
       "      <td>82595</td>\n",
       "    </tr>\n",
       "    <tr>\n",
       "      <th>58</th>\n",
       "      <td>Norway</td>\n",
       "      <td>80357</td>\n",
       "    </tr>\n",
       "  </tbody>\n",
       "</table>\n",
       "</div>"
      ],
      "text/plain": [
       "          country_of_asylum_name    count\n",
       "68            Russian Federation  1797280\n",
       "63                        Poland  1273423\n",
       "29                       Germany  1232215\n",
       "19                       Czechia   586657\n",
       "79                United Kingdom   249132\n",
       "73                         Spain   224870\n",
       "38                         Italy   194074\n",
       "11                      Bulgaria   187758\n",
       "66               Rep. of Moldova   169543\n",
       "67                       Romania   168063\n",
       "54  Netherlands (Kingdom of the)   156282\n",
       "70                      Slovakia   139461\n",
       "4                        Austria   121840\n",
       "27                        France   113559\n",
       "36                       Ireland   111350\n",
       "7                        Belgium    90699\n",
       "76                   Switzerland    84627\n",
       "12                        Canada    82931\n",
       "48                     Lithuania    82595\n",
       "58                        Norway    80357"
      ]
     },
     "execution_count": 13,
     "metadata": {},
     "output_type": "execute_result"
    }
   ],
   "source": [
    "def Country_by_destination(country_abbr: str, asy: pd.DataFrame) -> pd.DataFrame:\n",
    "    country = asy[asy[\"country_of_origin_abbr\"] == country_abbr]\n",
    "    country_destination = country.groupby(\"country_of_asylum_name\")[\"count\"].sum().reset_index().sort_values(by=\"count\", ascending=False)\n",
    "    return country_destination\n",
    "\n",
    "af_des = Country_by_destination(\"UKR\", asylum)\n",
    "af_des.head(20)"
   ]
  },
  {
   "cell_type": "code",
   "execution_count": 14,
   "metadata": {},
   "outputs": [],
   "source": [
    "import plotly.express as px\n",
    "# df = px.data.gapminder().query(\"year==2007\")\n",
    "# fig = px.scatter_geo(df, locations=\"iso_alpha\", color=\"continent\",\n",
    "#                      hover_name=\"country\", size=\"pop\",\n",
    "#                      projection=\"natural earth\")\n",
    "# fig.show()"
   ]
  },
  {
   "cell_type": "code",
   "execution_count": 15,
   "metadata": {},
   "outputs": [
    {
     "name": "stderr",
     "output_type": "stream",
     "text": [
      "C:\\Users\\Euclides\\AppData\\Local\\Temp\\ipykernel_14188\\3449835803.py:1: DeprecationWarning:\n",
      "\n",
      "*scatter_mapbox* is deprecated! Use *scatter_map* instead. Learn more at: https://plotly.com/python/mapbox-to-maplibre/\n",
      "\n"
     ]
    },
    {
     "ename": "TypeError",
     "evalue": "Expected str or slice, got: <class 'NoneType'>",
     "output_type": "error",
     "traceback": [
      "\u001b[1;31m---------------------------------------------------------------------------\u001b[0m",
      "\u001b[1;31mTypeError\u001b[0m                                 Traceback (most recent call last)",
      "Cell \u001b[1;32mIn[15], line 1\u001b[0m\n\u001b[1;32m----> 1\u001b[0m \u001b[43mpx\u001b[49m\u001b[38;5;241;43m.\u001b[39;49m\u001b[43mscatter_mapbox\u001b[49m\u001b[43m(\u001b[49m\u001b[43mmapbox_style\u001b[49m\u001b[38;5;241;43m=\u001b[39;49m\u001b[38;5;124;43m'\u001b[39;49m\u001b[38;5;124;43mopen-street-map\u001b[39;49m\u001b[38;5;124;43m'\u001b[39;49m\u001b[43m)\u001b[49m\n",
      "File \u001b[1;32mc:\\Users\\Euclides\\Documents\\Projects\\Asylum\\env\\Lib\\site-packages\\plotly\\express\\_chart_types.py:1432\u001b[0m, in \u001b[0;36mscatter_mapbox\u001b[1;34m(data_frame, lat, lon, color, text, hover_name, hover_data, custom_data, size, animation_frame, animation_group, category_orders, labels, color_discrete_sequence, color_discrete_map, color_continuous_scale, range_color, color_continuous_midpoint, opacity, size_max, zoom, center, mapbox_style, title, subtitle, template, width, height)\u001b[0m\n\u001b[0;32m   1419\u001b[0m \u001b[38;5;250m\u001b[39m\u001b[38;5;124;03m\"\"\"\u001b[39;00m\n\u001b[0;32m   1420\u001b[0m \u001b[38;5;124;03m*scatter_mapbox* is deprecated! Use *scatter_map* instead.\u001b[39;00m\n\u001b[0;32m   1421\u001b[0m \u001b[38;5;124;03mLearn more at: https://plotly.com/python/mapbox-to-maplibre/\u001b[39;00m\n\u001b[0;32m   1422\u001b[0m \u001b[38;5;124;03mIn a Mapbox scatter plot, each row of `data_frame` is represented by a\u001b[39;00m\n\u001b[0;32m   1423\u001b[0m \u001b[38;5;124;03msymbol mark on a Mapbox map.\u001b[39;00m\n\u001b[0;32m   1424\u001b[0m \u001b[38;5;124;03m\"\"\"\u001b[39;00m\n\u001b[0;32m   1425\u001b[0m warn(\n\u001b[0;32m   1426\u001b[0m     \u001b[38;5;124m\"\u001b[39m\u001b[38;5;124m*scatter_mapbox* is deprecated!\u001b[39m\u001b[38;5;124m\"\u001b[39m\n\u001b[0;32m   1427\u001b[0m     \u001b[38;5;241m+\u001b[39m \u001b[38;5;124m\"\u001b[39m\u001b[38;5;124m Use *scatter_map* instead.\u001b[39m\u001b[38;5;124m\"\u001b[39m\n\u001b[1;32m   (...)\u001b[0m\n\u001b[0;32m   1430\u001b[0m     category\u001b[38;5;241m=\u001b[39m\u001b[38;5;167;01mDeprecationWarning\u001b[39;00m,\n\u001b[0;32m   1431\u001b[0m )\n\u001b[1;32m-> 1432\u001b[0m \u001b[38;5;28;01mreturn\u001b[39;00m \u001b[43mmake_figure\u001b[49m\u001b[43m(\u001b[49m\u001b[43margs\u001b[49m\u001b[38;5;241;43m=\u001b[39;49m\u001b[38;5;28;43mlocals\u001b[39;49m\u001b[43m(\u001b[49m\u001b[43m)\u001b[49m\u001b[43m,\u001b[49m\u001b[43m \u001b[49m\u001b[43mconstructor\u001b[49m\u001b[38;5;241;43m=\u001b[39;49m\u001b[43mgo\u001b[49m\u001b[38;5;241;43m.\u001b[39;49m\u001b[43mScattermapbox\u001b[49m\u001b[43m)\u001b[49m\n",
      "File \u001b[1;32mc:\\Users\\Euclides\\Documents\\Projects\\Asylum\\env\\Lib\\site-packages\\plotly\\express\\_core.py:2793\u001b[0m, in \u001b[0;36mmake_figure\u001b[1;34m(args, constructor, trace_patch, layout_patch)\u001b[0m\n\u001b[0;32m   2790\u001b[0m \u001b[38;5;28;01melse\u001b[39;00m:\n\u001b[0;32m   2791\u001b[0m     fig\u001b[38;5;241m.\u001b[39m_px_trendlines \u001b[38;5;241m=\u001b[39m []\n\u001b[1;32m-> 2793\u001b[0m \u001b[43mconfigure_axes\u001b[49m\u001b[43m(\u001b[49m\u001b[43margs\u001b[49m\u001b[43m,\u001b[49m\u001b[43m \u001b[49m\u001b[43mconstructor\u001b[49m\u001b[43m,\u001b[49m\u001b[43m \u001b[49m\u001b[43mfig\u001b[49m\u001b[43m,\u001b[49m\u001b[43m \u001b[49m\u001b[43morders\u001b[49m\u001b[43m)\u001b[49m\n\u001b[0;32m   2794\u001b[0m configure_animation_controls(args, constructor, fig)\n\u001b[0;32m   2795\u001b[0m \u001b[38;5;28;01mreturn\u001b[39;00m fig\n",
      "File \u001b[1;32mc:\\Users\\Euclides\\Documents\\Projects\\Asylum\\env\\Lib\\site-packages\\plotly\\express\\_core.py:632\u001b[0m, in \u001b[0;36mconfigure_axes\u001b[1;34m(args, constructor, fig, orders)\u001b[0m\n\u001b[0;32m    630\u001b[0m     configurators[c] \u001b[38;5;241m=\u001b[39m configure_cartesian_axes\n\u001b[0;32m    631\u001b[0m \u001b[38;5;28;01mif\u001b[39;00m constructor \u001b[38;5;129;01min\u001b[39;00m configurators:\n\u001b[1;32m--> 632\u001b[0m     \u001b[43mconfigurators\u001b[49m\u001b[43m[\u001b[49m\u001b[43mconstructor\u001b[49m\u001b[43m]\u001b[49m\u001b[43m(\u001b[49m\u001b[43margs\u001b[49m\u001b[43m,\u001b[49m\u001b[43m \u001b[49m\u001b[43mfig\u001b[49m\u001b[43m,\u001b[49m\u001b[43m \u001b[49m\u001b[43morders\u001b[49m\u001b[43m)\u001b[49m\n",
      "File \u001b[1;32mc:\\Users\\Euclides\\Documents\\Projects\\Asylum\\env\\Lib\\site-packages\\plotly\\express\\_core.py:816\u001b[0m, in \u001b[0;36mconfigure_mapbox\u001b[1;34m(args, fig, orders)\u001b[0m\n\u001b[0;32m    813\u001b[0m center \u001b[38;5;241m=\u001b[39m args[\u001b[38;5;124m\"\u001b[39m\u001b[38;5;124mcenter\u001b[39m\u001b[38;5;124m\"\u001b[39m]\n\u001b[0;32m    814\u001b[0m \u001b[38;5;28;01mif\u001b[39;00m \u001b[38;5;129;01mnot\u001b[39;00m center \u001b[38;5;129;01mand\u001b[39;00m \u001b[38;5;124m\"\u001b[39m\u001b[38;5;124mlat\u001b[39m\u001b[38;5;124m\"\u001b[39m \u001b[38;5;129;01min\u001b[39;00m args \u001b[38;5;129;01mand\u001b[39;00m \u001b[38;5;124m\"\u001b[39m\u001b[38;5;124mlon\u001b[39m\u001b[38;5;124m\"\u001b[39m \u001b[38;5;129;01min\u001b[39;00m args:\n\u001b[0;32m    815\u001b[0m     center \u001b[38;5;241m=\u001b[39m \u001b[38;5;28mdict\u001b[39m(\n\u001b[1;32m--> 816\u001b[0m         lat\u001b[38;5;241m=\u001b[39m\u001b[43margs\u001b[49m\u001b[43m[\u001b[49m\u001b[38;5;124;43m\"\u001b[39;49m\u001b[38;5;124;43mdata_frame\u001b[39;49m\u001b[38;5;124;43m\"\u001b[39;49m\u001b[43m]\u001b[49m\u001b[43m[\u001b[49m\u001b[43margs\u001b[49m\u001b[43m[\u001b[49m\u001b[38;5;124;43m\"\u001b[39;49m\u001b[38;5;124;43mlat\u001b[39;49m\u001b[38;5;124;43m\"\u001b[39;49m\u001b[43m]\u001b[49m\u001b[43m]\u001b[49m\u001b[38;5;241m.\u001b[39mmean(),\n\u001b[0;32m    817\u001b[0m         lon\u001b[38;5;241m=\u001b[39margs[\u001b[38;5;124m\"\u001b[39m\u001b[38;5;124mdata_frame\u001b[39m\u001b[38;5;124m\"\u001b[39m][args[\u001b[38;5;124m\"\u001b[39m\u001b[38;5;124mlon\u001b[39m\u001b[38;5;124m\"\u001b[39m]]\u001b[38;5;241m.\u001b[39mmean(),\n\u001b[0;32m    818\u001b[0m     )\n\u001b[0;32m    819\u001b[0m fig\u001b[38;5;241m.\u001b[39mupdate_mapboxes(\n\u001b[0;32m    820\u001b[0m     accesstoken\u001b[38;5;241m=\u001b[39mMAPBOX_TOKEN,\n\u001b[0;32m    821\u001b[0m     center\u001b[38;5;241m=\u001b[39mcenter,\n\u001b[0;32m    822\u001b[0m     zoom\u001b[38;5;241m=\u001b[39margs[\u001b[38;5;124m\"\u001b[39m\u001b[38;5;124mzoom\u001b[39m\u001b[38;5;124m\"\u001b[39m],\n\u001b[0;32m    823\u001b[0m     style\u001b[38;5;241m=\u001b[39margs[\u001b[38;5;124m\"\u001b[39m\u001b[38;5;124mmapbox_style\u001b[39m\u001b[38;5;124m\"\u001b[39m],\n\u001b[0;32m    824\u001b[0m )\n",
      "File \u001b[1;32mc:\\Users\\Euclides\\Documents\\Projects\\Asylum\\env\\Lib\\site-packages\\narwhals\\stable\\v1\\__init__.py:156\u001b[0m, in \u001b[0;36mDataFrame.__getitem__\u001b[1;34m(self, item)\u001b[0m\n\u001b[0;32m    155\u001b[0m \u001b[38;5;28;01mdef\u001b[39;00m\u001b[38;5;250m \u001b[39m\u001b[38;5;21m__getitem__\u001b[39m(\u001b[38;5;28mself\u001b[39m: Self, item: Any) \u001b[38;5;241m-\u001b[39m\u001b[38;5;241m>\u001b[39m Any:\n\u001b[1;32m--> 156\u001b[0m     \u001b[38;5;28;01mreturn\u001b[39;00m \u001b[38;5;28;43msuper\u001b[39;49m\u001b[43m(\u001b[49m\u001b[43m)\u001b[49m\u001b[38;5;241;43m.\u001b[39;49m\u001b[38;5;21;43m__getitem__\u001b[39;49m\u001b[43m(\u001b[49m\u001b[43mitem\u001b[49m\u001b[43m)\u001b[49m\n",
      "File \u001b[1;32mc:\\Users\\Euclides\\Documents\\Projects\\Asylum\\env\\Lib\\site-packages\\narwhals\\dataframe.py:982\u001b[0m, in \u001b[0;36mDataFrame.__getitem__\u001b[1;34m(self, item)\u001b[0m\n\u001b[0;32m    980\u001b[0m \u001b[38;5;28;01melse\u001b[39;00m:\n\u001b[0;32m    981\u001b[0m     msg \u001b[38;5;241m=\u001b[39m \u001b[38;5;124mf\u001b[39m\u001b[38;5;124m\"\u001b[39m\u001b[38;5;124mExpected str or slice, got: \u001b[39m\u001b[38;5;132;01m{\u001b[39;00m\u001b[38;5;28mtype\u001b[39m(item)\u001b[38;5;132;01m}\u001b[39;00m\u001b[38;5;124m\"\u001b[39m\n\u001b[1;32m--> 982\u001b[0m     \u001b[38;5;28;01mraise\u001b[39;00m \u001b[38;5;167;01mTypeError\u001b[39;00m(msg)\n",
      "\u001b[1;31mTypeError\u001b[0m: Expected str or slice, got: <class 'NoneType'>"
     ]
    }
   ],
   "source": [
    "px.scatter_mapbox(mapbox_style='open-street-map')"
   ]
  },
  {
   "cell_type": "code",
   "execution_count": 28,
   "metadata": {},
   "outputs": [
    {
     "data": {
      "text/plain": [
       "array(['Refugee', 'Asylum-seekers', 'People in refugee-like situation',\n",
       "       'Other people in need of international protection'], dtype=object)"
      ]
     },
     "execution_count": 28,
     "metadata": {},
     "output_type": "execute_result"
    }
   ],
   "source": [
    "asylum[\"category\"].unique()"
   ]
  }
 ],
 "metadata": {
  "kernelspec": {
   "display_name": "env",
   "language": "python",
   "name": "python3"
  },
  "language_info": {
   "codemirror_mode": {
    "name": "ipython",
    "version": 3
   },
   "file_extension": ".py",
   "mimetype": "text/x-python",
   "name": "python",
   "nbconvert_exporter": "python",
   "pygments_lexer": "ipython3",
   "version": "3.12.6"
  }
 },
 "nbformat": 4,
 "nbformat_minor": 2
}
