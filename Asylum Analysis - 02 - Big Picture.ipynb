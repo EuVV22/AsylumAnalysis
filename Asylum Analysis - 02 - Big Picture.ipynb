{
 "cells": [
  {
   "cell_type": "markdown",
   "metadata": {},
   "source": [
    "# Asylum seekers: During interantional migration crisis\n"
   ]
  },
  {
   "cell_type": "code",
   "execution_count": 13,
   "metadata": {},
   "outputs": [],
   "source": [
    "import pandas as pd\n",
    "import plotly.express as px\n",
    "import plotly.graph_objects as go\n",
    "import nbformat"
   ]
  },
  {
   "cell_type": "markdown",
   "metadata": {},
   "source": [
    "![title](img/barth-bailey-d2uHXWTkGn4-unsplash.jpg)"
   ]
  },
  {
   "cell_type": "markdown",
   "metadata": {},
   "source": [
    "# Reason of the analysis:\n",
    "This analysis tries to describe how people are migrating worldwide, showing the country of origin, country of destination, etc.\n"
   ]
  },
  {
   "cell_type": "markdown",
   "metadata": {},
   "source": [
    "## Import data"
   ]
  },
  {
   "cell_type": "code",
   "execution_count": 14,
   "metadata": {},
   "outputs": [],
   "source": [
    "asylum = pd.read_csv('.\\\\Data\\\\Clean\\\\Asylum_data.csv')\n",
    "population = pd.read_csv(\".\\\\Data\\\\Clean\\\\Population_data.csv\")"
   ]
  },
  {
   "cell_type": "markdown",
   "metadata": {},
   "source": [
    "# More than 100,000,000 people have seek asylum\n"
   ]
  },
  {
   "cell_type": "code",
   "execution_count": 15,
   "metadata": {},
   "outputs": [
    {
     "name": "stdout",
     "output_type": "stream",
     "text": [
      "108,224,695\n"
     ]
    }
   ],
   "source": [
    "print(format(asylum['count'].sum(), \",d\"))"
   ]
  },
  {
   "cell_type": "markdown",
   "metadata": {},
   "source": [
    "## How does this asylum seekers look over the years??"
   ]
  },
  {
   "cell_type": "code",
   "execution_count": 16,
   "metadata": {},
   "outputs": [],
   "source": [
    "def Peak_finder(data: pd.DataFrame):\n",
    "    percentaje_to_check = 0.5\n",
    "    previous_value = data['count'][0]\n",
    "    previous_year = data['year'][0]\n",
    "\n",
    "    inside_peak = False\n",
    "    current_highlight = {}\n",
    "    # Start of the highlight:\n",
    "    for index, row in data.iterrows():\n",
    "        if not inside_peak:\n",
    "            # can be a small function call peak finder:\n",
    "            if (row['count'] - previous_value) > (previous_value * percentaje_to_check):\n",
    "                current_highlight = {'start': previous_year, 'end': 0}\n",
    "                inside_peak = True\n",
    "        else:\n",
    "            if (row['count']) <= (previous_value):\n",
    "                current_highlight['end'] = row['year']\n",
    "                yield current_highlight\n",
    "                inside_peak = False\n",
    "                current_highlight = {}\n",
    "        previous_value = row['count']\n",
    "        previous_year = row['year']\n"
   ]
  },
  {
   "cell_type": "code",
   "execution_count": 21,
   "metadata": {},
   "outputs": [
    {
     "name": "stdout",
     "output_type": "stream",
     "text": [
      "<br>Angola: 20277<br>Iraq: 17<br>Dem. Rep. of the Congo: 13<br>Other: 46\n",
      "<br>Sudan: 13000<br>Rwanda: 7000<br>Angola: 5000<br>Other: 270\n",
      "<br>Congo, Republic of: 58700<br>Rwanda: 38300<br>Angola: 25000<br>Other: 41790\n",
      "<br>Sudan: 61700<br>Guinea-Bissau: 20000<br>Angola: 20000<br>Other: 33570\n",
      "<br>Congo, Republic of: 45000<br>Angola: 34800<br>Sudan: 32500<br>Other: 31510\n",
      "<br>Ethiopia: 28600<br>Sudan: 13170<br>Angola: 12400<br>Other: 14010\n",
      "<br>Sudan: 15510<br>Angola: 15060<br>Zambia: 15000<br>Other: 16930\n",
      "<br>Angola: 20480<br>Guinea-Bissau: 11050<br>Sudan: 9500<br>Other: 11370\n",
      "<br>Ethiopia: 23364<br>Mozambique: 16720<br>Unknown/other: 7699<br>Other: 24730\n",
      "<br>Guinea-Bissau: 13000<br>Sudan: 5901<br>Unknown/other: 5695<br>Other: 16802\n",
      "<br>Burundi: 129037<br>Malawi: 20005<br>Angola: 8955<br>Other: 34567\n",
      "<br>Unknown/other: 15427<br>Rwanda: 10380<br>Angola: 5780<br>Other: 23776\n",
      "<br>Angola: 52800<br>Unknown/other: 30597<br>Rwanda: 11140<br>Other: 21739\n",
      "<br>Lao People's Dem. Rep.: 57070<br>Ethiopia: 42358<br>Cambodia: 26595<br>Other: 48177\n",
      "<br>Angola: 27575<br>Lao People's Dem. Rep.: 23485<br>Zimbabwe: 18223<br>Other: 60159\n",
      "<br>Dem. Rep. of the Congo: 220721<br>Ethiopia: 42226<br>Zimbabwe: 37278<br>Other: 81734\n",
      "<br>Ethiopia: 239264<br>Myanmar: 196000<br>Angola: 120465<br>Other: 514535\n",
      "<br>Ethiopia: 436430<br>Viet Nam: 207481<br>Uganda: 85748<br>Other: 313201\n",
      "<br>Ethiopia: 1571956<br>Afghanistan: 1308405<br>Uganda: 144428<br>Other: 733494\n",
      "<br>Afghanistan: 2354516<br>Unknown/other: 140172<br>Viet Nam: 66870<br>Other: 281138\n",
      "<br>Afghanistan: 515423<br>Uganda: 115023<br>Viet Nam: 73852<br>Other: 381364\n",
      "<br>Rwanda: 220655<br>Afghanistan: 204003<br>Viet Nam: 55162<br>Other: 324492\n",
      "<br>Ethiopia: 259530<br>Rwanda: 223800<br>Chad: 171865<br>Other: 481801\n",
      "<br>Ethiopia: 334923<br>Afghanistan: 199926<br>Chad: 102567<br>Other: 479575\n",
      "<br>Afghanistan: 478105<br>Unknown/other: 85613<br>Sudan: 46746<br>Other: 356847\n",
      "<br>Afghanistan: 496133<br>Sudan: 106416<br>Mozambique: 106001<br>Other: 479388\n",
      "<br>Mozambique: 285593<br>Afghanistan: 102015<br>Unknown/other: 93408<br>Other: 700753\n",
      "<br>Mozambique: 220117<br>Unknown/other: 148245<br>Sudan: 89289<br>Other: 566922\n",
      "<br>Liberia: 738613<br>Ethiopia: 184368<br>Mozambique: 116865<br>Other: 952296\n",
      "<br>Iraq: 1423062<br>Myanmar: 400205<br>Serbia and Kosovo: S/RES/1244 (1999): 167779<br>Other: 1221107\n",
      "<br>Bosnia and Herzegovina: 460751<br>Azerbaijan: 300231<br>Somalia: 286915<br>Other: 2077147\n",
      "<br>Liberia: 190647<br>Togo: 160618<br>Serbia and Kosovo: S/RES/1244 (1999): 100330<br>Other: 836335\n",
      "<br>Rwanda: 2311231<br>Liberia: 131609<br>Burundi: 113160<br>Other: 747742\n",
      "<br>Croatia: 171798<br>El Salvador: 75611<br>Serbia and Kosovo: S/RES/1244 (1999): 59096<br>Other: 584079\n",
      "<br>Burundi: 147003<br>Iraq: 92937<br>Rwanda: 88614<br>Other: 689719\n",
      "<br>Burundi: 136234<br>Sierra Leone: 78507<br>Dem. Rep. of the Congo: 75628<br>Other: 648625\n",
      "<br>Sierra Leone: 283603<br>Serbia and Kosovo: S/RES/1244 (1999): 131529<br>Iraq: 41509<br>Other: 520713\n",
      "<br>Serbia and Kosovo: S/RES/1244 (1999): 990247<br>Timor-Leste: 280000<br>Dem. Rep. of the Congo: 144510<br>Other: 809981\n",
      "<br>Afghanistan: 633338<br>Dem. Rep. of the Congo: 160480<br>Eritrea: 101023<br>Other: 901882\n",
      "<br>Afghanistan: 358249<br>North Macedonia: 100193<br>Dem. Rep. of the Congo: 63609<br>Other: 850872\n",
      "<br>Afghanistan: 128932<br>Liberia: 116561<br>Dem. Rep. of the Congo: 74900<br>Other: 898770\n",
      "<br>Sudan: 123448<br>Afghanistan: 119193<br>Liberia: 102818<br>Other: 752502\n",
      "<br>Sudan: 161918<br>Afghanistan: 111572<br>Dem. Rep. of the Congo: 60374<br>Other: 546781\n",
      "<br>Afghanistan: 109569<br>Togo: 55914<br>Myanmar: 55511<br>Other: 575637\n",
      "<br>Afghanistan: 111352<br>Somalia: 59419<br>Iraq: 34418<br>Other: 555726\n",
      "<br>Iraq: 187116<br>Afghanistan: 115019<br>Somalia: 87289<br>Other: 513781\n",
      "<br>Somalia: 150755<br>Iraq: 138452<br>Afghanistan: 127441<br>Other: 839017\n",
      "<br>Dem. Rep. of the Congo: 176031<br>Somalia: 170907<br>Zimbabwe: 158450<br>Other: 844452\n",
      "<br>Somalia: 158643<br>Zimbabwe: 149377<br>Afghanistan: 136158<br>Other: 662770\n",
      "<br>Somalia: 336164<br>Côte d'Ivoire: 241045<br>Libya: 154978<br>Other: 981629\n",
      "<br>Syrian Arab Rep.: 680042<br>Afghanistan: 158375<br>Mali: 146221<br>Other: 990301\n",
      "<br>Syrian Arab Rep.: 2265655<br>Afghanistan: 148019<br>Central African Rep.: 96655<br>Other: 1067889\n",
      "<br>Syrian Arab Rep.: 1724889<br>South Sudan: 501541<br>Pakistan: 319028<br>Other: 1679024\n",
      "<br>Syrian Arab Rep.: 1453978<br>Afghanistan: 368960<br>Burundi: 240619<br>Other: 1856095\n",
      "<br>Syrian Arab Rep.: 759114<br>South Sudan: 739877<br>Afghanistan: 335769<br>Other: 1738684\n",
      "<br>South Sudan: 1005888<br>Syrian Arab Rep.: 863523<br>Myanmar: 677996<br>Other: 1994310\n",
      "<br>Venezuela (Bolivarian Republic of): 2528744<br>Syrian Arab Rep.: 633257<br>Afghanistan: 215770<br>Other: 1704342\n",
      "<br>Venezuela (Bolivarian Republic of): 1524529<br>Afghanistan: 231785<br>Syrian Arab Rep.: 142197<br>Other: 1692966\n",
      "<br>Venezuela (Bolivarian Republic of): 572886<br>Afghanistan: 175760<br>Azerbaijan: 91409<br>Other: 1215748\n",
      "<br>Afghanistan: 917020<br>Venezuela (Bolivarian Republic of): 664963<br>Syrian Arab Rep.: 126992<br>Other: 1413825\n",
      "<br>Ukraine: 5780042<br>Venezuela (Bolivarian Republic of): 1223672<br>Afghanistan: 816434<br>Other: 2465462\n",
      "<br>Ukraine: 1082208<br>Venezuela (Bolivarian Republic of): 1021351<br>Sudan: 810161<br>Other: 3841150\n",
      "<br>Venezuela (Bolivarian Republic of): 680192<br>Sudan: 465878<br>Ukraine: 418261<br>Other: 1674907\n"
     ]
    }
   ],
   "source": [
    "custom_for_template = asylum.groupby(['country_of_origin_name', 'year']).agg({'count': 'sum'}).reset_index().sort_values('count', ascending=False)\n",
    "# asylum\n",
    "custom_for_template = custom_for_template.groupby('year')\n",
    "# ye = custom_for_template.get_group(1965).sort_values('count', ascending=False)\n",
    "# ye[3:][\"count\"].sum()\n",
    "# \"By default the group keys are sorted during the groupby operation.\" Pandas docs https://pandas.pydata.org/pandas-docs/stable/user_guide/groupby.html\n",
    "extra_hover_text = [\n",
    "    \n",
    "        \"<br>\" +\n",
    "        f\"{countries.iloc[0]['country_of_origin_name']}: {countries.iloc[0]['count']}<br>\" +\n",
    "        f\"{countries.iloc[1]['country_of_origin_name']}: {countries.iloc[1]['count']}<br>\" +\n",
    "        f\"{countries.iloc[2]['country_of_origin_name']}: {countries.iloc[2]['count']}<br>\" +\n",
    "        f\"Other: {countries[3:]['count'].sum()}\"\n",
    "\n",
    "     for year, countries in custom_for_template\n",
    "]\n",
    "# print(extra_hover_text)\n",
    "for x in extra_hover_text:\n",
    "    print(x)"
   ]
  },
  {
   "cell_type": "code",
   "execution_count": 23,
   "metadata": {},
   "outputs": [
    {
     "data": {
      "application/vnd.plotly.v1+json": {
       "config": {
        "plotlyServerURL": "https://plot.ly"
       },
       "data": [
        {
         "customdata": [
          "<br>Angola: 20277<br>Iraq: 17<br>Dem. Rep. of the Congo: 13<br>Other: 46",
          "<br>Sudan: 13000<br>Rwanda: 7000<br>Angola: 5000<br>Other: 270",
          "<br>Congo, Republic of: 58700<br>Rwanda: 38300<br>Angola: 25000<br>Other: 41790",
          "<br>Sudan: 61700<br>Guinea-Bissau: 20000<br>Angola: 20000<br>Other: 33570",
          "<br>Congo, Republic of: 45000<br>Angola: 34800<br>Sudan: 32500<br>Other: 31510",
          "<br>Ethiopia: 28600<br>Sudan: 13170<br>Angola: 12400<br>Other: 14010",
          "<br>Sudan: 15510<br>Angola: 15060<br>Zambia: 15000<br>Other: 16930",
          "<br>Angola: 20480<br>Guinea-Bissau: 11050<br>Sudan: 9500<br>Other: 11370",
          "<br>Ethiopia: 23364<br>Mozambique: 16720<br>Unknown/other: 7699<br>Other: 24730",
          "<br>Guinea-Bissau: 13000<br>Sudan: 5901<br>Unknown/other: 5695<br>Other: 16802",
          "<br>Burundi: 129037<br>Malawi: 20005<br>Angola: 8955<br>Other: 34567",
          "<br>Unknown/other: 15427<br>Rwanda: 10380<br>Angola: 5780<br>Other: 23776",
          "<br>Angola: 52800<br>Unknown/other: 30597<br>Rwanda: 11140<br>Other: 21739",
          "<br>Lao People's Dem. Rep.: 57070<br>Ethiopia: 42358<br>Cambodia: 26595<br>Other: 48177",
          "<br>Angola: 27575<br>Lao People's Dem. Rep.: 23485<br>Zimbabwe: 18223<br>Other: 60159",
          "<br>Dem. Rep. of the Congo: 220721<br>Ethiopia: 42226<br>Zimbabwe: 37278<br>Other: 81734",
          "<br>Ethiopia: 239264<br>Myanmar: 196000<br>Angola: 120465<br>Other: 514535",
          "<br>Ethiopia: 436430<br>Viet Nam: 207481<br>Uganda: 85748<br>Other: 313201",
          "<br>Ethiopia: 1571956<br>Afghanistan: 1308405<br>Uganda: 144428<br>Other: 733494",
          "<br>Afghanistan: 2354516<br>Unknown/other: 140172<br>Viet Nam: 66870<br>Other: 281138",
          "<br>Afghanistan: 515423<br>Uganda: 115023<br>Viet Nam: 73852<br>Other: 381364",
          "<br>Rwanda: 220655<br>Afghanistan: 204003<br>Viet Nam: 55162<br>Other: 324492",
          "<br>Ethiopia: 259530<br>Rwanda: 223800<br>Chad: 171865<br>Other: 481801",
          "<br>Ethiopia: 334923<br>Afghanistan: 199926<br>Chad: 102567<br>Other: 479575",
          "<br>Afghanistan: 478105<br>Unknown/other: 85613<br>Sudan: 46746<br>Other: 356847",
          "<br>Afghanistan: 496133<br>Sudan: 106416<br>Mozambique: 106001<br>Other: 479388",
          "<br>Mozambique: 285593<br>Afghanistan: 102015<br>Unknown/other: 93408<br>Other: 700753",
          "<br>Mozambique: 220117<br>Unknown/other: 148245<br>Sudan: 89289<br>Other: 566922",
          "<br>Liberia: 738613<br>Ethiopia: 184368<br>Mozambique: 116865<br>Other: 952296",
          "<br>Iraq: 1423062<br>Myanmar: 400205<br>Serbia and Kosovo: S/RES/1244 (1999): 167779<br>Other: 1221107",
          "<br>Bosnia and Herzegovina: 460751<br>Azerbaijan: 300231<br>Somalia: 286915<br>Other: 2077147",
          "<br>Liberia: 190647<br>Togo: 160618<br>Serbia and Kosovo: S/RES/1244 (1999): 100330<br>Other: 836335",
          "<br>Rwanda: 2311231<br>Liberia: 131609<br>Burundi: 113160<br>Other: 747742",
          "<br>Croatia: 171798<br>El Salvador: 75611<br>Serbia and Kosovo: S/RES/1244 (1999): 59096<br>Other: 584079",
          "<br>Burundi: 147003<br>Iraq: 92937<br>Rwanda: 88614<br>Other: 689719",
          "<br>Burundi: 136234<br>Sierra Leone: 78507<br>Dem. Rep. of the Congo: 75628<br>Other: 648625",
          "<br>Sierra Leone: 283603<br>Serbia and Kosovo: S/RES/1244 (1999): 131529<br>Iraq: 41509<br>Other: 520713",
          "<br>Serbia and Kosovo: S/RES/1244 (1999): 990247<br>Timor-Leste: 280000<br>Dem. Rep. of the Congo: 144510<br>Other: 809981",
          "<br>Afghanistan: 633338<br>Dem. Rep. of the Congo: 160480<br>Eritrea: 101023<br>Other: 901882",
          "<br>Afghanistan: 358249<br>North Macedonia: 100193<br>Dem. Rep. of the Congo: 63609<br>Other: 850872",
          "<br>Afghanistan: 128932<br>Liberia: 116561<br>Dem. Rep. of the Congo: 74900<br>Other: 898770",
          "<br>Sudan: 123448<br>Afghanistan: 119193<br>Liberia: 102818<br>Other: 752502",
          "<br>Sudan: 161918<br>Afghanistan: 111572<br>Dem. Rep. of the Congo: 60374<br>Other: 546781",
          "<br>Afghanistan: 109569<br>Togo: 55914<br>Myanmar: 55511<br>Other: 575637",
          "<br>Afghanistan: 111352<br>Somalia: 59419<br>Iraq: 34418<br>Other: 555726",
          "<br>Iraq: 187116<br>Afghanistan: 115019<br>Somalia: 87289<br>Other: 513781",
          "<br>Somalia: 150755<br>Iraq: 138452<br>Afghanistan: 127441<br>Other: 839017",
          "<br>Dem. Rep. of the Congo: 176031<br>Somalia: 170907<br>Zimbabwe: 158450<br>Other: 844452",
          "<br>Somalia: 158643<br>Zimbabwe: 149377<br>Afghanistan: 136158<br>Other: 662770",
          "<br>Somalia: 336164<br>Côte d'Ivoire: 241045<br>Libya: 154978<br>Other: 981629",
          "<br>Syrian Arab Rep.: 680042<br>Afghanistan: 158375<br>Mali: 146221<br>Other: 990301",
          "<br>Syrian Arab Rep.: 2265655<br>Afghanistan: 148019<br>Central African Rep.: 96655<br>Other: 1067889",
          "<br>Syrian Arab Rep.: 1724889<br>South Sudan: 501541<br>Pakistan: 319028<br>Other: 1679024",
          "<br>Syrian Arab Rep.: 1453978<br>Afghanistan: 368960<br>Burundi: 240619<br>Other: 1856095",
          "<br>Syrian Arab Rep.: 759114<br>South Sudan: 739877<br>Afghanistan: 335769<br>Other: 1738684",
          "<br>South Sudan: 1005888<br>Syrian Arab Rep.: 863523<br>Myanmar: 677996<br>Other: 1994310",
          "<br>Venezuela (Bolivarian Republic of): 2528744<br>Syrian Arab Rep.: 633257<br>Afghanistan: 215770<br>Other: 1704342",
          "<br>Venezuela (Bolivarian Republic of): 1524529<br>Afghanistan: 231785<br>Syrian Arab Rep.: 142197<br>Other: 1692966",
          "<br>Venezuela (Bolivarian Republic of): 572886<br>Afghanistan: 175760<br>Azerbaijan: 91409<br>Other: 1215748",
          "<br>Afghanistan: 917020<br>Venezuela (Bolivarian Republic of): 664963<br>Syrian Arab Rep.: 126992<br>Other: 1413825",
          "<br>Ukraine: 5780042<br>Venezuela (Bolivarian Republic of): 1223672<br>Afghanistan: 816434<br>Other: 2465462",
          "<br>Ukraine: 1082208<br>Venezuela (Bolivarian Republic of): 1021351<br>Sudan: 810161<br>Other: 3841150",
          "<br>Venezuela (Bolivarian Republic of): 680192<br>Sudan: 465878<br>Ukraine: 418261<br>Other: 1674907"
         ],
         "hovertemplate": "Year: %{x}<br>Total: %{y}<br>%{customdata}",
         "type": "scatter",
         "x": {
          "bdata": "qgerB6wHrQeuB68HsAexB7IHswe0B7UHtge3B7gHuQe6B7sHvAe9B74HvwfAB8EHwgfDB8QHxQfGB8cHyAfJB8oHywfMB80HzgfPB9AH0QfSB9MH1AfVB9YH1wfYB9kH2gfbB9wH3QfeB98H4AfhB+IH4wfkB+UH5gfnB+gH",
          "dtype": "i2"
         },
         "y": {
          "bdata": "gU8AALZiAADOfwIAZhACAMIxAgBUCgEAJPQAALDMAABBGwEAtqEAADTwAgBD2AAANMYBAHioAgCi+QEAB9QFALhUEACs6Q8Ay1g5AEhgKwDekBAA2EUMAGRZEQA/CxEAj8IOAGIgEgBJCBIAPaIPAM5lHgB5AzEANK8vAPqmEwA+aTIA2JYNAKGJDwDyUw4AyukOAGLyIQBzahsA+/IUAFuaEgDpwBAABXANANcnDABTnAsAJcgNAPEoEwDQmBQABOQQAJgmGgCbIh4Aapk2AOJ1QAAkzzsAxIY2ABVNRQABjE0ANc02AHteHwBwpi8AKvKcADYSZwBGbTEA",
          "dtype": "i4"
         }
        }
       ],
       "layout": {
        "shapes": [
         {
          "fillcolor": "tomato",
          "layer": "below",
          "line": {
           "width": 0
          },
          "opacity": 0.5,
          "type": "rect",
          "x0": 1963,
          "x1": 1965,
          "y0": 0,
          "y1": 10000000
         },
         {
          "fillcolor": "tomato",
          "layer": "below",
          "line": {
           "width": 0
          },
          "opacity": 0.5,
          "type": "rect",
          "x0": 1971,
          "x1": 1973,
          "y0": 0,
          "y1": 10000000
         },
         {
          "fillcolor": "tomato",
          "layer": "below",
          "line": {
           "width": 0
          },
          "opacity": 0.5,
          "type": "rect",
          "x0": 1973,
          "x1": 1976,
          "y0": 0,
          "y1": 10000000
         },
         {
          "fillcolor": "tomato",
          "layer": "below",
          "line": {
           "width": 0
          },
          "opacity": 0.5,
          "type": "rect",
          "x0": 1976,
          "x1": 1979,
          "y0": 0,
          "y1": 10000000
         },
         {
          "fillcolor": "tomato",
          "layer": "below",
          "line": {
           "width": 0
          },
          "opacity": 0.5,
          "type": "rect",
          "x0": 1979,
          "x1": 1981,
          "y0": 0,
          "y1": 10000000
         },
         {
          "fillcolor": "tomato",
          "layer": "below",
          "line": {
           "width": 0
          },
          "opacity": 0.5,
          "type": "rect",
          "x0": 1989,
          "x1": 1992,
          "y0": 0,
          "y1": 10000000
         },
         {
          "fillcolor": "tomato",
          "layer": "below",
          "line": {
           "width": 0
          },
          "opacity": 0.5,
          "type": "rect",
          "x0": 1993,
          "x1": 1995,
          "y0": 0,
          "y1": 10000000
         },
         {
          "fillcolor": "tomato",
          "layer": "below",
          "line": {
           "width": 0
          },
          "opacity": 0.5,
          "type": "rect",
          "x0": 1998,
          "x1": 2000,
          "y0": 0,
          "y1": 10000000
         },
         {
          "fillcolor": "tomato",
          "layer": "below",
          "line": {
           "width": 0
          },
          "opacity": 0.5,
          "type": "rect",
          "x0": 2010,
          "x1": 2015,
          "y0": 0,
          "y1": 10000000
         },
         {
          "fillcolor": "tomato",
          "layer": "below",
          "line": {
           "width": 0
          },
          "opacity": 0.5,
          "type": "rect",
          "x0": 2020,
          "x1": 2023,
          "y0": 0,
          "y1": 10000000
         }
        ],
        "template": {
         "data": {
          "bar": [
           {
            "error_x": {
             "color": "#2a3f5f"
            },
            "error_y": {
             "color": "#2a3f5f"
            },
            "marker": {
             "line": {
              "color": "#E5ECF6",
              "width": 0.5
             },
             "pattern": {
              "fillmode": "overlay",
              "size": 10,
              "solidity": 0.2
             }
            },
            "type": "bar"
           }
          ],
          "barpolar": [
           {
            "marker": {
             "line": {
              "color": "#E5ECF6",
              "width": 0.5
             },
             "pattern": {
              "fillmode": "overlay",
              "size": 10,
              "solidity": 0.2
             }
            },
            "type": "barpolar"
           }
          ],
          "carpet": [
           {
            "aaxis": {
             "endlinecolor": "#2a3f5f",
             "gridcolor": "white",
             "linecolor": "white",
             "minorgridcolor": "white",
             "startlinecolor": "#2a3f5f"
            },
            "baxis": {
             "endlinecolor": "#2a3f5f",
             "gridcolor": "white",
             "linecolor": "white",
             "minorgridcolor": "white",
             "startlinecolor": "#2a3f5f"
            },
            "type": "carpet"
           }
          ],
          "choropleth": [
           {
            "colorbar": {
             "outlinewidth": 0,
             "ticks": ""
            },
            "type": "choropleth"
           }
          ],
          "contour": [
           {
            "colorbar": {
             "outlinewidth": 0,
             "ticks": ""
            },
            "colorscale": [
             [
              0,
              "#0d0887"
             ],
             [
              0.1111111111111111,
              "#46039f"
             ],
             [
              0.2222222222222222,
              "#7201a8"
             ],
             [
              0.3333333333333333,
              "#9c179e"
             ],
             [
              0.4444444444444444,
              "#bd3786"
             ],
             [
              0.5555555555555556,
              "#d8576b"
             ],
             [
              0.6666666666666666,
              "#ed7953"
             ],
             [
              0.7777777777777778,
              "#fb9f3a"
             ],
             [
              0.8888888888888888,
              "#fdca26"
             ],
             [
              1,
              "#f0f921"
             ]
            ],
            "type": "contour"
           }
          ],
          "contourcarpet": [
           {
            "colorbar": {
             "outlinewidth": 0,
             "ticks": ""
            },
            "type": "contourcarpet"
           }
          ],
          "heatmap": [
           {
            "colorbar": {
             "outlinewidth": 0,
             "ticks": ""
            },
            "colorscale": [
             [
              0,
              "#0d0887"
             ],
             [
              0.1111111111111111,
              "#46039f"
             ],
             [
              0.2222222222222222,
              "#7201a8"
             ],
             [
              0.3333333333333333,
              "#9c179e"
             ],
             [
              0.4444444444444444,
              "#bd3786"
             ],
             [
              0.5555555555555556,
              "#d8576b"
             ],
             [
              0.6666666666666666,
              "#ed7953"
             ],
             [
              0.7777777777777778,
              "#fb9f3a"
             ],
             [
              0.8888888888888888,
              "#fdca26"
             ],
             [
              1,
              "#f0f921"
             ]
            ],
            "type": "heatmap"
           }
          ],
          "histogram": [
           {
            "marker": {
             "pattern": {
              "fillmode": "overlay",
              "size": 10,
              "solidity": 0.2
             }
            },
            "type": "histogram"
           }
          ],
          "histogram2d": [
           {
            "colorbar": {
             "outlinewidth": 0,
             "ticks": ""
            },
            "colorscale": [
             [
              0,
              "#0d0887"
             ],
             [
              0.1111111111111111,
              "#46039f"
             ],
             [
              0.2222222222222222,
              "#7201a8"
             ],
             [
              0.3333333333333333,
              "#9c179e"
             ],
             [
              0.4444444444444444,
              "#bd3786"
             ],
             [
              0.5555555555555556,
              "#d8576b"
             ],
             [
              0.6666666666666666,
              "#ed7953"
             ],
             [
              0.7777777777777778,
              "#fb9f3a"
             ],
             [
              0.8888888888888888,
              "#fdca26"
             ],
             [
              1,
              "#f0f921"
             ]
            ],
            "type": "histogram2d"
           }
          ],
          "histogram2dcontour": [
           {
            "colorbar": {
             "outlinewidth": 0,
             "ticks": ""
            },
            "colorscale": [
             [
              0,
              "#0d0887"
             ],
             [
              0.1111111111111111,
              "#46039f"
             ],
             [
              0.2222222222222222,
              "#7201a8"
             ],
             [
              0.3333333333333333,
              "#9c179e"
             ],
             [
              0.4444444444444444,
              "#bd3786"
             ],
             [
              0.5555555555555556,
              "#d8576b"
             ],
             [
              0.6666666666666666,
              "#ed7953"
             ],
             [
              0.7777777777777778,
              "#fb9f3a"
             ],
             [
              0.8888888888888888,
              "#fdca26"
             ],
             [
              1,
              "#f0f921"
             ]
            ],
            "type": "histogram2dcontour"
           }
          ],
          "mesh3d": [
           {
            "colorbar": {
             "outlinewidth": 0,
             "ticks": ""
            },
            "type": "mesh3d"
           }
          ],
          "parcoords": [
           {
            "line": {
             "colorbar": {
              "outlinewidth": 0,
              "ticks": ""
             }
            },
            "type": "parcoords"
           }
          ],
          "pie": [
           {
            "automargin": true,
            "type": "pie"
           }
          ],
          "scatter": [
           {
            "fillpattern": {
             "fillmode": "overlay",
             "size": 10,
             "solidity": 0.2
            },
            "type": "scatter"
           }
          ],
          "scatter3d": [
           {
            "line": {
             "colorbar": {
              "outlinewidth": 0,
              "ticks": ""
             }
            },
            "marker": {
             "colorbar": {
              "outlinewidth": 0,
              "ticks": ""
             }
            },
            "type": "scatter3d"
           }
          ],
          "scattercarpet": [
           {
            "marker": {
             "colorbar": {
              "outlinewidth": 0,
              "ticks": ""
             }
            },
            "type": "scattercarpet"
           }
          ],
          "scattergeo": [
           {
            "marker": {
             "colorbar": {
              "outlinewidth": 0,
              "ticks": ""
             }
            },
            "type": "scattergeo"
           }
          ],
          "scattergl": [
           {
            "marker": {
             "colorbar": {
              "outlinewidth": 0,
              "ticks": ""
             }
            },
            "type": "scattergl"
           }
          ],
          "scattermap": [
           {
            "marker": {
             "colorbar": {
              "outlinewidth": 0,
              "ticks": ""
             }
            },
            "type": "scattermap"
           }
          ],
          "scattermapbox": [
           {
            "marker": {
             "colorbar": {
              "outlinewidth": 0,
              "ticks": ""
             }
            },
            "type": "scattermapbox"
           }
          ],
          "scatterpolar": [
           {
            "marker": {
             "colorbar": {
              "outlinewidth": 0,
              "ticks": ""
             }
            },
            "type": "scatterpolar"
           }
          ],
          "scatterpolargl": [
           {
            "marker": {
             "colorbar": {
              "outlinewidth": 0,
              "ticks": ""
             }
            },
            "type": "scatterpolargl"
           }
          ],
          "scatterternary": [
           {
            "marker": {
             "colorbar": {
              "outlinewidth": 0,
              "ticks": ""
             }
            },
            "type": "scatterternary"
           }
          ],
          "surface": [
           {
            "colorbar": {
             "outlinewidth": 0,
             "ticks": ""
            },
            "colorscale": [
             [
              0,
              "#0d0887"
             ],
             [
              0.1111111111111111,
              "#46039f"
             ],
             [
              0.2222222222222222,
              "#7201a8"
             ],
             [
              0.3333333333333333,
              "#9c179e"
             ],
             [
              0.4444444444444444,
              "#bd3786"
             ],
             [
              0.5555555555555556,
              "#d8576b"
             ],
             [
              0.6666666666666666,
              "#ed7953"
             ],
             [
              0.7777777777777778,
              "#fb9f3a"
             ],
             [
              0.8888888888888888,
              "#fdca26"
             ],
             [
              1,
              "#f0f921"
             ]
            ],
            "type": "surface"
           }
          ],
          "table": [
           {
            "cells": {
             "fill": {
              "color": "#EBF0F8"
             },
             "line": {
              "color": "white"
             }
            },
            "header": {
             "fill": {
              "color": "#C8D4E3"
             },
             "line": {
              "color": "white"
             }
            },
            "type": "table"
           }
          ]
         },
         "layout": {
          "annotationdefaults": {
           "arrowcolor": "#2a3f5f",
           "arrowhead": 0,
           "arrowwidth": 1
          },
          "autotypenumbers": "strict",
          "coloraxis": {
           "colorbar": {
            "outlinewidth": 0,
            "ticks": ""
           }
          },
          "colorscale": {
           "diverging": [
            [
             0,
             "#8e0152"
            ],
            [
             0.1,
             "#c51b7d"
            ],
            [
             0.2,
             "#de77ae"
            ],
            [
             0.3,
             "#f1b6da"
            ],
            [
             0.4,
             "#fde0ef"
            ],
            [
             0.5,
             "#f7f7f7"
            ],
            [
             0.6,
             "#e6f5d0"
            ],
            [
             0.7,
             "#b8e186"
            ],
            [
             0.8,
             "#7fbc41"
            ],
            [
             0.9,
             "#4d9221"
            ],
            [
             1,
             "#276419"
            ]
           ],
           "sequential": [
            [
             0,
             "#0d0887"
            ],
            [
             0.1111111111111111,
             "#46039f"
            ],
            [
             0.2222222222222222,
             "#7201a8"
            ],
            [
             0.3333333333333333,
             "#9c179e"
            ],
            [
             0.4444444444444444,
             "#bd3786"
            ],
            [
             0.5555555555555556,
             "#d8576b"
            ],
            [
             0.6666666666666666,
             "#ed7953"
            ],
            [
             0.7777777777777778,
             "#fb9f3a"
            ],
            [
             0.8888888888888888,
             "#fdca26"
            ],
            [
             1,
             "#f0f921"
            ]
           ],
           "sequentialminus": [
            [
             0,
             "#0d0887"
            ],
            [
             0.1111111111111111,
             "#46039f"
            ],
            [
             0.2222222222222222,
             "#7201a8"
            ],
            [
             0.3333333333333333,
             "#9c179e"
            ],
            [
             0.4444444444444444,
             "#bd3786"
            ],
            [
             0.5555555555555556,
             "#d8576b"
            ],
            [
             0.6666666666666666,
             "#ed7953"
            ],
            [
             0.7777777777777778,
             "#fb9f3a"
            ],
            [
             0.8888888888888888,
             "#fdca26"
            ],
            [
             1,
             "#f0f921"
            ]
           ]
          },
          "colorway": [
           "#636efa",
           "#EF553B",
           "#00cc96",
           "#ab63fa",
           "#FFA15A",
           "#19d3f3",
           "#FF6692",
           "#B6E880",
           "#FF97FF",
           "#FECB52"
          ],
          "font": {
           "color": "#2a3f5f"
          },
          "geo": {
           "bgcolor": "white",
           "lakecolor": "white",
           "landcolor": "#E5ECF6",
           "showlakes": true,
           "showland": true,
           "subunitcolor": "white"
          },
          "hoverlabel": {
           "align": "left"
          },
          "hovermode": "closest",
          "mapbox": {
           "style": "light"
          },
          "paper_bgcolor": "white",
          "plot_bgcolor": "#E5ECF6",
          "polar": {
           "angularaxis": {
            "gridcolor": "white",
            "linecolor": "white",
            "ticks": ""
           },
           "bgcolor": "#E5ECF6",
           "radialaxis": {
            "gridcolor": "white",
            "linecolor": "white",
            "ticks": ""
           }
          },
          "scene": {
           "xaxis": {
            "backgroundcolor": "#E5ECF6",
            "gridcolor": "white",
            "gridwidth": 2,
            "linecolor": "white",
            "showbackground": true,
            "ticks": "",
            "zerolinecolor": "white"
           },
           "yaxis": {
            "backgroundcolor": "#E5ECF6",
            "gridcolor": "white",
            "gridwidth": 2,
            "linecolor": "white",
            "showbackground": true,
            "ticks": "",
            "zerolinecolor": "white"
           },
           "zaxis": {
            "backgroundcolor": "#E5ECF6",
            "gridcolor": "white",
            "gridwidth": 2,
            "linecolor": "white",
            "showbackground": true,
            "ticks": "",
            "zerolinecolor": "white"
           }
          },
          "shapedefaults": {
           "line": {
            "color": "#2a3f5f"
           }
          },
          "ternary": {
           "aaxis": {
            "gridcolor": "white",
            "linecolor": "white",
            "ticks": ""
           },
           "baxis": {
            "gridcolor": "white",
            "linecolor": "white",
            "ticks": ""
           },
           "bgcolor": "#E5ECF6",
           "caxis": {
            "gridcolor": "white",
            "linecolor": "white",
            "ticks": ""
           }
          },
          "title": {
           "x": 0.05
          },
          "xaxis": {
           "automargin": true,
           "gridcolor": "white",
           "linecolor": "white",
           "ticks": "",
           "title": {
            "standoff": 15
           },
           "zerolinecolor": "white",
           "zerolinewidth": 2
          },
          "yaxis": {
           "automargin": true,
           "gridcolor": "white",
           "linecolor": "white",
           "ticks": "",
           "title": {
            "standoff": 15
           },
           "zerolinecolor": "white",
           "zerolinewidth": 2
          }
         }
        },
        "title": {
         "text": "Total asylumn seeker population over the years"
        },
        "xaxis": {
         "title": {
          "text": "Years"
         }
        },
        "yaxis": {
         "rangemode": "tozero",
         "title": {
          "text": "Asylum Seekers"
         }
        }
       }
      }
     },
     "metadata": {},
     "output_type": "display_data"
    }
   ],
   "source": [
    "# Plot the timelime\n",
    "## Data\n",
    "timeline = asylum.groupby('year').agg({'count': 'sum'}).reset_index()\n",
    "custom_for_template = asylum.groupby(['country_of_origin_name', 'year']).agg({'count': 'sum'}).reset_index()\n",
    "## Setting trace\n",
    "trace = go.Scatter(x=timeline['year'], y=timeline['count'])\n",
    "fig = go.Figure(trace)\n",
    "\n",
    "\n",
    "\n",
    "for peak in Peak_finder(timeline):\n",
    "    fig.add_shape(type=\"rect\",\n",
    "                x0=peak['start'], y0=0, x1=peak['end'], y1=10000000,\n",
    "                fillcolor=\"tomato\", opacity=0.5,\n",
    "                layer=\"below\", line_width=0)\n",
    "\n",
    "\n",
    "fig.update_traces(\n",
    "    customdata=extra_hover_text,\n",
    "    hovertemplate=\"Year: %{x}<br>Total: %{y}<br>%{customdata}\"\n",
    "\n",
    ")\n",
    "\n",
    "## Defining title\n",
    "fig.update_layout(\n",
    "    title='Total asylumn seeker population over the years',\n",
    "    xaxis={'title': {'text': \"Years\"}},\n",
    "    yaxis={'title': {'text': 'Asylum Seekers'}, 'rangemode': 'tozero'},\n",
    "\n",
    ")\n",
    "\n",
    "fig.show()"
   ]
  },
  {
   "cell_type": "markdown",
   "metadata": {},
   "source": [
    "# Adding country population"
   ]
  },
  {
   "cell_type": "code",
   "execution_count": null,
   "metadata": {},
   "outputs": [],
   "source": [
    "def Country_population_data(country_code: str, population_data: pd.DataFrame, asylum_data: pd.DataFrame) -> pd.DataFrame:\n",
    "    country_population = population_data[population_data[\"Country Code\"] == country_code].drop(columns=[\"Country Name\", \"Country Code\"]).transpose().reset_index()\n",
    "    country_population.columns = ['year', 'population']\n",
    "    country_population['year'] = country_population['year'].astype(int)\n",
    "\n",
    "    country = asylum_data[asylum_data[\"country_of_origin_abbr\"] == country_code].groupby(\"year\", as_index=False)[\"count\"].sum()\n",
    "    \n",
    "    country = country.merge(right= country_population, how='left', on='year')\n",
    "    country.drop(country[country['population'].isna()].index, inplace=True)\n",
    "    country[\"percentage_of_population_migration\"] = (country[\"count\"] / country[\"population\"]) * 100\n",
    "\n",
    "    country.rename(columns={'count': \"displaced\"}, inplace=True)\n",
    "    country[\"country_of_origin_abbr\"] = country_code\n",
    "    return country\n",
    "\n",
    "def Get_country_population_df(pop, asy) -> pd.DataFrame:\n",
    "    countries = asy[\"country_of_origin_abbr\"].unique()\n",
    "    countries_not_in_the_analysis = []\n",
    "    full_data = pd.DataFrame()\n",
    "    for country in countries:\n",
    "        if country in pop['Country Code'].values:\n",
    "            full_data = pd.concat([full_data, Country_population_data(country, population_data=pop, asylum_data=asy)])\n",
    "        else:\n",
    "            countries_not_in_the_analysis.append(asylum[asylum['country_of_origin_abbr'] == country]['country_of_origin_name'].iloc[0])\n",
    "        \n",
    "    print('These countries were remove from the asylum due to not appear in the WorldBank population dataset:')\n",
    "    print(countries_not_in_the_analysis)\n",
    "    return full_data\n",
    "    "
   ]
  },
  {
   "cell_type": "code",
   "execution_count": null,
   "metadata": {},
   "outputs": [
    {
     "name": "stdout",
     "output_type": "stream",
     "text": [
      "These countries were remove from the asylum due to not appear in the WorldBank population dataset:\n",
      "['Unknown/other', 'Stateless', 'State of Palestine', 'Western Sahara', 'French Guiana', 'Niue', 'Cook Islands', 'Guadeloupe', 'Holy See (the)', 'Anguilla', 'Bonaire, Sint Eustatius and Saba']\n"
     ]
    },
    {
     "data": {
      "text/html": [
       "<div>\n",
       "<style scoped>\n",
       "    .dataframe tbody tr th:only-of-type {\n",
       "        vertical-align: middle;\n",
       "    }\n",
       "\n",
       "    .dataframe tbody tr th {\n",
       "        vertical-align: top;\n",
       "    }\n",
       "\n",
       "    .dataframe thead th {\n",
       "        text-align: right;\n",
       "    }\n",
       "</style>\n",
       "<table border=\"1\" class=\"dataframe\">\n",
       "  <thead>\n",
       "    <tr style=\"text-align: right;\">\n",
       "      <th></th>\n",
       "      <th>year</th>\n",
       "      <th>displaced</th>\n",
       "      <th>population</th>\n",
       "      <th>percentage_of_population_migration</th>\n",
       "      <th>country_of_origin_abbr</th>\n",
       "    </tr>\n",
       "  </thead>\n",
       "  <tbody>\n",
       "    <tr>\n",
       "      <th>0</th>\n",
       "      <td>1970</td>\n",
       "      <td>5</td>\n",
       "      <td>53821850.0</td>\n",
       "      <td>0.000009</td>\n",
       "      <td>ITA</td>\n",
       "    </tr>\n",
       "    <tr>\n",
       "      <th>1</th>\n",
       "      <td>1972</td>\n",
       "      <td>5</td>\n",
       "      <td>54381345.0</td>\n",
       "      <td>0.000009</td>\n",
       "      <td>ITA</td>\n",
       "    </tr>\n",
       "    <tr>\n",
       "      <th>2</th>\n",
       "      <td>1974</td>\n",
       "      <td>5</td>\n",
       "      <td>55110868.0</td>\n",
       "      <td>0.000009</td>\n",
       "      <td>ITA</td>\n",
       "    </tr>\n",
       "    <tr>\n",
       "      <th>3</th>\n",
       "      <td>1984</td>\n",
       "      <td>6</td>\n",
       "      <td>56576718.0</td>\n",
       "      <td>0.000011</td>\n",
       "      <td>ITA</td>\n",
       "    </tr>\n",
       "    <tr>\n",
       "      <th>4</th>\n",
       "      <td>1986</td>\n",
       "      <td>5</td>\n",
       "      <td>56596155.0</td>\n",
       "      <td>0.000009</td>\n",
       "      <td>ITA</td>\n",
       "    </tr>\n",
       "    <tr>\n",
       "      <th>5</th>\n",
       "      <td>1989</td>\n",
       "      <td>21</td>\n",
       "      <td>56671781.0</td>\n",
       "      <td>0.000037</td>\n",
       "      <td>ITA</td>\n",
       "    </tr>\n",
       "    <tr>\n",
       "      <th>6</th>\n",
       "      <td>1990</td>\n",
       "      <td>60</td>\n",
       "      <td>56719240.0</td>\n",
       "      <td>0.000106</td>\n",
       "      <td>ITA</td>\n",
       "    </tr>\n",
       "    <tr>\n",
       "      <th>7</th>\n",
       "      <td>1991</td>\n",
       "      <td>18</td>\n",
       "      <td>56758521.0</td>\n",
       "      <td>0.000032</td>\n",
       "      <td>ITA</td>\n",
       "    </tr>\n",
       "    <tr>\n",
       "      <th>8</th>\n",
       "      <td>1992</td>\n",
       "      <td>22</td>\n",
       "      <td>56797087.0</td>\n",
       "      <td>0.000039</td>\n",
       "      <td>ITA</td>\n",
       "    </tr>\n",
       "    <tr>\n",
       "      <th>9</th>\n",
       "      <td>1993</td>\n",
       "      <td>5</td>\n",
       "      <td>56831821.0</td>\n",
       "      <td>0.000009</td>\n",
       "      <td>ITA</td>\n",
       "    </tr>\n",
       "    <tr>\n",
       "      <th>10</th>\n",
       "      <td>1994</td>\n",
       "      <td>7</td>\n",
       "      <td>56843400.0</td>\n",
       "      <td>0.000012</td>\n",
       "      <td>ITA</td>\n",
       "    </tr>\n",
       "    <tr>\n",
       "      <th>11</th>\n",
       "      <td>1995</td>\n",
       "      <td>12</td>\n",
       "      <td>56844303.0</td>\n",
       "      <td>0.000021</td>\n",
       "      <td>ITA</td>\n",
       "    </tr>\n",
       "    <tr>\n",
       "      <th>12</th>\n",
       "      <td>1996</td>\n",
       "      <td>9</td>\n",
       "      <td>56860281.0</td>\n",
       "      <td>0.000016</td>\n",
       "      <td>ITA</td>\n",
       "    </tr>\n",
       "    <tr>\n",
       "      <th>13</th>\n",
       "      <td>1997</td>\n",
       "      <td>17</td>\n",
       "      <td>56890372.0</td>\n",
       "      <td>0.000030</td>\n",
       "      <td>ITA</td>\n",
       "    </tr>\n",
       "    <tr>\n",
       "      <th>14</th>\n",
       "      <td>1998</td>\n",
       "      <td>21</td>\n",
       "      <td>56906744.0</td>\n",
       "      <td>0.000037</td>\n",
       "      <td>ITA</td>\n",
       "    </tr>\n",
       "    <tr>\n",
       "      <th>15</th>\n",
       "      <td>1999</td>\n",
       "      <td>20</td>\n",
       "      <td>56916317.0</td>\n",
       "      <td>0.000035</td>\n",
       "      <td>ITA</td>\n",
       "    </tr>\n",
       "    <tr>\n",
       "      <th>16</th>\n",
       "      <td>2000</td>\n",
       "      <td>37</td>\n",
       "      <td>56942108.0</td>\n",
       "      <td>0.000065</td>\n",
       "      <td>ITA</td>\n",
       "    </tr>\n",
       "    <tr>\n",
       "      <th>17</th>\n",
       "      <td>2001</td>\n",
       "      <td>37</td>\n",
       "      <td>56974100.0</td>\n",
       "      <td>0.000065</td>\n",
       "      <td>ITA</td>\n",
       "    </tr>\n",
       "    <tr>\n",
       "      <th>18</th>\n",
       "      <td>2002</td>\n",
       "      <td>67</td>\n",
       "      <td>57059007.0</td>\n",
       "      <td>0.000117</td>\n",
       "      <td>ITA</td>\n",
       "    </tr>\n",
       "    <tr>\n",
       "      <th>19</th>\n",
       "      <td>2003</td>\n",
       "      <td>47</td>\n",
       "      <td>57313203.0</td>\n",
       "      <td>0.000082</td>\n",
       "      <td>ITA</td>\n",
       "    </tr>\n",
       "    <tr>\n",
       "      <th>20</th>\n",
       "      <td>2004</td>\n",
       "      <td>41</td>\n",
       "      <td>57685327.0</td>\n",
       "      <td>0.000071</td>\n",
       "      <td>ITA</td>\n",
       "    </tr>\n",
       "    <tr>\n",
       "      <th>21</th>\n",
       "      <td>2005</td>\n",
       "      <td>23</td>\n",
       "      <td>57969484.0</td>\n",
       "      <td>0.000040</td>\n",
       "      <td>ITA</td>\n",
       "    </tr>\n",
       "    <tr>\n",
       "      <th>22</th>\n",
       "      <td>2006</td>\n",
       "      <td>35</td>\n",
       "      <td>58143979.0</td>\n",
       "      <td>0.000060</td>\n",
       "      <td>ITA</td>\n",
       "    </tr>\n",
       "    <tr>\n",
       "      <th>23</th>\n",
       "      <td>2007</td>\n",
       "      <td>25</td>\n",
       "      <td>58438310.0</td>\n",
       "      <td>0.000043</td>\n",
       "      <td>ITA</td>\n",
       "    </tr>\n",
       "    <tr>\n",
       "      <th>24</th>\n",
       "      <td>2008</td>\n",
       "      <td>54</td>\n",
       "      <td>58826731.0</td>\n",
       "      <td>0.000092</td>\n",
       "      <td>ITA</td>\n",
       "    </tr>\n",
       "    <tr>\n",
       "      <th>25</th>\n",
       "      <td>2009</td>\n",
       "      <td>53</td>\n",
       "      <td>59095365.0</td>\n",
       "      <td>0.000090</td>\n",
       "      <td>ITA</td>\n",
       "    </tr>\n",
       "    <tr>\n",
       "      <th>26</th>\n",
       "      <td>2010</td>\n",
       "      <td>70</td>\n",
       "      <td>59277417.0</td>\n",
       "      <td>0.000118</td>\n",
       "      <td>ITA</td>\n",
       "    </tr>\n",
       "    <tr>\n",
       "      <th>27</th>\n",
       "      <td>2011</td>\n",
       "      <td>50</td>\n",
       "      <td>59379449.0</td>\n",
       "      <td>0.000084</td>\n",
       "      <td>ITA</td>\n",
       "    </tr>\n",
       "    <tr>\n",
       "      <th>28</th>\n",
       "      <td>2012</td>\n",
       "      <td>80</td>\n",
       "      <td>59539717.0</td>\n",
       "      <td>0.000134</td>\n",
       "      <td>ITA</td>\n",
       "    </tr>\n",
       "    <tr>\n",
       "      <th>29</th>\n",
       "      <td>2013</td>\n",
       "      <td>105</td>\n",
       "      <td>60233948.0</td>\n",
       "      <td>0.000174</td>\n",
       "      <td>ITA</td>\n",
       "    </tr>\n",
       "    <tr>\n",
       "      <th>30</th>\n",
       "      <td>2014</td>\n",
       "      <td>121</td>\n",
       "      <td>60789140.0</td>\n",
       "      <td>0.000199</td>\n",
       "      <td>ITA</td>\n",
       "    </tr>\n",
       "    <tr>\n",
       "      <th>31</th>\n",
       "      <td>2015</td>\n",
       "      <td>105</td>\n",
       "      <td>60730582.0</td>\n",
       "      <td>0.000173</td>\n",
       "      <td>ITA</td>\n",
       "    </tr>\n",
       "    <tr>\n",
       "      <th>32</th>\n",
       "      <td>2016</td>\n",
       "      <td>123</td>\n",
       "      <td>60627498.0</td>\n",
       "      <td>0.000203</td>\n",
       "      <td>ITA</td>\n",
       "    </tr>\n",
       "    <tr>\n",
       "      <th>33</th>\n",
       "      <td>2017</td>\n",
       "      <td>175</td>\n",
       "      <td>60536709.0</td>\n",
       "      <td>0.000289</td>\n",
       "      <td>ITA</td>\n",
       "    </tr>\n",
       "    <tr>\n",
       "      <th>34</th>\n",
       "      <td>2018</td>\n",
       "      <td>225</td>\n",
       "      <td>60421760.0</td>\n",
       "      <td>0.000372</td>\n",
       "      <td>ITA</td>\n",
       "    </tr>\n",
       "    <tr>\n",
       "      <th>35</th>\n",
       "      <td>2019</td>\n",
       "      <td>218</td>\n",
       "      <td>59729081.0</td>\n",
       "      <td>0.000365</td>\n",
       "      <td>ITA</td>\n",
       "    </tr>\n",
       "    <tr>\n",
       "      <th>36</th>\n",
       "      <td>2020</td>\n",
       "      <td>162</td>\n",
       "      <td>59438851.0</td>\n",
       "      <td>0.000273</td>\n",
       "      <td>ITA</td>\n",
       "    </tr>\n",
       "    <tr>\n",
       "      <th>37</th>\n",
       "      <td>2021</td>\n",
       "      <td>274</td>\n",
       "      <td>59133173.0</td>\n",
       "      <td>0.000463</td>\n",
       "      <td>ITA</td>\n",
       "    </tr>\n",
       "    <tr>\n",
       "      <th>38</th>\n",
       "      <td>2022</td>\n",
       "      <td>311</td>\n",
       "      <td>59013667.0</td>\n",
       "      <td>0.000527</td>\n",
       "      <td>ITA</td>\n",
       "    </tr>\n",
       "    <tr>\n",
       "      <th>39</th>\n",
       "      <td>2023</td>\n",
       "      <td>674</td>\n",
       "      <td>58993475.0</td>\n",
       "      <td>0.001142</td>\n",
       "      <td>ITA</td>\n",
       "    </tr>\n",
       "  </tbody>\n",
       "</table>\n",
       "</div>"
      ],
      "text/plain": [
       "    year  displaced  population  percentage_of_population_migration  \\\n",
       "0   1970          5  53821850.0                            0.000009   \n",
       "1   1972          5  54381345.0                            0.000009   \n",
       "2   1974          5  55110868.0                            0.000009   \n",
       "3   1984          6  56576718.0                            0.000011   \n",
       "4   1986          5  56596155.0                            0.000009   \n",
       "5   1989         21  56671781.0                            0.000037   \n",
       "6   1990         60  56719240.0                            0.000106   \n",
       "7   1991         18  56758521.0                            0.000032   \n",
       "8   1992         22  56797087.0                            0.000039   \n",
       "9   1993          5  56831821.0                            0.000009   \n",
       "10  1994          7  56843400.0                            0.000012   \n",
       "11  1995         12  56844303.0                            0.000021   \n",
       "12  1996          9  56860281.0                            0.000016   \n",
       "13  1997         17  56890372.0                            0.000030   \n",
       "14  1998         21  56906744.0                            0.000037   \n",
       "15  1999         20  56916317.0                            0.000035   \n",
       "16  2000         37  56942108.0                            0.000065   \n",
       "17  2001         37  56974100.0                            0.000065   \n",
       "18  2002         67  57059007.0                            0.000117   \n",
       "19  2003         47  57313203.0                            0.000082   \n",
       "20  2004         41  57685327.0                            0.000071   \n",
       "21  2005         23  57969484.0                            0.000040   \n",
       "22  2006         35  58143979.0                            0.000060   \n",
       "23  2007         25  58438310.0                            0.000043   \n",
       "24  2008         54  58826731.0                            0.000092   \n",
       "25  2009         53  59095365.0                            0.000090   \n",
       "26  2010         70  59277417.0                            0.000118   \n",
       "27  2011         50  59379449.0                            0.000084   \n",
       "28  2012         80  59539717.0                            0.000134   \n",
       "29  2013        105  60233948.0                            0.000174   \n",
       "30  2014        121  60789140.0                            0.000199   \n",
       "31  2015        105  60730582.0                            0.000173   \n",
       "32  2016        123  60627498.0                            0.000203   \n",
       "33  2017        175  60536709.0                            0.000289   \n",
       "34  2018        225  60421760.0                            0.000372   \n",
       "35  2019        218  59729081.0                            0.000365   \n",
       "36  2020        162  59438851.0                            0.000273   \n",
       "37  2021        274  59133173.0                            0.000463   \n",
       "38  2022        311  59013667.0                            0.000527   \n",
       "39  2023        674  58993475.0                            0.001142   \n",
       "\n",
       "   country_of_origin_abbr  \n",
       "0                     ITA  \n",
       "1                     ITA  \n",
       "2                     ITA  \n",
       "3                     ITA  \n",
       "4                     ITA  \n",
       "5                     ITA  \n",
       "6                     ITA  \n",
       "7                     ITA  \n",
       "8                     ITA  \n",
       "9                     ITA  \n",
       "10                    ITA  \n",
       "11                    ITA  \n",
       "12                    ITA  \n",
       "13                    ITA  \n",
       "14                    ITA  \n",
       "15                    ITA  \n",
       "16                    ITA  \n",
       "17                    ITA  \n",
       "18                    ITA  \n",
       "19                    ITA  \n",
       "20                    ITA  \n",
       "21                    ITA  \n",
       "22                    ITA  \n",
       "23                    ITA  \n",
       "24                    ITA  \n",
       "25                    ITA  \n",
       "26                    ITA  \n",
       "27                    ITA  \n",
       "28                    ITA  \n",
       "29                    ITA  \n",
       "30                    ITA  \n",
       "31                    ITA  \n",
       "32                    ITA  \n",
       "33                    ITA  \n",
       "34                    ITA  \n",
       "35                    ITA  \n",
       "36                    ITA  \n",
       "37                    ITA  \n",
       "38                    ITA  \n",
       "39                    ITA  "
      ]
     },
     "execution_count": 18,
     "metadata": {},
     "output_type": "execute_result"
    }
   ],
   "source": [
    "tt = Get_country_population_df(population, asylum)\n",
    "tt[tt['country_of_origin_abbr'] == 'ITA']"
   ]
  },
  {
   "cell_type": "code",
   "execution_count": null,
   "metadata": {},
   "outputs": [
    {
     "name": "stdout",
     "output_type": "stream",
     "text": [
      "   year  displaced   population  percentage_of_population_migration  \\\n",
      "0  1962          5   11800771.0                        4.237011e-05   \n",
      "0  1962      20277    5354310.0                        3.787043e-01   \n",
      "0  1962         13    2907943.0                        4.470514e-04   \n",
      "0  1962          5  665770000.0                        7.510101e-07   \n",
      "0  1962          8    1113175.0                        7.186651e-04   \n",
      "0  1962         13   16075724.0                        8.086728e-05   \n",
      "0  1962         17    7413875.0                        2.292998e-04   \n",
      "0  1962          5    3030091.0                        1.650115e-04   \n",
      "0  1962         10    8919028.0                        1.121198e-04   \n",
      "\n",
      "  country_of_origin_abbr  \n",
      "0                    DZA  \n",
      "0                    AGO  \n",
      "0                    BDI  \n",
      "0                    CHN  \n",
      "0                    COG  \n",
      "0                    COD  \n",
      "0                    IRQ  \n",
      "0                    SOM  \n",
      "0                    SDN  \n",
      "   year  displaced  population  percentage_of_population_migration  \\\n",
      "1  1963       5000   5408320.0                            0.092450   \n",
      "1  1963      13000   9218077.0                            0.141027   \n",
      "0  1963        160  29091869.0                            0.000550   \n",
      "0  1963         70  18797850.0                            0.000372   \n",
      "0  1963       7000   3258890.0                            0.214797   \n",
      "\n",
      "  country_of_origin_abbr  \n",
      "1                    AGO  \n",
      "1                    SDN  \n",
      "0                    EGY  \n",
      "0                    ROU  \n",
      "0                    RWA  \n",
      "   year  displaced  population  percentage_of_population_migration  \\\n",
      "2  1964      25000   5464187.0                            0.457525   \n",
      "1  1964      58700   1174816.0                            4.996527   \n",
      "2  1964       7300   9531109.0                            0.076591   \n",
      "1  1964      38300   3334834.0                            1.148483   \n",
      "0  1964         90   2120135.0                            0.004245   \n",
      "0  1964      24000   3819722.0                            0.628318   \n",
      "0  1964      10000   7255061.0                            0.137835   \n",
      "\n",
      "  country_of_origin_abbr  \n",
      "2                    AGO  \n",
      "1                    COG  \n",
      "2                    SDN  \n",
      "1                    RWA  \n",
      "0                    ARM  \n",
      "0                    GIN  \n",
      "0                    MOZ  \n",
      "   year  displaced  population  percentage_of_population_migration  \\\n",
      "3  1965      20000   5521981.0                            0.362189   \n",
      "1  1965       4000   3141367.0                            0.127333   \n",
      "2  1965      17300   1207880.0                            1.432261   \n",
      "3  1965      61700   9858030.0                            0.625886   \n",
      "2  1965       1700   3423210.0                            0.049661   \n",
      "1  1965       8000   7406421.0                            0.108014   \n",
      "0  1965        440   1864791.0                            0.023595   \n",
      "0  1965      20000    575005.0                            3.478231   \n",
      "0  1965        630   8550333.0                            0.007368   \n",
      "\n",
      "  country_of_origin_abbr  \n",
      "3                    AGO  \n",
      "1                    BDI  \n",
      "2                    COG  \n",
      "3                    SDN  \n",
      "2                    RWA  \n",
      "1                    MOZ  \n",
      "0                    ALB  \n",
      "0                    GNB  \n",
      "0                    GRC  \n",
      "   year  displaced   population  percentage_of_population_migration  \\\n",
      "4  1966      34800    5581386.0                            0.623501   \n",
      "1  1966       2620  735400000.0                            0.000356   \n",
      "3  1966      45000    1242534.0                            3.621631   \n",
      "4  1966      32500   10197578.0                            0.318703   \n",
      "3  1966       5800    3521626.0                            0.164697   \n",
      "2  1966       7700    7562990.0                            0.101812   \n",
      "1  1966        150    1914573.0                            0.007835   \n",
      "1  1966      11050     566908.0                            1.949170   \n",
      "0  1966        300     252976.0                            0.118588   \n",
      "0  1966        150    4197926.0                            0.003573   \n",
      "0  1966         50   19690087.0                            0.000254   \n",
      "0  1966        350  127468000.0                            0.000275   \n",
      "0  1966       2000   38024836.0                            0.005260   \n",
      "\n",
      "  country_of_origin_abbr  \n",
      "4                    AGO  \n",
      "1                    CHN  \n",
      "3                    COG  \n",
      "4                    SDN  \n",
      "3                    RWA  \n",
      "2                    MOZ  \n",
      "1                    ALB  \n",
      "1                    GNB  \n",
      "0                    CPV  \n",
      "0                    MWI  \n",
      "0                    ZAF  \n",
      "0                    RUS  \n",
      "0                    VNM  \n",
      "   year  displaced  population  percentage_of_population_migration  \\\n",
      "5  1967      12400   5641807.0                            0.219788   \n",
      "4  1967       4820   1278691.0                            0.376948   \n",
      "5  1967      13170  10550597.0                            0.124827   \n",
      "4  1967        340   3629577.0                            0.009367   \n",
      "3  1967       6950   7724550.0                            0.089973   \n",
      "2  1967        180   1965598.0                            0.009158   \n",
      "1  1967        710   8684088.0                            0.008176   \n",
      "1  1967         70   4303012.0                            0.001627   \n",
      "1  1967         90  20314066.0                            0.000443   \n",
      "0  1967      28600  25620276.0                            0.111630   \n",
      "0  1967         60    696045.0                            0.008620   \n",
      "\n",
      "  country_of_origin_abbr  \n",
      "5                    AGO  \n",
      "4                    COG  \n",
      "5                    SDN  \n",
      "4                    RWA  \n",
      "3                    MOZ  \n",
      "2                    ALB  \n",
      "1                    GRC  \n",
      "1                    MWI  \n",
      "1                    ZAF  \n",
      "0                    ETH  \n",
      "0                    NAM  \n",
      "   year  displaced   population  percentage_of_population_migration  \\\n",
      "6  1968      15060    5702699.0                            0.264085   \n",
      "2  1968        780  774510000.0                            0.000101   \n",
      "5  1968       2690    1316519.0                            0.204327   \n",
      "6  1968      15510   10917999.0                            0.142059   \n",
      "5  1968       1170    3744010.0                            0.031250   \n",
      "4  1968       6200    7892613.0                            0.078554   \n",
      "3  1968         50    2022272.0                            0.002472   \n",
      "2  1968       1900     578170.0                            0.328623   \n",
      "2  1968        200    8740765.0                            0.002288   \n",
      "1  1968        120     270164.0                            0.044417   \n",
      "1  1968       2400   26337930.0                            0.009112   \n",
      "1  1968       1050     715542.0                            0.146742   \n",
      "0  1968      15000    4065593.0                            0.368950   \n",
      "\n",
      "  country_of_origin_abbr  \n",
      "6                    AGO  \n",
      "2                    CHN  \n",
      "5                    COG  \n",
      "6                    SDN  \n",
      "5                    RWA  \n",
      "4                    MOZ  \n",
      "3                    ALB  \n",
      "2                    GNB  \n",
      "2                    GRC  \n",
      "1                    CPV  \n",
      "1                    ETH  \n",
      "1                    NAM  \n",
      "0                    ZMB  \n",
      "   year  displaced   population  percentage_of_population_migration  \\\n",
      "7  1969      20480    5763685.0                            0.355328   \n",
      "3  1969       2150  796025000.0                            0.000270   \n",
      "6  1969        180    1356182.0                            0.013273   \n",
      "7  1969       9500   11298936.0                            0.084079   \n",
      "1  1969         90   20009141.0                            0.000450   \n",
      "6  1969       1430    3861271.0                            0.037034   \n",
      "5  1969       5000    8066951.0                            0.061981   \n",
      "3  1969      11050     581610.0                            1.899899   \n",
      "3  1969         60    8772764.0                            0.000684   \n",
      "2  1969         50     736120.0                            0.006792   \n",
      "0  1969       1700   54631914.0                            0.003112   \n",
      "\n",
      "  country_of_origin_abbr  \n",
      "7                    AGO  \n",
      "3                    CHN  \n",
      "6                    COG  \n",
      "7                    SDN  \n",
      "1                    ROU  \n",
      "6                    RWA  \n",
      "5                    MOZ  \n",
      "3                    GNB  \n",
      "3                    GRC  \n",
      "2                    NAM  \n",
      "0                    NGA  \n",
      "   year  displaced   population  percentage_of_population_migration  \\\n",
      "1  1970          9   13783719.0                            0.000065   \n",
      "8  1970       2240    5852788.0                            0.038272   \n",
      "4  1970        615  818315000.0                            0.000075   \n",
      "7  1970       1625    1397638.0                            0.116268   \n",
      "1  1970         48    9735611.0                            0.000493   \n",
      "1  1970         29    3738448.0                            0.000776   \n",
      "8  1970       7460   11695771.0                            0.063784   \n",
      "1  1970         56   34623990.0                            0.000162   \n",
      "2  1970        257   20250398.0                            0.001269   \n",
      "7  1970       2140    3980669.0                            0.053760   \n",
      "1  1970        100    2475633.0                            0.004039   \n",
      "1  1970          5    4277535.0                            0.000117   \n",
      "6  1970      16720    8250506.0                            0.202654   \n",
      "4  1970          7    2135479.0                            0.000328   \n",
      "4  1970        316    8792806.0                            0.003594   \n",
      "1  1970         12  130404000.0                            0.000009   \n",
      "2  1970      23364   27829128.0                            0.083955   \n",
      "3  1970          5     757868.0                            0.000660   \n",
      "1  1970         35   55893838.0                            0.000063   \n",
      "0  1970          5    7467086.0                            0.000067   \n",
      "0  1970          5   95375651.0                            0.000005   \n",
      "0  1970        228    8489574.0                            0.002686   \n",
      "0  1970       1900    3727828.0                            0.050968   \n",
      "0  1970          5    9845344.0                            0.000051   \n",
      "0  1970          5    8824382.0                            0.000057   \n",
      "0  1970       5272    9858071.0                            0.053479   \n",
      "0  1970          5   52007169.0                            0.000010   \n",
      "0  1970        786   10337910.0                            0.007603   \n",
      "0  1970         11  115657495.0                            0.000010   \n",
      "0  1970         15   29145100.0                            0.000051   \n",
      "0  1970          6    2974000.0                            0.000202   \n",
      "0  1970          5   53821850.0                            0.000009   \n",
      "0  1970        133    1565163.0                            0.008498   \n",
      "0  1970         33    2386114.0                            0.001383   \n",
      "0  1970          7   15129449.0                            0.000046   \n",
      "0  1970          6   27193016.0                            0.000022   \n",
      "0  1970          5   60166719.0                            0.000008   \n",
      "0  1970        259   32664300.0                            0.000793   \n",
      "0  1970         10    8680431.0                            0.000115   \n",
      "0  1970         10   33814531.0                            0.000030   \n",
      "0  1970        570    7164993.0                            0.007955   \n",
      "0  1970        176    6380609.0                            0.002758   \n",
      "0  1970         88   36638465.0                            0.000240   \n",
      "0  1970          5    7065279.0                            0.000071   \n",
      "\n",
      "  country_of_origin_abbr  \n",
      "1                    DZA  \n",
      "8                    AGO  \n",
      "4                    CHN  \n",
      "7                    COG  \n",
      "1                    IRQ  \n",
      "1                    SOM  \n",
      "8                    SDN  \n",
      "1                    EGY  \n",
      "2                    ROU  \n",
      "7                    RWA  \n",
      "1                    ARM  \n",
      "1                    GIN  \n",
      "6                    MOZ  \n",
      "4                    ALB  \n",
      "4                    GRC  \n",
      "1                    RUS  \n",
      "2                    ETH  \n",
      "3                    NAM  \n",
      "1                    NGA  \n",
      "0                    AUT  \n",
      "0                    BRA  \n",
      "0                    BGR  \n",
      "0                    TCD  \n",
      "0                    CHL  \n",
      "0                    CUB  \n",
      "0                    CZE  \n",
      "0                    FRA  \n",
      "0                    HUN  \n",
      "0                    IDN  \n",
      "0                    IRN  \n",
      "0                    ISR  \n",
      "0                    ITA  \n",
      "0                    JOR  \n",
      "0                    LBN  \n",
      "0                    MAR  \n",
      "0                    MMR  \n",
      "0                    PAK  \n",
      "0                    POL  \n",
      "0                    PRT  \n",
      "0                    ESP  \n",
      "0                    SRB  \n",
      "0                    SYR  \n",
      "0                    TUR  \n",
      "0                    YEM  \n",
      "   year  displaced   population  percentage_of_population_migration  \\\n",
      "2  1971         10   14098936.0                            0.000071   \n",
      "9  1971       1470    5991102.0                            0.024536   \n",
      "2  1971          5    3617289.0                            0.000138   \n",
      "5  1971        218  841105000.0                            0.000026   \n",
      "8  1971          5    1441039.0                            0.000347   \n",
      "1  1971        405   20695569.0                            0.001957   \n",
      "2  1971         69   10077809.0                            0.000685   \n",
      "2  1971         20    3837691.0                            0.000521   \n",
      "9  1971       5901   12105539.0                            0.048746   \n",
      "2  1971         59   35433368.0                            0.000167   \n",
      "3  1971        602   20461567.0                            0.002942   \n",
      "8  1971       1720    4100044.0                            0.041951   \n",
      "2  1971        550    2525345.0                            0.021779   \n",
      "2  1971        312    4355200.0                            0.007164   \n",
      "7  1971       1460    8456317.0                            0.017265   \n",
      "5  1971         12    2187853.0                            0.000548   \n",
      "4  1971      13000     586221.0                            2.217594   \n",
      "5  1971        262    8831036.0                            0.002967   \n",
      "2  1971          5   22942143.0                            0.000022   \n",
      "2  1971         22  131155000.0                            0.000017   \n",
      "1  1971          5   42449276.0                            0.000012   \n",
      "3  1971        744   28600106.0                            0.002601   \n",
      "4  1971         81     780584.0                            0.010377   \n",
      "2  1971         39   57214684.0                            0.000068   \n",
      "1  1971        416    8536395.0                            0.004873   \n",
      "1  1971         15   10009701.0                            0.000150   \n",
      "1  1971          5    8979085.0                            0.000056   \n",
      "1  1971       2118    9826815.0                            0.021553   \n",
      "1  1971       1674   10367537.0                            0.016147   \n",
      "1  1971         22  118833702.0                            0.000019   \n",
      "1  1971         28   30029071.0                            0.000093   \n",
      "1  1971         40    3069000.0                            0.001303   \n",
      "1  1971        606    1645145.0                            0.036836   \n",
      "1  1971         42    2446314.0                            0.001717   \n",
      "1  1971          6   15527225.0                            0.000039   \n",
      "1  1971          5   27807219.0                            0.000018   \n",
      "1  1971         26   61847899.0                            0.000042   \n",
      "1  1971       2002   32783500.0                            0.006107   \n",
      "1  1971         43    8643756.0                            0.000497   \n",
      "1  1971         28   34224490.0                            0.000082   \n",
      "1  1971       1008    7211716.0                            0.013977   \n",
      "1  1971        209    6598094.0                            0.003168   \n",
      "1  1971         74   37518611.0                            0.000197   \n",
      "1  1971          5    7257462.0                            0.000069   \n",
      "0  1971          5    6624408.0                            0.000075   \n",
      "0  1971          6  558096387.0                            0.000001   \n",
      "0  1971          5   11788904.0                            0.000042   \n",
      "0  1971          5   32882704.0                            0.000015   \n",
      "0  1971          5    2153534.0                            0.000232   \n",
      "0  1971          5   12551910.0                            0.000040   \n",
      "0  1971          6   13971451.0                            0.000043   \n",
      "0  1971          7    5261658.0                            0.000133   \n",
      "0  1971          5   10618206.0                            0.000047   \n",
      "\n",
      "  country_of_origin_abbr  \n",
      "2                    DZA  \n",
      "9                    AGO  \n",
      "2                    BDI  \n",
      "5                    CHN  \n",
      "8                    COG  \n",
      "1                    COD  \n",
      "2                    IRQ  \n",
      "2                    SOM  \n",
      "9                    SDN  \n",
      "2                    EGY  \n",
      "3                    ROU  \n",
      "8                    RWA  \n",
      "2                    ARM  \n",
      "2                    GIN  \n",
      "7                    MOZ  \n",
      "5                    ALB  \n",
      "4                    GNB  \n",
      "5                    GRC  \n",
      "2                    ZAF  \n",
      "2                    RUS  \n",
      "1                    VNM  \n",
      "3                    ETH  \n",
      "4                    NAM  \n",
      "2                    NGA  \n",
      "1                    BGR  \n",
      "1                    CHL  \n",
      "1                    CUB  \n",
      "1                    CZE  \n",
      "1                    HUN  \n",
      "1                    IDN  \n",
      "1                    IRN  \n",
      "1                    ISR  \n",
      "1                    JOR  \n",
      "1                    LBN  \n",
      "1                    MAR  \n",
      "1                    MMR  \n",
      "1                    PAK  \n",
      "1                    POL  \n",
      "1                    PRT  \n",
      "1                    ESP  \n",
      "1                    SRB  \n",
      "1                    SYR  \n",
      "1                    TUR  \n",
      "1                    YEM  \n",
      "0                    CMR  \n",
      "0                    IND  \n",
      "0                    KEN  \n",
      "0                    KOR  \n",
      "0                    LBY  \n",
      "0                    LKA  \n",
      "0                    TZA  \n",
      "0                    TUN  \n",
      "0                    UGA  \n",
      "    year  displaced   population  percentage_of_population_migration  \\\n",
      "3   1972          6   14427072.0                            0.000042   \n",
      "10  1972       8955    6174262.0                            0.145038   \n",
      "3   1972     129037    3617128.0                            3.567388   \n",
      "6   1972       3275  862030000.0                            0.000380   \n",
      "2   1972        904   21251160.0                            0.004254   \n",
      "3   1972        272   10430164.0                            0.002608   \n",
      "3   1972         39    3939436.0                            0.000990   \n",
      "10  1972       3848   12527856.0                            0.030716   \n",
      "3   1972        401   36258328.0                            0.001106   \n",
      "4   1972        890   20657957.0                            0.004308   \n",
      "9   1972       1165    4220335.0                            0.027604   \n",
      "3   1972        410    2577079.0                            0.015909   \n",
      "3   1972         15    4431292.0                            0.000339   \n",
      "8   1972       3400    8692935.0                            0.039112   \n",
      "6   1972         44    2243126.0                            0.001962   \n",
      "5   1972       2050     586620.0                            0.349460   \n",
      "6   1972       1079    8888628.0                            0.012139   \n",
      "2   1972      20005    4874475.0                            0.410403   \n",
      "3   1972          5   23609456.0                            0.000021   \n",
      "3   1972         43  131909000.0                            0.000033   \n",
      "4   1972        108   29374608.0                            0.000368   \n",
      "5   1972          5     804399.0                            0.000622   \n",
      "3   1972         17   58601748.0                            0.000029   \n",
      "1   1972          5  100146797.0                            0.000005   \n",
      "2   1972        491    8576200.0                            0.005725   \n",
      "2   1972          5   10174678.0                            0.000049   \n",
      "2   1972        185    9123891.0                            0.002028   \n",
      "2   1972       1574    9867632.0                            0.015951   \n",
      "1   1972         10   52962356.0                            0.000019   \n",
      "2   1972       2964   10398489.0                            0.028504   \n",
      "2   1972         34  122039841.0                            0.000028   \n",
      "2   1972         33   30921179.0                            0.000107   \n",
      "2   1972          7    3148000.0                            0.000222   \n",
      "1   1972          5   54381345.0                            0.000009   \n",
      "2   1972        525    1714555.0                            0.030620   \n",
      "2   1972        170    2509729.0                            0.006774   \n",
      "2   1972         27   15924692.0                            0.000170   \n",
      "2   1972       2005   28428324.0                            0.007053   \n",
      "2   1972         12   63583194.0                            0.000019   \n",
      "2   1972       1455   33055650.0                            0.004402   \n",
      "2   1972        184    8630430.0                            0.002132   \n",
      "2   1972         69   34604469.0                            0.000199   \n",
      "2   1972       1266    7252012.0                            0.017457   \n",
      "2   1972        143    6826024.0                            0.002095   \n",
      "2   1972         36   38430221.0                            0.000094   \n",
      "2   1972         15    7460068.0                            0.000201   \n",
      "1   1972          5   12206060.0                            0.000041   \n",
      "1   1972          5    2226091.0                            0.000225   \n",
      "1   1972          5   12809205.0                            0.000039   \n",
      "1   1972         17   14479308.0                            0.000117   \n",
      "1   1972         18    5396557.0                            0.000334   \n",
      "1   1972         63   10885796.0                            0.000579   \n",
      "0   1972          5   11853696.0                            0.000042   \n",
      "0   1972         25   71641519.0                            0.000035   \n",
      "0   1972          6    1938248.0                            0.000310   \n",
      "0   1972          5   56086065.0                            0.000009   \n",
      "0   1972          5    9438187.0                            0.000053   \n",
      "0   1972          5    1599723.0                            0.000313   \n",
      "0   1972          8    5542445.0                            0.000144   \n",
      "\n",
      "   country_of_origin_abbr  \n",
      "3                     DZA  \n",
      "10                    AGO  \n",
      "3                     BDI  \n",
      "6                     CHN  \n",
      "2                     COD  \n",
      "3                     IRQ  \n",
      "3                     SOM  \n",
      "10                    SDN  \n",
      "3                     EGY  \n",
      "4                     ROU  \n",
      "9                     RWA  \n",
      "3                     ARM  \n",
      "3                     GIN  \n",
      "8                     MOZ  \n",
      "6                     ALB  \n",
      "5                     GNB  \n",
      "6                     GRC  \n",
      "2                     MWI  \n",
      "3                     ZAF  \n",
      "3                     RUS  \n",
      "4                     ETH  \n",
      "5                     NAM  \n",
      "3                     NGA  \n",
      "1                     BRA  \n",
      "2                     BGR  \n",
      "2                     CHL  \n",
      "2                     CUB  \n",
      "2                     CZE  \n",
      "1                     FRA  \n",
      "2                     HUN  \n",
      "2                     IDN  \n",
      "2                     IRN  \n",
      "2                     ISR  \n",
      "1                     ITA  \n",
      "2                     JOR  \n",
      "2                     LBN  \n",
      "2                     MAR  \n",
      "2                     MMR  \n",
      "2                     PAK  \n",
      "2                     POL  \n",
      "2                     PRT  \n",
      "2                     ESP  \n",
      "2                     SRB  \n",
      "2                     SYR  \n",
      "2                     TUR  \n",
      "2                     YEM  \n",
      "1                     KEN  \n",
      "1                     LBY  \n",
      "1                     LKA  \n",
      "1                     TZA  \n",
      "1                     TUN  \n",
      "1                     UGA  \n",
      "0                     AFG  \n",
      "0                     BGD  \n",
      "0                     CRI  \n",
      "0                     GBR  \n",
      "0                     GHA  \n",
      "0                     PAN  \n",
      "0                     ZWE  \n",
      "    year  displaced   population  percentage_of_population_migration  \\\n",
      "11  1973       5780    6388528.0                        9.047468e-02   \n",
      "4   1973       2705    3611991.0                        7.488944e-02   \n",
      "7   1973          5  881940000.0                        5.669320e-07   \n",
      "4   1973        786   10795869.0                        7.280563e-03   \n",
      "4   1973          5    4045592.0                        1.235913e-04   \n",
      "11  1973       3090   13049315.0                        2.367940e-02   \n",
      "4   1973        271   37102043.0                        7.304180e-04   \n",
      "5   1973        416   20835681.0                        1.996575e-03   \n",
      "10  1973      10380    4345047.0                        2.388927e-01   \n",
      "4   1973        770    2630860.0                        2.926800e-02   \n",
      "4   1973          8    4506324.0                        1.775283e-04   \n",
      "9   1973       4810    8954242.0                        5.371756e-02   \n",
      "7   1973         35    2296752.0                        1.523891e-03   \n",
      "6   1973       2000     592808.0                        3.373774e-01   \n",
      "7   1973         22    8929086.0                        2.463858e-04   \n",
      "4   1973        250   24294263.0                        1.029050e-03   \n",
      "4   1973         30  132669000.0                        2.261267e-05   \n",
      "5   1973       1869   30166785.0                        6.195556e-03   \n",
      "6   1973       2400     828928.0                        2.895306e-01   \n",
      "4   1973          5   60082139.0                        8.321941e-06   \n",
      "2   1973          5  102600976.0                        4.873248e-06   \n",
      "3   1973        291    8620967.0                        3.375491e-03   \n",
      "3   1973         16   10340362.0                        1.547335e-04   \n",
      "3   1973        374    9922266.0                        3.769300e-03   \n",
      "3   1973       1752   10432055.0                        1.679439e-02   \n",
      "3   1973          6   16326269.0                        3.675059e-05   \n",
      "3   1973          8   65461912.0                        1.222085e-05   \n",
      "3   1973        688   33357200.0                        2.062523e-03   \n",
      "3   1973         66    8633100.0                        7.644994e-04   \n",
      "3   1973         19   34988947.0                        5.430286e-05   \n",
      "3   1973        406    7283902.0                        5.573936e-03   \n",
      "3   1973          5    7060321.0                        7.081831e-05   \n",
      "3   1973         12   39329533.0                        3.051142e-05   \n",
      "3   1973          6    7672796.0                        7.819835e-05   \n",
      "2   1973          5    5537242.0                        9.029766e-05   \n",
      "2   1973        109   11144236.0                        9.780841e-04   \n",
      "1   1973          5   56194527.0                        8.897664e-06   \n",
      "0   1973          8   40294130.0                        1.985401e-05   \n",
      "0   1973          5    2837133.0                        1.762342e-04   \n",
      "0   1973          5   12463537.0                        4.011702e-05   \n",
      "\n",
      "   country_of_origin_abbr  \n",
      "11                    AGO  \n",
      "4                     BDI  \n",
      "7                     CHN  \n",
      "4                     IRQ  \n",
      "4                     SOM  \n",
      "11                    SDN  \n",
      "4                     EGY  \n",
      "5                     ROU  \n",
      "10                    RWA  \n",
      "4                     ARM  \n",
      "4                     GIN  \n",
      "9                     MOZ  \n",
      "7                     ALB  \n",
      "6                     GNB  \n",
      "7                     GRC  \n",
      "4                     ZAF  \n",
      "4                     RUS  \n",
      "5                     ETH  \n",
      "6                     NAM  \n",
      "4                     NGA  \n",
      "2                     BRA  \n",
      "3                     BGR  \n",
      "3                     CHL  \n",
      "3                     CZE  \n",
      "3                     HUN  \n",
      "3                     MAR  \n",
      "3                     PAK  \n",
      "3                     POL  \n",
      "3                     PRT  \n",
      "3                     ESP  \n",
      "3                     SRB  \n",
      "3                     SYR  \n",
      "3                     TUR  \n",
      "3                     YEM  \n",
      "2                     TUN  \n",
      "2                     UGA  \n",
      "1                     GBR  \n",
      "0                     PHL  \n",
      "0                     URY  \n",
      "0                     VEN  \n",
      "    year  displaced   population  percentage_of_population_migration  \\\n",
      "12  1974      52800    6613367.0                        7.983830e-01   \n",
      "8   1974        100  900350000.0                        1.110679e-05   \n",
      "3   1974       1000   22418878.0                        4.460527e-03   \n",
      "5   1974       1365   11167761.0                        1.222268e-02   \n",
      "12  1974        970   13580723.0                        7.142477e-03   \n",
      "5   1974          5   37969667.0                        1.316841e-05   \n",
      "6   1974        536   21029429.0                        2.548809e-03   \n",
      "11  1974      11140    4474228.0                        2.489815e-01   \n",
      "5   1974       1250    2686445.0                        4.652989e-02   \n",
      "5   1974          5    4580510.0                        1.091582e-04   \n",
      "10  1974       7500    9236093.0                        8.120317e-02   \n",
      "8   1974         15    2350124.0                        6.382642e-04   \n",
      "8   1974         17    8962022.0                        1.896893e-04   \n",
      "5   1974        420   24989108.0                        1.680732e-03   \n",
      "5   1974          5  133432000.0                        3.747227e-06   \n",
      "6   1974       3255   30957273.0                        1.051449e-02   \n",
      "7   1974        300     854320.0                        3.511565e-02   \n",
      "4   1974        199    8678745.0                        2.292958e-03   \n",
      "4   1974        343   10505817.0                        3.264858e-03   \n",
      "4   1974        380    9988459.0                        3.804391e-03   \n",
      "4   1974       1204   10478720.0                        1.148995e-02   \n",
      "2   1974          5   55110868.0                        9.072621e-06   \n",
      "4   1974         13   16733842.0                        7.768688e-05   \n",
      "4   1974        401   33678899.0                        1.190656e-03   \n",
      "4   1974         30    8754365.0                        3.426862e-04   \n",
      "4   1974          6   35373335.0                        1.696193e-05   \n",
      "4   1974        383    7326043.0                        5.227925e-03   \n",
      "4   1974          5    7302160.0                        6.847289e-05   \n",
      "4   1974         10   40210234.0                        2.486929e-05   \n",
      "1   1974          5  597041391.0                        8.374629e-07   \n",
      "2   1974         50   15561630.0                        3.213031e-04   \n",
      "3   1974        600   11424846.0                        5.251712e-03   \n",
      "1   1974         95    5908328.0                        1.607900e-03   \n",
      "0   1974          5    5022475.0                        9.955251e-05   \n",
      "0   1974          9     663254.0                        1.356946e-03   \n",
      "0   1974          5    5001796.0                        9.996409e-05   \n",
      "0   1974        130    1172420.0                        1.108818e-02   \n",
      "\n",
      "   country_of_origin_abbr  \n",
      "12                    AGO  \n",
      "8                     CHN  \n",
      "3                     COD  \n",
      "5                     IRQ  \n",
      "12                    SDN  \n",
      "5                     EGY  \n",
      "6                     ROU  \n",
      "11                    RWA  \n",
      "5                     ARM  \n",
      "5                     GIN  \n",
      "10                    MOZ  \n",
      "8                     ALB  \n",
      "8                     GRC  \n",
      "5                     ZAF  \n",
      "5                     RUS  \n",
      "6                     ETH  \n",
      "7                     NAM  \n",
      "4                     BGR  \n",
      "4                     CHL  \n",
      "4                     CZE  \n",
      "4                     HUN  \n",
      "2                     ITA  \n",
      "4                     MAR  \n",
      "4                     POL  \n",
      "4                     PRT  \n",
      "4                     ESP  \n",
      "4                     SRB  \n",
      "4                     SYR  \n",
      "4                     TUR  \n",
      "1                     IND  \n",
      "2                     TZA  \n",
      "3                     UGA  \n",
      "1                     ZWE  \n",
      "0                     BOL  \n",
      "0                     CYP  \n",
      "0                     HTI  \n",
      "0                     LSO  \n",
      "    year  displaced   population  percentage_of_population_migration  \\\n",
      "13  1975      14865    6842947.0                            0.217231   \n",
      "5   1975       1400    3796612.0                            0.036875   \n",
      "4   1975          6   23021101.0                            0.000026   \n",
      "6   1975          5   11543639.0                            0.000043   \n",
      "13  1975        335   14064798.0                            0.002382   \n",
      "6   1975         10   38875327.0                            0.000026   \n",
      "7   1975        316   21293583.0                            0.001484   \n",
      "12  1975        156    4607728.0                            0.003386   \n",
      "9   1975         29    2404831.0                            0.001206   \n",
      "6   1975        312   25690940.0                            0.001214   \n",
      "6   1975         14  134200000.0                            0.000010   \n",
      "2   1975       7589   46482903.0                            0.016326   \n",
      "7   1975      42358   31723252.0                            0.133524   \n",
      "8   1975        690     881032.0                            0.078317   \n",
      "5   1975        165    8720742.0                            0.001892   \n",
      "5   1975        415   10671559.0                            0.003889   \n",
      "5   1975        342   10058620.0                            0.003400   \n",
      "5   1975        867   10540525.0                            0.008225   \n",
      "3   1975         17    3455000.0                            0.000492   \n",
      "3   1975          5    1899055.0                            0.000263   \n",
      "3   1975          8    2693191.0                            0.000297   \n",
      "5   1975          8   17150786.0                            0.000047   \n",
      "4   1975          5   69461175.0                            0.000007   \n",
      "5   1975        470   34015199.0                            0.001382   \n",
      "5   1975         43    9093470.0                            0.000473   \n",
      "5   1975         50   35757900.0                            0.000140   \n",
      "5   1975        458    7368717.0                            0.006215   \n",
      "5   1975         10    7554364.0                            0.000132   \n",
      "5   1975          7   41053126.0                            0.000017   \n",
      "1   1975          6    7397120.0                            0.000081   \n",
      "3   1975          5    5839262.0                            0.000086   \n",
      "4   1975         67   11725240.0                            0.000571   \n",
      "2   1975       5170    6098658.0                            0.084773   \n",
      "1   1975         11    2872320.0                            0.000383   \n",
      "1   1975         80    1213643.0                            0.006592   \n",
      "0   1975      26595    6581371.0                            0.404095   \n",
      "0   1975      57070    3005521.0                            1.898839   \n",
      "\n",
      "   country_of_origin_abbr  \n",
      "13                    AGO  \n",
      "5                     BDI  \n",
      "4                     COD  \n",
      "6                     IRQ  \n",
      "13                    SDN  \n",
      "6                     EGY  \n",
      "7                     ROU  \n",
      "12                    RWA  \n",
      "9                     ALB  \n",
      "6                     ZAF  \n",
      "6                     RUS  \n",
      "2                     VNM  \n",
      "7                     ETH  \n",
      "8                     NAM  \n",
      "5                     BGR  \n",
      "5                     CHL  \n",
      "5                     CZE  \n",
      "5                     HUN  \n",
      "3                     ISR  \n",
      "3                     JOR  \n",
      "3                     LBN  \n",
      "5                     MAR  \n",
      "4                     PAK  \n",
      "5                     POL  \n",
      "5                     PRT  \n",
      "5                     ESP  \n",
      "5                     SRB  \n",
      "5                     SYR  \n",
      "5                     TUR  \n",
      "1                     CMR  \n",
      "3                     TUN  \n",
      "4                     UGA  \n",
      "2                     ZWE  \n",
      "1                     URY  \n",
      "1                     LSO  \n",
      "0                     KHM  \n",
      "0                     LAO  \n",
      "    year  displaced   population  percentage_of_population_migration  \\\n",
      "4   1976          5   16409170.0                            0.000030   \n",
      "14  1976      27575    7074664.0                            0.389771   \n",
      "6   1976      12000    3882626.0                            0.309069   \n",
      "9   1976        141  930685000.0                            0.000015   \n",
      "5   1976         74   23624031.0                            0.000313   \n",
      "..   ...        ...          ...                                 ...   \n",
      "0   1976          5    2348566.0                            0.000213   \n",
      "0   1976          5    7057958.0                            0.000071   \n",
      "0   1976          5   11750097.0                            0.000043   \n",
      "0   1976          5   15716809.0                            0.000032   \n",
      "0   1976          6    3028820.0                            0.000198   \n",
      "\n",
      "   country_of_origin_abbr  \n",
      "4                     DZA  \n",
      "14                    AGO  \n",
      "6                     BDI  \n",
      "9                     CHN  \n",
      "5                     COD  \n",
      "..                    ...  \n",
      "0                     CAF  \n",
      "0                     CIV  \n",
      "0                     MYS  \n",
      "0                     PER  \n",
      "0                     SLE  \n",
      "\n",
      "[61 rows x 5 columns]\n",
      "    year  displaced   population  percentage_of_population_migration  \\\n",
      "5   1977         11   17015994.0                            0.000065   \n",
      "15  1977       1766    7317829.0                            0.024133   \n",
      "7   1977          5    3983582.0                            0.000126   \n",
      "6   1977     220721   24229061.0                            0.910976   \n",
      "8   1977        123   12331046.0                            0.000997   \n",
      "8   1977        276   40748870.0                            0.000677   \n",
      "9   1977        623   21756096.0                            0.002864   \n",
      "13  1977        373    4888240.0                            0.007631   \n",
      "3   1977        700    5614983.0                            0.012467   \n",
      "8   1977       1205   27118952.0                            0.004443   \n",
      "8   1977         27  136100000.0                            0.000020   \n",
      "4   1977      12902   48954872.0                            0.026355   \n",
      "9   1977      42226   33167272.0                            0.127312   \n",
      "10  1977       5050     931104.0                            0.542367   \n",
      "6   1977         27   67234590.0                            0.000040   \n",
      "7   1977         25    8804183.0                            0.000284   \n",
      "7   1977        810   11005519.0                            0.007360   \n",
      "4   1977          5    9648440.0                            0.000052   \n",
      "7   1977        557   10186755.0                            0.005468   \n",
      "7   1977        756   10648031.0                            0.007100   \n",
      "4   1977         31   35933181.0                            0.000086   \n",
      "5   1977        663    2019002.0                            0.032838   \n",
      "5   1977       1303    2762155.0                            0.047173   \n",
      "7   1977         20   18014756.0                            0.000111   \n",
      "6   1977       4893   73901827.0                            0.006621   \n",
      "7   1977        820   34689050.0                            0.002364   \n",
      "7   1977         13   36511638.0                            0.000036   \n",
      "7   1977        701    7462783.0                            0.009393   \n",
      "7   1977        254    8090501.0                            0.003139   \n",
      "7   1977       1173   42773298.0                            0.002742   \n",
      "3   1977        724  640801103.0                            0.000113   \n",
      "2   1977       1200   14428819.0                            0.008317   \n",
      "3   1977         71   14049371.0                            0.000505   \n",
      "4   1977        305   17352929.0                            0.001758   \n",
      "5   1977          5    6155931.0                            0.000081   \n",
      "6   1977       4259   12359669.0                            0.034459   \n",
      "2   1977         36   13340756.0                            0.000270   \n",
      "2   1977        311   81867264.0                            0.000380   \n",
      "2   1977        518   10911871.0                            0.004747   \n",
      "4   1977      37278    6449512.0                            0.577997   \n",
      "3   1977         64    2909461.0                            0.002200   \n",
      "2   1977          5    5379166.0                            0.000093   \n",
      "2   1977         50    1289967.0                            0.003876   \n",
      "2   1977       8130    5668551.0                            0.143423   \n",
      "2   1977      22950    3118923.0                            0.735831   \n",
      "1   1977         27   26701805.0                            0.000101   \n",
      "1   1977          6    3623202.0                            0.000166   \n",
      "0   1977         50    1482565.0                            0.003373   \n",
      "0   1977         24    2827874.0                            0.000849   \n",
      "\n",
      "   country_of_origin_abbr  \n",
      "5                     DZA  \n",
      "15                    AGO  \n",
      "7                     BDI  \n",
      "6                     COD  \n",
      "8                     IRQ  \n",
      "8                     EGY  \n",
      "9                     ROU  \n",
      "13                    RWA  \n",
      "3                     MWI  \n",
      "8                     ZAF  \n",
      "8                     RUS  \n",
      "4                     VNM  \n",
      "9                     ETH  \n",
      "10                    NAM  \n",
      "6                     NGA  \n",
      "7                     BGR  \n",
      "7                     CHL  \n",
      "4                     CUB  \n",
      "7                     CZE  \n",
      "7                     HUN  \n",
      "4                     IRN  \n",
      "5                     JOR  \n",
      "5                     LBN  \n",
      "7                     MAR  \n",
      "6                     PAK  \n",
      "7                     POL  \n",
      "7                     ESP  \n",
      "7                     SRB  \n",
      "7                     SYR  \n",
      "7                     TUR  \n",
      "3                     IND  \n",
      "2                     KEN  \n",
      "3                     LKA  \n",
      "4                     TZA  \n",
      "5                     TUN  \n",
      "6                     UGA  \n",
      "2                     AFG  \n",
      "2                     BGD  \n",
      "2                     GHA  \n",
      "4                     ZWE  \n",
      "3                     URY  \n",
      "2                     BOL  \n",
      "2                     LSO  \n",
      "2                     KHM  \n",
      "2                     LAO  \n",
      "1                     ARG  \n",
      "1                     BEN  \n",
      "0                     ERI  \n",
      "0                     PRY  \n",
      "    year  displaced   population  percentage_of_population_migration  \\\n",
      "6   1978          5   17506974.0                        2.856005e-05   \n",
      "16  1978     120465    7576734.0                        1.589933e+00   \n",
      "8   1978        930    4100338.0                        2.268106e-02   \n",
      "10  1978          8  956165000.0                        8.366757e-07   \n",
      "7   1978      65768   24992689.0                        2.631490e-01   \n",
      "9   1978        192   12753355.0                        1.505486e-03   \n",
      "6   1978         10    4814892.0                        2.076890e-04   \n",
      "9   1978        389   41761431.0                        9.314815e-04   \n",
      "10  1978        857   21951464.0                        3.904068e-03   \n",
      "14  1978          5    5035171.0                        9.930149e-05   \n",
      "9   1978       1047   27869507.0                        3.756794e-03   \n",
      "9   1978          6  137060000.0                        4.377645e-06   \n",
      "5   1978      77569   50249552.0                        1.543675e-01   \n",
      "10  1978     239264   33734592.0                        7.092542e-01   \n",
      "11  1978      22800     947269.0                        2.406919e+00   \n",
      "8   1978         17    8814032.0                        1.928743e-04   \n",
      "8   1978        815   11172695.0                        7.294569e-03   \n",
      "8   1978        996   10242098.0                        9.724570e-03   \n",
      "8   1978        825   10684822.0                        7.721233e-03   \n",
      "5   1978         54   37126535.0                        1.454485e-04   \n",
      "6   1978        571    2083595.0                        2.740456e-02   \n",
      "6   1978       3160    2822682.0                        1.119503e-01   \n",
      "8   1978         11   18477385.0                        5.953223e-05   \n",
      "3   1978     196000   31972976.0                        6.130177e-01   \n",
      "7   1978       5250   76307379.0                        6.880069e-03   \n",
      "8   1978        940   34965600.0                        2.688357e-03   \n",
      "7   1978         45    9558250.0                        4.707975e-04   \n",
      "8   1978        507    7504017.0                        6.756381e-03   \n",
      "8   1978        373    8372759.0                        4.454923e-03   \n",
      "8   1978       7424   43645306.0                        1.700985e-02   \n",
      "4   1978       4174  655728229.0                        6.365442e-04   \n",
      "4   1978        284   14310128.0                        1.984608e-03   \n",
      "5   1978        200   17976566.0                        1.112560e-03   \n",
      "6   1978          5    6309390.0                        7.924696e-05   \n",
      "7   1978        833   12692113.0                        6.563131e-03   \n",
      "3   1978        141   13611441.0                        1.035893e-03   \n",
      "3   1978       1030   83889655.0                        1.227803e-03   \n",
      "3   1978       1682   11248450.0                        1.495317e-02   \n",
      "5   1978      99890    6543575.0                        1.526536e+00   \n",
      "4   1978        280    2925715.0                        9.570310e-03   \n",
      "3   1978         80    1327240.0                        6.027546e-03   \n",
      "3   1978      95645    5211653.0                        1.835214e+00   \n",
      "3   1978      56050    3171740.0                        1.767169e+00   \n",
      "2   1978        124   27132158.0                        4.570223e-04   \n",
      "1   1978         80    1522378.0                        5.254937e-03   \n",
      "1   1978         10    2899269.0                        3.449145e-04   \n",
      "0   1978          5   24950337.0                        2.003981e-05   \n",
      "0   1978         36     667103.0                        5.396468e-03   \n",
      "0   1978          5     764586.0                        6.539487e-04   \n",
      "0   1978      40500    3080314.0                        1.314801e+00   \n",
      "\n",
      "   country_of_origin_abbr  \n",
      "6                     DZA  \n",
      "16                    AGO  \n",
      "8                     BDI  \n",
      "10                    CHN  \n",
      "7                     COD  \n",
      "9                     IRQ  \n",
      "6                     SOM  \n",
      "9                     EGY  \n",
      "10                    ROU  \n",
      "14                    RWA  \n",
      "9                     ZAF  \n",
      "9                     RUS  \n",
      "5                     VNM  \n",
      "10                    ETH  \n",
      "11                    NAM  \n",
      "8                     BGR  \n",
      "8                     CHL  \n",
      "8                     CZE  \n",
      "8                     HUN  \n",
      "5                     IRN  \n",
      "6                     JOR  \n",
      "6                     LBN  \n",
      "8                     MAR  \n",
      "3                     MMR  \n",
      "7                     PAK  \n",
      "8                     POL  \n",
      "7                     PRT  \n",
      "8                     SRB  \n",
      "8                     SYR  \n",
      "8                     TUR  \n",
      "4                     IND  \n",
      "4                     LKA  \n",
      "5                     TZA  \n",
      "6                     TUN  \n",
      "7                     UGA  \n",
      "3                     AFG  \n",
      "3                     BGD  \n",
      "3                     GHA  \n",
      "5                     ZWE  \n",
      "4                     URY  \n",
      "3                     LSO  \n",
      "3                     KHM  \n",
      "3                     LAO  \n",
      "2                     ARG  \n",
      "1                     ERI  \n",
      "1                     PRY  \n",
      "0                     COL  \n",
      "0                     GMB  \n",
      "0                     GUY  \n",
      "0                     NIC  \n",
      "    year  displaced  population  percentage_of_population_migration  \\\n",
      "7   1979          9  18036655.0                            0.000050   \n",
      "17  1979      16049   7847207.0                            0.204519   \n",
      "9   1979        217   4203530.0                            0.005162   \n",
      "8   1979        195  25886782.0                            0.000753   \n",
      "10  1979       2950  13170365.0                            0.022399   \n",
      "..   ...        ...         ...                                 ...   \n",
      "0   1979          5   5589690.0                            0.000089   \n",
      "0   1979          5   7948869.0                            0.000063   \n",
      "0   1979          5     95490.0                            0.005236   \n",
      "0   1979          5   1872713.0                            0.000267   \n",
      "0   1979          5   2383500.0                            0.000210   \n",
      "\n",
      "   country_of_origin_abbr  \n",
      "7                     DZA  \n",
      "17                    AGO  \n",
      "9                     BDI  \n",
      "8                     COD  \n",
      "10                    IRQ  \n",
      "..                    ...  \n",
      "0                     DOM  \n",
      "0                     ECU  \n",
      "0                     GRD  \n",
      "0                     LBR  \n",
      "0                     SGP  \n",
      "\n",
      "[61 rows x 5 columns]\n",
      "    year  displaced   population  percentage_of_population_migration  \\\n",
      "8   1980          9   18607174.0                            0.000048   \n",
      "18  1980      37940    8133872.0                            0.466445   \n",
      "10  1980      10960    4383706.0                            0.250017   \n",
      "11  1980         10  981235000.0                            0.000001   \n",
      "9   1980      63672   26711099.0                            0.238373   \n",
      "..   ...        ...          ...                                 ...   \n",
      "0   1980        755    6900212.0                            0.010942   \n",
      "0   1980          5    9006032.0                            0.000056   \n",
      "0   1980      75020    4540382.0                            1.652284   \n",
      "0   1980         71    5845638.0                            0.001215   \n",
      "0   1980         15      63261.0                            0.023711   \n",
      "\n",
      "   country_of_origin_abbr  \n",
      "8                     DZA  \n",
      "18                    AGO  \n",
      "10                    BDI  \n",
      "11                    CHN  \n",
      "9                     COD  \n",
      "..                    ...  \n",
      "0                     GTM  \n",
      "0                     MDG  \n",
      "0                     SLV  \n",
      "0                     SEN  \n",
      "0                     SYC  \n",
      "\n",
      "[68 rows x 5 columns]\n",
      "    year  displaced   population  percentage_of_population_migration  \\\n",
      "9   1981         74   19220704.0                        3.850015e-04   \n",
      "19  1981      18841    8435607.0                        2.233509e-01   \n",
      "11  1981       7862    4566014.0                        1.721852e-01   \n",
      "12  1981          9  993885000.0                        9.055374e-07   \n",
      "9   1981        210    1869759.0                        1.123139e-02   \n",
      "..   ...        ...          ...                                 ...   \n",
      "1   1981         19      64035.0                        2.967127e-02   \n",
      "0   1981         34    7692766.0                        4.419737e-04   \n",
      "0   1981          5     980462.0                        5.099637e-04   \n",
      "0   1981         24    3013043.0                        7.965369e-04   \n",
      "0   1981          5   50189281.0                        9.962287e-06   \n",
      "\n",
      "   country_of_origin_abbr  \n",
      "9                     DZA  \n",
      "19                    AGO  \n",
      "11                    BDI  \n",
      "12                    CHN  \n",
      "9                     COG  \n",
      "..                    ...  \n",
      "1                     SYC  \n",
      "0                     MLI  \n",
      "0                     MUS  \n",
      "0                     TGO  \n",
      "0                     UKR  \n",
      "\n",
      "[79 rows x 5 columns]\n",
      "    year  displaced    population  percentage_of_population_migration  \\\n",
      "10  1982         49  1.987235e+07                            0.000247   \n",
      "20  1982      43528  8.751648e+06                            0.497369   \n",
      "12  1982       7057  4.681390e+06                            0.150746   \n",
      "13  1982         28  1.008630e+09                            0.000003   \n",
      "10  1982        141  1.910430e+06                            0.007381   \n",
      "..   ...        ...           ...                                 ...   \n",
      "0   1982          5  7.268800e+04                            0.006879   \n",
      "0   1982         15  3.222160e+05                            0.004655   \n",
      "0   1982          5  1.561176e+06                            0.000320   \n",
      "0   1982          5  7.043326e+07                            0.000007   \n",
      "0   1982         20  1.025080e+05                            0.019511   \n",
      "\n",
      "   country_of_origin_abbr  \n",
      "10                    DZA  \n",
      "20                    AGO  \n",
      "12                    BDI  \n",
      "13                    CHN  \n",
      "10                    COG  \n",
      "..                    ...  \n",
      "0                     DMA  \n",
      "0                     GNQ  \n",
      "0                     MRT  \n",
      "0                     MEX  \n",
      "0                     STP  \n",
      "\n",
      "[93 rows x 5 columns]\n",
      "    year  displaced    population  percentage_of_population_migration  \\\n",
      "11  1983         71  2.055812e+07                            0.000345   \n",
      "21  1983       1026  9.082983e+06                            0.011296   \n",
      "14  1983        203  1.023310e+09                            0.000020   \n",
      "11  1983        231  1.950321e+06                            0.011844   \n",
      "12  1983      26177  2.925096e+07                            0.089491   \n",
      "..   ...        ...           ...                                 ...   \n",
      "0   1983          5  8.110050e+05                            0.000617   \n",
      "0   1983         13  4.078174e+06                            0.000319   \n",
      "0   1983          5  1.668912e+07                            0.000030   \n",
      "0   1983          5  3.787460e+05                            0.001320   \n",
      "0   1983         10  4.842331e+07                            0.000021   \n",
      "\n",
      "   country_of_origin_abbr  \n",
      "11                    DZA  \n",
      "21                    AGO  \n",
      "14                    CHN  \n",
      "11                    COG  \n",
      "12                    COD  \n",
      "..                    ...  \n",
      "0                     GAB  \n",
      "0                     HND  \n",
      "0                     NPL  \n",
      "0                     SUR  \n",
      "0                     THA  \n",
      "\n",
      "[97 rows x 5 columns]\n",
      "    year  displaced    population  percentage_of_population_migration  \\\n",
      "12  1984         57  2.127197e+07                            0.000268   \n",
      "22  1984      60134  9.425917e+06                            0.637964   \n",
      "13  1984       5786  4.926465e+06                            0.117447   \n",
      "15  1984        515  1.036825e+09                            0.000050   \n",
      "12  1984        108  1.999528e+06                            0.005401   \n",
      "..   ...        ...           ...                                 ...   \n",
      "1   1984         82  7.772256e+06                            0.001055   \n",
      "1   1984          5  8.335010e+05                            0.000600   \n",
      "1   1984        306  3.821930e+05                            0.080064   \n",
      "0   1984          6  6.909971e+06                            0.000087   \n",
      "0   1984          5  3.405198e+06                            0.000147   \n",
      "\n",
      "   country_of_origin_abbr  \n",
      "12                    DZA  \n",
      "22                    AGO  \n",
      "13                    BDI  \n",
      "15                    CHN  \n",
      "12                    COG  \n",
      "..                    ...  \n",
      "1                     BFA  \n",
      "1                     GAB  \n",
      "1                     SUR  \n",
      "0                     NER  \n",
      "0                     PNG  \n",
      "\n",
      "[96 rows x 5 columns]\n",
      "    year  displaced    population  percentage_of_population_migration  \\\n",
      "13  1985         54  2.200854e+07                            0.000245   \n",
      "23  1985      57044  9.779120e+06                            0.583324   \n",
      "14  1985       6015  5.034042e+06                            0.119486   \n",
      "16  1985        264  1.051040e+09                            0.000025   \n",
      "13  1985        365  2.059311e+06                            0.017724   \n",
      "..   ...        ...           ...                                 ...   \n",
      "2   1985        114  7.999935e+06                            0.001425   \n",
      "1   1985         11  5.027075e+07                            0.000022   \n",
      "1   1985          5  7.118457e+06                            0.000070   \n",
      "0   1985          8  3.883520e+05                            0.002060   \n",
      "0   1985          5  5.456200e+06                            0.000092   \n",
      "\n",
      "   country_of_origin_abbr  \n",
      "13                    DZA  \n",
      "23                    AGO  \n",
      "14                    BDI  \n",
      "16                    CHN  \n",
      "13                    COG  \n",
      "..                    ...  \n",
      "2                     BFA  \n",
      "1                     THA  \n",
      "1                     NER  \n",
      "0                     COM  \n",
      "0                     HKG  \n",
      "\n",
      "[87 rows x 5 columns]\n",
      "    year  displaced    population  percentage_of_population_migration  \\\n",
      "14  1986         95  2.274550e+07                            0.000418   \n",
      "24  1986      39857  1.013945e+07                            0.393088   \n",
      "15  1986      12735  5.129414e+06                            0.248274   \n",
      "17  1986        398  1.066790e+09                            0.000037   \n",
      "14  1986        279  2.120602e+06                            0.013157   \n",
      "..   ...        ...           ...                                 ...   \n",
      "2   1986          5  3.923300e+05                            0.001274   \n",
      "2   1986         25  5.117783e+07                            0.000049   \n",
      "2   1986          7  7.335811e+06                            0.000095   \n",
      "1   1986          7  3.993180e+05                            0.001753   \n",
      "0   1986          5  4.462860e+05                            0.001120   \n",
      "\n",
      "   country_of_origin_abbr  \n",
      "14                    DZA  \n",
      "24                    AGO  \n",
      "15                    BDI  \n",
      "17                    CHN  \n",
      "14                    COG  \n",
      "..                    ...  \n",
      "2                     SUR  \n",
      "2                     THA  \n",
      "2                     NER  \n",
      "1                     COM  \n",
      "0                     BHR  \n",
      "\n",
      "[98 rows x 5 columns]\n",
      "    year  displaced    population  percentage_of_population_migration  \\\n",
      "15  1987        151  2.344362e+07                            0.000644   \n",
      "25  1987      30087  1.049786e+07                            0.286601   \n",
      "16  1987       9596  5.247787e+06                            0.182858   \n",
      "18  1987       1500  1.084035e+09                            0.000138   \n",
      "15  1987        333  2.183473e+06                            0.015251   \n",
      "..   ...        ...           ...                                 ...   \n",
      "3   1987       1270  3.969110e+05                            0.319971   \n",
      "3   1987          9  5.207410e+07                            0.000017   \n",
      "3   1987          5  7.561150e+06                            0.000066   \n",
      "2   1987          5  4.104390e+05                            0.001218   \n",
      "1   1987          5  4.628540e+05                            0.001080   \n",
      "\n",
      "   country_of_origin_abbr  \n",
      "15                    DZA  \n",
      "25                    AGO  \n",
      "16                    BDI  \n",
      "18                    CHN  \n",
      "15                    COG  \n",
      "..                    ...  \n",
      "3                     SUR  \n",
      "3                     THA  \n",
      "3                     NER  \n",
      "2                     COM  \n",
      "1                     BHR  \n",
      "\n",
      "[94 rows x 5 columns]\n",
      "    year  displaced    population  percentage_of_population_migration  \\\n",
      "16  1988        438  2.410954e+07                            0.001817   \n",
      "26  1988      15910  1.086129e+07                            0.146484   \n",
      "17  1988      55646  5.365327e+06                            1.037141   \n",
      "19  1988        509  1.101630e+09                            0.000046   \n",
      "16  1988        533  2.247653e+06                            0.023714   \n",
      "..   ...        ...           ...                                 ...   \n",
      "4   1988          6  7.793748e+06                            0.000077   \n",
      "3   1988          7  4.216870e+05                            0.001660   \n",
      "2   1988          5  4.799290e+05                            0.001042   \n",
      "0   1988         12  1.225780e+08                            0.000010   \n",
      "0   1988          5  2.444990e+08                            0.000002   \n",
      "\n",
      "   country_of_origin_abbr  \n",
      "16                    DZA  \n",
      "26                    AGO  \n",
      "17                    BDI  \n",
      "19                    CHN  \n",
      "16                    COG  \n",
      "..                    ...  \n",
      "4                     NER  \n",
      "3                     COM  \n",
      "2                     BHR  \n",
      "0                     JPN  \n",
      "0                     USA  \n",
      "\n",
      "[99 rows x 5 columns]\n",
      "    year  displaced    population  percentage_of_population_migration  \\\n",
      "17  1989        633  2.475448e+07                            0.002557   \n",
      "27  1989      12553  1.123856e+07                            0.111696   \n",
      "18  1989        429  5.471706e+06                            0.007840   \n",
      "20  1989       3539  1.118650e+09                            0.000316   \n",
      "17  1989        962  2.313558e+06                            0.041581   \n",
      "..   ...        ...           ...                                 ...   \n",
      "0   1989          5  1.012839e+07                            0.000049   \n",
      "0   1989          5  2.315400e+04                            0.021595   \n",
      "0   1989          5  8.378000e+05                            0.000597   \n",
      "0   1989          5  6.646912e+06                            0.000075   \n",
      "0   1989         10  1.789851e+06                            0.000559   \n",
      "\n",
      "   country_of_origin_abbr  \n",
      "17                    DZA  \n",
      "27                    AGO  \n",
      "18                    BDI  \n",
      "20                    CHN  \n",
      "17                    COG  \n",
      "..                    ...  \n",
      "0                     SAU  \n",
      "0                     SMR  \n",
      "0                     SWZ  \n",
      "0                     CHE  \n",
      "0                     ARE  \n",
      "\n",
      "[123 rows x 5 columns]\n",
      "    year  displaced    population  percentage_of_population_migration  \\\n",
      "18  1990       1772  2.537581e+07                            0.006983   \n",
      "28  1990      13644  1.162636e+07                            0.117354   \n",
      "19  1990         89  5.587052e+06                            0.001593   \n",
      "21  1990       8405  1.135185e+09                            0.000740   \n",
      "18  1990       1154  2.380560e+06                            0.048476   \n",
      "..   ...        ...           ...                                 ...   \n",
      "0   1990          8  5.299187e+06                            0.000151   \n",
      "0   1990          5  8.558835e+06                            0.000058   \n",
      "0   1990        334  1.252208e+06                            0.026673   \n",
      "0   1990          5  2.046496e+07                            0.000024   \n",
      "0   1990         35  1.118120e+05                            0.031303   \n",
      "\n",
      "   country_of_origin_abbr  \n",
      "18                    DZA  \n",
      "28                    AGO  \n",
      "19                    BDI  \n",
      "21                    CHN  \n",
      "18                    COG  \n",
      "..                    ...  \n",
      "0                     SVK  \n",
      "0                     SWE  \n",
      "0                     TTO  \n",
      "0                     UZB  \n",
      "0                     VCT  \n",
      "\n",
      "[142 rows x 5 columns]\n",
      "    year  displaced    population  percentage_of_population_migration  \\\n",
      "19  1991       2119  2.598793e+07                            0.008154   \n",
      "29  1991      16856  1.202353e+07                            0.140192   \n",
      "20  1991      37953  5.703857e+06                            0.665392   \n",
      "22  1991       8785  1.150780e+09                            0.000763   \n",
      "19  1991       1244  2.449229e+06                            0.050791   \n",
      "..   ...        ...           ...                                 ...   \n",
      "0   1991          8  4.835900e+06                            0.000165   \n",
      "0   1991          6  2.577970e+05                            0.002327   \n",
      "0   1991          5  3.534235e+06                            0.000141   \n",
      "0   1991          6  2.142864e+07                            0.000028   \n",
      "0   1991          5  4.035800e+04                            0.012389   \n",
      "\n",
      "   country_of_origin_abbr  \n",
      "19                    DZA  \n",
      "29                    AGO  \n",
      "20                    BDI  \n",
      "22                    CHN  \n",
      "19                    COG  \n",
      "..                    ...  \n",
      "0                     GEO  \n",
      "0                     ISL  \n",
      "0                     IRL  \n",
      "0                     PRK  \n",
      "0                     KNA  \n",
      "\n",
      "[147 rows x 5 columns]\n",
      "    year  displaced    population  percentage_of_population_migration  \\\n",
      "20  1992       9154  2.662857e+07                            0.034377   \n",
      "30  1992       3300  1.242371e+07                            0.026562   \n",
      "21  1992       7900  5.858407e+06                            0.134849   \n",
      "23  1992      12461  1.164970e+09                            0.001070   \n",
      "20  1992        446  2.519465e+06                            0.017702   \n",
      "..   ...        ...           ...                                 ...   \n",
      "0   1992         17  4.515400e+06                            0.000376   \n",
      "0   1992       1310  2.980965e+06                            0.043946   \n",
      "0   1992         60  1.996498e+06                            0.003005   \n",
      "0   1992         68  5.649400e+06                            0.001204   \n",
      "0   1992         10  3.944689e+06                            0.000254   \n",
      "\n",
      "   country_of_origin_abbr  \n",
      "20                    DZA  \n",
      "30                    AGO  \n",
      "21                    BDI  \n",
      "23                    CHN  \n",
      "20                    COG  \n",
      "..                    ...  \n",
      "0                     KGZ  \n",
      "0                     MDA  \n",
      "0                     SVN  \n",
      "0                     TJK  \n",
      "0                     TKM  \n",
      "\n",
      "[150 rows x 5 columns]\n",
      "    year  displaced    population  percentage_of_population_migration  \\\n",
      "21  1993      14184  2.727705e+07                            0.052000   \n",
      "31  1993      14247  1.282714e+07                            0.111069   \n",
      "22  1993      83207  5.676843e+06                            1.465727   \n",
      "24  1993      22445  1.178440e+09                            0.001905   \n",
      "21  1993        503  2.595124e+06                            0.019383   \n",
      "..   ...        ...           ...                                 ...   \n",
      "1   1993       1221  2.975966e+06                            0.041029   \n",
      "1   1993         84  1.991746e+06                            0.004217   \n",
      "1   1993        197  5.724993e+06                            0.003441   \n",
      "1   1993         15  4.032407e+06                            0.000372   \n",
      "0   1993          9  2.021675e+06                            0.000445   \n",
      "\n",
      "   country_of_origin_abbr  \n",
      "21                    DZA  \n",
      "31                    AGO  \n",
      "22                    BDI  \n",
      "24                    CHN  \n",
      "21                    COG  \n",
      "..                    ...  \n",
      "1                     MDA  \n",
      "1                     SVN  \n",
      "1                     TJK  \n",
      "1                     TKM  \n",
      "0                     OMN  \n",
      "\n",
      "[143 rows x 5 columns]\n",
      "    year  displaced    population  percentage_of_population_migration  \\\n",
      "22  1994       8396  2.788728e+07                            0.030107   \n",
      "32  1994       8326  1.324976e+07                            0.062839   \n",
      "23  1994     113160  5.713854e+06                            1.980450   \n",
      "25  1994      15940  1.191835e+09                            0.001337   \n",
      "22  1994        513  2.673144e+06                            0.019191   \n",
      "..   ...        ...           ...                                 ...   \n",
      "2   1994        972  2.966745e+06                            0.032763   \n",
      "2   1994         37  1.989443e+06                            0.001860   \n",
      "2   1994        410  5.825368e+06                            0.007038   \n",
      "2   1994          8  4.116662e+06                            0.000194   \n",
      "0   1994         13  4.994590e+05                            0.002603   \n",
      "\n",
      "   country_of_origin_abbr  \n",
      "22                    DZA  \n",
      "32                    AGO  \n",
      "23                    BDI  \n",
      "25                    CHN  \n",
      "22                    COG  \n",
      "..                    ...  \n",
      "2                     MDA  \n",
      "2                     SVN  \n",
      "2                     TJK  \n",
      "2                     TKM  \n",
      "0                     QAT  \n",
      "\n",
      "[148 rows x 5 columns]\n",
      "    year  displaced    population  percentage_of_population_migration  \\\n",
      "23  1995       9522  2.847019e+07                            0.033446   \n",
      "33  1995       6477  1.369978e+07                            0.047278   \n",
      "24  1995        969  6.066316e+06                            0.015973   \n",
      "26  1995       9529  1.204855e+09                            0.000791   \n",
      "23  1995        350  2.749461e+06                            0.012730   \n",
      "..   ...        ...           ...                                 ...   \n",
      "3   1995       1315  2.953200e+06                            0.044528   \n",
      "3   1995         53  1.989872e+06                            0.002663   \n",
      "3   1995       1099  5.948584e+06                            0.018475   \n",
      "3   1995         15  4.191203e+06                            0.000358   \n",
      "0   1995          5  5.233373e+06                            0.000096   \n",
      "\n",
      "   country_of_origin_abbr  \n",
      "23                    DZA  \n",
      "33                    AGO  \n",
      "24                    BDI  \n",
      "26                    CHN  \n",
      "23                    COG  \n",
      "..                    ...  \n",
      "3                     MDA  \n",
      "3                     SVN  \n",
      "3                     TJK  \n",
      "3                     TKM  \n",
      "0                     DNK  \n",
      "\n",
      "[150 rows x 5 columns]\n",
      "    year  displaced    population  percentage_of_population_migration  \\\n",
      "24  1996       5876  2.903304e+07                            0.020239   \n",
      "34  1996      42335  1.417097e+07                            0.298744   \n",
      "25  1996     147003  6.070506e+06                            2.421594   \n",
      "27  1996      10734  1.217550e+09                            0.000882   \n",
      "24  1996        365  2.826785e+06                            0.012912   \n",
      "..   ...        ...           ...                                 ...   \n",
      "4   1996       1717  2.947293e+06                            0.058257   \n",
      "4   1996         35  1.988628e+06                            0.001760   \n",
      "4   1996        594  6.066523e+06                            0.009791   \n",
      "4   1996         54  4.263819e+06                            0.001266   \n",
      "0   1996        184  1.002750e+05                            0.183495   \n",
      "\n",
      "   country_of_origin_abbr  \n",
      "24                    DZA  \n",
      "34                    AGO  \n",
      "25                    BDI  \n",
      "27                    CHN  \n",
      "24                    COG  \n",
      "..                    ...  \n",
      "4                     MDA  \n",
      "4                     SVN  \n",
      "4                     TJK  \n",
      "4                     TKM  \n",
      "0                     TON  \n",
      "\n",
      "[147 rows x 5 columns]\n",
      "    year  displaced    population  percentage_of_population_migration  \\\n",
      "25  1997       8006  2.957930e+07                            0.027066   \n",
      "35  1997       2814  1.466041e+07                            0.019195   \n",
      "26  1997     136234  6.070042e+06                            2.244367   \n",
      "28  1997      11406  1.230075e+09                            0.000927   \n",
      "25  1997      33937  2.887862e+06                            1.175160   \n",
      "..   ...        ...           ...                                 ...   \n",
      "5   1997        205  6.139829e+06                            0.003339   \n",
      "5   1997         27  4.336730e+06                            0.000623   \n",
      "1   1997        186  1.006740e+05                            0.184755   \n",
      "0   1997          5  3.827910e+05                            0.001306   \n",
      "0   1997          7  1.775470e+05                            0.003943   \n",
      "\n",
      "   country_of_origin_abbr  \n",
      "25                    DZA  \n",
      "35                    AGO  \n",
      "26                    BDI  \n",
      "28                    CHN  \n",
      "25                    COG  \n",
      "..                    ...  \n",
      "5                     TJK  \n",
      "5                     TKM  \n",
      "1                     TON  \n",
      "0                     MLT  \n",
      "0                     WSM  \n",
      "\n",
      "[153 rows x 5 columns]\n",
      "    year  displaced    population  percentage_of_population_migration  \\\n",
      "26  1998       9396  3.005413e+07                            0.031264   \n",
      "36  1998      36147  1.515937e+07                            0.238447   \n",
      "27  1998      30244  6.187108e+06                            0.488823   \n",
      "29  1998      11616  1.241935e+09                            0.000935   \n",
      "26  1998       9974  2.952061e+06                            0.337866   \n",
      "..   ...        ...           ...                                 ...   \n",
      "6   1998         51  1.981629e+06                            0.002574   \n",
      "6   1998       5408  6.176397e+06                            0.087559   \n",
      "6   1998         22  4.410507e+06                            0.000499   \n",
      "1   1998          5  5.805400e+05                            0.000861   \n",
      "0   1998          5  5.153498e+06                            0.000097   \n",
      "\n",
      "   country_of_origin_abbr  \n",
      "26                    DZA  \n",
      "36                    AGO  \n",
      "27                    BDI  \n",
      "29                    CHN  \n",
      "26                    COG  \n",
      "..                    ...  \n",
      "6                     SVN  \n",
      "6                     TJK  \n",
      "6                     TKM  \n",
      "1                     QAT  \n",
      "0                     FIN  \n",
      "\n",
      "[158 rows x 5 columns]\n",
      "    year  displaced    population  percentage_of_population_migration  \\\n",
      "27  1999       8753  3.047435e+07                            0.028723   \n",
      "37  1999      37745  1.566724e+07                            0.240917   \n",
      "28  1999      65025  6.337155e+06                            1.026091   \n",
      "30  1999      18402  1.252735e+09                            0.001469   \n",
      "27  1999      63677  3.032874e+06                            2.099560   \n",
      "..   ...        ...           ...                                 ...   \n",
      "7   1999        493  6.208370e+06                            0.007941   \n",
      "7   1999         38  4.492170e+06                            0.000846   \n",
      "2   1999         15  1.020460e+05                            0.014699   \n",
      "1   1999          5  1.802750e+05                            0.002774   \n",
      "0   1999     280000  8.346970e+05                           33.545107   \n",
      "\n",
      "   country_of_origin_abbr  \n",
      "27                    DZA  \n",
      "37                    AGO  \n",
      "28                    BDI  \n",
      "30                    CHN  \n",
      "27                    COG  \n",
      "..                    ...  \n",
      "7                     TJK  \n",
      "7                     TKM  \n",
      "2                     TON  \n",
      "1                     WSM  \n",
      "0                     TLS  \n",
      "\n",
      "[159 rows x 5 columns]\n",
      "    year  displaced    population  percentage_of_population_migration  \\\n",
      "28  2000       8681  3.090389e+07                            0.028090   \n",
      "38  2000      73719  1.619487e+07                            0.455200   \n",
      "29  2000      83103  6.470194e+06                            1.284397   \n",
      "31  2000      33108  1.262645e+09                            0.002622   \n",
      "28  2000      10066  3.151345e+06                            0.319419   \n",
      "..   ...        ...           ...                                 ...   \n",
      "3   2000         32  1.026770e+05                            0.031166   \n",
      "1   2000          5  3.900870e+05                            0.001282   \n",
      "2   2000          5  1.816850e+05                            0.002752   \n",
      "1   2000          6  5.176209e+06                            0.000116   \n",
      "0   2000         24  4.404690e+05                            0.005449   \n",
      "\n",
      "   country_of_origin_abbr  \n",
      "28                    DZA  \n",
      "38                    AGO  \n",
      "29                    BDI  \n",
      "31                    CHN  \n",
      "28                    COG  \n",
      "..                    ...  \n",
      "3                     TON  \n",
      "1                     MLT  \n",
      "2                     WSM  \n",
      "1                     FIN  \n",
      "0                     SLB  \n",
      "\n",
      "[173 rows x 5 columns]\n",
      "    year  displaced    population  percentage_of_population_migration  \\\n",
      "29  2001      11265  3.133122e+07                            0.035955   \n",
      "39  2001      55651  1.674721e+07                            0.332300   \n",
      "30  2001      19738  6.634365e+06                            0.297512   \n",
      "32  2001      32608  1.271850e+09                            0.002564   \n",
      "29  2001       4967  3.272537e+06                            0.151778   \n",
      "..   ...        ...           ...                                 ...   \n",
      "4   2001         98  1.032880e+05                            0.094880   \n",
      "2   2001          8  5.188008e+06                            0.000154   \n",
      "1   2001         12  4.491250e+05                            0.002672   \n",
      "0   2001          5  9.033500e+04                            0.005535   \n",
      "0   2001         10  4.339000e+05                            0.002305   \n",
      "\n",
      "   country_of_origin_abbr  \n",
      "29                    DZA  \n",
      "39                    AGO  \n",
      "30                    BDI  \n",
      "32                    CHN  \n",
      "29                    COG  \n",
      "..                    ...  \n",
      "4                     TON  \n",
      "2                     FIN  \n",
      "1                     SLB  \n",
      "0                     KIR  \n",
      "0                     MAC  \n",
      "\n",
      "[174 rows x 5 columns]\n",
      "    year  displaced    population  percentage_of_population_migration  \\\n",
      "30  2002      10158  3.175084e+07                            0.031993   \n",
      "40  2002      22314  1.732770e+07                            0.128776   \n",
      "31  2002      35735  6.824132e+06                            0.523656   \n",
      "33  2002      44237  1.280400e+09                            0.003455   \n",
      "30  2002      13175  3.350771e+06                            0.393193   \n",
      "..   ...        ...           ...                                 ...   \n",
      "2   2002         13  4.576710e+05                            0.002840   \n",
      "1   2002          5  4.384000e+05                            0.001141   \n",
      "0   2002          5  6.214200e+04                            0.008046   \n",
      "0   2002          5  2.783100e+04                            0.017966   \n",
      "0   2002          5  9.623000e+03                            0.051959   \n",
      "\n",
      "   country_of_origin_abbr  \n",
      "30                    DZA  \n",
      "40                    AGO  \n",
      "31                    BDI  \n",
      "33                    CHN  \n",
      "30                    COG  \n",
      "..                    ...  \n",
      "2                     SLB  \n",
      "1                     MAC  \n",
      "0                     BMU  \n",
      "0                     GIB  \n",
      "0                     TUV  \n",
      "\n",
      "[178 rows x 5 columns]\n",
      "    year  displaced    population  percentage_of_population_migration  \\\n",
      "31  2003       8472  3.217582e+07                            0.026330   \n",
      "41  2003       7574  1.794371e+07                            0.042210   \n",
      "32  2003      13892  7.043154e+06                            0.197241   \n",
      "34  2003      36473  1.288400e+09                            0.002831   \n",
      "31  2003       6223  3.445753e+06                            0.180599   \n",
      "..   ...        ...           ...                                 ...   \n",
      "2   2003         38  9.168780e+05                            0.004144   \n",
      "3   2003         17  4.661540e+05                            0.003647   \n",
      "2   2003        242  4.436000e+05                            0.054554   \n",
      "0   2003          5  2.964910e+05                            0.001686   \n",
      "0   2003          5  4.564855e+06                            0.000110   \n",
      "\n",
      "   country_of_origin_abbr  \n",
      "31                    DZA  \n",
      "41                    AGO  \n",
      "32                    BDI  \n",
      "34                    CHN  \n",
      "31                    COG  \n",
      "..                    ...  \n",
      "2                     TLS  \n",
      "3                     SLB  \n",
      "2                     MAC  \n",
      "0                     MDV  \n",
      "0                     NOR  \n",
      "\n",
      "[176 rows x 5 columns]\n",
      "    year  displaced    population  percentage_of_population_migration  \\\n",
      "32  2004       8785  3.262829e+07                            0.026924   \n",
      "42  2004       3326  1.860042e+07                            0.017881   \n",
      "33  2004       9747  7.310656e+06                            0.133326   \n",
      "35  2004      23270  1.296075e+09                            0.001795   \n",
      "32  2004       3472  3.565554e+06                            0.097376   \n",
      "..   ...        ...           ...                                 ...   \n",
      "4   2004          6  4.746110e+05                            0.001264   \n",
      "3   2004          5  4.547000e+05                            0.001100   \n",
      "1   2004          5  6.255500e+04                            0.007993   \n",
      "1   2004         11  3.014130e+05                            0.003649   \n",
      "1   2004         10  4.591910e+06                            0.000218   \n",
      "\n",
      "   country_of_origin_abbr  \n",
      "32                    DZA  \n",
      "42                    AGO  \n",
      "33                    BDI  \n",
      "35                    CHN  \n",
      "32                    COG  \n",
      "..                    ...  \n",
      "4                     SLB  \n",
      "3                     MAC  \n",
      "1                     BMU  \n",
      "1                     MDV  \n",
      "1                     NOR  \n",
      "\n",
      "[172 rows x 5 columns]\n",
      "    year  displaced    population  percentage_of_population_migration  \\\n",
      "33  2005       4484  3.310925e+07                            0.013543   \n",
      "43  2005       2233  1.929116e+07                            0.011575   \n",
      "34  2005      11033  7.587299e+06                            0.145414   \n",
      "36  2005      20295  1.303720e+09                            0.001557   \n",
      "33  2005       3378  3.696393e+06                            0.091386   \n",
      "..   ...        ...           ...                                 ...   \n",
      "8   2005         16  1.056710e+05                            0.015141   \n",
      "4   2005          5  4.038340e+05                            0.001238   \n",
      "6   2005          5  1.869780e+05                            0.002674   \n",
      "4   2005         10  4.735000e+05                            0.002112   \n",
      "2   2005         15  3.064290e+05                            0.004895   \n",
      "\n",
      "   country_of_origin_abbr  \n",
      "33                    DZA  \n",
      "43                    AGO  \n",
      "34                    BDI  \n",
      "36                    CHN  \n",
      "33                    COG  \n",
      "..                    ...  \n",
      "8                     TON  \n",
      "4                     MLT  \n",
      "6                     WSM  \n",
      "4                     MAC  \n",
      "2                     MDV  \n",
      "\n",
      "[166 rows x 5 columns]\n",
      "    year  displaced    population  percentage_of_population_migration  \\\n",
      "34  2006       3874  3.362351e+07                            0.011522   \n",
      "44  2006       2496  2.001528e+07                            0.012470   \n",
      "35  2006       5789  7.865547e+06                            0.073599   \n",
      "37  2006      22495  1.311020e+09                            0.001716   \n",
      "34  2006       4093  3.837409e+06                            0.106661   \n",
      "..   ...        ...           ...                                 ...   \n",
      "9   2006         16  1.062530e+05                            0.015058   \n",
      "3   2006          9  9.765970e+05                            0.000922   \n",
      "5   2006         42  4.915940e+05                            0.008544   \n",
      "2   2006          8  4.660677e+06                            0.000172   \n",
      "0   2006        111  6.150250e+05                            0.018048   \n",
      "\n",
      "   country_of_origin_abbr  \n",
      "34                    DZA  \n",
      "44                    AGO  \n",
      "35                    BDI  \n",
      "37                    CHN  \n",
      "34                    COG  \n",
      "..                    ...  \n",
      "9                     TON  \n",
      "3                     TLS  \n",
      "5                     SLB  \n",
      "2                     NOR  \n",
      "0                     MNE  \n",
      "\n",
      "[169 rows x 5 columns]\n",
      "    year  displaced    population  percentage_of_population_migration  \\\n",
      "35  2007       3101  3.418942e+07                            0.009070   \n",
      "45  2007       1222  2.077856e+07                            0.005881   \n",
      "36  2007       4775  8.161874e+06                            0.058504   \n",
      "38  2007      17939  1.317885e+09                            0.001361   \n",
      "35  2007       2458  3.980430e+06                            0.061752   \n",
      "..   ...        ...           ...                                 ...   \n",
      "10  2007         14  1.067260e+05                            0.013118   \n",
      "4   2007         19  1.004889e+06                            0.001891   \n",
      "6   2007          5  5.001560e+05                            0.001000   \n",
      "3   2007          5  4.709153e+06                            0.000106   \n",
      "1   2007        534  6.158750e+05                            0.086706   \n",
      "\n",
      "   country_of_origin_abbr  \n",
      "35                    DZA  \n",
      "45                    AGO  \n",
      "36                    BDI  \n",
      "38                    CHN  \n",
      "35                    COG  \n",
      "..                    ...  \n",
      "10                    TON  \n",
      "4                     TLS  \n",
      "6                     SLB  \n",
      "3                     NOR  \n",
      "1                     MNE  \n",
      "\n",
      "[168 rows x 5 columns]\n",
      "    year  displaced    population  percentage_of_population_migration  \\\n",
      "36  2008       3999  3.481696e+07                            0.011486   \n",
      "46  2008       1403  2.157866e+07                            0.006502   \n",
      "37  2008       5054  8.505637e+06                            0.059419   \n",
      "39  2008      45810  1.324655e+09                            0.003458   \n",
      "36  2008      10575  4.113517e+06                            0.257079   \n",
      "..   ...        ...           ...                                 ...   \n",
      "7   2008          6  5.493621e+06                            0.000109   \n",
      "11  2008         21  1.070200e+05                            0.019623   \n",
      "7   2008          5  1.901070e+05                            0.002630   \n",
      "5   2008          9  1.032429e+06                            0.000872   \n",
      "2   2008        382  6.169690e+05                            0.061916   \n",
      "\n",
      "   country_of_origin_abbr  \n",
      "36                    DZA  \n",
      "46                    AGO  \n",
      "37                    BDI  \n",
      "39                    CHN  \n",
      "36                    COG  \n",
      "..                    ...  \n",
      "7                     DNK  \n",
      "11                    TON  \n",
      "7                     WSM  \n",
      "5                     TLS  \n",
      "2                     MNE  \n",
      "\n",
      "[170 rows x 5 columns]\n",
      "    year  displaced    population  percentage_of_population_migration  \\\n",
      "37  2009       4098  3.549044e+07                            0.011547   \n",
      "47  2009       1645  2.241477e+07                            0.007339   \n",
      "38  2009       4514  8.947646e+06                            0.050449   \n",
      "40  2009      26739  1.331260e+09                            0.002009   \n",
      "37  2009       4765  4.281219e+06                            0.111300   \n",
      "..   ...        ...           ...                                 ...   \n",
      "12  2009         28  1.072030e+05                            0.026119   \n",
      "5   2009          5  5.338871e+06                            0.000094   \n",
      "3   2009         34  3.482750e+05                            0.009762   \n",
      "3   2009        249  6.182940e+05                            0.040272   \n",
      "0   2009          5  3.236400e+04                            0.015449   \n",
      "\n",
      "   country_of_origin_abbr  \n",
      "37                    DZA  \n",
      "47                    AGO  \n",
      "38                    BDI  \n",
      "40                    CHN  \n",
      "37                    COG  \n",
      "..                    ...  \n",
      "12                    TON  \n",
      "5                     FIN  \n",
      "3                     MDV  \n",
      "3                     MNE  \n",
      "0                     MCO  \n",
      "\n",
      "[170 rows x 5 columns]\n",
      "    year  displaced    population  percentage_of_population_migration  \\\n",
      "38  2010       4438  3.618824e+07                            0.012264   \n",
      "48  2010       1700  2.329482e+07                            0.007298   \n",
      "39  2010       4464  9.376444e+06                            0.047609   \n",
      "41  2010      26167  1.337705e+09                            0.001956   \n",
      "38  2010       2385  4.462290e+06                            0.053448   \n",
      "..   ...        ...           ...                                 ...   \n",
      "5   2010          5  4.145080e+05                            0.001206   \n",
      "6   2010          5  1.084679e+06                            0.000461   \n",
      "7   2010          5  5.329680e+05                            0.000938   \n",
      "5   2010          5  5.370000e+05                            0.000931   \n",
      "4   2010        475  6.194280e+05                            0.076684   \n",
      "\n",
      "   country_of_origin_abbr  \n",
      "38                    DZA  \n",
      "48                    AGO  \n",
      "39                    BDI  \n",
      "41                    CHN  \n",
      "38                    COG  \n",
      "..                    ...  \n",
      "5                     MLT  \n",
      "6                     TLS  \n",
      "7                     SLB  \n",
      "5                     MAC  \n",
      "4                     MNE  \n",
      "\n",
      "[171 rows x 5 columns]\n",
      "    year  displaced    population  percentage_of_population_migration  \\\n",
      "39  2011       4887  3.690338e+07                            0.013243   \n",
      "49  2011       1346  2.421835e+07                            0.005558   \n",
      "40  2011       6110  9.717978e+06                            0.062873   \n",
      "42  2011      30732  1.345035e+09                            0.002285   \n",
      "39  2011       3335  4.609724e+06                            0.072347   \n",
      "..   ...        ...           ...                                 ...   \n",
      "5   2011        672  6.200790e+05                            0.108373   \n",
      "0   2011          5  1.009800e+04                            0.049515   \n",
      "0   2011          5  3.678732e+06                            0.000136   \n",
      "0   2011          5  1.028811e+07                            0.000049   \n",
      "0   2011         18  3.084600e+04                            0.058354   \n",
      "\n",
      "   country_of_origin_abbr  \n",
      "39                    DZA  \n",
      "49                    AGO  \n",
      "40                    BDI  \n",
      "42                    CHN  \n",
      "39                    COG  \n",
      "..                    ...  \n",
      "5                     MNE  \n",
      "0                     NRU  \n",
      "0                     PRI  \n",
      "0                     SSD  \n",
      "0                     TCA  \n",
      "\n",
      "[174 rows x 5 columns]\n",
      "    year  displaced    population  percentage_of_population_migration  \\\n",
      "40  2012       6426  3.764617e+07                            0.017069   \n",
      "50  2012       1626  2.517739e+07                            0.006458   \n",
      "41  2012       7850  1.007103e+07                            0.077946   \n",
      "43  2012      26428  1.354190e+09                            0.001952   \n",
      "40  2012       3102  4.740450e+06                            0.065437   \n",
      "..   ...        ...           ...                                 ...   \n",
      "1   2012          5  1.093400e+04                            0.045729   \n",
      "4   2012         35  3.868180e+05                            0.009048   \n",
      "6   2012       1176  6.206010e+05                            0.189494   \n",
      "1   2012      45714  1.075624e+07                            0.425000   \n",
      "1   2012          5  3.212700e+04                            0.015563   \n",
      "\n",
      "   country_of_origin_abbr  \n",
      "40                    DZA  \n",
      "50                    AGO  \n",
      "41                    BDI  \n",
      "43                    CHN  \n",
      "40                    COG  \n",
      "..                    ...  \n",
      "1                     TUV  \n",
      "4                     MDV  \n",
      "6                     MNE  \n",
      "1                     SSD  \n",
      "1                     TCA  \n",
      "\n",
      "[176 rows x 5 columns]\n",
      "    year  displaced    population  percentage_of_population_migration  \\\n",
      "41  2013       9088  3.841417e+07                            0.023658   \n",
      "51  2013       2098  2.616562e+07                            0.008018   \n",
      "42  2013       5461  1.043934e+07                            0.052312   \n",
      "44  2013      26184  1.363240e+09                            0.001921   \n",
      "41  2013       2874  4.857099e+06                            0.059171   \n",
      "..   ...        ...           ...                                 ...   \n",
      "0   2013          5  5.865500e+04                            0.008524   \n",
      "0   2013         91  1.538220e+05                            0.059159   \n",
      "0   2013          5  1.081210e+05                            0.004624   \n",
      "0   2013          9  5.068100e+04                            0.017758   \n",
      "0   2013          5  1.764800e+04                            0.028332   \n",
      "\n",
      "   country_of_origin_abbr  \n",
      "41                    DZA  \n",
      "51                    AGO  \n",
      "42                    BDI  \n",
      "44                    CHN  \n",
      "41                    COG  \n",
      "..                    ...  \n",
      "0                     CYM  \n",
      "0                     CUW  \n",
      "0                     FSM  \n",
      "0                     MHL  \n",
      "0                     PLW  \n",
      "\n",
      "[182 rows x 5 columns]\n",
      "    year  displaced    population  percentage_of_population_migration  \\\n",
      "42  2014       7034  3.920503e+07                            0.017942   \n",
      "52  2014       1565  2.716077e+07                            0.005762   \n",
      "43  2014       8523  1.079978e+07                            0.078918   \n",
      "45  2014      27950  1.371860e+09                            0.002037   \n",
      "42  2014       3352  4.975880e+06                            0.067365   \n",
      "..   ...        ...           ...                                 ...   \n",
      "6   2014         10  4.136170e+05                            0.002418   \n",
      "6   2014          5  5.137232e+06                            0.000097   \n",
      "8   2014       1503  6.218100e+05                            0.241714   \n",
      "1   2014          5  3.612800e+04                            0.013840   \n",
      "3   2014     501541  1.123507e+07                            4.464065   \n",
      "\n",
      "   country_of_origin_abbr  \n",
      "42                    DZA  \n",
      "52                    AGO  \n",
      "43                    BDI  \n",
      "45                    CHN  \n",
      "42                    COG  \n",
      "..                    ...  \n",
      "6                     MDV  \n",
      "6                     NOR  \n",
      "8                     MNE  \n",
      "1                     MCO  \n",
      "3                     SSD  \n",
      "\n",
      "[177 rows x 5 columns]\n",
      "    year  displaced    population  percentage_of_population_migration  \\\n",
      "43  2015       8299  4.001953e+07                            0.020737   \n",
      "53  2015       2407  2.815780e+07                            0.008548   \n",
      "44  2015     240619  1.104758e+07                            2.178025   \n",
      "46  2015      32002  1.379860e+09                            0.002319   \n",
      "43  2015       3216  5.097581e+06                            0.063089   \n",
      "..   ...        ...           ...                                 ...   \n",
      "7   2015         39  4.281540e+05                            0.009109   \n",
      "7   2015         15  5.188607e+06                            0.000289   \n",
      "9   2015       3740  6.221590e+05                            0.601133   \n",
      "4   2015     164248  1.110756e+07                            1.478704   \n",
      "1   2015          7  1.087160e+05                            0.006439   \n",
      "\n",
      "   country_of_origin_abbr  \n",
      "43                    DZA  \n",
      "53                    AGO  \n",
      "44                    BDI  \n",
      "46                    CHN  \n",
      "43                    COG  \n",
      "..                    ...  \n",
      "7                     MDV  \n",
      "7                     NOR  \n",
      "9                     MNE  \n",
      "4                     SSD  \n",
      "1                     FSM  \n",
      "\n",
      "[180 rows x 5 columns]\n",
      "    year  displaced    population  percentage_of_population_migration  \\\n",
      "44  2016      12198  4.085072e+07                            0.029860   \n",
      "54  2016       3045  2.918307e+07                            0.010434   \n",
      "45  2016     127267  1.123945e+07                            1.132324   \n",
      "47  2016      39191  1.387790e+09                            0.002824   \n",
      "44  2016       3392  5.222536e+06                            0.064949   \n",
      "..   ...        ...           ...                                 ...   \n",
      "8   2016         18  5.234519e+06                            0.000344   \n",
      "10  2016       1630  6.223030e+05                            0.261930   \n",
      "5   2016     739877  1.083010e+07                            6.831672   \n",
      "2   2016          7  1.090750e+05                            0.006418   \n",
      "0   2016          5  2.720870e+05                            0.001838   \n",
      "\n",
      "   country_of_origin_abbr  \n",
      "44                    DZA  \n",
      "54                    AGO  \n",
      "45                    BDI  \n",
      "47                    CHN  \n",
      "44                    COG  \n",
      "..                    ...  \n",
      "8                     NOR  \n",
      "10                    MNE  \n",
      "5                     SSD  \n",
      "2                     FSM  \n",
      "0                     VUT  \n",
      "\n",
      "[181 rows x 5 columns]\n",
      "    year  displaced    population  percentage_of_population_migration  \\\n",
      "45  2017      11025  4.168930e+07                            0.026446   \n",
      "55  2017       4502  3.023484e+07                            0.014890   \n",
      "46  2017      77382  1.150676e+07                            0.672492   \n",
      "48  2017      41385  1.396215e+09                            0.002964   \n",
      "45  2017       3088  5.351011e+06                            0.057709   \n",
      "..   ...        ...           ...                                 ...   \n",
      "11  2017        551  6.223730e+05                            0.088532   \n",
      "6   2017    1005888  1.025915e+07                            9.804785   \n",
      "3   2017          6  1.094810e+05                            0.005480   \n",
      "1   2017         14  2.785070e+05                            0.005027   \n",
      "0   2017          5  5.963360e+05                            0.000838   \n",
      "\n",
      "   country_of_origin_abbr  \n",
      "45                    DZA  \n",
      "55                    AGO  \n",
      "46                    BDI  \n",
      "48                    CHN  \n",
      "45                    COG  \n",
      "..                    ...  \n",
      "11                    MNE  \n",
      "6                     SSD  \n",
      "3                     FSM  \n",
      "1                     VUT  \n",
      "0                     LUX  \n",
      "\n",
      "[182 rows x 5 columns]\n",
      "    year  displaced    population  percentage_of_population_migration  \\\n",
      "46  2018      11451  4.250504e+07                            0.026940   \n",
      "56  2018       3751  3.129716e+07                            0.011985   \n",
      "47  2018      19568  1.185945e+07                            0.164999   \n",
      "49  2018      31219  1.402760e+09                            0.002226   \n",
      "46  2018       1912  5.483118e+06                            0.034871   \n",
      "..   ...        ...           ...                                 ...   \n",
      "10  2018          5  5.311916e+06                            0.000094   \n",
      "12  2018        495  6.222270e+05                            0.079553   \n",
      "7   2018     189126  1.012298e+07                            1.868284   \n",
      "4   2018          8  1.099090e+05                            0.007279   \n",
      "2   2018         32  2.852590e+05                            0.011218   \n",
      "\n",
      "   country_of_origin_abbr  \n",
      "46                    DZA  \n",
      "56                    AGO  \n",
      "47                    BDI  \n",
      "49                    CHN  \n",
      "46                    COG  \n",
      "..                    ...  \n",
      "10                    NOR  \n",
      "12                    MNE  \n",
      "7                     SSD  \n",
      "4                     FSM  \n",
      "2                     VUT  \n",
      "\n",
      "[180 rows x 5 columns]\n",
      "    year  displaced    population  percentage_of_population_migration  \\\n",
      "47  2019      11190  4.329455e+07                            0.025846   \n",
      "57  2019       4405  3.237563e+07                            0.013606   \n",
      "48  2019      26248  1.225534e+07                            0.214176   \n",
      "50  2019      32648  1.407745e+09                            0.002319   \n",
      "47  2019       1896  5.616661e+06                            0.033757   \n",
      "..   ...        ...           ...                                 ...   \n",
      "1   2019          6  1.158700e+04                            0.051782   \n",
      "8   2019      89265  1.042338e+07                            0.856392   \n",
      "5   2019          5  1.102820e+05                            0.004534   \n",
      "3   2019         21  2.919850e+05                            0.007192   \n",
      "0   2019          6  3.856300e+04                            0.015559   \n",
      "\n",
      "   country_of_origin_abbr  \n",
      "47                    DZA  \n",
      "57                    AGO  \n",
      "48                    BDI  \n",
      "50                    CHN  \n",
      "47                    COG  \n",
      "..                    ...  \n",
      "1                     NRU  \n",
      "8                     SSD  \n",
      "5                     FSM  \n",
      "3                     VUT  \n",
      "0                     LIE  \n",
      "\n",
      "[182 rows x 5 columns]\n",
      "    year  displaced    population  percentage_of_population_migration  \\\n",
      "48  2020       7825  4.404209e+07                            0.017767   \n",
      "58  2020       3310  3.345113e+07                            0.009895   \n",
      "49  2020      13064  1.261704e+07                            0.103543   \n",
      "51  2020      22031  1.411100e+09                            0.001561   \n",
      "48  2020       1633  5.752791e+06                            0.028386   \n",
      "..   ...        ...           ...                                 ...   \n",
      "2   2020          8  1.164300e+04                            0.068711   \n",
      "9   2020      77587  1.069847e+07                            0.725216   \n",
      "6   2020          6  1.109160e+05                            0.005409   \n",
      "4   2020         83  2.988580e+05                            0.027772   \n",
      "1   2020          6  3.890100e+04                            0.015424   \n",
      "\n",
      "   country_of_origin_abbr  \n",
      "48                    DZA  \n",
      "58                    AGO  \n",
      "49                    BDI  \n",
      "51                    CHN  \n",
      "48                    COG  \n",
      "..                    ...  \n",
      "2                     NRU  \n",
      "9                     SSD  \n",
      "6                     FSM  \n",
      "4                     VUT  \n",
      "1                     LIE  \n",
      "\n",
      "[175 rows x 5 columns]\n",
      "    year  displaced    population  percentage_of_population_migration  \\\n",
      "49  2021       7821  4.476110e+07                            0.017473   \n",
      "59  2021       2361  3.453243e+07                            0.006837   \n",
      "50  2021      12392  1.296548e+07                            0.095577   \n",
      "52  2021      10217  1.412360e+09                            0.000723   \n",
      "49  2021       1245  5.892183e+06                            0.021130   \n",
      "..   ...        ...           ...                                 ...   \n",
      "12  2021         10  5.408320e+06                            0.000185   \n",
      "15  2021        340  6.192110e+05                            0.054909   \n",
      "10  2021     113338  1.086578e+07                            1.043073   \n",
      "7   2021          5  1.116240e+05                            0.004479   \n",
      "5   2021          5  3.058680e+05                            0.001635   \n",
      "\n",
      "   country_of_origin_abbr  \n",
      "49                    DZA  \n",
      "59                    AGO  \n",
      "50                    BDI  \n",
      "52                    CHN  \n",
      "49                    COG  \n",
      "..                    ...  \n",
      "12                    NOR  \n",
      "15                    MNE  \n",
      "10                    SSD  \n",
      "7                     FSM  \n",
      "5                     VUT  \n",
      "\n",
      "[174 rows x 5 columns]\n",
      "    year  displaced    population  percentage_of_population_migration  \\\n",
      "50  2022      11573  4.547739e+07                            0.025448   \n",
      "60  2022       8194  3.563503e+07                            0.022994   \n",
      "51  2022      21031  1.332110e+07                            0.157877   \n",
      "53  2022      17175  1.412175e+09                            0.001216   \n",
      "50  2022       2384  6.035104e+06                            0.039502   \n",
      "..   ...        ...           ...                                 ...   \n",
      "2   2022          6  4.584700e+04                            0.013087   \n",
      "1   2022          5  1.499960e+05                            0.003333   \n",
      "8   2022          9  1.121140e+05                            0.008028   \n",
      "6   2022        658  3.130460e+05                            0.210193   \n",
      "2   2022          5  3.949300e+04                            0.012660   \n",
      "\n",
      "   country_of_origin_abbr  \n",
      "50                    DZA  \n",
      "60                    AGO  \n",
      "51                    BDI  \n",
      "53                    CHN  \n",
      "50                    COG  \n",
      "..                    ...  \n",
      "2                     TCA  \n",
      "1                     CUW  \n",
      "8                     FSM  \n",
      "6                     VUT  \n",
      "2                     LIE  \n",
      "\n",
      "[190 rows x 5 columns]\n",
      "    year  displaced    population  percentage_of_population_migration  \\\n",
      "51  2023      12545  4.616422e+07                            0.027175   \n",
      "61  2023      12439  3.674991e+07                            0.033848   \n",
      "52  2023      30615  1.368945e+07                            0.223639   \n",
      "54  2023      48133  1.410710e+09                            0.003412   \n",
      "51  2023       4111  6.182885e+06                            0.066490   \n",
      "..   ...        ...           ...                                 ...   \n",
      "1   2023          5  3.205691e+06                            0.000156   \n",
      "12  2023     124298  1.148337e+07                            1.082417   \n",
      "9   2023          6  1.126300e+05                            0.005327   \n",
      "1   2023          5  3.882700e+04                            0.012878   \n",
      "7   2023        966  3.204090e+05                            0.301490   \n",
      "\n",
      "   country_of_origin_abbr  \n",
      "51                    DZA  \n",
      "61                    AGO  \n",
      "52                    BDI  \n",
      "54                    CHN  \n",
      "51                    COG  \n",
      "..                    ...  \n",
      "1                     PRI  \n",
      "12                    SSD  \n",
      "9                     FSM  \n",
      "1                     MHL  \n",
      "7                     VUT  \n",
      "\n",
      "[190 rows x 5 columns]\n"
     ]
    }
   ],
   "source": [
    "\n",
    "for i, x in tt.groupby(['year']):\n",
    "    print(x)\n",
    "    "
   ]
  },
  {
   "cell_type": "code",
   "execution_count": null,
   "metadata": {},
   "outputs": [],
   "source": [
    "toprin = tt.groupby('country_of_origin_abbr').agg({\"percentage_of_population_migration\": \"sum\"}).reset_index()\n",
    "toprin[toprin[\"country_of_origin_abbr\"] == \"UKR\"]\n",
    "toprin = toprin.sort_values('percentage_of_population_migration')"
   ]
  },
  {
   "cell_type": "code",
   "execution_count": null,
   "metadata": {},
   "outputs": [
    {
     "data": {
      "application/vnd.plotly.v1+json": {
       "config": {
        "plotlyServerURL": "https://plot.ly"
       },
       "data": [
        {
         "hovertemplate": "country_of_origin_abbr=%{x}<br>percentage_of_population_migration=%{y}<extra></extra>",
         "legendgroup": "",
         "marker": {
          "color": "#636efa",
          "symbol": "circle"
         },
         "mode": "markers",
         "name": "",
         "orientation": "v",
         "showlegend": false,
         "type": "scatter",
         "x": [
          "PRI",
          "JPN",
          "LUX",
          "AUS",
          "FIN",
          "CHE",
          "DNK",
          "AUT",
          "NOR",
          "CAN",
          "FRA",
          "DEU",
          "GBR",
          "ITA",
          "USA",
          "NLD",
          "BEL",
          "SWE",
          "NZL",
          "ESP",
          "OMN",
          "CYM",
          "ISL",
          "MLT",
          "ARE",
          "SGP",
          "IRL",
          "KOR",
          "GIB",
          "QAT",
          "THA",
          "PRK",
          "PNG",
          "MDG",
          "PLW",
          "SAU",
          "BRN",
          "MCO",
          "HKG",
          "MHL",
          "SVN",
          "AND",
          "PRT",
          "LIE",
          "KIR",
          "IDN",
          "ARG",
          "GRC",
          "IND",
          "BRA",
          "FSM",
          "CUW",
          "CHN",
          "PRY",
          "MDV",
          "MAC",
          "TZA",
          "PHL",
          "TCA",
          "CYP",
          "SWZ",
          "BWA",
          "BHR",
          "PAN",
          "BOL",
          "ZAF",
          "TKM",
          "SLB",
          "BEN",
          "MYS",
          "KEN",
          "EGY",
          "STP",
          "BMU",
          "SMR",
          "UZB",
          "URY",
          "CRI",
          "TUV",
          "NRU",
          "LVA",
          "LTU",
          "DOM",
          "KAZ",
          "EST",
          "NPL",
          "BGD",
          "GAB",
          "KWT",
          "ISR",
          "NER",
          "LSO",
          "WSM",
          "MUS",
          "TJK",
          "ZMB",
          "MEX",
          "BLZ",
          "CHL",
          "RUS",
          "MAR",
          "KGZ",
          "TTO",
          "KNA",
          "PER",
          "BRB",
          "VUT",
          "ATG",
          "GNQ",
          "PAK",
          "NGA",
          "SVK",
          "JOR",
          "ECU",
          "BLR",
          "DZA",
          "BFA",
          "POL",
          "HUN",
          "TUN",
          "CZE",
          "MWI",
          "DJI",
          "JAM",
          "YEM",
          "BHS",
          "GUY",
          "IRN",
          "GHA",
          "SUR",
          "CMR",
          "CPV",
          "SYC",
          "DMA",
          "SEN",
          "COL",
          "MNG",
          "VNM",
          "TUR",
          "FJI",
          "BGR",
          "MNE",
          "CIV",
          "GRD",
          "ROU",
          "LCA",
          "COM",
          "GIN",
          "LKA",
          "TON",
          "LBY",
          "MDA",
          "MLI",
          "UGA",
          "HRV",
          "CUB",
          "MMR",
          "GTM",
          "KHM",
          "GMB",
          "HND",
          "COD",
          "VCT",
          "MRT",
          "TGO",
          "HTI",
          "LBN",
          "AZE",
          "GEO",
          "MOZ",
          "ZWE",
          "TCD",
          "NAM",
          "ETH",
          "MKD",
          "SDN",
          "LAO",
          "AGO",
          "ARM",
          "GNB",
          "ALB",
          "SLV",
          "NIC",
          "BTN",
          "IRQ",
          "COG",
          "BIH",
          "SLE",
          "UKR",
          "CAF",
          "BDI",
          "VEN",
          "SOM",
          "SSD",
          "SRB",
          "TLS",
          "ERI",
          "SYR",
          "RWA",
          "LBR",
          "AFG"
         ],
         "xaxis": "x",
         "y": {
          "bdata": "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",
          "dtype": "f8"
         },
         "yaxis": "y"
        }
       ],
       "layout": {
        "legend": {
         "tracegroupgap": 0
        },
        "margin": {
         "t": 60
        },
        "template": {
         "data": {
          "bar": [
           {
            "error_x": {
             "color": "#2a3f5f"
            },
            "error_y": {
             "color": "#2a3f5f"
            },
            "marker": {
             "line": {
              "color": "#E5ECF6",
              "width": 0.5
             },
             "pattern": {
              "fillmode": "overlay",
              "size": 10,
              "solidity": 0.2
             }
            },
            "type": "bar"
           }
          ],
          "barpolar": [
           {
            "marker": {
             "line": {
              "color": "#E5ECF6",
              "width": 0.5
             },
             "pattern": {
              "fillmode": "overlay",
              "size": 10,
              "solidity": 0.2
             }
            },
            "type": "barpolar"
           }
          ],
          "carpet": [
           {
            "aaxis": {
             "endlinecolor": "#2a3f5f",
             "gridcolor": "white",
             "linecolor": "white",
             "minorgridcolor": "white",
             "startlinecolor": "#2a3f5f"
            },
            "baxis": {
             "endlinecolor": "#2a3f5f",
             "gridcolor": "white",
             "linecolor": "white",
             "minorgridcolor": "white",
             "startlinecolor": "#2a3f5f"
            },
            "type": "carpet"
           }
          ],
          "choropleth": [
           {
            "colorbar": {
             "outlinewidth": 0,
             "ticks": ""
            },
            "type": "choropleth"
           }
          ],
          "contour": [
           {
            "colorbar": {
             "outlinewidth": 0,
             "ticks": ""
            },
            "colorscale": [
             [
              0,
              "#0d0887"
             ],
             [
              0.1111111111111111,
              "#46039f"
             ],
             [
              0.2222222222222222,
              "#7201a8"
             ],
             [
              0.3333333333333333,
              "#9c179e"
             ],
             [
              0.4444444444444444,
              "#bd3786"
             ],
             [
              0.5555555555555556,
              "#d8576b"
             ],
             [
              0.6666666666666666,
              "#ed7953"
             ],
             [
              0.7777777777777778,
              "#fb9f3a"
             ],
             [
              0.8888888888888888,
              "#fdca26"
             ],
             [
              1,
              "#f0f921"
             ]
            ],
            "type": "contour"
           }
          ],
          "contourcarpet": [
           {
            "colorbar": {
             "outlinewidth": 0,
             "ticks": ""
            },
            "type": "contourcarpet"
           }
          ],
          "heatmap": [
           {
            "colorbar": {
             "outlinewidth": 0,
             "ticks": ""
            },
            "colorscale": [
             [
              0,
              "#0d0887"
             ],
             [
              0.1111111111111111,
              "#46039f"
             ],
             [
              0.2222222222222222,
              "#7201a8"
             ],
             [
              0.3333333333333333,
              "#9c179e"
             ],
             [
              0.4444444444444444,
              "#bd3786"
             ],
             [
              0.5555555555555556,
              "#d8576b"
             ],
             [
              0.6666666666666666,
              "#ed7953"
             ],
             [
              0.7777777777777778,
              "#fb9f3a"
             ],
             [
              0.8888888888888888,
              "#fdca26"
             ],
             [
              1,
              "#f0f921"
             ]
            ],
            "type": "heatmap"
           }
          ],
          "histogram": [
           {
            "marker": {
             "pattern": {
              "fillmode": "overlay",
              "size": 10,
              "solidity": 0.2
             }
            },
            "type": "histogram"
           }
          ],
          "histogram2d": [
           {
            "colorbar": {
             "outlinewidth": 0,
             "ticks": ""
            },
            "colorscale": [
             [
              0,
              "#0d0887"
             ],
             [
              0.1111111111111111,
              "#46039f"
             ],
             [
              0.2222222222222222,
              "#7201a8"
             ],
             [
              0.3333333333333333,
              "#9c179e"
             ],
             [
              0.4444444444444444,
              "#bd3786"
             ],
             [
              0.5555555555555556,
              "#d8576b"
             ],
             [
              0.6666666666666666,
              "#ed7953"
             ],
             [
              0.7777777777777778,
              "#fb9f3a"
             ],
             [
              0.8888888888888888,
              "#fdca26"
             ],
             [
              1,
              "#f0f921"
             ]
            ],
            "type": "histogram2d"
           }
          ],
          "histogram2dcontour": [
           {
            "colorbar": {
             "outlinewidth": 0,
             "ticks": ""
            },
            "colorscale": [
             [
              0,
              "#0d0887"
             ],
             [
              0.1111111111111111,
              "#46039f"
             ],
             [
              0.2222222222222222,
              "#7201a8"
             ],
             [
              0.3333333333333333,
              "#9c179e"
             ],
             [
              0.4444444444444444,
              "#bd3786"
             ],
             [
              0.5555555555555556,
              "#d8576b"
             ],
             [
              0.6666666666666666,
              "#ed7953"
             ],
             [
              0.7777777777777778,
              "#fb9f3a"
             ],
             [
              0.8888888888888888,
              "#fdca26"
             ],
             [
              1,
              "#f0f921"
             ]
            ],
            "type": "histogram2dcontour"
           }
          ],
          "mesh3d": [
           {
            "colorbar": {
             "outlinewidth": 0,
             "ticks": ""
            },
            "type": "mesh3d"
           }
          ],
          "parcoords": [
           {
            "line": {
             "colorbar": {
              "outlinewidth": 0,
              "ticks": ""
             }
            },
            "type": "parcoords"
           }
          ],
          "pie": [
           {
            "automargin": true,
            "type": "pie"
           }
          ],
          "scatter": [
           {
            "fillpattern": {
             "fillmode": "overlay",
             "size": 10,
             "solidity": 0.2
            },
            "type": "scatter"
           }
          ],
          "scatter3d": [
           {
            "line": {
             "colorbar": {
              "outlinewidth": 0,
              "ticks": ""
             }
            },
            "marker": {
             "colorbar": {
              "outlinewidth": 0,
              "ticks": ""
             }
            },
            "type": "scatter3d"
           }
          ],
          "scattercarpet": [
           {
            "marker": {
             "colorbar": {
              "outlinewidth": 0,
              "ticks": ""
             }
            },
            "type": "scattercarpet"
           }
          ],
          "scattergeo": [
           {
            "marker": {
             "colorbar": {
              "outlinewidth": 0,
              "ticks": ""
             }
            },
            "type": "scattergeo"
           }
          ],
          "scattergl": [
           {
            "marker": {
             "colorbar": {
              "outlinewidth": 0,
              "ticks": ""
             }
            },
            "type": "scattergl"
           }
          ],
          "scattermap": [
           {
            "marker": {
             "colorbar": {
              "outlinewidth": 0,
              "ticks": ""
             }
            },
            "type": "scattermap"
           }
          ],
          "scattermapbox": [
           {
            "marker": {
             "colorbar": {
              "outlinewidth": 0,
              "ticks": ""
             }
            },
            "type": "scattermapbox"
           }
          ],
          "scatterpolar": [
           {
            "marker": {
             "colorbar": {
              "outlinewidth": 0,
              "ticks": ""
             }
            },
            "type": "scatterpolar"
           }
          ],
          "scatterpolargl": [
           {
            "marker": {
             "colorbar": {
              "outlinewidth": 0,
              "ticks": ""
             }
            },
            "type": "scatterpolargl"
           }
          ],
          "scatterternary": [
           {
            "marker": {
             "colorbar": {
              "outlinewidth": 0,
              "ticks": ""
             }
            },
            "type": "scatterternary"
           }
          ],
          "surface": [
           {
            "colorbar": {
             "outlinewidth": 0,
             "ticks": ""
            },
            "colorscale": [
             [
              0,
              "#0d0887"
             ],
             [
              0.1111111111111111,
              "#46039f"
             ],
             [
              0.2222222222222222,
              "#7201a8"
             ],
             [
              0.3333333333333333,
              "#9c179e"
             ],
             [
              0.4444444444444444,
              "#bd3786"
             ],
             [
              0.5555555555555556,
              "#d8576b"
             ],
             [
              0.6666666666666666,
              "#ed7953"
             ],
             [
              0.7777777777777778,
              "#fb9f3a"
             ],
             [
              0.8888888888888888,
              "#fdca26"
             ],
             [
              1,
              "#f0f921"
             ]
            ],
            "type": "surface"
           }
          ],
          "table": [
           {
            "cells": {
             "fill": {
              "color": "#EBF0F8"
             },
             "line": {
              "color": "white"
             }
            },
            "header": {
             "fill": {
              "color": "#C8D4E3"
             },
             "line": {
              "color": "white"
             }
            },
            "type": "table"
           }
          ]
         },
         "layout": {
          "annotationdefaults": {
           "arrowcolor": "#2a3f5f",
           "arrowhead": 0,
           "arrowwidth": 1
          },
          "autotypenumbers": "strict",
          "coloraxis": {
           "colorbar": {
            "outlinewidth": 0,
            "ticks": ""
           }
          },
          "colorscale": {
           "diverging": [
            [
             0,
             "#8e0152"
            ],
            [
             0.1,
             "#c51b7d"
            ],
            [
             0.2,
             "#de77ae"
            ],
            [
             0.3,
             "#f1b6da"
            ],
            [
             0.4,
             "#fde0ef"
            ],
            [
             0.5,
             "#f7f7f7"
            ],
            [
             0.6,
             "#e6f5d0"
            ],
            [
             0.7,
             "#b8e186"
            ],
            [
             0.8,
             "#7fbc41"
            ],
            [
             0.9,
             "#4d9221"
            ],
            [
             1,
             "#276419"
            ]
           ],
           "sequential": [
            [
             0,
             "#0d0887"
            ],
            [
             0.1111111111111111,
             "#46039f"
            ],
            [
             0.2222222222222222,
             "#7201a8"
            ],
            [
             0.3333333333333333,
             "#9c179e"
            ],
            [
             0.4444444444444444,
             "#bd3786"
            ],
            [
             0.5555555555555556,
             "#d8576b"
            ],
            [
             0.6666666666666666,
             "#ed7953"
            ],
            [
             0.7777777777777778,
             "#fb9f3a"
            ],
            [
             0.8888888888888888,
             "#fdca26"
            ],
            [
             1,
             "#f0f921"
            ]
           ],
           "sequentialminus": [
            [
             0,
             "#0d0887"
            ],
            [
             0.1111111111111111,
             "#46039f"
            ],
            [
             0.2222222222222222,
             "#7201a8"
            ],
            [
             0.3333333333333333,
             "#9c179e"
            ],
            [
             0.4444444444444444,
             "#bd3786"
            ],
            [
             0.5555555555555556,
             "#d8576b"
            ],
            [
             0.6666666666666666,
             "#ed7953"
            ],
            [
             0.7777777777777778,
             "#fb9f3a"
            ],
            [
             0.8888888888888888,
             "#fdca26"
            ],
            [
             1,
             "#f0f921"
            ]
           ]
          },
          "colorway": [
           "#636efa",
           "#EF553B",
           "#00cc96",
           "#ab63fa",
           "#FFA15A",
           "#19d3f3",
           "#FF6692",
           "#B6E880",
           "#FF97FF",
           "#FECB52"
          ],
          "font": {
           "color": "#2a3f5f"
          },
          "geo": {
           "bgcolor": "white",
           "lakecolor": "white",
           "landcolor": "#E5ECF6",
           "showlakes": true,
           "showland": true,
           "subunitcolor": "white"
          },
          "hoverlabel": {
           "align": "left"
          },
          "hovermode": "closest",
          "mapbox": {
           "style": "light"
          },
          "paper_bgcolor": "white",
          "plot_bgcolor": "#E5ECF6",
          "polar": {
           "angularaxis": {
            "gridcolor": "white",
            "linecolor": "white",
            "ticks": ""
           },
           "bgcolor": "#E5ECF6",
           "radialaxis": {
            "gridcolor": "white",
            "linecolor": "white",
            "ticks": ""
           }
          },
          "scene": {
           "xaxis": {
            "backgroundcolor": "#E5ECF6",
            "gridcolor": "white",
            "gridwidth": 2,
            "linecolor": "white",
            "showbackground": true,
            "ticks": "",
            "zerolinecolor": "white"
           },
           "yaxis": {
            "backgroundcolor": "#E5ECF6",
            "gridcolor": "white",
            "gridwidth": 2,
            "linecolor": "white",
            "showbackground": true,
            "ticks": "",
            "zerolinecolor": "white"
           },
           "zaxis": {
            "backgroundcolor": "#E5ECF6",
            "gridcolor": "white",
            "gridwidth": 2,
            "linecolor": "white",
            "showbackground": true,
            "ticks": "",
            "zerolinecolor": "white"
           }
          },
          "shapedefaults": {
           "line": {
            "color": "#2a3f5f"
           }
          },
          "ternary": {
           "aaxis": {
            "gridcolor": "white",
            "linecolor": "white",
            "ticks": ""
           },
           "baxis": {
            "gridcolor": "white",
            "linecolor": "white",
            "ticks": ""
           },
           "bgcolor": "#E5ECF6",
           "caxis": {
            "gridcolor": "white",
            "linecolor": "white",
            "ticks": ""
           }
          },
          "title": {
           "x": 0.05
          },
          "xaxis": {
           "automargin": true,
           "gridcolor": "white",
           "linecolor": "white",
           "ticks": "",
           "title": {
            "standoff": 15
           },
           "zerolinecolor": "white",
           "zerolinewidth": 2
          },
          "yaxis": {
           "automargin": true,
           "gridcolor": "white",
           "linecolor": "white",
           "ticks": "",
           "title": {
            "standoff": 15
           },
           "zerolinecolor": "white",
           "zerolinewidth": 2
          }
         }
        },
        "xaxis": {
         "anchor": "y",
         "domain": [
          0,
          1
         ],
         "title": {
          "text": "country_of_origin_abbr"
         }
        },
        "yaxis": {
         "anchor": "x",
         "domain": [
          0,
          1
         ],
         "title": {
          "text": "percentage_of_population_migration"
         }
        }
       }
      }
     },
     "metadata": {},
     "output_type": "display_data"
    }
   ],
   "source": [
    "\n",
    "fig = px.scatter(toprin, x='country_of_origin_abbr', y='percentage_of_population_migration')\n",
    "fig.show()"
   ]
  },
  {
   "cell_type": "code",
   "execution_count": null,
   "metadata": {},
   "outputs": [
    {
     "data": {
      "text/html": [
       "<div>\n",
       "<style scoped>\n",
       "    .dataframe tbody tr th:only-of-type {\n",
       "        vertical-align: middle;\n",
       "    }\n",
       "\n",
       "    .dataframe tbody tr th {\n",
       "        vertical-align: top;\n",
       "    }\n",
       "\n",
       "    .dataframe thead th {\n",
       "        text-align: right;\n",
       "    }\n",
       "</style>\n",
       "<table border=\"1\" class=\"dataframe\">\n",
       "  <thead>\n",
       "    <tr style=\"text-align: right;\">\n",
       "      <th></th>\n",
       "      <th>year</th>\n",
       "      <th>displaced</th>\n",
       "      <th>population</th>\n",
       "      <th>percentage_of_population_migration</th>\n",
       "      <th>country_of_origin_abbr</th>\n",
       "    </tr>\n",
       "  </thead>\n",
       "  <tbody>\n",
       "    <tr>\n",
       "      <th>0</th>\n",
       "      <td>1973</td>\n",
       "      <td>5</td>\n",
       "      <td>12463537.0</td>\n",
       "      <td>0.000040</td>\n",
       "      <td>VEN</td>\n",
       "    </tr>\n",
       "    <tr>\n",
       "      <th>1</th>\n",
       "      <td>1984</td>\n",
       "      <td>10</td>\n",
       "      <td>17008841.0</td>\n",
       "      <td>0.000059</td>\n",
       "      <td>VEN</td>\n",
       "    </tr>\n",
       "    <tr>\n",
       "      <th>2</th>\n",
       "      <td>1986</td>\n",
       "      <td>5</td>\n",
       "      <td>17923536.0</td>\n",
       "      <td>0.000028</td>\n",
       "      <td>VEN</td>\n",
       "    </tr>\n",
       "    <tr>\n",
       "      <th>3</th>\n",
       "      <td>1989</td>\n",
       "      <td>61</td>\n",
       "      <td>19348921.0</td>\n",
       "      <td>0.000315</td>\n",
       "      <td>VEN</td>\n",
       "    </tr>\n",
       "    <tr>\n",
       "      <th>4</th>\n",
       "      <td>1990</td>\n",
       "      <td>171</td>\n",
       "      <td>19827010.0</td>\n",
       "      <td>0.000862</td>\n",
       "      <td>VEN</td>\n",
       "    </tr>\n",
       "    <tr>\n",
       "      <th>5</th>\n",
       "      <td>1991</td>\n",
       "      <td>246</td>\n",
       "      <td>20304896.0</td>\n",
       "      <td>0.001212</td>\n",
       "      <td>VEN</td>\n",
       "    </tr>\n",
       "    <tr>\n",
       "      <th>6</th>\n",
       "      <td>1992</td>\n",
       "      <td>290</td>\n",
       "      <td>20780948.0</td>\n",
       "      <td>0.001396</td>\n",
       "      <td>VEN</td>\n",
       "    </tr>\n",
       "    <tr>\n",
       "      <th>7</th>\n",
       "      <td>1993</td>\n",
       "      <td>297</td>\n",
       "      <td>21254520.0</td>\n",
       "      <td>0.001397</td>\n",
       "      <td>VEN</td>\n",
       "    </tr>\n",
       "    <tr>\n",
       "      <th>8</th>\n",
       "      <td>1994</td>\n",
       "      <td>471</td>\n",
       "      <td>21725188.0</td>\n",
       "      <td>0.002168</td>\n",
       "      <td>VEN</td>\n",
       "    </tr>\n",
       "    <tr>\n",
       "      <th>9</th>\n",
       "      <td>1995</td>\n",
       "      <td>1084</td>\n",
       "      <td>22193821.0</td>\n",
       "      <td>0.004884</td>\n",
       "      <td>VEN</td>\n",
       "    </tr>\n",
       "    <tr>\n",
       "      <th>10</th>\n",
       "      <td>1996</td>\n",
       "      <td>384</td>\n",
       "      <td>22662113.0</td>\n",
       "      <td>0.001694</td>\n",
       "      <td>VEN</td>\n",
       "    </tr>\n",
       "    <tr>\n",
       "      <th>11</th>\n",
       "      <td>1997</td>\n",
       "      <td>130</td>\n",
       "      <td>23131685.0</td>\n",
       "      <td>0.000562</td>\n",
       "      <td>VEN</td>\n",
       "    </tr>\n",
       "    <tr>\n",
       "      <th>12</th>\n",
       "      <td>1998</td>\n",
       "      <td>142</td>\n",
       "      <td>23601337.0</td>\n",
       "      <td>0.000602</td>\n",
       "      <td>VEN</td>\n",
       "    </tr>\n",
       "    <tr>\n",
       "      <th>13</th>\n",
       "      <td>1999</td>\n",
       "      <td>125</td>\n",
       "      <td>24066593.0</td>\n",
       "      <td>0.000519</td>\n",
       "      <td>VEN</td>\n",
       "    </tr>\n",
       "    <tr>\n",
       "      <th>14</th>\n",
       "      <td>2000</td>\n",
       "      <td>175</td>\n",
       "      <td>24526708.0</td>\n",
       "      <td>0.000714</td>\n",
       "      <td>VEN</td>\n",
       "    </tr>\n",
       "    <tr>\n",
       "      <th>15</th>\n",
       "      <td>2001</td>\n",
       "      <td>398</td>\n",
       "      <td>24979922.0</td>\n",
       "      <td>0.001593</td>\n",
       "      <td>VEN</td>\n",
       "    </tr>\n",
       "    <tr>\n",
       "      <th>16</th>\n",
       "      <td>2002</td>\n",
       "      <td>936</td>\n",
       "      <td>25435671.0</td>\n",
       "      <td>0.003680</td>\n",
       "      <td>VEN</td>\n",
       "    </tr>\n",
       "    <tr>\n",
       "      <th>17</th>\n",
       "      <td>2003</td>\n",
       "      <td>2643</td>\n",
       "      <td>25892703.0</td>\n",
       "      <td>0.010208</td>\n",
       "      <td>VEN</td>\n",
       "    </tr>\n",
       "    <tr>\n",
       "      <th>18</th>\n",
       "      <td>2004</td>\n",
       "      <td>2469</td>\n",
       "      <td>26340838.0</td>\n",
       "      <td>0.009373</td>\n",
       "      <td>VEN</td>\n",
       "    </tr>\n",
       "    <tr>\n",
       "      <th>19</th>\n",
       "      <td>2005</td>\n",
       "      <td>1874</td>\n",
       "      <td>26785804.0</td>\n",
       "      <td>0.006996</td>\n",
       "      <td>VEN</td>\n",
       "    </tr>\n",
       "    <tr>\n",
       "      <th>20</th>\n",
       "      <td>2006</td>\n",
       "      <td>1476</td>\n",
       "      <td>27224686.0</td>\n",
       "      <td>0.005422</td>\n",
       "      <td>VEN</td>\n",
       "    </tr>\n",
       "    <tr>\n",
       "      <th>21</th>\n",
       "      <td>2007</td>\n",
       "      <td>1192</td>\n",
       "      <td>27649363.0</td>\n",
       "      <td>0.004311</td>\n",
       "      <td>VEN</td>\n",
       "    </tr>\n",
       "    <tr>\n",
       "      <th>22</th>\n",
       "      <td>2008</td>\n",
       "      <td>1268</td>\n",
       "      <td>28053696.0</td>\n",
       "      <td>0.004520</td>\n",
       "      <td>VEN</td>\n",
       "    </tr>\n",
       "    <tr>\n",
       "      <th>23</th>\n",
       "      <td>2009</td>\n",
       "      <td>897</td>\n",
       "      <td>28438298.0</td>\n",
       "      <td>0.003154</td>\n",
       "      <td>VEN</td>\n",
       "    </tr>\n",
       "    <tr>\n",
       "      <th>24</th>\n",
       "      <td>2010</td>\n",
       "      <td>999</td>\n",
       "      <td>28813101.0</td>\n",
       "      <td>0.003467</td>\n",
       "      <td>VEN</td>\n",
       "    </tr>\n",
       "    <tr>\n",
       "      <th>25</th>\n",
       "      <td>2011</td>\n",
       "      <td>1213</td>\n",
       "      <td>29185212.0</td>\n",
       "      <td>0.004156</td>\n",
       "      <td>VEN</td>\n",
       "    </tr>\n",
       "    <tr>\n",
       "      <th>26</th>\n",
       "      <td>2012</td>\n",
       "      <td>905</td>\n",
       "      <td>29553826.0</td>\n",
       "      <td>0.003062</td>\n",
       "      <td>VEN</td>\n",
       "    </tr>\n",
       "    <tr>\n",
       "      <th>27</th>\n",
       "      <td>2013</td>\n",
       "      <td>1434</td>\n",
       "      <td>29912198.0</td>\n",
       "      <td>0.004794</td>\n",
       "      <td>VEN</td>\n",
       "    </tr>\n",
       "    <tr>\n",
       "      <th>28</th>\n",
       "      <td>2014</td>\n",
       "      <td>5298</td>\n",
       "      <td>30254079.0</td>\n",
       "      <td>0.017512</td>\n",
       "      <td>VEN</td>\n",
       "    </tr>\n",
       "    <tr>\n",
       "      <th>29</th>\n",
       "      <td>2015</td>\n",
       "      <td>13199</td>\n",
       "      <td>30573972.0</td>\n",
       "      <td>0.043171</td>\n",
       "      <td>VEN</td>\n",
       "    </tr>\n",
       "    <tr>\n",
       "      <th>30</th>\n",
       "      <td>2016</td>\n",
       "      <td>42499</td>\n",
       "      <td>30765720.0</td>\n",
       "      <td>0.138138</td>\n",
       "      <td>VEN</td>\n",
       "    </tr>\n",
       "    <tr>\n",
       "      <th>31</th>\n",
       "      <td>2017</td>\n",
       "      <td>126571</td>\n",
       "      <td>30565323.0</td>\n",
       "      <td>0.414100</td>\n",
       "      <td>VEN</td>\n",
       "    </tr>\n",
       "    <tr>\n",
       "      <th>32</th>\n",
       "      <td>2018</td>\n",
       "      <td>2528744</td>\n",
       "      <td>29807592.0</td>\n",
       "      <td>8.483557</td>\n",
       "      <td>VEN</td>\n",
       "    </tr>\n",
       "    <tr>\n",
       "      <th>33</th>\n",
       "      <td>2019</td>\n",
       "      <td>1524529</td>\n",
       "      <td>28938098.0</td>\n",
       "      <td>5.268242</td>\n",
       "      <td>VEN</td>\n",
       "    </tr>\n",
       "    <tr>\n",
       "      <th>34</th>\n",
       "      <td>2020</td>\n",
       "      <td>572886</td>\n",
       "      <td>28444077.0</td>\n",
       "      <td>2.014078</td>\n",
       "      <td>VEN</td>\n",
       "    </tr>\n",
       "    <tr>\n",
       "      <th>35</th>\n",
       "      <td>2021</td>\n",
       "      <td>664963</td>\n",
       "      <td>28237826.0</td>\n",
       "      <td>2.354866</td>\n",
       "      <td>VEN</td>\n",
       "    </tr>\n",
       "    <tr>\n",
       "      <th>36</th>\n",
       "      <td>2022</td>\n",
       "      <td>1223672</td>\n",
       "      <td>28213017.0</td>\n",
       "      <td>4.337260</td>\n",
       "      <td>VEN</td>\n",
       "    </tr>\n",
       "    <tr>\n",
       "      <th>37</th>\n",
       "      <td>2023</td>\n",
       "      <td>1021351</td>\n",
       "      <td>28300854.0</td>\n",
       "      <td>3.608905</td>\n",
       "      <td>VEN</td>\n",
       "    </tr>\n",
       "  </tbody>\n",
       "</table>\n",
       "</div>"
      ],
      "text/plain": [
       "    year  displaced  population  percentage_of_population_migration  \\\n",
       "0   1973          5  12463537.0                            0.000040   \n",
       "1   1984         10  17008841.0                            0.000059   \n",
       "2   1986          5  17923536.0                            0.000028   \n",
       "3   1989         61  19348921.0                            0.000315   \n",
       "4   1990        171  19827010.0                            0.000862   \n",
       "5   1991        246  20304896.0                            0.001212   \n",
       "6   1992        290  20780948.0                            0.001396   \n",
       "7   1993        297  21254520.0                            0.001397   \n",
       "8   1994        471  21725188.0                            0.002168   \n",
       "9   1995       1084  22193821.0                            0.004884   \n",
       "10  1996        384  22662113.0                            0.001694   \n",
       "11  1997        130  23131685.0                            0.000562   \n",
       "12  1998        142  23601337.0                            0.000602   \n",
       "13  1999        125  24066593.0                            0.000519   \n",
       "14  2000        175  24526708.0                            0.000714   \n",
       "15  2001        398  24979922.0                            0.001593   \n",
       "16  2002        936  25435671.0                            0.003680   \n",
       "17  2003       2643  25892703.0                            0.010208   \n",
       "18  2004       2469  26340838.0                            0.009373   \n",
       "19  2005       1874  26785804.0                            0.006996   \n",
       "20  2006       1476  27224686.0                            0.005422   \n",
       "21  2007       1192  27649363.0                            0.004311   \n",
       "22  2008       1268  28053696.0                            0.004520   \n",
       "23  2009        897  28438298.0                            0.003154   \n",
       "24  2010        999  28813101.0                            0.003467   \n",
       "25  2011       1213  29185212.0                            0.004156   \n",
       "26  2012        905  29553826.0                            0.003062   \n",
       "27  2013       1434  29912198.0                            0.004794   \n",
       "28  2014       5298  30254079.0                            0.017512   \n",
       "29  2015      13199  30573972.0                            0.043171   \n",
       "30  2016      42499  30765720.0                            0.138138   \n",
       "31  2017     126571  30565323.0                            0.414100   \n",
       "32  2018    2528744  29807592.0                            8.483557   \n",
       "33  2019    1524529  28938098.0                            5.268242   \n",
       "34  2020     572886  28444077.0                            2.014078   \n",
       "35  2021     664963  28237826.0                            2.354866   \n",
       "36  2022    1223672  28213017.0                            4.337260   \n",
       "37  2023    1021351  28300854.0                            3.608905   \n",
       "\n",
       "   country_of_origin_abbr  \n",
       "0                     VEN  \n",
       "1                     VEN  \n",
       "2                     VEN  \n",
       "3                     VEN  \n",
       "4                     VEN  \n",
       "5                     VEN  \n",
       "6                     VEN  \n",
       "7                     VEN  \n",
       "8                     VEN  \n",
       "9                     VEN  \n",
       "10                    VEN  \n",
       "11                    VEN  \n",
       "12                    VEN  \n",
       "13                    VEN  \n",
       "14                    VEN  \n",
       "15                    VEN  \n",
       "16                    VEN  \n",
       "17                    VEN  \n",
       "18                    VEN  \n",
       "19                    VEN  \n",
       "20                    VEN  \n",
       "21                    VEN  \n",
       "22                    VEN  \n",
       "23                    VEN  \n",
       "24                    VEN  \n",
       "25                    VEN  \n",
       "26                    VEN  \n",
       "27                    VEN  \n",
       "28                    VEN  \n",
       "29                    VEN  \n",
       "30                    VEN  \n",
       "31                    VEN  \n",
       "32                    VEN  \n",
       "33                    VEN  \n",
       "34                    VEN  \n",
       "35                    VEN  \n",
       "36                    VEN  \n",
       "37                    VEN  "
      ]
     },
     "execution_count": 22,
     "metadata": {},
     "output_type": "execute_result"
    }
   ],
   "source": [
    "venezuela = Country_population_data(\"VEN\", population, asylum)\n",
    "venezuela"
   ]
  },
  {
   "cell_type": "code",
   "execution_count": null,
   "metadata": {},
   "outputs": [
    {
     "data": {
      "text/html": [
       "<style type=\"text/css\">\n",
       "</style>\n",
       "<table id=\"T_a290e\">\n",
       "  <thead>\n",
       "    <tr>\n",
       "      <th class=\"blank level0\" >&nbsp;</th>\n",
       "      <th id=\"T_a290e_level0_col0\" class=\"col_heading level0 col0\" >year</th>\n",
       "      <th id=\"T_a290e_level0_col1\" class=\"col_heading level0 col1\" >displaced</th>\n",
       "      <th id=\"T_a290e_level0_col2\" class=\"col_heading level0 col2\" >population</th>\n",
       "      <th id=\"T_a290e_level0_col3\" class=\"col_heading level0 col3\" >percentage_of_population_migration</th>\n",
       "      <th id=\"T_a290e_level0_col4\" class=\"col_heading level0 col4\" >country_of_origin_abbr</th>\n",
       "    </tr>\n",
       "  </thead>\n",
       "  <tbody>\n",
       "    <tr>\n",
       "      <th id=\"T_a290e_level0_row0\" class=\"row_heading level0 row0\" >0</th>\n",
       "      <td id=\"T_a290e_row0_col0\" class=\"data row0 col0\" >1.972</td>\n",
       "      <td id=\"T_a290e_row0_col1\" class=\"data row0 col1\" >5</td>\n",
       "      <td id=\"T_a290e_row0_col2\" class=\"data row0 col2\" >11.853.696,0000</td>\n",
       "      <td id=\"T_a290e_row0_col3\" class=\"data row0 col3\" >0,0000</td>\n",
       "      <td id=\"T_a290e_row0_col4\" class=\"data row0 col4\" >AFG</td>\n",
       "    </tr>\n",
       "    <tr>\n",
       "      <th id=\"T_a290e_level0_row1\" class=\"row_heading level0 row1\" >1</th>\n",
       "      <td id=\"T_a290e_row1_col0\" class=\"data row1 col0\" >1.976</td>\n",
       "      <td id=\"T_a290e_row1_col1\" class=\"data row1 col1\" >15</td>\n",
       "      <td id=\"T_a290e_row1_col2\" class=\"data row1 col2\" >13.059.851,0000</td>\n",
       "      <td id=\"T_a290e_row1_col3\" class=\"data row1 col3\" >0,0001</td>\n",
       "      <td id=\"T_a290e_row1_col4\" class=\"data row1 col4\" >AFG</td>\n",
       "    </tr>\n",
       "    <tr>\n",
       "      <th id=\"T_a290e_level0_row2\" class=\"row_heading level0 row2\" >2</th>\n",
       "      <td id=\"T_a290e_row2_col0\" class=\"data row2 col0\" >1.977</td>\n",
       "      <td id=\"T_a290e_row2_col1\" class=\"data row2 col1\" >36</td>\n",
       "      <td id=\"T_a290e_row2_col2\" class=\"data row2 col2\" >13.340.756,0000</td>\n",
       "      <td id=\"T_a290e_row2_col3\" class=\"data row2 col3\" >0,0003</td>\n",
       "      <td id=\"T_a290e_row2_col4\" class=\"data row2 col4\" >AFG</td>\n",
       "    </tr>\n",
       "    <tr>\n",
       "      <th id=\"T_a290e_level0_row3\" class=\"row_heading level0 row3\" >3</th>\n",
       "      <td id=\"T_a290e_row3_col0\" class=\"data row3 col0\" >1.978</td>\n",
       "      <td id=\"T_a290e_row3_col1\" class=\"data row3 col1\" >141</td>\n",
       "      <td id=\"T_a290e_row3_col2\" class=\"data row3 col2\" >13.611.441,0000</td>\n",
       "      <td id=\"T_a290e_row3_col3\" class=\"data row3 col3\" >0,0010</td>\n",
       "      <td id=\"T_a290e_row3_col4\" class=\"data row3 col4\" >AFG</td>\n",
       "    </tr>\n",
       "    <tr>\n",
       "      <th id=\"T_a290e_level0_row4\" class=\"row_heading level0 row4\" >4</th>\n",
       "      <td id=\"T_a290e_row4_col0\" class=\"data row4 col0\" >1.979</td>\n",
       "      <td id=\"T_a290e_row4_col1\" class=\"data row4 col1\" >602</td>\n",
       "      <td id=\"T_a290e_row4_col2\" class=\"data row4 col2\" >13.655.567,0000</td>\n",
       "      <td id=\"T_a290e_row4_col3\" class=\"data row4 col3\" >0,0044</td>\n",
       "      <td id=\"T_a290e_row4_col4\" class=\"data row4 col4\" >AFG</td>\n",
       "    </tr>\n",
       "    <tr>\n",
       "      <th id=\"T_a290e_level0_row5\" class=\"row_heading level0 row5\" >5</th>\n",
       "      <td id=\"T_a290e_row5_col0\" class=\"data row5 col0\" >1.980</td>\n",
       "      <td id=\"T_a290e_row5_col1\" class=\"data row5 col1\" >1.308.405</td>\n",
       "      <td id=\"T_a290e_row5_col2\" class=\"data row5 col2\" >13.169.311,0000</td>\n",
       "      <td id=\"T_a290e_row5_col3\" class=\"data row5 col3\" >9,9353</td>\n",
       "      <td id=\"T_a290e_row5_col4\" class=\"data row5 col4\" >AFG</td>\n",
       "    </tr>\n",
       "    <tr>\n",
       "      <th id=\"T_a290e_level0_row6\" class=\"row_heading level0 row6\" >6</th>\n",
       "      <td id=\"T_a290e_row6_col0\" class=\"data row6 col0\" >1.981</td>\n",
       "      <td id=\"T_a290e_row6_col1\" class=\"data row6 col1\" >2.354.516</td>\n",
       "      <td id=\"T_a290e_row6_col2\" class=\"data row6 col2\" >11.937.581,0000</td>\n",
       "      <td id=\"T_a290e_row6_col3\" class=\"data row6 col3\" >19,7236</td>\n",
       "      <td id=\"T_a290e_row6_col4\" class=\"data row6 col4\" >AFG</td>\n",
       "    </tr>\n",
       "    <tr>\n",
       "      <th id=\"T_a290e_level0_row7\" class=\"row_heading level0 row7\" >7</th>\n",
       "      <td id=\"T_a290e_row7_col0\" class=\"data row7 col0\" >1.982</td>\n",
       "      <td id=\"T_a290e_row7_col1\" class=\"data row7 col1\" >515.423</td>\n",
       "      <td id=\"T_a290e_row7_col2\" class=\"data row7 col2\" >10.991.378,0000</td>\n",
       "      <td id=\"T_a290e_row7_col3\" class=\"data row7 col3\" >4,6893</td>\n",
       "      <td id=\"T_a290e_row7_col4\" class=\"data row7 col4\" >AFG</td>\n",
       "    </tr>\n",
       "    <tr>\n",
       "      <th id=\"T_a290e_level0_row8\" class=\"row_heading level0 row8\" >8</th>\n",
       "      <td id=\"T_a290e_row8_col0\" class=\"data row8 col0\" >1.983</td>\n",
       "      <td id=\"T_a290e_row8_col1\" class=\"data row8 col1\" >204.003</td>\n",
       "      <td id=\"T_a290e_row8_col2\" class=\"data row8 col2\" >10.917.982,0000</td>\n",
       "      <td id=\"T_a290e_row8_col3\" class=\"data row8 col3\" >1,8685</td>\n",
       "      <td id=\"T_a290e_row8_col4\" class=\"data row8 col4\" >AFG</td>\n",
       "    </tr>\n",
       "    <tr>\n",
       "      <th id=\"T_a290e_level0_row9\" class=\"row_heading level0 row9\" >9</th>\n",
       "      <td id=\"T_a290e_row9_col0\" class=\"data row9 col0\" >1.984</td>\n",
       "      <td id=\"T_a290e_row9_col1\" class=\"data row9 col1\" >108.450</td>\n",
       "      <td id=\"T_a290e_row9_col2\" class=\"data row9 col2\" >11.190.221,0000</td>\n",
       "      <td id=\"T_a290e_row9_col3\" class=\"data row9 col3\" >0,9691</td>\n",
       "      <td id=\"T_a290e_row9_col4\" class=\"data row9 col4\" >AFG</td>\n",
       "    </tr>\n",
       "    <tr>\n",
       "      <th id=\"T_a290e_level0_row10\" class=\"row_heading level0 row10\" >10</th>\n",
       "      <td id=\"T_a290e_row10_col0\" class=\"data row10 col0\" >1.985</td>\n",
       "      <td id=\"T_a290e_row10_col1\" class=\"data row10 col1\" >199.926</td>\n",
       "      <td id=\"T_a290e_row10_col2\" class=\"data row10 col2\" >11.426.852,0000</td>\n",
       "      <td id=\"T_a290e_row10_col3\" class=\"data row10 col3\" >1,7496</td>\n",
       "      <td id=\"T_a290e_row10_col4\" class=\"data row10 col4\" >AFG</td>\n",
       "    </tr>\n",
       "    <tr>\n",
       "      <th id=\"T_a290e_level0_row11\" class=\"row_heading level0 row11\" >11</th>\n",
       "      <td id=\"T_a290e_row11_col0\" class=\"data row11 col0\" >1.986</td>\n",
       "      <td id=\"T_a290e_row11_col1\" class=\"data row11 col1\" >478.105</td>\n",
       "      <td id=\"T_a290e_row11_col2\" class=\"data row11 col2\" >11.420.074,0000</td>\n",
       "      <td id=\"T_a290e_row11_col3\" class=\"data row11 col3\" >4,1865</td>\n",
       "      <td id=\"T_a290e_row11_col4\" class=\"data row11 col4\" >AFG</td>\n",
       "    </tr>\n",
       "    <tr>\n",
       "      <th id=\"T_a290e_level0_row12\" class=\"row_heading level0 row12\" >12</th>\n",
       "      <td id=\"T_a290e_row12_col0\" class=\"data row12 col0\" >1.987</td>\n",
       "      <td id=\"T_a290e_row12_col1\" class=\"data row12 col1\" >496.133</td>\n",
       "      <td id=\"T_a290e_row12_col2\" class=\"data row12 col2\" >11.387.818,0000</td>\n",
       "      <td id=\"T_a290e_row12_col3\" class=\"data row12 col3\" >4,3567</td>\n",
       "      <td id=\"T_a290e_row12_col4\" class=\"data row12 col4\" >AFG</td>\n",
       "    </tr>\n",
       "    <tr>\n",
       "      <th id=\"T_a290e_level0_row13\" class=\"row_heading level0 row13\" >13</th>\n",
       "      <td id=\"T_a290e_row13_col0\" class=\"data row13 col0\" >1.988</td>\n",
       "      <td id=\"T_a290e_row13_col1\" class=\"data row13 col1\" >102.015</td>\n",
       "      <td id=\"T_a290e_row13_col2\" class=\"data row13 col2\" >11.523.298,0000</td>\n",
       "      <td id=\"T_a290e_row13_col3\" class=\"data row13 col3\" >0,8853</td>\n",
       "      <td id=\"T_a290e_row13_col4\" class=\"data row13 col4\" >AFG</td>\n",
       "    </tr>\n",
       "    <tr>\n",
       "      <th id=\"T_a290e_level0_row14\" class=\"row_heading level0 row14\" >14</th>\n",
       "      <td id=\"T_a290e_row14_col0\" class=\"data row14 col0\" >1.989</td>\n",
       "      <td id=\"T_a290e_row14_col1\" class=\"data row14 col1\" >27.822</td>\n",
       "      <td id=\"T_a290e_row14_col2\" class=\"data row14 col2\" >11.874.088,0000</td>\n",
       "      <td id=\"T_a290e_row14_col3\" class=\"data row14 col3\" >0,2343</td>\n",
       "      <td id=\"T_a290e_row14_col4\" class=\"data row14 col4\" >AFG</td>\n",
       "    </tr>\n",
       "    <tr>\n",
       "      <th id=\"T_a290e_level0_row15\" class=\"row_heading level0 row15\" >15</th>\n",
       "      <td id=\"T_a290e_row15_col0\" class=\"data row15 col0\" >1.990</td>\n",
       "      <td id=\"T_a290e_row15_col1\" class=\"data row15 col1\" >28.937</td>\n",
       "      <td id=\"T_a290e_row15_col2\" class=\"data row15 col2\" >12.045.660,0000</td>\n",
       "      <td id=\"T_a290e_row15_col3\" class=\"data row15 col3\" >0,2402</td>\n",
       "      <td id=\"T_a290e_row15_col4\" class=\"data row15 col4\" >AFG</td>\n",
       "    </tr>\n",
       "    <tr>\n",
       "      <th id=\"T_a290e_level0_row16\" class=\"row_heading level0 row16\" >16</th>\n",
       "      <td id=\"T_a290e_row16_col0\" class=\"data row16 col0\" >1.991</td>\n",
       "      <td id=\"T_a290e_row16_col1\" class=\"data row16 col1\" >32.458</td>\n",
       "      <td id=\"T_a290e_row16_col2\" class=\"data row16 col2\" >12.238.879,0000</td>\n",
       "      <td id=\"T_a290e_row16_col3\" class=\"data row16 col3\" >0,2652</td>\n",
       "      <td id=\"T_a290e_row16_col4\" class=\"data row16 col4\" >AFG</td>\n",
       "    </tr>\n",
       "    <tr>\n",
       "      <th id=\"T_a290e_level0_row17\" class=\"row_heading level0 row17\" >17</th>\n",
       "      <td id=\"T_a290e_row17_col0\" class=\"data row17 col0\" >1.992</td>\n",
       "      <td id=\"T_a290e_row17_col1\" class=\"data row17 col1\" >137.962</td>\n",
       "      <td id=\"T_a290e_row17_col2\" class=\"data row17 col2\" >13.278.974,0000</td>\n",
       "      <td id=\"T_a290e_row17_col3\" class=\"data row17 col3\" >1,0390</td>\n",
       "      <td id=\"T_a290e_row17_col4\" class=\"data row17 col4\" >AFG</td>\n",
       "    </tr>\n",
       "    <tr>\n",
       "      <th id=\"T_a290e_level0_row18\" class=\"row_heading level0 row18\" >18</th>\n",
       "      <td id=\"T_a290e_row18_col0\" class=\"data row18 col0\" >1.993</td>\n",
       "      <td id=\"T_a290e_row18_col1\" class=\"data row18 col1\" >24.693</td>\n",
       "      <td id=\"T_a290e_row18_col2\" class=\"data row18 col2\" >14.943.172,0000</td>\n",
       "      <td id=\"T_a290e_row18_col3\" class=\"data row18 col3\" >0,1652</td>\n",
       "      <td id=\"T_a290e_row18_col4\" class=\"data row18 col4\" >AFG</td>\n",
       "    </tr>\n",
       "    <tr>\n",
       "      <th id=\"T_a290e_level0_row19\" class=\"row_heading level0 row19\" >19</th>\n",
       "      <td id=\"T_a290e_row19_col0\" class=\"data row19 col0\" >1.994</td>\n",
       "      <td id=\"T_a290e_row19_col1\" class=\"data row19 col1\" >41.285</td>\n",
       "      <td id=\"T_a290e_row19_col2\" class=\"data row19 col2\" >16.250.794,0000</td>\n",
       "      <td id=\"T_a290e_row19_col3\" class=\"data row19 col3\" >0,2540</td>\n",
       "      <td id=\"T_a290e_row19_col4\" class=\"data row19 col4\" >AFG</td>\n",
       "    </tr>\n",
       "    <tr>\n",
       "      <th id=\"T_a290e_level0_row20\" class=\"row_heading level0 row20\" >20</th>\n",
       "      <td id=\"T_a290e_row20_col0\" class=\"data row20 col0\" >1.995</td>\n",
       "      <td id=\"T_a290e_row20_col1\" class=\"data row20 col1\" >13.229</td>\n",
       "      <td id=\"T_a290e_row20_col2\" class=\"data row20 col2\" >17.065.836,0000</td>\n",
       "      <td id=\"T_a290e_row20_col3\" class=\"data row20 col3\" >0,0775</td>\n",
       "      <td id=\"T_a290e_row20_col4\" class=\"data row20 col4\" >AFG</td>\n",
       "    </tr>\n",
       "    <tr>\n",
       "      <th id=\"T_a290e_level0_row21\" class=\"row_heading level0 row21\" >21</th>\n",
       "      <td id=\"T_a290e_row21_col0\" class=\"data row21 col0\" >1.996</td>\n",
       "      <td id=\"T_a290e_row21_col1\" class=\"data row21 col1\" >56.446</td>\n",
       "      <td id=\"T_a290e_row21_col2\" class=\"data row21 col2\" >17.763.266,0000</td>\n",
       "      <td id=\"T_a290e_row21_col3\" class=\"data row21 col3\" >0,3178</td>\n",
       "      <td id=\"T_a290e_row21_col4\" class=\"data row21 col4\" >AFG</td>\n",
       "    </tr>\n",
       "    <tr>\n",
       "      <th id=\"T_a290e_level0_row22\" class=\"row_heading level0 row22\" >22</th>\n",
       "      <td id=\"T_a290e_row22_col0\" class=\"data row22 col0\" >1.997</td>\n",
       "      <td id=\"T_a290e_row22_col1\" class=\"data row22 col1\" >33.316</td>\n",
       "      <td id=\"T_a290e_row22_col2\" class=\"data row22 col2\" >18.452.091,0000</td>\n",
       "      <td id=\"T_a290e_row22_col3\" class=\"data row22 col3\" >0,1806</td>\n",
       "      <td id=\"T_a290e_row22_col4\" class=\"data row22 col4\" >AFG</td>\n",
       "    </tr>\n",
       "    <tr>\n",
       "      <th id=\"T_a290e_level0_row23\" class=\"row_heading level0 row23\" >23</th>\n",
       "      <td id=\"T_a290e_row23_col0\" class=\"data row23 col0\" >1.998</td>\n",
       "      <td id=\"T_a290e_row23_col1\" class=\"data row23 col1\" >19.719</td>\n",
       "      <td id=\"T_a290e_row23_col2\" class=\"data row23 col2\" >19.159.996,0000</td>\n",
       "      <td id=\"T_a290e_row23_col3\" class=\"data row23 col3\" >0,1029</td>\n",
       "      <td id=\"T_a290e_row23_col4\" class=\"data row23 col4\" >AFG</td>\n",
       "    </tr>\n",
       "    <tr>\n",
       "      <th id=\"T_a290e_level0_row24\" class=\"row_heading level0 row24\" >24</th>\n",
       "      <td id=\"T_a290e_row24_col0\" class=\"data row24 col0\" >1.999</td>\n",
       "      <td id=\"T_a290e_row24_col1\" class=\"data row24 col1\" >118.368</td>\n",
       "      <td id=\"T_a290e_row24_col2\" class=\"data row24 col2\" >19.887.785,0000</td>\n",
       "      <td id=\"T_a290e_row24_col3\" class=\"data row24 col3\" >0,5952</td>\n",
       "      <td id=\"T_a290e_row24_col4\" class=\"data row24 col4\" >AFG</td>\n",
       "    </tr>\n",
       "    <tr>\n",
       "      <th id=\"T_a290e_level0_row25\" class=\"row_heading level0 row25\" >25</th>\n",
       "      <td id=\"T_a290e_row25_col0\" class=\"data row25 col0\" >2.000</td>\n",
       "      <td id=\"T_a290e_row25_col1\" class=\"data row25 col1\" >633.338</td>\n",
       "      <td id=\"T_a290e_row25_col2\" class=\"data row25 col2\" >20.130.327,0000</td>\n",
       "      <td id=\"T_a290e_row25_col3\" class=\"data row25 col3\" >3,1462</td>\n",
       "      <td id=\"T_a290e_row25_col4\" class=\"data row25 col4\" >AFG</td>\n",
       "    </tr>\n",
       "    <tr>\n",
       "      <th id=\"T_a290e_level0_row26\" class=\"row_heading level0 row26\" >26</th>\n",
       "      <td id=\"T_a290e_row26_col0\" class=\"data row26 col0\" >2.001</td>\n",
       "      <td id=\"T_a290e_row26_col1\" class=\"data row26 col1\" >358.249</td>\n",
       "      <td id=\"T_a290e_row26_col2\" class=\"data row26 col2\" >20.284.307,0000</td>\n",
       "      <td id=\"T_a290e_row26_col3\" class=\"data row26 col3\" >1,7661</td>\n",
       "      <td id=\"T_a290e_row26_col4\" class=\"data row26 col4\" >AFG</td>\n",
       "    </tr>\n",
       "    <tr>\n",
       "      <th id=\"T_a290e_level0_row27\" class=\"row_heading level0 row27\" >27</th>\n",
       "      <td id=\"T_a290e_row27_col0\" class=\"data row27 col0\" >2.002</td>\n",
       "      <td id=\"T_a290e_row27_col1\" class=\"data row27 col1\" >128.932</td>\n",
       "      <td id=\"T_a290e_row27_col2\" class=\"data row27 col2\" >21.378.117,0000</td>\n",
       "      <td id=\"T_a290e_row27_col3\" class=\"data row27 col3\" >0,6031</td>\n",
       "      <td id=\"T_a290e_row27_col4\" class=\"data row27 col4\" >AFG</td>\n",
       "    </tr>\n",
       "    <tr>\n",
       "      <th id=\"T_a290e_level0_row28\" class=\"row_heading level0 row28\" >28</th>\n",
       "      <td id=\"T_a290e_row28_col0\" class=\"data row28 col0\" >2.003</td>\n",
       "      <td id=\"T_a290e_row28_col1\" class=\"data row28 col1\" >119.193</td>\n",
       "      <td id=\"T_a290e_row28_col2\" class=\"data row28 col2\" >22.733.049,0000</td>\n",
       "      <td id=\"T_a290e_row28_col3\" class=\"data row28 col3\" >0,5243</td>\n",
       "      <td id=\"T_a290e_row28_col4\" class=\"data row28 col4\" >AFG</td>\n",
       "    </tr>\n",
       "    <tr>\n",
       "      <th id=\"T_a290e_level0_row29\" class=\"row_heading level0 row29\" >29</th>\n",
       "      <td id=\"T_a290e_row29_col0\" class=\"data row29 col0\" >2.004</td>\n",
       "      <td id=\"T_a290e_row29_col1\" class=\"data row29 col1\" >111.572</td>\n",
       "      <td id=\"T_a290e_row29_col2\" class=\"data row29 col2\" >23.560.654,0000</td>\n",
       "      <td id=\"T_a290e_row29_col3\" class=\"data row29 col3\" >0,4736</td>\n",
       "      <td id=\"T_a290e_row29_col4\" class=\"data row29 col4\" >AFG</td>\n",
       "    </tr>\n",
       "    <tr>\n",
       "      <th id=\"T_a290e_level0_row30\" class=\"row_heading level0 row30\" >30</th>\n",
       "      <td id=\"T_a290e_row30_col0\" class=\"data row30 col0\" >2.005</td>\n",
       "      <td id=\"T_a290e_row30_col1\" class=\"data row30 col1\" >109.569</td>\n",
       "      <td id=\"T_a290e_row30_col2\" class=\"data row30 col2\" >24.404.567,0000</td>\n",
       "      <td id=\"T_a290e_row30_col3\" class=\"data row30 col3\" >0,4490</td>\n",
       "      <td id=\"T_a290e_row30_col4\" class=\"data row30 col4\" >AFG</td>\n",
       "    </tr>\n",
       "    <tr>\n",
       "      <th id=\"T_a290e_level0_row31\" class=\"row_heading level0 row31\" >31</th>\n",
       "      <td id=\"T_a290e_row31_col0\" class=\"data row31 col0\" >2.006</td>\n",
       "      <td id=\"T_a290e_row31_col1\" class=\"data row31 col1\" >111.352</td>\n",
       "      <td id=\"T_a290e_row31_col2\" class=\"data row31 col2\" >25.424.094,0000</td>\n",
       "      <td id=\"T_a290e_row31_col3\" class=\"data row31 col3\" >0,4380</td>\n",
       "      <td id=\"T_a290e_row31_col4\" class=\"data row31 col4\" >AFG</td>\n",
       "    </tr>\n",
       "    <tr>\n",
       "      <th id=\"T_a290e_level0_row32\" class=\"row_heading level0 row32\" >32</th>\n",
       "      <td id=\"T_a290e_row32_col0\" class=\"data row32 col0\" >2.007</td>\n",
       "      <td id=\"T_a290e_row32_col1\" class=\"data row32 col1\" >115.019</td>\n",
       "      <td id=\"T_a290e_row32_col2\" class=\"data row32 col2\" >25.909.852,0000</td>\n",
       "      <td id=\"T_a290e_row32_col3\" class=\"data row32 col3\" >0,4439</td>\n",
       "      <td id=\"T_a290e_row32_col4\" class=\"data row32 col4\" >AFG</td>\n",
       "    </tr>\n",
       "    <tr>\n",
       "      <th id=\"T_a290e_level0_row33\" class=\"row_heading level0 row33\" >33</th>\n",
       "      <td id=\"T_a290e_row33_col0\" class=\"data row33 col0\" >2.008</td>\n",
       "      <td id=\"T_a290e_row33_col1\" class=\"data row33 col1\" >127.441</td>\n",
       "      <td id=\"T_a290e_row33_col2\" class=\"data row33 col2\" >26.482.622,0000</td>\n",
       "      <td id=\"T_a290e_row33_col3\" class=\"data row33 col3\" >0,4812</td>\n",
       "      <td id=\"T_a290e_row33_col4\" class=\"data row33 col4\" >AFG</td>\n",
       "    </tr>\n",
       "    <tr>\n",
       "      <th id=\"T_a290e_level0_row34\" class=\"row_heading level0 row34\" >34</th>\n",
       "      <td id=\"T_a290e_row34_col0\" class=\"data row34 col0\" >2.009</td>\n",
       "      <td id=\"T_a290e_row34_col1\" class=\"data row34 col1\" >139.454</td>\n",
       "      <td id=\"T_a290e_row34_col2\" class=\"data row34 col2\" >27.466.101,0000</td>\n",
       "      <td id=\"T_a290e_row34_col3\" class=\"data row34 col3\" >0,5077</td>\n",
       "      <td id=\"T_a290e_row34_col4\" class=\"data row34 col4\" >AFG</td>\n",
       "    </tr>\n",
       "    <tr>\n",
       "      <th id=\"T_a290e_level0_row35\" class=\"row_heading level0 row35\" >35</th>\n",
       "      <td id=\"T_a290e_row35_col0\" class=\"data row35 col0\" >2.010</td>\n",
       "      <td id=\"T_a290e_row35_col1\" class=\"data row35 col1\" >136.158</td>\n",
       "      <td id=\"T_a290e_row35_col2\" class=\"data row35 col2\" >28.284.089,0000</td>\n",
       "      <td id=\"T_a290e_row35_col3\" class=\"data row35 col3\" >0,4814</td>\n",
       "      <td id=\"T_a290e_row35_col4\" class=\"data row35 col4\" >AFG</td>\n",
       "    </tr>\n",
       "    <tr>\n",
       "      <th id=\"T_a290e_level0_row36\" class=\"row_heading level0 row36\" >36</th>\n",
       "      <td id=\"T_a290e_row36_col0\" class=\"data row36 col0\" >2.011</td>\n",
       "      <td id=\"T_a290e_row36_col1\" class=\"data row36 col1\" >143.170</td>\n",
       "      <td id=\"T_a290e_row36_col2\" class=\"data row36 col2\" >29.347.708,0000</td>\n",
       "      <td id=\"T_a290e_row36_col3\" class=\"data row36 col3\" >0,4878</td>\n",
       "      <td id=\"T_a290e_row36_col4\" class=\"data row36 col4\" >AFG</td>\n",
       "    </tr>\n",
       "    <tr>\n",
       "      <th id=\"T_a290e_level0_row37\" class=\"row_heading level0 row37\" >37</th>\n",
       "      <td id=\"T_a290e_row37_col0\" class=\"data row37 col0\" >2.012</td>\n",
       "      <td id=\"T_a290e_row37_col1\" class=\"data row37 col1\" >158.375</td>\n",
       "      <td id=\"T_a290e_row37_col2\" class=\"data row37 col2\" >30.560.034,0000</td>\n",
       "      <td id=\"T_a290e_row37_col3\" class=\"data row37 col3\" >0,5182</td>\n",
       "      <td id=\"T_a290e_row37_col4\" class=\"data row37 col4\" >AFG</td>\n",
       "    </tr>\n",
       "    <tr>\n",
       "      <th id=\"T_a290e_level0_row38\" class=\"row_heading level0 row38\" >38</th>\n",
       "      <td id=\"T_a290e_row38_col0\" class=\"data row38 col0\" >2.013</td>\n",
       "      <td id=\"T_a290e_row38_col1\" class=\"data row38 col1\" >148.019</td>\n",
       "      <td id=\"T_a290e_row38_col2\" class=\"data row38 col2\" >31.622.704,0000</td>\n",
       "      <td id=\"T_a290e_row38_col3\" class=\"data row38 col3\" >0,4681</td>\n",
       "      <td id=\"T_a290e_row38_col4\" class=\"data row38 col4\" >AFG</td>\n",
       "    </tr>\n",
       "    <tr>\n",
       "      <th id=\"T_a290e_level0_row39\" class=\"row_heading level0 row39\" >39</th>\n",
       "      <td id=\"T_a290e_row39_col0\" class=\"data row39 col0\" >2.014</td>\n",
       "      <td id=\"T_a290e_row39_col1\" class=\"data row39 col1\" >171.334</td>\n",
       "      <td id=\"T_a290e_row39_col2\" class=\"data row39 col2\" >32.792.523,0000</td>\n",
       "      <td id=\"T_a290e_row39_col3\" class=\"data row39 col3\" >0,5225</td>\n",
       "      <td id=\"T_a290e_row39_col4\" class=\"data row39 col4\" >AFG</td>\n",
       "    </tr>\n",
       "    <tr>\n",
       "      <th id=\"T_a290e_level0_row40\" class=\"row_heading level0 row40\" >40</th>\n",
       "      <td id=\"T_a290e_row40_col0\" class=\"data row40 col0\" >2.015</td>\n",
       "      <td id=\"T_a290e_row40_col1\" class=\"data row40 col1\" >368.960</td>\n",
       "      <td id=\"T_a290e_row40_col2\" class=\"data row40 col2\" >33.831.764,0000</td>\n",
       "      <td id=\"T_a290e_row40_col3\" class=\"data row40 col3\" >1,0906</td>\n",
       "      <td id=\"T_a290e_row40_col4\" class=\"data row40 col4\" >AFG</td>\n",
       "    </tr>\n",
       "    <tr>\n",
       "      <th id=\"T_a290e_level0_row41\" class=\"row_heading level0 row41\" >41</th>\n",
       "      <td id=\"T_a290e_row41_col0\" class=\"data row41 col0\" >2.016</td>\n",
       "      <td id=\"T_a290e_row41_col1\" class=\"data row41 col1\" >335.769</td>\n",
       "      <td id=\"T_a290e_row41_col2\" class=\"data row41 col2\" >34.700.612,0000</td>\n",
       "      <td id=\"T_a290e_row41_col3\" class=\"data row41 col3\" >0,9676</td>\n",
       "      <td id=\"T_a290e_row41_col4\" class=\"data row41 col4\" >AFG</td>\n",
       "    </tr>\n",
       "    <tr>\n",
       "      <th id=\"T_a290e_level0_row42\" class=\"row_heading level0 row42\" >42</th>\n",
       "      <td id=\"T_a290e_row42_col0\" class=\"data row42 col0\" >2.017</td>\n",
       "      <td id=\"T_a290e_row42_col1\" class=\"data row42 col1\" >226.123</td>\n",
       "      <td id=\"T_a290e_row42_col2\" class=\"data row42 col2\" >35.688.935,0000</td>\n",
       "      <td id=\"T_a290e_row42_col3\" class=\"data row42 col3\" >0,6336</td>\n",
       "      <td id=\"T_a290e_row42_col4\" class=\"data row42 col4\" >AFG</td>\n",
       "    </tr>\n",
       "    <tr>\n",
       "      <th id=\"T_a290e_level0_row43\" class=\"row_heading level0 row43\" >43</th>\n",
       "      <td id=\"T_a290e_row43_col0\" class=\"data row43 col0\" >2.018</td>\n",
       "      <td id=\"T_a290e_row43_col1\" class=\"data row43 col1\" >215.770</td>\n",
       "      <td id=\"T_a290e_row43_col2\" class=\"data row43 col2\" >36.743.039,0000</td>\n",
       "      <td id=\"T_a290e_row43_col3\" class=\"data row43 col3\" >0,5872</td>\n",
       "      <td id=\"T_a290e_row43_col4\" class=\"data row43 col4\" >AFG</td>\n",
       "    </tr>\n",
       "    <tr>\n",
       "      <th id=\"T_a290e_level0_row44\" class=\"row_heading level0 row44\" >44</th>\n",
       "      <td id=\"T_a290e_row44_col0\" class=\"data row44 col0\" >2.019</td>\n",
       "      <td id=\"T_a290e_row44_col1\" class=\"data row44 col1\" >231.785</td>\n",
       "      <td id=\"T_a290e_row44_col2\" class=\"data row44 col2\" >37.856.121,0000</td>\n",
       "      <td id=\"T_a290e_row44_col3\" class=\"data row44 col3\" >0,6123</td>\n",
       "      <td id=\"T_a290e_row44_col4\" class=\"data row44 col4\" >AFG</td>\n",
       "    </tr>\n",
       "    <tr>\n",
       "      <th id=\"T_a290e_level0_row45\" class=\"row_heading level0 row45\" >45</th>\n",
       "      <td id=\"T_a290e_row45_col0\" class=\"data row45 col0\" >2.020</td>\n",
       "      <td id=\"T_a290e_row45_col1\" class=\"data row45 col1\" >175.760</td>\n",
       "      <td id=\"T_a290e_row45_col2\" class=\"data row45 col2\" >39.068.979,0000</td>\n",
       "      <td id=\"T_a290e_row45_col3\" class=\"data row45 col3\" >0,4499</td>\n",
       "      <td id=\"T_a290e_row45_col4\" class=\"data row45 col4\" >AFG</td>\n",
       "    </tr>\n",
       "    <tr>\n",
       "      <th id=\"T_a290e_level0_row46\" class=\"row_heading level0 row46\" >46</th>\n",
       "      <td id=\"T_a290e_row46_col0\" class=\"data row46 col0\" >2.021</td>\n",
       "      <td id=\"T_a290e_row46_col1\" class=\"data row46 col1\" >917.020</td>\n",
       "      <td id=\"T_a290e_row46_col2\" class=\"data row46 col2\" >40.000.412,0000</td>\n",
       "      <td id=\"T_a290e_row46_col3\" class=\"data row46 col3\" >2,2925</td>\n",
       "      <td id=\"T_a290e_row46_col4\" class=\"data row46 col4\" >AFG</td>\n",
       "    </tr>\n",
       "    <tr>\n",
       "      <th id=\"T_a290e_level0_row47\" class=\"row_heading level0 row47\" >47</th>\n",
       "      <td id=\"T_a290e_row47_col0\" class=\"data row47 col0\" >2.022</td>\n",
       "      <td id=\"T_a290e_row47_col1\" class=\"data row47 col1\" >816.434</td>\n",
       "      <td id=\"T_a290e_row47_col2\" class=\"data row47 col2\" >40.578.842,0000</td>\n",
       "      <td id=\"T_a290e_row47_col3\" class=\"data row47 col3\" >2,0120</td>\n",
       "      <td id=\"T_a290e_row47_col4\" class=\"data row47 col4\" >AFG</td>\n",
       "    </tr>\n",
       "    <tr>\n",
       "      <th id=\"T_a290e_level0_row48\" class=\"row_heading level0 row48\" >48</th>\n",
       "      <td id=\"T_a290e_row48_col0\" class=\"data row48 col0\" >2.023</td>\n",
       "      <td id=\"T_a290e_row48_col1\" class=\"data row48 col1\" >439.530</td>\n",
       "      <td id=\"T_a290e_row48_col2\" class=\"data row48 col2\" >41.454.761,0000</td>\n",
       "      <td id=\"T_a290e_row48_col3\" class=\"data row48 col3\" >1,0603</td>\n",
       "      <td id=\"T_a290e_row48_col4\" class=\"data row48 col4\" >AFG</td>\n",
       "    </tr>\n",
       "  </tbody>\n",
       "</table>\n"
      ],
      "text/plain": [
       "<pandas.io.formats.style.Styler at 0x19c545ad820>"
      ]
     },
     "execution_count": 23,
     "metadata": {},
     "output_type": "execute_result"
    }
   ],
   "source": [
    "af = Country_population_data('AFG', population, asylum)\n",
    "af.style.format(precision=4, thousands=\".\", decimal=\",\")\n"
   ]
  },
  {
   "cell_type": "code",
   "execution_count": null,
   "metadata": {},
   "outputs": [
    {
     "data": {
      "text/html": [
       "<div>\n",
       "<style scoped>\n",
       "    .dataframe tbody tr th:only-of-type {\n",
       "        vertical-align: middle;\n",
       "    }\n",
       "\n",
       "    .dataframe tbody tr th {\n",
       "        vertical-align: top;\n",
       "    }\n",
       "\n",
       "    .dataframe thead th {\n",
       "        text-align: right;\n",
       "    }\n",
       "</style>\n",
       "<table border=\"1\" class=\"dataframe\">\n",
       "  <thead>\n",
       "    <tr style=\"text-align: right;\">\n",
       "      <th></th>\n",
       "      <th>year</th>\n",
       "      <th>displaced</th>\n",
       "      <th>population</th>\n",
       "      <th>percentage_of_population_migration</th>\n",
       "      <th>country_of_origin_abbr</th>\n",
       "    </tr>\n",
       "  </thead>\n",
       "  <tbody>\n",
       "    <tr>\n",
       "      <th>0</th>\n",
       "      <td>1970</td>\n",
       "      <td>176</td>\n",
       "      <td>6380609.0</td>\n",
       "      <td>0.002758</td>\n",
       "      <td>SYR</td>\n",
       "    </tr>\n",
       "    <tr>\n",
       "      <th>1</th>\n",
       "      <td>1971</td>\n",
       "      <td>209</td>\n",
       "      <td>6598094.0</td>\n",
       "      <td>0.003168</td>\n",
       "      <td>SYR</td>\n",
       "    </tr>\n",
       "    <tr>\n",
       "      <th>2</th>\n",
       "      <td>1972</td>\n",
       "      <td>143</td>\n",
       "      <td>6826024.0</td>\n",
       "      <td>0.002095</td>\n",
       "      <td>SYR</td>\n",
       "    </tr>\n",
       "    <tr>\n",
       "      <th>3</th>\n",
       "      <td>1973</td>\n",
       "      <td>5</td>\n",
       "      <td>7060321.0</td>\n",
       "      <td>0.000071</td>\n",
       "      <td>SYR</td>\n",
       "    </tr>\n",
       "    <tr>\n",
       "      <th>4</th>\n",
       "      <td>1974</td>\n",
       "      <td>5</td>\n",
       "      <td>7302160.0</td>\n",
       "      <td>0.000068</td>\n",
       "      <td>SYR</td>\n",
       "    </tr>\n",
       "    <tr>\n",
       "      <th>5</th>\n",
       "      <td>1975</td>\n",
       "      <td>10</td>\n",
       "      <td>7554364.0</td>\n",
       "      <td>0.000132</td>\n",
       "      <td>SYR</td>\n",
       "    </tr>\n",
       "    <tr>\n",
       "      <th>6</th>\n",
       "      <td>1976</td>\n",
       "      <td>247</td>\n",
       "      <td>7817320.0</td>\n",
       "      <td>0.003160</td>\n",
       "      <td>SYR</td>\n",
       "    </tr>\n",
       "    <tr>\n",
       "      <th>7</th>\n",
       "      <td>1977</td>\n",
       "      <td>254</td>\n",
       "      <td>8090501.0</td>\n",
       "      <td>0.003139</td>\n",
       "      <td>SYR</td>\n",
       "    </tr>\n",
       "    <tr>\n",
       "      <th>8</th>\n",
       "      <td>1978</td>\n",
       "      <td>373</td>\n",
       "      <td>8372759.0</td>\n",
       "      <td>0.004455</td>\n",
       "      <td>SYR</td>\n",
       "    </tr>\n",
       "    <tr>\n",
       "      <th>9</th>\n",
       "      <td>1979</td>\n",
       "      <td>84</td>\n",
       "      <td>8661909.0</td>\n",
       "      <td>0.000970</td>\n",
       "      <td>SYR</td>\n",
       "    </tr>\n",
       "    <tr>\n",
       "      <th>10</th>\n",
       "      <td>1980</td>\n",
       "      <td>753</td>\n",
       "      <td>8957663.0</td>\n",
       "      <td>0.008406</td>\n",
       "      <td>SYR</td>\n",
       "    </tr>\n",
       "    <tr>\n",
       "      <th>11</th>\n",
       "      <td>1981</td>\n",
       "      <td>563</td>\n",
       "      <td>9260189.0</td>\n",
       "      <td>0.006080</td>\n",
       "      <td>SYR</td>\n",
       "    </tr>\n",
       "    <tr>\n",
       "      <th>12</th>\n",
       "      <td>1982</td>\n",
       "      <td>266</td>\n",
       "      <td>9572511.0</td>\n",
       "      <td>0.002779</td>\n",
       "      <td>SYR</td>\n",
       "    </tr>\n",
       "    <tr>\n",
       "      <th>13</th>\n",
       "      <td>1983</td>\n",
       "      <td>362</td>\n",
       "      <td>9904809.0</td>\n",
       "      <td>0.003655</td>\n",
       "      <td>SYR</td>\n",
       "    </tr>\n",
       "    <tr>\n",
       "      <th>14</th>\n",
       "      <td>1984</td>\n",
       "      <td>619</td>\n",
       "      <td>10258398.0</td>\n",
       "      <td>0.006034</td>\n",
       "      <td>SYR</td>\n",
       "    </tr>\n",
       "    <tr>\n",
       "      <th>15</th>\n",
       "      <td>1985</td>\n",
       "      <td>731</td>\n",
       "      <td>10625672.0</td>\n",
       "      <td>0.006880</td>\n",
       "      <td>SYR</td>\n",
       "    </tr>\n",
       "    <tr>\n",
       "      <th>16</th>\n",
       "      <td>1986</td>\n",
       "      <td>2876</td>\n",
       "      <td>11002844.0</td>\n",
       "      <td>0.026139</td>\n",
       "      <td>SYR</td>\n",
       "    </tr>\n",
       "    <tr>\n",
       "      <th>17</th>\n",
       "      <td>1987</td>\n",
       "      <td>1620</td>\n",
       "      <td>11388923.0</td>\n",
       "      <td>0.014224</td>\n",
       "      <td>SYR</td>\n",
       "    </tr>\n",
       "    <tr>\n",
       "      <th>18</th>\n",
       "      <td>1988</td>\n",
       "      <td>2040</td>\n",
       "      <td>11782264.0</td>\n",
       "      <td>0.017314</td>\n",
       "      <td>SYR</td>\n",
       "    </tr>\n",
       "    <tr>\n",
       "      <th>19</th>\n",
       "      <td>1989</td>\n",
       "      <td>3213</td>\n",
       "      <td>12179060.0</td>\n",
       "      <td>0.026381</td>\n",
       "      <td>SYR</td>\n",
       "    </tr>\n",
       "    <tr>\n",
       "      <th>20</th>\n",
       "      <td>1990</td>\n",
       "      <td>6925</td>\n",
       "      <td>12579208.0</td>\n",
       "      <td>0.055051</td>\n",
       "      <td>SYR</td>\n",
       "    </tr>\n",
       "    <tr>\n",
       "      <th>21</th>\n",
       "      <td>1991</td>\n",
       "      <td>3434</td>\n",
       "      <td>12980821.0</td>\n",
       "      <td>0.026454</td>\n",
       "      <td>SYR</td>\n",
       "    </tr>\n",
       "    <tr>\n",
       "      <th>22</th>\n",
       "      <td>1992</td>\n",
       "      <td>2890</td>\n",
       "      <td>13385571.0</td>\n",
       "      <td>0.021590</td>\n",
       "      <td>SYR</td>\n",
       "    </tr>\n",
       "    <tr>\n",
       "      <th>23</th>\n",
       "      <td>1993</td>\n",
       "      <td>2557</td>\n",
       "      <td>13795686.0</td>\n",
       "      <td>0.018535</td>\n",
       "      <td>SYR</td>\n",
       "    </tr>\n",
       "    <tr>\n",
       "      <th>24</th>\n",
       "      <td>1994</td>\n",
       "      <td>2106</td>\n",
       "      <td>14208583.0</td>\n",
       "      <td>0.014822</td>\n",
       "      <td>SYR</td>\n",
       "    </tr>\n",
       "    <tr>\n",
       "      <th>25</th>\n",
       "      <td>1995</td>\n",
       "      <td>2451</td>\n",
       "      <td>14616801.0</td>\n",
       "      <td>0.016768</td>\n",
       "      <td>SYR</td>\n",
       "    </tr>\n",
       "    <tr>\n",
       "      <th>26</th>\n",
       "      <td>1996</td>\n",
       "      <td>3293</td>\n",
       "      <td>15018104.0</td>\n",
       "      <td>0.021927</td>\n",
       "      <td>SYR</td>\n",
       "    </tr>\n",
       "    <tr>\n",
       "      <th>27</th>\n",
       "      <td>1997</td>\n",
       "      <td>3155</td>\n",
       "      <td>15417542.0</td>\n",
       "      <td>0.020464</td>\n",
       "      <td>SYR</td>\n",
       "    </tr>\n",
       "    <tr>\n",
       "      <th>28</th>\n",
       "      <td>1998</td>\n",
       "      <td>3419</td>\n",
       "      <td>15820413.0</td>\n",
       "      <td>0.021611</td>\n",
       "      <td>SYR</td>\n",
       "    </tr>\n",
       "    <tr>\n",
       "      <th>29</th>\n",
       "      <td>1999</td>\n",
       "      <td>4421</td>\n",
       "      <td>16228061.0</td>\n",
       "      <td>0.027243</td>\n",
       "      <td>SYR</td>\n",
       "    </tr>\n",
       "    <tr>\n",
       "      <th>30</th>\n",
       "      <td>2000</td>\n",
       "      <td>5677</td>\n",
       "      <td>16637888.0</td>\n",
       "      <td>0.034121</td>\n",
       "      <td>SYR</td>\n",
       "    </tr>\n",
       "    <tr>\n",
       "      <th>31</th>\n",
       "      <td>2001</td>\n",
       "      <td>4700</td>\n",
       "      <td>17051338.0</td>\n",
       "      <td>0.027564</td>\n",
       "      <td>SYR</td>\n",
       "    </tr>\n",
       "    <tr>\n",
       "      <th>32</th>\n",
       "      <td>2002</td>\n",
       "      <td>4030</td>\n",
       "      <td>17468332.0</td>\n",
       "      <td>0.023070</td>\n",
       "      <td>SYR</td>\n",
       "    </tr>\n",
       "    <tr>\n",
       "      <th>33</th>\n",
       "      <td>2003</td>\n",
       "      <td>3867</td>\n",
       "      <td>17889296.0</td>\n",
       "      <td>0.021616</td>\n",
       "      <td>SYR</td>\n",
       "    </tr>\n",
       "    <tr>\n",
       "      <th>34</th>\n",
       "      <td>2004</td>\n",
       "      <td>3603</td>\n",
       "      <td>18336875.0</td>\n",
       "      <td>0.019649</td>\n",
       "      <td>SYR</td>\n",
       "    </tr>\n",
       "    <tr>\n",
       "      <th>35</th>\n",
       "      <td>2005</td>\n",
       "      <td>4766</td>\n",
       "      <td>18814091.0</td>\n",
       "      <td>0.025332</td>\n",
       "      <td>SYR</td>\n",
       "    </tr>\n",
       "    <tr>\n",
       "      <th>36</th>\n",
       "      <td>2006</td>\n",
       "      <td>4118</td>\n",
       "      <td>19637022.0</td>\n",
       "      <td>0.020971</td>\n",
       "      <td>SYR</td>\n",
       "    </tr>\n",
       "    <tr>\n",
       "      <th>37</th>\n",
       "      <td>2007</td>\n",
       "      <td>5781</td>\n",
       "      <td>20884125.0</td>\n",
       "      <td>0.027681</td>\n",
       "      <td>SYR</td>\n",
       "    </tr>\n",
       "    <tr>\n",
       "      <th>38</th>\n",
       "      <td>2008</td>\n",
       "      <td>5769</td>\n",
       "      <td>21636564.0</td>\n",
       "      <td>0.026663</td>\n",
       "      <td>SYR</td>\n",
       "    </tr>\n",
       "    <tr>\n",
       "      <th>39</th>\n",
       "      <td>2009</td>\n",
       "      <td>5941</td>\n",
       "      <td>21976969.0</td>\n",
       "      <td>0.027033</td>\n",
       "      <td>SYR</td>\n",
       "    </tr>\n",
       "    <tr>\n",
       "      <th>40</th>\n",
       "      <td>2010</td>\n",
       "      <td>7899</td>\n",
       "      <td>22482421.0</td>\n",
       "      <td>0.035134</td>\n",
       "      <td>SYR</td>\n",
       "    </tr>\n",
       "    <tr>\n",
       "      <th>41</th>\n",
       "      <td>2011</td>\n",
       "      <td>12714</td>\n",
       "      <td>22878098.0</td>\n",
       "      <td>0.055573</td>\n",
       "      <td>SYR</td>\n",
       "    </tr>\n",
       "    <tr>\n",
       "      <th>42</th>\n",
       "      <td>2012</td>\n",
       "      <td>680042</td>\n",
       "      <td>22759763.0</td>\n",
       "      <td>2.987913</td>\n",
       "      <td>SYR</td>\n",
       "    </tr>\n",
       "    <tr>\n",
       "      <th>43</th>\n",
       "      <td>2013</td>\n",
       "      <td>2265655</td>\n",
       "      <td>21666917.0</td>\n",
       "      <td>10.456748</td>\n",
       "      <td>SYR</td>\n",
       "    </tr>\n",
       "    <tr>\n",
       "      <th>44</th>\n",
       "      <td>2014</td>\n",
       "      <td>1724889</td>\n",
       "      <td>20273659.0</td>\n",
       "      <td>8.508030</td>\n",
       "      <td>SYR</td>\n",
       "    </tr>\n",
       "    <tr>\n",
       "      <th>45</th>\n",
       "      <td>2015</td>\n",
       "      <td>1453978</td>\n",
       "      <td>19424618.0</td>\n",
       "      <td>7.485233</td>\n",
       "      <td>SYR</td>\n",
       "    </tr>\n",
       "    <tr>\n",
       "      <th>46</th>\n",
       "      <td>2016</td>\n",
       "      <td>759114</td>\n",
       "      <td>19193834.0</td>\n",
       "      <td>3.954989</td>\n",
       "      <td>SYR</td>\n",
       "    </tr>\n",
       "    <tr>\n",
       "      <th>47</th>\n",
       "      <td>2017</td>\n",
       "      <td>863523</td>\n",
       "      <td>19224668.0</td>\n",
       "      <td>4.491745</td>\n",
       "      <td>SYR</td>\n",
       "    </tr>\n",
       "    <tr>\n",
       "      <th>48</th>\n",
       "      <td>2018</td>\n",
       "      <td>633257</td>\n",
       "      <td>19577845.0</td>\n",
       "      <td>3.234559</td>\n",
       "      <td>SYR</td>\n",
       "    </tr>\n",
       "    <tr>\n",
       "      <th>49</th>\n",
       "      <td>2019</td>\n",
       "      <td>142197</td>\n",
       "      <td>20353534.0</td>\n",
       "      <td>0.698635</td>\n",
       "      <td>SYR</td>\n",
       "    </tr>\n",
       "    <tr>\n",
       "      <th>50</th>\n",
       "      <td>2020</td>\n",
       "      <td>79433</td>\n",
       "      <td>21049429.0</td>\n",
       "      <td>0.377364</td>\n",
       "      <td>SYR</td>\n",
       "    </tr>\n",
       "    <tr>\n",
       "      <th>51</th>\n",
       "      <td>2021</td>\n",
       "      <td>126992</td>\n",
       "      <td>21628839.0</td>\n",
       "      <td>0.587142</td>\n",
       "      <td>SYR</td>\n",
       "    </tr>\n",
       "    <tr>\n",
       "      <th>52</th>\n",
       "      <td>2022</td>\n",
       "      <td>177031</td>\n",
       "      <td>22462173.0</td>\n",
       "      <td>0.788129</td>\n",
       "      <td>SYR</td>\n",
       "    </tr>\n",
       "    <tr>\n",
       "      <th>53</th>\n",
       "      <td>2023</td>\n",
       "      <td>228225</td>\n",
       "      <td>23594623.0</td>\n",
       "      <td>0.967275</td>\n",
       "      <td>SYR</td>\n",
       "    </tr>\n",
       "  </tbody>\n",
       "</table>\n",
       "</div>"
      ],
      "text/plain": [
       "    year  displaced  population  percentage_of_population_migration  \\\n",
       "0   1970        176   6380609.0                            0.002758   \n",
       "1   1971        209   6598094.0                            0.003168   \n",
       "2   1972        143   6826024.0                            0.002095   \n",
       "3   1973          5   7060321.0                            0.000071   \n",
       "4   1974          5   7302160.0                            0.000068   \n",
       "5   1975         10   7554364.0                            0.000132   \n",
       "6   1976        247   7817320.0                            0.003160   \n",
       "7   1977        254   8090501.0                            0.003139   \n",
       "8   1978        373   8372759.0                            0.004455   \n",
       "9   1979         84   8661909.0                            0.000970   \n",
       "10  1980        753   8957663.0                            0.008406   \n",
       "11  1981        563   9260189.0                            0.006080   \n",
       "12  1982        266   9572511.0                            0.002779   \n",
       "13  1983        362   9904809.0                            0.003655   \n",
       "14  1984        619  10258398.0                            0.006034   \n",
       "15  1985        731  10625672.0                            0.006880   \n",
       "16  1986       2876  11002844.0                            0.026139   \n",
       "17  1987       1620  11388923.0                            0.014224   \n",
       "18  1988       2040  11782264.0                            0.017314   \n",
       "19  1989       3213  12179060.0                            0.026381   \n",
       "20  1990       6925  12579208.0                            0.055051   \n",
       "21  1991       3434  12980821.0                            0.026454   \n",
       "22  1992       2890  13385571.0                            0.021590   \n",
       "23  1993       2557  13795686.0                            0.018535   \n",
       "24  1994       2106  14208583.0                            0.014822   \n",
       "25  1995       2451  14616801.0                            0.016768   \n",
       "26  1996       3293  15018104.0                            0.021927   \n",
       "27  1997       3155  15417542.0                            0.020464   \n",
       "28  1998       3419  15820413.0                            0.021611   \n",
       "29  1999       4421  16228061.0                            0.027243   \n",
       "30  2000       5677  16637888.0                            0.034121   \n",
       "31  2001       4700  17051338.0                            0.027564   \n",
       "32  2002       4030  17468332.0                            0.023070   \n",
       "33  2003       3867  17889296.0                            0.021616   \n",
       "34  2004       3603  18336875.0                            0.019649   \n",
       "35  2005       4766  18814091.0                            0.025332   \n",
       "36  2006       4118  19637022.0                            0.020971   \n",
       "37  2007       5781  20884125.0                            0.027681   \n",
       "38  2008       5769  21636564.0                            0.026663   \n",
       "39  2009       5941  21976969.0                            0.027033   \n",
       "40  2010       7899  22482421.0                            0.035134   \n",
       "41  2011      12714  22878098.0                            0.055573   \n",
       "42  2012     680042  22759763.0                            2.987913   \n",
       "43  2013    2265655  21666917.0                           10.456748   \n",
       "44  2014    1724889  20273659.0                            8.508030   \n",
       "45  2015    1453978  19424618.0                            7.485233   \n",
       "46  2016     759114  19193834.0                            3.954989   \n",
       "47  2017     863523  19224668.0                            4.491745   \n",
       "48  2018     633257  19577845.0                            3.234559   \n",
       "49  2019     142197  20353534.0                            0.698635   \n",
       "50  2020      79433  21049429.0                            0.377364   \n",
       "51  2021     126992  21628839.0                            0.587142   \n",
       "52  2022     177031  22462173.0                            0.788129   \n",
       "53  2023     228225  23594623.0                            0.967275   \n",
       "\n",
       "   country_of_origin_abbr  \n",
       "0                     SYR  \n",
       "1                     SYR  \n",
       "2                     SYR  \n",
       "3                     SYR  \n",
       "4                     SYR  \n",
       "5                     SYR  \n",
       "6                     SYR  \n",
       "7                     SYR  \n",
       "8                     SYR  \n",
       "9                     SYR  \n",
       "10                    SYR  \n",
       "11                    SYR  \n",
       "12                    SYR  \n",
       "13                    SYR  \n",
       "14                    SYR  \n",
       "15                    SYR  \n",
       "16                    SYR  \n",
       "17                    SYR  \n",
       "18                    SYR  \n",
       "19                    SYR  \n",
       "20                    SYR  \n",
       "21                    SYR  \n",
       "22                    SYR  \n",
       "23                    SYR  \n",
       "24                    SYR  \n",
       "25                    SYR  \n",
       "26                    SYR  \n",
       "27                    SYR  \n",
       "28                    SYR  \n",
       "29                    SYR  \n",
       "30                    SYR  \n",
       "31                    SYR  \n",
       "32                    SYR  \n",
       "33                    SYR  \n",
       "34                    SYR  \n",
       "35                    SYR  \n",
       "36                    SYR  \n",
       "37                    SYR  \n",
       "38                    SYR  \n",
       "39                    SYR  \n",
       "40                    SYR  \n",
       "41                    SYR  \n",
       "42                    SYR  \n",
       "43                    SYR  \n",
       "44                    SYR  \n",
       "45                    SYR  \n",
       "46                    SYR  \n",
       "47                    SYR  \n",
       "48                    SYR  \n",
       "49                    SYR  \n",
       "50                    SYR  \n",
       "51                    SYR  \n",
       "52                    SYR  \n",
       "53                    SYR  "
      ]
     },
     "execution_count": 24,
     "metadata": {},
     "output_type": "execute_result"
    }
   ],
   "source": [
    "syria = Country_population_data('SYR', population, asylum)\n",
    "syria"
   ]
  },
  {
   "cell_type": "code",
   "execution_count": null,
   "metadata": {},
   "outputs": [
    {
     "data": {
      "text/html": [
       "<style type=\"text/css\">\n",
       "</style>\n",
       "<table id=\"T_02cd8\">\n",
       "  <thead>\n",
       "    <tr>\n",
       "      <th class=\"blank level0\" >&nbsp;</th>\n",
       "      <th id=\"T_02cd8_level0_col0\" class=\"col_heading level0 col0\" >year</th>\n",
       "      <th id=\"T_02cd8_level0_col1\" class=\"col_heading level0 col1\" >displaced</th>\n",
       "      <th id=\"T_02cd8_level0_col2\" class=\"col_heading level0 col2\" >population</th>\n",
       "      <th id=\"T_02cd8_level0_col3\" class=\"col_heading level0 col3\" >percentage_of_population_migration</th>\n",
       "      <th id=\"T_02cd8_level0_col4\" class=\"col_heading level0 col4\" >country_of_origin_abbr</th>\n",
       "    </tr>\n",
       "  </thead>\n",
       "  <tbody>\n",
       "    <tr>\n",
       "      <th id=\"T_02cd8_level0_row0\" class=\"row_heading level0 row0\" >0</th>\n",
       "      <td id=\"T_02cd8_row0_col0\" class=\"data row0 col0\" >1.981</td>\n",
       "      <td id=\"T_02cd8_row0_col1\" class=\"data row0 col1\" >5</td>\n",
       "      <td id=\"T_02cd8_row0_col2\" class=\"data row0 col2\" >50.189.281,0000</td>\n",
       "      <td id=\"T_02cd8_row0_col3\" class=\"data row0 col3\" >0,0000</td>\n",
       "      <td id=\"T_02cd8_row0_col4\" class=\"data row0 col4\" >UKR</td>\n",
       "    </tr>\n",
       "    <tr>\n",
       "      <th id=\"T_02cd8_level0_row1\" class=\"row_heading level0 row1\" >1</th>\n",
       "      <td id=\"T_02cd8_row1_col0\" class=\"data row1 col0\" >1.990</td>\n",
       "      <td id=\"T_02cd8_row1_col1\" class=\"data row1 col1\" >5</td>\n",
       "      <td id=\"T_02cd8_row1_col2\" class=\"data row1 col2\" >52.054.092,0000</td>\n",
       "      <td id=\"T_02cd8_row1_col3\" class=\"data row1 col3\" >0,0000</td>\n",
       "      <td id=\"T_02cd8_row1_col4\" class=\"data row1 col4\" >UKR</td>\n",
       "    </tr>\n",
       "    <tr>\n",
       "      <th id=\"T_02cd8_level0_row2\" class=\"row_heading level0 row2\" >2</th>\n",
       "      <td id=\"T_02cd8_row2_col0\" class=\"data row2 col0\" >1.991</td>\n",
       "      <td id=\"T_02cd8_row2_col1\" class=\"data row2 col1\" >115</td>\n",
       "      <td id=\"T_02cd8_row2_col2\" class=\"data row2 col2\" >52.170.961,0000</td>\n",
       "      <td id=\"T_02cd8_row2_col3\" class=\"data row2 col3\" >0,0002</td>\n",
       "      <td id=\"T_02cd8_row2_col4\" class=\"data row2 col4\" >UKR</td>\n",
       "    </tr>\n",
       "    <tr>\n",
       "      <th id=\"T_02cd8_level0_row3\" class=\"row_heading level0 row3\" >3</th>\n",
       "      <td id=\"T_02cd8_row3_col0\" class=\"data row3 col0\" >1.992</td>\n",
       "      <td id=\"T_02cd8_row3_col1\" class=\"data row3 col1\" >3.318</td>\n",
       "      <td id=\"T_02cd8_row3_col2\" class=\"data row3 col2\" >52.323.671,0000</td>\n",
       "      <td id=\"T_02cd8_row3_col3\" class=\"data row3 col3\" >0,0063</td>\n",
       "      <td id=\"T_02cd8_row3_col4\" class=\"data row3 col4\" >UKR</td>\n",
       "    </tr>\n",
       "    <tr>\n",
       "      <th id=\"T_02cd8_level0_row4\" class=\"row_heading level0 row4\" >4</th>\n",
       "      <td id=\"T_02cd8_row4_col0\" class=\"data row4 col0\" >1.993</td>\n",
       "      <td id=\"T_02cd8_row4_col1\" class=\"data row4 col1\" >6.322</td>\n",
       "      <td id=\"T_02cd8_row4_col2\" class=\"data row4 col2\" >52.350.126,0000</td>\n",
       "      <td id=\"T_02cd8_row4_col3\" class=\"data row4 col3\" >0,0121</td>\n",
       "      <td id=\"T_02cd8_row4_col4\" class=\"data row4 col4\" >UKR</td>\n",
       "    </tr>\n",
       "    <tr>\n",
       "      <th id=\"T_02cd8_level0_row5\" class=\"row_heading level0 row5\" >5</th>\n",
       "      <td id=\"T_02cd8_row5_col0\" class=\"data row5 col0\" >1.994</td>\n",
       "      <td id=\"T_02cd8_row5_col1\" class=\"data row5 col1\" >3.781</td>\n",
       "      <td id=\"T_02cd8_row5_col2\" class=\"data row5 col2\" >52.075.998,0000</td>\n",
       "      <td id=\"T_02cd8_row5_col3\" class=\"data row5 col3\" >0,0073</td>\n",
       "      <td id=\"T_02cd8_row5_col4\" class=\"data row5 col4\" >UKR</td>\n",
       "    </tr>\n",
       "    <tr>\n",
       "      <th id=\"T_02cd8_level0_row6\" class=\"row_heading level0 row6\" >6</th>\n",
       "      <td id=\"T_02cd8_row6_col0\" class=\"data row6 col0\" >1.995</td>\n",
       "      <td id=\"T_02cd8_row6_col1\" class=\"data row6 col1\" >2.595</td>\n",
       "      <td id=\"T_02cd8_row6_col2\" class=\"data row6 col2\" >51.665.539,0000</td>\n",
       "      <td id=\"T_02cd8_row6_col3\" class=\"data row6 col3\" >0,0050</td>\n",
       "      <td id=\"T_02cd8_row6_col4\" class=\"data row6 col4\" >UKR</td>\n",
       "    </tr>\n",
       "    <tr>\n",
       "      <th id=\"T_02cd8_level0_row7\" class=\"row_heading level0 row7\" >7</th>\n",
       "      <td id=\"T_02cd8_row7_col0\" class=\"data row7 col0\" >1.996</td>\n",
       "      <td id=\"T_02cd8_row7_col1\" class=\"data row7 col1\" >3.128</td>\n",
       "      <td id=\"T_02cd8_row7_col2\" class=\"data row7 col2\" >51.226.109,0000</td>\n",
       "      <td id=\"T_02cd8_row7_col3\" class=\"data row7 col3\" >0,0061</td>\n",
       "      <td id=\"T_02cd8_row7_col4\" class=\"data row7 col4\" >UKR</td>\n",
       "    </tr>\n",
       "    <tr>\n",
       "      <th id=\"T_02cd8_level0_row8\" class=\"row_heading level0 row8\" >8</th>\n",
       "      <td id=\"T_02cd8_row8_col0\" class=\"data row8 col0\" >1.997</td>\n",
       "      <td id=\"T_02cd8_row8_col1\" class=\"data row8 col1\" >3.380</td>\n",
       "      <td id=\"T_02cd8_row8_col2\" class=\"data row8 col2\" >50.786.885,0000</td>\n",
       "      <td id=\"T_02cd8_row8_col3\" class=\"data row8 col3\" >0,0067</td>\n",
       "      <td id=\"T_02cd8_row8_col4\" class=\"data row8 col4\" >UKR</td>\n",
       "    </tr>\n",
       "    <tr>\n",
       "      <th id=\"T_02cd8_level0_row9\" class=\"row_heading level0 row9\" >9</th>\n",
       "      <td id=\"T_02cd8_row9_col0\" class=\"data row9 col0\" >1.998</td>\n",
       "      <td id=\"T_02cd8_row9_col1\" class=\"data row9 col1\" >2.423</td>\n",
       "      <td id=\"T_02cd8_row9_col2\" class=\"data row9 col2\" >50.379.731,0000</td>\n",
       "      <td id=\"T_02cd8_row9_col3\" class=\"data row9 col3\" >0,0048</td>\n",
       "      <td id=\"T_02cd8_row9_col4\" class=\"data row9 col4\" >UKR</td>\n",
       "    </tr>\n",
       "    <tr>\n",
       "      <th id=\"T_02cd8_level0_row10\" class=\"row_heading level0 row10\" >10</th>\n",
       "      <td id=\"T_02cd8_row10_col0\" class=\"data row10 col0\" >1.999</td>\n",
       "      <td id=\"T_02cd8_row10_col1\" class=\"data row10 col1\" >4.797</td>\n",
       "      <td id=\"T_02cd8_row10_col2\" class=\"data row10 col2\" >49.976.446,0000</td>\n",
       "      <td id=\"T_02cd8_row10_col3\" class=\"data row10 col3\" >0,0096</td>\n",
       "      <td id=\"T_02cd8_row10_col4\" class=\"data row10 col4\" >UKR</td>\n",
       "    </tr>\n",
       "    <tr>\n",
       "      <th id=\"T_02cd8_level0_row11\" class=\"row_heading level0 row11\" >11</th>\n",
       "      <td id=\"T_02cd8_row11_col0\" class=\"data row11 col0\" >2.000</td>\n",
       "      <td id=\"T_02cd8_row11_col1\" class=\"data row11 col1\" >7.366</td>\n",
       "      <td id=\"T_02cd8_row11_col2\" class=\"data row11 col2\" >49.556.660,0000</td>\n",
       "      <td id=\"T_02cd8_row11_col3\" class=\"data row11 col3\" >0,0149</td>\n",
       "      <td id=\"T_02cd8_row11_col4\" class=\"data row11 col4\" >UKR</td>\n",
       "    </tr>\n",
       "    <tr>\n",
       "      <th id=\"T_02cd8_level0_row12\" class=\"row_heading level0 row12\" >12</th>\n",
       "      <td id=\"T_02cd8_row12_col0\" class=\"data row12 col0\" >2.001</td>\n",
       "      <td id=\"T_02cd8_row12_col1\" class=\"data row12 col1\" >11.089</td>\n",
       "      <td id=\"T_02cd8_row12_col2\" class=\"data row12 col2\" >49.106.855,0000</td>\n",
       "      <td id=\"T_02cd8_row12_col3\" class=\"data row12 col3\" >0,0226</td>\n",
       "      <td id=\"T_02cd8_row12_col4\" class=\"data row12 col4\" >UKR</td>\n",
       "    </tr>\n",
       "    <tr>\n",
       "      <th id=\"T_02cd8_level0_row13\" class=\"row_heading level0 row13\" >13</th>\n",
       "      <td id=\"T_02cd8_row13_col0\" class=\"data row13 col0\" >2.002</td>\n",
       "      <td id=\"T_02cd8_row13_col1\" class=\"data row13 col1\" >7.934</td>\n",
       "      <td id=\"T_02cd8_row13_col2\" class=\"data row13 col2\" >48.677.281,0000</td>\n",
       "      <td id=\"T_02cd8_row13_col3\" class=\"data row13 col3\" >0,0163</td>\n",
       "      <td id=\"T_02cd8_row13_col4\" class=\"data row13 col4\" >UKR</td>\n",
       "    </tr>\n",
       "    <tr>\n",
       "      <th id=\"T_02cd8_level0_row14\" class=\"row_heading level0 row14\" >14</th>\n",
       "      <td id=\"T_02cd8_row14_col0\" class=\"data row14 col0\" >2.003</td>\n",
       "      <td id=\"T_02cd8_row14_col1\" class=\"data row14 col1\" >6.245</td>\n",
       "      <td id=\"T_02cd8_row14_col2\" class=\"data row14 col2\" >48.315.136,0000</td>\n",
       "      <td id=\"T_02cd8_row14_col3\" class=\"data row14 col3\" >0,0129</td>\n",
       "      <td id=\"T_02cd8_row14_col4\" class=\"data row14 col4\" >UKR</td>\n",
       "    </tr>\n",
       "    <tr>\n",
       "      <th id=\"T_02cd8_level0_row15\" class=\"row_heading level0 row15\" >15</th>\n",
       "      <td id=\"T_02cd8_row15_col0\" class=\"data row15 col0\" >2.004</td>\n",
       "      <td id=\"T_02cd8_row15_col1\" class=\"data row15 col1\" >5.494</td>\n",
       "      <td id=\"T_02cd8_row15_col2\" class=\"data row15 col2\" >47.979.507,0000</td>\n",
       "      <td id=\"T_02cd8_row15_col3\" class=\"data row15 col3\" >0,0115</td>\n",
       "      <td id=\"T_02cd8_row15_col4\" class=\"data row15 col4\" >UKR</td>\n",
       "    </tr>\n",
       "    <tr>\n",
       "      <th id=\"T_02cd8_level0_row16\" class=\"row_heading level0 row16\" >16</th>\n",
       "      <td id=\"T_02cd8_row16_col0\" class=\"data row16 col0\" >2.005</td>\n",
       "      <td id=\"T_02cd8_row16_col1\" class=\"data row16 col1\" >3.993</td>\n",
       "      <td id=\"T_02cd8_row16_col2\" class=\"data row16 col2\" >47.585.556,0000</td>\n",
       "      <td id=\"T_02cd8_row16_col3\" class=\"data row16 col3\" >0,0084</td>\n",
       "      <td id=\"T_02cd8_row16_col4\" class=\"data row16 col4\" >UKR</td>\n",
       "    </tr>\n",
       "    <tr>\n",
       "      <th id=\"T_02cd8_level0_row17\" class=\"row_heading level0 row17\" >17</th>\n",
       "      <td id=\"T_02cd8_row17_col0\" class=\"data row17 col0\" >2.006</td>\n",
       "      <td id=\"T_02cd8_row17_col1\" class=\"data row17 col1\" >2.267</td>\n",
       "      <td id=\"T_02cd8_row17_col2\" class=\"data row17 col2\" >47.278.694,0000</td>\n",
       "      <td id=\"T_02cd8_row17_col3\" class=\"data row17 col3\" >0,0048</td>\n",
       "      <td id=\"T_02cd8_row17_col4\" class=\"data row17 col4\" >UKR</td>\n",
       "    </tr>\n",
       "    <tr>\n",
       "      <th id=\"T_02cd8_level0_row18\" class=\"row_heading level0 row18\" >18</th>\n",
       "      <td id=\"T_02cd8_row18_col0\" class=\"data row18 col0\" >2.007</td>\n",
       "      <td id=\"T_02cd8_row18_col1\" class=\"data row18 col1\" >1.782</td>\n",
       "      <td id=\"T_02cd8_row18_col2\" class=\"data row18 col2\" >47.062.798,0000</td>\n",
       "      <td id=\"T_02cd8_row18_col3\" class=\"data row18 col3\" >0,0038</td>\n",
       "      <td id=\"T_02cd8_row18_col4\" class=\"data row18 col4\" >UKR</td>\n",
       "    </tr>\n",
       "    <tr>\n",
       "      <th id=\"T_02cd8_level0_row19\" class=\"row_heading level0 row19\" >19</th>\n",
       "      <td id=\"T_02cd8_row19_col0\" class=\"data row19 col0\" >2.008</td>\n",
       "      <td id=\"T_02cd8_row19_col1\" class=\"data row19 col1\" >1.656</td>\n",
       "      <td id=\"T_02cd8_row19_col2\" class=\"data row19 col2\" >46.819.175,0000</td>\n",
       "      <td id=\"T_02cd8_row19_col3\" class=\"data row19 col3\" >0,0035</td>\n",
       "      <td id=\"T_02cd8_row19_col4\" class=\"data row19 col4\" >UKR</td>\n",
       "    </tr>\n",
       "    <tr>\n",
       "      <th id=\"T_02cd8_level0_row20\" class=\"row_heading level0 row20\" >20</th>\n",
       "      <td id=\"T_02cd8_row20_col0\" class=\"data row20 col0\" >2.009</td>\n",
       "      <td id=\"T_02cd8_row20_col1\" class=\"data row20 col1\" >1.511</td>\n",
       "      <td id=\"T_02cd8_row20_col2\" class=\"data row20 col2\" >46.623.731,0000</td>\n",
       "      <td id=\"T_02cd8_row20_col3\" class=\"data row20 col3\" >0,0032</td>\n",
       "      <td id=\"T_02cd8_row20_col4\" class=\"data row20 col4\" >UKR</td>\n",
       "    </tr>\n",
       "    <tr>\n",
       "      <th id=\"T_02cd8_level0_row21\" class=\"row_heading level0 row21\" >21</th>\n",
       "      <td id=\"T_02cd8_row21_col0\" class=\"data row21 col0\" >2.010</td>\n",
       "      <td id=\"T_02cd8_row21_col1\" class=\"data row21 col1\" >1.564</td>\n",
       "      <td id=\"T_02cd8_row21_col2\" class=\"data row21 col2\" >46.456.003,0000</td>\n",
       "      <td id=\"T_02cd8_row21_col3\" class=\"data row21 col3\" >0,0034</td>\n",
       "      <td id=\"T_02cd8_row21_col4\" class=\"data row21 col4\" >UKR</td>\n",
       "    </tr>\n",
       "    <tr>\n",
       "      <th id=\"T_02cd8_level0_row22\" class=\"row_heading level0 row22\" >22</th>\n",
       "      <td id=\"T_02cd8_row22_col0\" class=\"data row22 col0\" >2.011</td>\n",
       "      <td id=\"T_02cd8_row22_col1\" class=\"data row22 col1\" >1.546</td>\n",
       "      <td id=\"T_02cd8_row22_col2\" class=\"data row22 col2\" >46.307.853,0000</td>\n",
       "      <td id=\"T_02cd8_row22_col3\" class=\"data row22 col3\" >0,0033</td>\n",
       "      <td id=\"T_02cd8_row22_col4\" class=\"data row22 col4\" >UKR</td>\n",
       "    </tr>\n",
       "    <tr>\n",
       "      <th id=\"T_02cd8_level0_row23\" class=\"row_heading level0 row23\" >23</th>\n",
       "      <td id=\"T_02cd8_row23_col0\" class=\"data row23 col0\" >2.012</td>\n",
       "      <td id=\"T_02cd8_row23_col1\" class=\"data row23 col1\" >1.654</td>\n",
       "      <td id=\"T_02cd8_row23_col2\" class=\"data row23 col2\" >46.210.056,0000</td>\n",
       "      <td id=\"T_02cd8_row23_col3\" class=\"data row23 col3\" >0,0036</td>\n",
       "      <td id=\"T_02cd8_row23_col4\" class=\"data row23 col4\" >UKR</td>\n",
       "    </tr>\n",
       "    <tr>\n",
       "      <th id=\"T_02cd8_level0_row24\" class=\"row_heading level0 row24\" >24</th>\n",
       "      <td id=\"T_02cd8_row24_col0\" class=\"data row24 col0\" >2.013</td>\n",
       "      <td id=\"T_02cd8_row24_col1\" class=\"data row24 col1\" >1.617</td>\n",
       "      <td id=\"T_02cd8_row24_col2\" class=\"data row24 col2\" >46.126.770,0000</td>\n",
       "      <td id=\"T_02cd8_row24_col3\" class=\"data row24 col3\" >0,0035</td>\n",
       "      <td id=\"T_02cd8_row24_col4\" class=\"data row24 col4\" >UKR</td>\n",
       "    </tr>\n",
       "    <tr>\n",
       "      <th id=\"T_02cd8_level0_row25\" class=\"row_heading level0 row25\" >25</th>\n",
       "      <td id=\"T_02cd8_row25_col0\" class=\"data row25 col0\" >2.014</td>\n",
       "      <td id=\"T_02cd8_row25_col1\" class=\"data row25 col1\" >289.071</td>\n",
       "      <td id=\"T_02cd8_row25_col2\" class=\"data row25 col2\" >45.972.380,0000</td>\n",
       "      <td id=\"T_02cd8_row25_col3\" class=\"data row25 col3\" >0,6288</td>\n",
       "      <td id=\"T_02cd8_row25_col4\" class=\"data row25 col4\" >UKR</td>\n",
       "    </tr>\n",
       "    <tr>\n",
       "      <th id=\"T_02cd8_level0_row26\" class=\"row_heading level0 row26\" >26</th>\n",
       "      <td id=\"T_02cd8_row26_col0\" class=\"data row26 col0\" >2.015</td>\n",
       "      <td id=\"T_02cd8_row26_col1\" class=\"data row26 col1\" >176.845</td>\n",
       "      <td id=\"T_02cd8_row26_col2\" class=\"data row26 col2\" >45.784.896,0000</td>\n",
       "      <td id=\"T_02cd8_row26_col3\" class=\"data row26 col3\" >0,3863</td>\n",
       "      <td id=\"T_02cd8_row26_col4\" class=\"data row26 col4\" >UKR</td>\n",
       "    </tr>\n",
       "    <tr>\n",
       "      <th id=\"T_02cd8_level0_row27\" class=\"row_heading level0 row27\" >27</th>\n",
       "      <td id=\"T_02cd8_row27_col0\" class=\"data row27 col0\" >2.016</td>\n",
       "      <td id=\"T_02cd8_row27_col1\" class=\"data row27 col1\" >46.448</td>\n",
       "      <td id=\"T_02cd8_row27_col2\" class=\"data row27 col2\" >45.616.832,0000</td>\n",
       "      <td id=\"T_02cd8_row27_col3\" class=\"data row27 col3\" >0,1018</td>\n",
       "      <td id=\"T_02cd8_row27_col4\" class=\"data row27 col4\" >UKR</td>\n",
       "    </tr>\n",
       "    <tr>\n",
       "      <th id=\"T_02cd8_level0_row28\" class=\"row_heading level0 row28\" >28</th>\n",
       "      <td id=\"T_02cd8_row28_col0\" class=\"data row28 col0\" >2.017</td>\n",
       "      <td id=\"T_02cd8_row28_col1\" class=\"data row28 col1\" >32.727</td>\n",
       "      <td id=\"T_02cd8_row28_col2\" class=\"data row28 col2\" >45.436.041,0000</td>\n",
       "      <td id=\"T_02cd8_row28_col3\" class=\"data row28 col3\" >0,0720</td>\n",
       "      <td id=\"T_02cd8_row28_col4\" class=\"data row28 col4\" >UKR</td>\n",
       "    </tr>\n",
       "    <tr>\n",
       "      <th id=\"T_02cd8_level0_row29\" class=\"row_heading level0 row29\" >29</th>\n",
       "      <td id=\"T_02cd8_row29_col0\" class=\"data row29 col0\" >2.018</td>\n",
       "      <td id=\"T_02cd8_row29_col1\" class=\"data row29 col1\" >19.383</td>\n",
       "      <td id=\"T_02cd8_row29_col2\" class=\"data row29 col2\" >45.208.907,0000</td>\n",
       "      <td id=\"T_02cd8_row29_col3\" class=\"data row29 col3\" >0,0429</td>\n",
       "      <td id=\"T_02cd8_row29_col4\" class=\"data row29 col4\" >UKR</td>\n",
       "    </tr>\n",
       "    <tr>\n",
       "      <th id=\"T_02cd8_level0_row30\" class=\"row_heading level0 row30\" >30</th>\n",
       "      <td id=\"T_02cd8_row30_col0\" class=\"data row30 col0\" >2.019</td>\n",
       "      <td id=\"T_02cd8_row30_col1\" class=\"data row30 col1\" >17.278</td>\n",
       "      <td id=\"T_02cd8_row30_col2\" class=\"data row30 col2\" >44.957.458,0000</td>\n",
       "      <td id=\"T_02cd8_row30_col3\" class=\"data row30 col3\" >0,0384</td>\n",
       "      <td id=\"T_02cd8_row30_col4\" class=\"data row30 col4\" >UKR</td>\n",
       "    </tr>\n",
       "    <tr>\n",
       "      <th id=\"T_02cd8_level0_row31\" class=\"row_heading level0 row31\" >31</th>\n",
       "      <td id=\"T_02cd8_row31_col0\" class=\"data row31 col0\" >2.020</td>\n",
       "      <td id=\"T_02cd8_row31_col1\" class=\"data row31 col1\" >11.407</td>\n",
       "      <td id=\"T_02cd8_row31_col2\" class=\"data row31 col2\" >44.680.014,0000</td>\n",
       "      <td id=\"T_02cd8_row31_col3\" class=\"data row31 col3\" >0,0255</td>\n",
       "      <td id=\"T_02cd8_row31_col4\" class=\"data row31 col4\" >UKR</td>\n",
       "    </tr>\n",
       "    <tr>\n",
       "      <th id=\"T_02cd8_level0_row32\" class=\"row_heading level0 row32\" >32</th>\n",
       "      <td id=\"T_02cd8_row32_col0\" class=\"data row32 col0\" >2.021</td>\n",
       "      <td id=\"T_02cd8_row32_col1\" class=\"data row32 col1\" >10.289</td>\n",
       "      <td id=\"T_02cd8_row32_col2\" class=\"data row32 col2\" >44.298.640,0000</td>\n",
       "      <td id=\"T_02cd8_row32_col3\" class=\"data row32 col3\" >0,0232</td>\n",
       "      <td id=\"T_02cd8_row32_col4\" class=\"data row32 col4\" >UKR</td>\n",
       "    </tr>\n",
       "    <tr>\n",
       "      <th id=\"T_02cd8_level0_row33\" class=\"row_heading level0 row33\" >33</th>\n",
       "      <td id=\"T_02cd8_row33_col0\" class=\"data row33 col0\" >2.022</td>\n",
       "      <td id=\"T_02cd8_row33_col1\" class=\"data row33 col1\" >5.780.042</td>\n",
       "      <td id=\"T_02cd8_row33_col2\" class=\"data row33 col2\" >41.048.766,0000</td>\n",
       "      <td id=\"T_02cd8_row33_col3\" class=\"data row33 col3\" >14,0809</td>\n",
       "      <td id=\"T_02cd8_row33_col4\" class=\"data row33 col4\" >UKR</td>\n",
       "    </tr>\n",
       "    <tr>\n",
       "      <th id=\"T_02cd8_level0_row34\" class=\"row_heading level0 row34\" >34</th>\n",
       "      <td id=\"T_02cd8_row34_col0\" class=\"data row34 col0\" >2.023</td>\n",
       "      <td id=\"T_02cd8_row34_col1\" class=\"data row34 col1\" >1.082.208</td>\n",
       "      <td id=\"T_02cd8_row34_col2\" class=\"data row34 col2\" >37.732.836,0000</td>\n",
       "      <td id=\"T_02cd8_row34_col3\" class=\"data row34 col3\" >2,8681</td>\n",
       "      <td id=\"T_02cd8_row34_col4\" class=\"data row34 col4\" >UKR</td>\n",
       "    </tr>\n",
       "  </tbody>\n",
       "</table>\n"
      ],
      "text/plain": [
       "<pandas.io.formats.style.Styler at 0x19c55aa0980>"
      ]
     },
     "execution_count": 25,
     "metadata": {},
     "output_type": "execute_result"
    }
   ],
   "source": [
    "ukrine = Country_population_data(\"UKR\", population, asylum)\n",
    "ukrine.style.format(precision=4, thousands=\".\", decimal=\",\")"
   ]
  },
  {
   "cell_type": "code",
   "execution_count": null,
   "metadata": {},
   "outputs": [],
   "source": []
  },
  {
   "cell_type": "code",
   "execution_count": null,
   "metadata": {},
   "outputs": [
    {
     "data": {
      "application/vnd.plotly.v1+json": {
       "config": {
        "plotlyServerURL": "https://plot.ly"
       },
       "data": [
        {
         "type": "scatter",
         "x": {
          "bdata": "tQfAB8IHxQfGB8cHyAfJB8oHywfMB80HzgfPB9AH0QfSB9MH1AfVB9YH1wfYB9kH2gfbB9wH3QfeB98H4AfhB+IH4wfkB+UH5gfnBw==",
          "dtype": "i2"
         },
         "y": {
          "bdata": "I2q8aWoIBT+v1RGBDtMOPw5QeNhZQP0+vPDhhTypND9jitNq1kJMP4brKe2G2VM/nYCJYTDdVj//I7j16ORWP6Ew5gGbwmE/HDQx0X8BdD8YYZR8EsNbP+LpwCllakI/Sx4Vyxi3Qz8O5v4x+gRBPyODGI5WYUc/sYEr8LIaWj+1n5HzPyVuPwJkFKys54Q/7KE3F0wygz9uCSe+F6h8P0IpOkjoNHY/YtLwKYyocT/P+4FedoNyP6Ttk7rU1mk/G/XMODBnbD+M55RSGwZxP6WXpxXrFWk/kOx12+eicz/paXmBle6RPwTlD5F4GqY/c64Zb32uwT++jmJAnYDaPyE5/MGU9yBAgDBIAK4SFUDQjbMd1RwAQEA+jw3E1gJAnEX9xlpZEUAGoXi0Cd8MQA==",
          "dtype": "f8"
         }
        },
        {
         "type": "scatter",
         "x": {
          "bdata": "vQfGB8cHyAfJB8oHywfMB80HzgfPB9AH0QfSB9MH1AfVB9YH1wfYB9kH2gfbB9wH3QfeB98H4AfhB+IH4wfkB+UH5gfnBw==",
          "dtype": "i2"
         },
         "y": {
          "bdata": "2kl9PXbk5D793f0h2yTkPuNUReJf5Cw/Li8sRVX5eT94XaI/gLuIP+8sww07vX0/wDwfJ6ySdD8PWAsA4QJ5P0ryNyeMQns/lOj2Txmzcz8L+lrFY6iDPzSMALPocI4/vpbNAJIflz/ruivHu7CQP3ckQcW2eIo/Ddun5nlzhz/jkygIaC+BP87Aj2rko3M//I8fPbgEbz+GDD0Lp/lsPzKOlB+IjGo/5rz8tlOUaz9oU+zUZVlrP0T/5xRaUm0/gcR4Va+3bD9TL/oBEh/kPwcGmptZuNg/6k0UxAIRuj+pWZRweXCyP673z5qe86U/GIv1LVitoz/RozYzpiSaP2SilnOsyJc/WC01vW0pLEBHCM0I1PEGQA==",
          "dtype": "f8"
         }
        },
        {
         "type": "scatter",
         "x": {
          "bdata": "tAe4B7kHuge7B7wHvQe+B78HwAfBB8IHwwfEB8UHxgfHB8gHyQfKB8sHzAfNB84HzwfQB9EH0gfTB9QH1QfWB9cH2AfZB9oH2wfcB90H3gffB+AH4QfiB+MH5AflB+YH5wc=",
          "dtype": "i2"
         },
         "y": {
          "bdata": "1xyB8m0dBj8vmY8Z2BseP0N89fRTrzE/u+5P69n4UD8/bECPmg5yP3ZXrRza3iNAZ6JIQTu5M0ChFlkk4sESQFcxbR5l5f0/gxCvW0YD7z8cIjkQbf77P2u7zh8CvxBAT3VrnEJtEUCkrZ/iUlTsPz3R4lXS/c0/D54vLMe/zj8PhfdPGvnQP/xtaNKKn/A/Px4UQcgmxT/MSxxDV0LQP57oQuou2LM/Lt1sLlBW1D+9qcRBZRzHP2a04RnOWLo/PajNrLUL4z/tAkXKZCsJQFH5pawaQvw/IJN6Bp5M4z+SUe85MsfgP6otLPitTt4/4XQkf+m73D86wqrk1QfcP+XCWjAvadw/QC+A+mPM3j9E9l7GVT/gP7i8Jycqz94/PuZdSMc43z/E+6+3cJXgP7rnrHv+9N0/4fiElSW44D9P6Tdq/HLxP8gXDc239u4/QPmXNmdG5D8O8R6OrMriP1IF9LDJl+M/A5Ixqq/K3D/JTgoTGFcCQHjcEZCDGABAqJZuntf28D8=",
          "dtype": "f8"
         }
        }
       ],
       "layout": {
        "template": {
         "data": {
          "bar": [
           {
            "error_x": {
             "color": "#2a3f5f"
            },
            "error_y": {
             "color": "#2a3f5f"
            },
            "marker": {
             "line": {
              "color": "#E5ECF6",
              "width": 0.5
             },
             "pattern": {
              "fillmode": "overlay",
              "size": 10,
              "solidity": 0.2
             }
            },
            "type": "bar"
           }
          ],
          "barpolar": [
           {
            "marker": {
             "line": {
              "color": "#E5ECF6",
              "width": 0.5
             },
             "pattern": {
              "fillmode": "overlay",
              "size": 10,
              "solidity": 0.2
             }
            },
            "type": "barpolar"
           }
          ],
          "carpet": [
           {
            "aaxis": {
             "endlinecolor": "#2a3f5f",
             "gridcolor": "white",
             "linecolor": "white",
             "minorgridcolor": "white",
             "startlinecolor": "#2a3f5f"
            },
            "baxis": {
             "endlinecolor": "#2a3f5f",
             "gridcolor": "white",
             "linecolor": "white",
             "minorgridcolor": "white",
             "startlinecolor": "#2a3f5f"
            },
            "type": "carpet"
           }
          ],
          "choropleth": [
           {
            "colorbar": {
             "outlinewidth": 0,
             "ticks": ""
            },
            "type": "choropleth"
           }
          ],
          "contour": [
           {
            "colorbar": {
             "outlinewidth": 0,
             "ticks": ""
            },
            "colorscale": [
             [
              0,
              "#0d0887"
             ],
             [
              0.1111111111111111,
              "#46039f"
             ],
             [
              0.2222222222222222,
              "#7201a8"
             ],
             [
              0.3333333333333333,
              "#9c179e"
             ],
             [
              0.4444444444444444,
              "#bd3786"
             ],
             [
              0.5555555555555556,
              "#d8576b"
             ],
             [
              0.6666666666666666,
              "#ed7953"
             ],
             [
              0.7777777777777778,
              "#fb9f3a"
             ],
             [
              0.8888888888888888,
              "#fdca26"
             ],
             [
              1,
              "#f0f921"
             ]
            ],
            "type": "contour"
           }
          ],
          "contourcarpet": [
           {
            "colorbar": {
             "outlinewidth": 0,
             "ticks": ""
            },
            "type": "contourcarpet"
           }
          ],
          "heatmap": [
           {
            "colorbar": {
             "outlinewidth": 0,
             "ticks": ""
            },
            "colorscale": [
             [
              0,
              "#0d0887"
             ],
             [
              0.1111111111111111,
              "#46039f"
             ],
             [
              0.2222222222222222,
              "#7201a8"
             ],
             [
              0.3333333333333333,
              "#9c179e"
             ],
             [
              0.4444444444444444,
              "#bd3786"
             ],
             [
              0.5555555555555556,
              "#d8576b"
             ],
             [
              0.6666666666666666,
              "#ed7953"
             ],
             [
              0.7777777777777778,
              "#fb9f3a"
             ],
             [
              0.8888888888888888,
              "#fdca26"
             ],
             [
              1,
              "#f0f921"
             ]
            ],
            "type": "heatmap"
           }
          ],
          "histogram": [
           {
            "marker": {
             "pattern": {
              "fillmode": "overlay",
              "size": 10,
              "solidity": 0.2
             }
            },
            "type": "histogram"
           }
          ],
          "histogram2d": [
           {
            "colorbar": {
             "outlinewidth": 0,
             "ticks": ""
            },
            "colorscale": [
             [
              0,
              "#0d0887"
             ],
             [
              0.1111111111111111,
              "#46039f"
             ],
             [
              0.2222222222222222,
              "#7201a8"
             ],
             [
              0.3333333333333333,
              "#9c179e"
             ],
             [
              0.4444444444444444,
              "#bd3786"
             ],
             [
              0.5555555555555556,
              "#d8576b"
             ],
             [
              0.6666666666666666,
              "#ed7953"
             ],
             [
              0.7777777777777778,
              "#fb9f3a"
             ],
             [
              0.8888888888888888,
              "#fdca26"
             ],
             [
              1,
              "#f0f921"
             ]
            ],
            "type": "histogram2d"
           }
          ],
          "histogram2dcontour": [
           {
            "colorbar": {
             "outlinewidth": 0,
             "ticks": ""
            },
            "colorscale": [
             [
              0,
              "#0d0887"
             ],
             [
              0.1111111111111111,
              "#46039f"
             ],
             [
              0.2222222222222222,
              "#7201a8"
             ],
             [
              0.3333333333333333,
              "#9c179e"
             ],
             [
              0.4444444444444444,
              "#bd3786"
             ],
             [
              0.5555555555555556,
              "#d8576b"
             ],
             [
              0.6666666666666666,
              "#ed7953"
             ],
             [
              0.7777777777777778,
              "#fb9f3a"
             ],
             [
              0.8888888888888888,
              "#fdca26"
             ],
             [
              1,
              "#f0f921"
             ]
            ],
            "type": "histogram2dcontour"
           }
          ],
          "mesh3d": [
           {
            "colorbar": {
             "outlinewidth": 0,
             "ticks": ""
            },
            "type": "mesh3d"
           }
          ],
          "parcoords": [
           {
            "line": {
             "colorbar": {
              "outlinewidth": 0,
              "ticks": ""
             }
            },
            "type": "parcoords"
           }
          ],
          "pie": [
           {
            "automargin": true,
            "type": "pie"
           }
          ],
          "scatter": [
           {
            "fillpattern": {
             "fillmode": "overlay",
             "size": 10,
             "solidity": 0.2
            },
            "type": "scatter"
           }
          ],
          "scatter3d": [
           {
            "line": {
             "colorbar": {
              "outlinewidth": 0,
              "ticks": ""
             }
            },
            "marker": {
             "colorbar": {
              "outlinewidth": 0,
              "ticks": ""
             }
            },
            "type": "scatter3d"
           }
          ],
          "scattercarpet": [
           {
            "marker": {
             "colorbar": {
              "outlinewidth": 0,
              "ticks": ""
             }
            },
            "type": "scattercarpet"
           }
          ],
          "scattergeo": [
           {
            "marker": {
             "colorbar": {
              "outlinewidth": 0,
              "ticks": ""
             }
            },
            "type": "scattergeo"
           }
          ],
          "scattergl": [
           {
            "marker": {
             "colorbar": {
              "outlinewidth": 0,
              "ticks": ""
             }
            },
            "type": "scattergl"
           }
          ],
          "scattermap": [
           {
            "marker": {
             "colorbar": {
              "outlinewidth": 0,
              "ticks": ""
             }
            },
            "type": "scattermap"
           }
          ],
          "scattermapbox": [
           {
            "marker": {
             "colorbar": {
              "outlinewidth": 0,
              "ticks": ""
             }
            },
            "type": "scattermapbox"
           }
          ],
          "scatterpolar": [
           {
            "marker": {
             "colorbar": {
              "outlinewidth": 0,
              "ticks": ""
             }
            },
            "type": "scatterpolar"
           }
          ],
          "scatterpolargl": [
           {
            "marker": {
             "colorbar": {
              "outlinewidth": 0,
              "ticks": ""
             }
            },
            "type": "scatterpolargl"
           }
          ],
          "scatterternary": [
           {
            "marker": {
             "colorbar": {
              "outlinewidth": 0,
              "ticks": ""
             }
            },
            "type": "scatterternary"
           }
          ],
          "surface": [
           {
            "colorbar": {
             "outlinewidth": 0,
             "ticks": ""
            },
            "colorscale": [
             [
              0,
              "#0d0887"
             ],
             [
              0.1111111111111111,
              "#46039f"
             ],
             [
              0.2222222222222222,
              "#7201a8"
             ],
             [
              0.3333333333333333,
              "#9c179e"
             ],
             [
              0.4444444444444444,
              "#bd3786"
             ],
             [
              0.5555555555555556,
              "#d8576b"
             ],
             [
              0.6666666666666666,
              "#ed7953"
             ],
             [
              0.7777777777777778,
              "#fb9f3a"
             ],
             [
              0.8888888888888888,
              "#fdca26"
             ],
             [
              1,
              "#f0f921"
             ]
            ],
            "type": "surface"
           }
          ],
          "table": [
           {
            "cells": {
             "fill": {
              "color": "#EBF0F8"
             },
             "line": {
              "color": "white"
             }
            },
            "header": {
             "fill": {
              "color": "#C8D4E3"
             },
             "line": {
              "color": "white"
             }
            },
            "type": "table"
           }
          ]
         },
         "layout": {
          "annotationdefaults": {
           "arrowcolor": "#2a3f5f",
           "arrowhead": 0,
           "arrowwidth": 1
          },
          "autotypenumbers": "strict",
          "coloraxis": {
           "colorbar": {
            "outlinewidth": 0,
            "ticks": ""
           }
          },
          "colorscale": {
           "diverging": [
            [
             0,
             "#8e0152"
            ],
            [
             0.1,
             "#c51b7d"
            ],
            [
             0.2,
             "#de77ae"
            ],
            [
             0.3,
             "#f1b6da"
            ],
            [
             0.4,
             "#fde0ef"
            ],
            [
             0.5,
             "#f7f7f7"
            ],
            [
             0.6,
             "#e6f5d0"
            ],
            [
             0.7,
             "#b8e186"
            ],
            [
             0.8,
             "#7fbc41"
            ],
            [
             0.9,
             "#4d9221"
            ],
            [
             1,
             "#276419"
            ]
           ],
           "sequential": [
            [
             0,
             "#0d0887"
            ],
            [
             0.1111111111111111,
             "#46039f"
            ],
            [
             0.2222222222222222,
             "#7201a8"
            ],
            [
             0.3333333333333333,
             "#9c179e"
            ],
            [
             0.4444444444444444,
             "#bd3786"
            ],
            [
             0.5555555555555556,
             "#d8576b"
            ],
            [
             0.6666666666666666,
             "#ed7953"
            ],
            [
             0.7777777777777778,
             "#fb9f3a"
            ],
            [
             0.8888888888888888,
             "#fdca26"
            ],
            [
             1,
             "#f0f921"
            ]
           ],
           "sequentialminus": [
            [
             0,
             "#0d0887"
            ],
            [
             0.1111111111111111,
             "#46039f"
            ],
            [
             0.2222222222222222,
             "#7201a8"
            ],
            [
             0.3333333333333333,
             "#9c179e"
            ],
            [
             0.4444444444444444,
             "#bd3786"
            ],
            [
             0.5555555555555556,
             "#d8576b"
            ],
            [
             0.6666666666666666,
             "#ed7953"
            ],
            [
             0.7777777777777778,
             "#fb9f3a"
            ],
            [
             0.8888888888888888,
             "#fdca26"
            ],
            [
             1,
             "#f0f921"
            ]
           ]
          },
          "colorway": [
           "#636efa",
           "#EF553B",
           "#00cc96",
           "#ab63fa",
           "#FFA15A",
           "#19d3f3",
           "#FF6692",
           "#B6E880",
           "#FF97FF",
           "#FECB52"
          ],
          "font": {
           "color": "#2a3f5f"
          },
          "geo": {
           "bgcolor": "white",
           "lakecolor": "white",
           "landcolor": "#E5ECF6",
           "showlakes": true,
           "showland": true,
           "subunitcolor": "white"
          },
          "hoverlabel": {
           "align": "left"
          },
          "hovermode": "closest",
          "mapbox": {
           "style": "light"
          },
          "paper_bgcolor": "white",
          "plot_bgcolor": "#E5ECF6",
          "polar": {
           "angularaxis": {
            "gridcolor": "white",
            "linecolor": "white",
            "ticks": ""
           },
           "bgcolor": "#E5ECF6",
           "radialaxis": {
            "gridcolor": "white",
            "linecolor": "white",
            "ticks": ""
           }
          },
          "scene": {
           "xaxis": {
            "backgroundcolor": "#E5ECF6",
            "gridcolor": "white",
            "gridwidth": 2,
            "linecolor": "white",
            "showbackground": true,
            "ticks": "",
            "zerolinecolor": "white"
           },
           "yaxis": {
            "backgroundcolor": "#E5ECF6",
            "gridcolor": "white",
            "gridwidth": 2,
            "linecolor": "white",
            "showbackground": true,
            "ticks": "",
            "zerolinecolor": "white"
           },
           "zaxis": {
            "backgroundcolor": "#E5ECF6",
            "gridcolor": "white",
            "gridwidth": 2,
            "linecolor": "white",
            "showbackground": true,
            "ticks": "",
            "zerolinecolor": "white"
           }
          },
          "shapedefaults": {
           "line": {
            "color": "#2a3f5f"
           }
          },
          "ternary": {
           "aaxis": {
            "gridcolor": "white",
            "linecolor": "white",
            "ticks": ""
           },
           "baxis": {
            "gridcolor": "white",
            "linecolor": "white",
            "ticks": ""
           },
           "bgcolor": "#E5ECF6",
           "caxis": {
            "gridcolor": "white",
            "linecolor": "white",
            "ticks": ""
           }
          },
          "title": {
           "x": 0.05
          },
          "xaxis": {
           "automargin": true,
           "gridcolor": "white",
           "linecolor": "white",
           "ticks": "",
           "title": {
            "standoff": 15
           },
           "zerolinecolor": "white",
           "zerolinewidth": 2
          },
          "yaxis": {
           "automargin": true,
           "gridcolor": "white",
           "linecolor": "white",
           "ticks": "",
           "title": {
            "standoff": 15
           },
           "zerolinecolor": "white",
           "zerolinewidth": 2
          }
         }
        },
        "xaxis": {
         "anchor": "y",
         "domain": [
          0,
          1
         ]
        },
        "yaxis": {
         "anchor": "x",
         "domain": [
          0,
          1
         ]
        }
       }
      }
     },
     "metadata": {},
     "output_type": "display_data"
    }
   ],
   "source": [
    "from plotly.subplots import make_subplots\n",
    "\n",
    "fit = make_subplots(rows=1, cols=1)\n",
    "fit.add_trace(go.Scatter(y=venezuela['percentage_of_population_migration'], x=venezuela[\"year\"]))\n",
    "fit.add_trace(go.Scatter(y=ukrine[\"percentage_of_population_migration\"], x=ukrine[\"year\"]))\n",
    "fit.add_trace(go.Scatter(y=af[\"percentage_of_population_migration\"], x=af[\"year\"]))\n",
    "\n",
    "fit.show()"
   ]
  },
  {
   "cell_type": "markdown",
   "metadata": {},
   "source": [
    "# Adding population movement"
   ]
  },
  {
   "cell_type": "code",
   "execution_count": null,
   "metadata": {},
   "outputs": [
    {
     "data": {
      "text/html": [
       "<div>\n",
       "<style scoped>\n",
       "    .dataframe tbody tr th:only-of-type {\n",
       "        vertical-align: middle;\n",
       "    }\n",
       "\n",
       "    .dataframe tbody tr th {\n",
       "        vertical-align: top;\n",
       "    }\n",
       "\n",
       "    .dataframe thead th {\n",
       "        text-align: right;\n",
       "    }\n",
       "</style>\n",
       "<table border=\"1\" class=\"dataframe\">\n",
       "  <thead>\n",
       "    <tr style=\"text-align: right;\">\n",
       "      <th></th>\n",
       "      <th>country_of_origin_abbr</th>\n",
       "      <th>country_of_origin_name</th>\n",
       "      <th>country_of_asylum_abbr</th>\n",
       "      <th>country_of_asylum_name</th>\n",
       "      <th>region_of_asylum</th>\n",
       "      <th>category</th>\n",
       "      <th>year</th>\n",
       "      <th>count</th>\n",
       "    </tr>\n",
       "  </thead>\n",
       "  <tbody>\n",
       "    <tr>\n",
       "      <th>0</th>\n",
       "      <td>DZA</td>\n",
       "      <td>Algeria</td>\n",
       "      <td>MLT</td>\n",
       "      <td>Malta</td>\n",
       "      <td>Europe</td>\n",
       "      <td>Refugee</td>\n",
       "      <td>1962</td>\n",
       "      <td>5</td>\n",
       "    </tr>\n",
       "    <tr>\n",
       "      <th>1</th>\n",
       "      <td>AGO</td>\n",
       "      <td>Angola</td>\n",
       "      <td>COD</td>\n",
       "      <td>Dem. Rep. of the Congo</td>\n",
       "      <td>Southern Africa</td>\n",
       "      <td>Refugee</td>\n",
       "      <td>1962</td>\n",
       "      <td>20000</td>\n",
       "    </tr>\n",
       "    <tr>\n",
       "      <th>2</th>\n",
       "      <td>AGO</td>\n",
       "      <td>Angola</td>\n",
       "      <td>NAM</td>\n",
       "      <td>Namibia</td>\n",
       "      <td>Southern Africa</td>\n",
       "      <td>Refugee</td>\n",
       "      <td>1962</td>\n",
       "      <td>277</td>\n",
       "    </tr>\n",
       "    <tr>\n",
       "      <th>3</th>\n",
       "      <td>BDI</td>\n",
       "      <td>Burundi</td>\n",
       "      <td>NAM</td>\n",
       "      <td>Namibia</td>\n",
       "      <td>Southern Africa</td>\n",
       "      <td>Refugee</td>\n",
       "      <td>1962</td>\n",
       "      <td>13</td>\n",
       "    </tr>\n",
       "    <tr>\n",
       "      <th>4</th>\n",
       "      <td>CHN</td>\n",
       "      <td>China</td>\n",
       "      <td>NPL</td>\n",
       "      <td>Nepal</td>\n",
       "      <td>Asia and the Pacific</td>\n",
       "      <td>Refugee</td>\n",
       "      <td>1962</td>\n",
       "      <td>5</td>\n",
       "    </tr>\n",
       "    <tr>\n",
       "      <th>...</th>\n",
       "      <td>...</td>\n",
       "      <td>...</td>\n",
       "      <td>...</td>\n",
       "      <td>...</td>\n",
       "      <td>...</td>\n",
       "      <td>...</td>\n",
       "      <td>...</td>\n",
       "      <td>...</td>\n",
       "    </tr>\n",
       "    <tr>\n",
       "      <th>103303</th>\n",
       "      <td>ZWE</td>\n",
       "      <td>Zimbabwe</td>\n",
       "      <td>POL</td>\n",
       "      <td>Poland</td>\n",
       "      <td>Europe</td>\n",
       "      <td>Asylum-seekers</td>\n",
       "      <td>2024</td>\n",
       "      <td>9</td>\n",
       "    </tr>\n",
       "    <tr>\n",
       "      <th>103304</th>\n",
       "      <td>ZWE</td>\n",
       "      <td>Zimbabwe</td>\n",
       "      <td>ZAF</td>\n",
       "      <td>South Africa</td>\n",
       "      <td>Southern Africa</td>\n",
       "      <td>Asylum-seekers</td>\n",
       "      <td>2024</td>\n",
       "      <td>89</td>\n",
       "    </tr>\n",
       "    <tr>\n",
       "      <th>103305</th>\n",
       "      <td>ZWE</td>\n",
       "      <td>Zimbabwe</td>\n",
       "      <td>SWE</td>\n",
       "      <td>Sweden</td>\n",
       "      <td>Europe</td>\n",
       "      <td>Asylum-seekers</td>\n",
       "      <td>2024</td>\n",
       "      <td>5</td>\n",
       "    </tr>\n",
       "    <tr>\n",
       "      <th>103306</th>\n",
       "      <td>ZWE</td>\n",
       "      <td>Zimbabwe</td>\n",
       "      <td>USA</td>\n",
       "      <td>United States of America</td>\n",
       "      <td>Americas</td>\n",
       "      <td>Asylum-seekers</td>\n",
       "      <td>2024</td>\n",
       "      <td>641</td>\n",
       "    </tr>\n",
       "    <tr>\n",
       "      <th>103307</th>\n",
       "      <td>ZWE</td>\n",
       "      <td>Zimbabwe</td>\n",
       "      <td>ZMB</td>\n",
       "      <td>Zambia</td>\n",
       "      <td>Southern Africa</td>\n",
       "      <td>Asylum-seekers</td>\n",
       "      <td>2024</td>\n",
       "      <td>9</td>\n",
       "    </tr>\n",
       "  </tbody>\n",
       "</table>\n",
       "<p>103308 rows × 8 columns</p>\n",
       "</div>"
      ],
      "text/plain": [
       "       country_of_origin_abbr country_of_origin_name country_of_asylum_abbr  \\\n",
       "0                         DZA                Algeria                    MLT   \n",
       "1                         AGO                 Angola                    COD   \n",
       "2                         AGO                 Angola                    NAM   \n",
       "3                         BDI                Burundi                    NAM   \n",
       "4                         CHN                  China                    NPL   \n",
       "...                       ...                    ...                    ...   \n",
       "103303                    ZWE               Zimbabwe                    POL   \n",
       "103304                    ZWE               Zimbabwe                    ZAF   \n",
       "103305                    ZWE               Zimbabwe                    SWE   \n",
       "103306                    ZWE               Zimbabwe                    USA   \n",
       "103307                    ZWE               Zimbabwe                    ZMB   \n",
       "\n",
       "          country_of_asylum_name      region_of_asylum        category  year  \\\n",
       "0                          Malta                Europe         Refugee  1962   \n",
       "1         Dem. Rep. of the Congo       Southern Africa         Refugee  1962   \n",
       "2                        Namibia       Southern Africa         Refugee  1962   \n",
       "3                        Namibia       Southern Africa         Refugee  1962   \n",
       "4                          Nepal  Asia and the Pacific         Refugee  1962   \n",
       "...                          ...                   ...             ...   ...   \n",
       "103303                    Poland                Europe  Asylum-seekers  2024   \n",
       "103304              South Africa       Southern Africa  Asylum-seekers  2024   \n",
       "103305                    Sweden                Europe  Asylum-seekers  2024   \n",
       "103306  United States of America              Americas  Asylum-seekers  2024   \n",
       "103307                    Zambia       Southern Africa  Asylum-seekers  2024   \n",
       "\n",
       "        count  \n",
       "0           5  \n",
       "1       20000  \n",
       "2         277  \n",
       "3          13  \n",
       "4           5  \n",
       "...       ...  \n",
       "103303      9  \n",
       "103304     89  \n",
       "103305      5  \n",
       "103306    641  \n",
       "103307      9  \n",
       "\n",
       "[103308 rows x 8 columns]"
      ]
     },
     "execution_count": 27,
     "metadata": {},
     "output_type": "execute_result"
    }
   ],
   "source": [
    "asylum"
   ]
  },
  {
   "cell_type": "code",
   "execution_count": null,
   "metadata": {},
   "outputs": [
    {
     "data": {
      "text/html": [
       "<div>\n",
       "<style scoped>\n",
       "    .dataframe tbody tr th:only-of-type {\n",
       "        vertical-align: middle;\n",
       "    }\n",
       "\n",
       "    .dataframe tbody tr th {\n",
       "        vertical-align: top;\n",
       "    }\n",
       "\n",
       "    .dataframe thead th {\n",
       "        text-align: right;\n",
       "    }\n",
       "</style>\n",
       "<table border=\"1\" class=\"dataframe\">\n",
       "  <thead>\n",
       "    <tr style=\"text-align: right;\">\n",
       "      <th></th>\n",
       "      <th>country_of_asylum_name</th>\n",
       "      <th>count</th>\n",
       "    </tr>\n",
       "  </thead>\n",
       "  <tbody>\n",
       "    <tr>\n",
       "      <th>68</th>\n",
       "      <td>Russian Federation</td>\n",
       "      <td>1797280</td>\n",
       "    </tr>\n",
       "    <tr>\n",
       "      <th>63</th>\n",
       "      <td>Poland</td>\n",
       "      <td>1273423</td>\n",
       "    </tr>\n",
       "    <tr>\n",
       "      <th>29</th>\n",
       "      <td>Germany</td>\n",
       "      <td>1232215</td>\n",
       "    </tr>\n",
       "    <tr>\n",
       "      <th>19</th>\n",
       "      <td>Czechia</td>\n",
       "      <td>586657</td>\n",
       "    </tr>\n",
       "    <tr>\n",
       "      <th>79</th>\n",
       "      <td>United Kingdom</td>\n",
       "      <td>249132</td>\n",
       "    </tr>\n",
       "    <tr>\n",
       "      <th>73</th>\n",
       "      <td>Spain</td>\n",
       "      <td>224870</td>\n",
       "    </tr>\n",
       "    <tr>\n",
       "      <th>38</th>\n",
       "      <td>Italy</td>\n",
       "      <td>194074</td>\n",
       "    </tr>\n",
       "    <tr>\n",
       "      <th>11</th>\n",
       "      <td>Bulgaria</td>\n",
       "      <td>187758</td>\n",
       "    </tr>\n",
       "    <tr>\n",
       "      <th>66</th>\n",
       "      <td>Rep. of Moldova</td>\n",
       "      <td>169543</td>\n",
       "    </tr>\n",
       "    <tr>\n",
       "      <th>67</th>\n",
       "      <td>Romania</td>\n",
       "      <td>168063</td>\n",
       "    </tr>\n",
       "    <tr>\n",
       "      <th>54</th>\n",
       "      <td>Netherlands (Kingdom of the)</td>\n",
       "      <td>156282</td>\n",
       "    </tr>\n",
       "    <tr>\n",
       "      <th>70</th>\n",
       "      <td>Slovakia</td>\n",
       "      <td>139461</td>\n",
       "    </tr>\n",
       "    <tr>\n",
       "      <th>4</th>\n",
       "      <td>Austria</td>\n",
       "      <td>121840</td>\n",
       "    </tr>\n",
       "    <tr>\n",
       "      <th>27</th>\n",
       "      <td>France</td>\n",
       "      <td>113559</td>\n",
       "    </tr>\n",
       "    <tr>\n",
       "      <th>36</th>\n",
       "      <td>Ireland</td>\n",
       "      <td>111350</td>\n",
       "    </tr>\n",
       "    <tr>\n",
       "      <th>7</th>\n",
       "      <td>Belgium</td>\n",
       "      <td>90699</td>\n",
       "    </tr>\n",
       "    <tr>\n",
       "      <th>76</th>\n",
       "      <td>Switzerland</td>\n",
       "      <td>84627</td>\n",
       "    </tr>\n",
       "    <tr>\n",
       "      <th>12</th>\n",
       "      <td>Canada</td>\n",
       "      <td>82931</td>\n",
       "    </tr>\n",
       "    <tr>\n",
       "      <th>48</th>\n",
       "      <td>Lithuania</td>\n",
       "      <td>82595</td>\n",
       "    </tr>\n",
       "    <tr>\n",
       "      <th>58</th>\n",
       "      <td>Norway</td>\n",
       "      <td>80357</td>\n",
       "    </tr>\n",
       "  </tbody>\n",
       "</table>\n",
       "</div>"
      ],
      "text/plain": [
       "          country_of_asylum_name    count\n",
       "68            Russian Federation  1797280\n",
       "63                        Poland  1273423\n",
       "29                       Germany  1232215\n",
       "19                       Czechia   586657\n",
       "79                United Kingdom   249132\n",
       "73                         Spain   224870\n",
       "38                         Italy   194074\n",
       "11                      Bulgaria   187758\n",
       "66               Rep. of Moldova   169543\n",
       "67                       Romania   168063\n",
       "54  Netherlands (Kingdom of the)   156282\n",
       "70                      Slovakia   139461\n",
       "4                        Austria   121840\n",
       "27                        France   113559\n",
       "36                       Ireland   111350\n",
       "7                        Belgium    90699\n",
       "76                   Switzerland    84627\n",
       "12                        Canada    82931\n",
       "48                     Lithuania    82595\n",
       "58                        Norway    80357"
      ]
     },
     "execution_count": 28,
     "metadata": {},
     "output_type": "execute_result"
    }
   ],
   "source": [
    "def Country_by_destination(country_abbr: str, asy: pd.DataFrame) -> pd.DataFrame:\n",
    "    country = asy[asy[\"country_of_origin_abbr\"] == country_abbr]\n",
    "    country_destination = country.groupby(\"country_of_asylum_name\")[\"count\"].sum().reset_index().sort_values(by=\"count\", ascending=False)\n",
    "    return country_destination\n",
    "\n",
    "af_des = Country_by_destination(\"UKR\", asylum)\n",
    "af_des.head(20)"
   ]
  },
  {
   "cell_type": "code",
   "execution_count": null,
   "metadata": {},
   "outputs": [
    {
     "data": {
      "text/plain": [
       "array(['Refugee', 'Asylum-seekers', 'People in refugee-like situation',\n",
       "       'Other people in need of international protection'], dtype=object)"
      ]
     },
     "execution_count": 29,
     "metadata": {},
     "output_type": "execute_result"
    }
   ],
   "source": [
    "asylum[\"category\"].unique()"
   ]
  }
 ],
 "metadata": {
  "kernelspec": {
   "display_name": "env",
   "language": "python",
   "name": "python3"
  },
  "language_info": {
   "codemirror_mode": {
    "name": "ipython",
    "version": 3
   },
   "file_extension": ".py",
   "mimetype": "text/x-python",
   "name": "python",
   "nbconvert_exporter": "python",
   "pygments_lexer": "ipython3",
   "version": "3.12.6"
  }
 },
 "nbformat": 4,
 "nbformat_minor": 2
}
