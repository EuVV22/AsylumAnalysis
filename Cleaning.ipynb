{
 "cells": [
  {
   "cell_type": "markdown",
   "metadata": {},
   "source": [
    "# Cleaning Dataframe"
   ]
  },
  {
   "cell_type": "code",
   "execution_count": 5,
   "metadata": {},
   "outputs": [],
   "source": [
    "import pandas as pd\n",
    "import openpyxl"
   ]
  },
  {
   "cell_type": "code",
   "execution_count": 10,
   "metadata": {},
   "outputs": [],
   "source": [
    "# Funciton that cleans the dataframe\n",
    "def Data_Cleaner(data_path: str) -> pd.DataFrame:\n",
    "    asylum_raw = pd.read_excel(data_path, sheet_name=\"DATA\")\n",
    "\n",
    "    # Drop columns not in use\n",
    "    asylum_dropped_rows = asylum_raw.drop(columns=['origin', 'asylum'])\n",
    "\n",
    "    # Make data more readable with change of abbreviation\n",
    "    replacement = {\n",
    "        'REF' : 'Refugee',\n",
    "        'ASY' : 'Asylum-seekers',\n",
    "        'ROC' : 'People in refugee-like situation',\n",
    "        'OIP' : 'Other people in need of international protection'\n",
    "    }\n",
    "    asylum_name_changed = asylum_dropped_rows.replace({\"PT\": replacement})\n",
    "\n",
    "    # Make column names more readable\n",
    "    new_column_names = {\n",
    "        \"OriginISO\" : \"country_of_origin_abbr\",\n",
    "        \"OriginName\" : \"country_of_origin_name\",\n",
    "        \"AsylumISO\" : \"country_of_asylum_abbr\",\n",
    "        \"AsylumName\" : \"country_of_asylum_name\",\n",
    "        \"AsylumRegion\" : \"region_of_asylum\",\n",
    "        \"PT\" : \"category\",\n",
    "        \"Year\" : \"year\",\n",
    "        \"Count\" : \"count\"\n",
    "    }\n",
    "    asylum_clean = asylum_name_changed.rename(columns=new_column_names)\n",
    "\n",
    "    rows_to_delete = asylum_clean[asylum_clean['country_of_origin_abbr'].isin(['TIB'])].index\n",
    "    asylum_clean = asylum_clean.drop(rows_to_delete)\n",
    "    # Delete 'Not classified' is empty\n",
    "    # fix West Bank and Gaza problem\n",
    "\n",
    "    return asylum_clean\n",
    "\n",
    "def Clean_Population_Data(data_path: str) -> pd.DataFrame:\n",
    "    data = pd.read_csv(data_path, skiprows=4)\n",
    "\n",
    "    columns_to_drop = [\"Indicator Name\", \"Indicator Code\", 'Unnamed: 68']\n",
    "    data_new = data.drop(columns=columns_to_drop)\n",
    "\n",
    "    # Not classified has no data, west bank and gaza has to be analyzed by itself\n",
    "    rows_to_delete = data_new[data_new['Country Name'].isin(['West Bank and Gaza', 'Not classified'])].index\n",
    "    data_nn = data_new.drop(rows_to_delete)\n",
    "\n",
    "    # TODO: delete the year 2024 from asylum\n",
    "    # TODO: Gaza should be deleted from the df but exported to a new cvs file\n",
    "\n",
    "    return data_nn\n",
    "\n",
    "def Clean_Flags_Data(data_path: str) -> pd.DataFrame:\n",
    "    countries_flags = pd.read_csv(data_path)\n",
    "    countries_flags = countries_flags.drop(columns=[\"Country\", \"Alpha-2 code\"])\n",
    "    return countries_flags\n",
    "\n",
    "clean_data_asylum = Data_Cleaner(\".\\\\Data\\\\Raw\\\\UNHCR_Flow_Data.xlsx\")\n",
    "clean_data_asylum.to_csv(\".\\\\Data\\\\Clean\\\\Asylum_data.csv\", index=False)\n",
    "\n",
    "clean_data_population = Clean_Population_Data(\".\\\\Data\\\\Raw\\\\API_SP.POP.TOTL_DS2_en_csv_v2_87.csv\")\n",
    "clean_data_population.to_csv(\".\\\\Data\\\\Clean\\\\Population_data.csv\", index=False)\n",
    "\n",
    "clean_flags_data = Clean_Flags_Data(\".\\\\Data\\\\Raw\\\\flags_iso.csv\")\n",
    "clean_flags_data.to_csv(\".\\\\Data\\\\Clean\\\\Flags.csv\")\n",
    "\n"
   ]
  }
 ],
 "metadata": {
  "kernelspec": {
   "display_name": "env",
   "language": "python",
   "name": "python3"
  },
  "language_info": {
   "codemirror_mode": {
    "name": "ipython",
    "version": 3
   },
   "file_extension": ".py",
   "mimetype": "text/x-python",
   "name": "python",
   "nbconvert_exporter": "python",
   "pygments_lexer": "ipython3",
   "version": "3.12.6"
  }
 },
 "nbformat": 4,
 "nbformat_minor": 2
}
