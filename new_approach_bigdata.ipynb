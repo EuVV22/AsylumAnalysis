{
 "cells": [
  {
   "cell_type": "markdown",
   "metadata": {},
   "source": [
    "# Big Data different\n",
    "The idea is to joint the tables better"
   ]
  },
  {
   "cell_type": "code",
   "execution_count": null,
   "metadata": {},
   "outputs": [],
   "source": [
    "def Country_population_data(country_code: str, population_data: pd.DataFrame, asylum_data: pd.DataFrame) -> pd.DataFrame:\n",
    "    country_population = population_data[population_data[\"Country Code\"] == country_code].drop(columns=[\"Country Name\", \"Country Code\"]).transpose().reset_index()\n",
    "    country_population.columns = ['year', 'population']\n",
    "    country_population['year'] = country_population['year'].astype(int)\n",
    "\n",
    "    country = asylum_data[asylum_data[\"country_of_origin_abbr\"] == country_code].groupby(\"year\", as_index=False)[\"count\"].sum()\n",
    "    \n",
    "    country = country.merge(right= country_population, how='left', on='year')\n",
    "    country.drop(country[country['population'].isna()].index, inplace=True)\n",
    "    country[\"percentage_of_population_migration\"] = (country[\"count\"] / country[\"population\"]) * 100\n",
    "\n",
    "    country.rename(columns={'count': \"displaced\"}, inplace=True)\n",
    "    country[\"country_of_origin_abbr\"] = country_code\n",
    "    return country\n",
    "\n",
    "def Get_country_population_df(pop, asy) -> pd.DataFrame:\n",
    "    countries = asy[\"country_of_origin_abbr\"].unique()\n",
    "    countries_not_in_the_analysis = []\n",
    "    full_data = pd.DataFrame()\n",
    "    for country in countries:\n",
    "        if country in pop['Country Code'].values:\n",
    "            full_data = pd.concat([full_data, Country_population_data(country, population_data=pop, asylum_data=asy)])\n",
    "        else:\n",
    "            countries_not_in_the_analysis.append(asylum[asylum['country_of_origin_abbr'] == country]['country_of_origin_name'].iloc[0])\n",
    "        \n",
    "    print('These countries were remove from the asylum due to not appear in the WorldBank population dataset:')\n",
    "    print(countries_not_in_the_analysis)\n",
    "    return full_data\n",
    "\n",
    "tt = Get_country_population_df(population, asylum)\n",
    "tt[tt['country_of_origin_abbr'] == 'ITA']\n",
    "\n",
    "\n",
    "## check first \n",
    "def Country_by_destination(country_abbr: str, asy: pd.DataFrame) -> pd.DataFrame:\n",
    "    country = asy[asy[\"country_of_origin_abbr\"] == country_abbr]\n",
    "    country_destination = country.groupby(\"country_of_asylum_name\")[\"count\"].sum().reset_index().sort_values(by=\"count\", ascending=False)\n",
    "    return country_destination"
   ]
  }
 ],
 "metadata": {
  "kernelspec": {
   "display_name": "env",
   "language": "python",
   "name": "python3"
  },
  "language_info": {
   "codemirror_mode": {
    "name": "ipython",
    "version": 3
   },
   "file_extension": ".py",
   "mimetype": "text/x-python",
   "name": "python",
   "nbconvert_exporter": "python",
   "pygments_lexer": "ipython3",
   "version": "3.12.6"
  }
 },
 "nbformat": 4,
 "nbformat_minor": 2
}
